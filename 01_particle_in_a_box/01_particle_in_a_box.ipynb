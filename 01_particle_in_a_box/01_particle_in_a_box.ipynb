{
 "cells": [
  {
   "cell_type": "markdown",
   "metadata": {},
   "source": [
    "# <div style=\"text-align:center\">\"Handout: Particle in a Box\"</div>"
   ]
  },
  {
   "cell_type": "markdown",
   "metadata": {},
   "source": [
    "### 1.1 Introduction"
   ]
  },
  {
   "cell_type": "markdown",
   "metadata": {},
   "source": [
    "### Erwin Schrödinger (1887-1961)\n",
    "\n",
    "![alt text](https://live.staticflickr.com/7402/9272942273_7c743e465b_b.jpg \"\")\n"
   ]
  },
  {
   "cell_type": "markdown",
   "metadata": {},
   "source": [
    "Schrödinger attended graduate school at the University of Vienna, where in the year 1910 he obtained a Ph.D in theoretical physics. Later in 1927, Max Planck (the guy known for Planks Constant) specifically sought out Schrödinger to take over his position at the University of Berlin. However, 6 years later Hitler came to town and Schrödinger left Berlin to avoid Hitler and moved to Austria to work at the University of Graz. Sadly, Hitler 3 years after Berlin, decided to invaded Austria and as a result Schrödinger had to renounce his faculty position. But nonetheless, Schrödinger was a wanted man for his knowledge and moved to a University in Dublin, Ireland which became his last move for Universities.\n",
    "\n",
    "Notable Award:\n",
    "\t-Nobel laureate in physics alongside Dirac for their work in “discovery of new productive forms of Atomic Theory.”"
   ]
  },
  {
   "cell_type": "markdown",
   "metadata": {},
   "source": [
    "### 1.2 Theoretical Background\n",
    "#### 1.2.1 Deriving an underivable equation"
   ]
  },
  {
   "cell_type": "markdown",
   "metadata": {},
   "source": [
    "1-Dimensional wave equation\n",
    "\n",
    "$\\frac{\\partial^2 u}{\\partial x^2} = \\frac{1}{v^2}\\frac{\\partial^2 u}{\\partial t^2}$ $\\mathbf{\\left ( 1 \\right )}$\n",
    "\n",
    "\n",
    "$u$ can be expressed as a multiple of x and a harmonic function time and set equal to parameters that exist in time\n",
    "\n",
    "$u\\left (x,t  \\right )= \\psi \\left ( x \\right )\\cos \\left ( \\omega t \\right )$ $\\mathbf{\\left ( 2 \\right )}$\n",
    "\n",
    "$\\psi (x)$ in equation 2 represents the spatial amplitude property of the wave, and thus equation 1 can be rewritten to obtain equation 3\n",
    "\n",
    "$\\frac{\\partial^2 \\psi }{\\partial x^2} + \\frac{\\omega^2 }{v^2}\\psi\\left ( x \\right )=0$ $\\mathbf{\\left ( 3 \\right )}$\n",
    "\n",
    "Where $\\omega$ and $\\nu$ are equal to:\n",
    "\n",
    "$\\omega = 2\\pi\\nu$\n",
    "\n",
    "$\\nu =\\lambda v$\n",
    "\n",
    "Now $\\omega$ and $\\nu$ are plugged into equation 3 to obtain equation 4:\n",
    "\n",
    "$\\frac{\\partial^2 \\psi }{\\partial x^2} + \\frac{4\\pi ^2 }{\\lambda ^2}\\psi\\left ( x \\right )=0$ $\\mathbf{\\left ( 4 \\right )}$\n",
    "\n",
    "de Broglie's idea of matter waves is introduced:\n",
    "\n",
    "$E = \\frac{p^2}{2m}+V\\left ( x \\right )$ $\\mathbf{\\left ( 5 \\right )}$\n",
    "\n",
    "p momentum can be rewritten as: \n",
    "\n",
    "$p = \\sqrt{2m\\left ( E-V(x) \\right )}$ $\\mathbf{\\left ( 6 \\right )}$\n",
    "\n",
    "Now $\\lambda$ from equation 4 can be rewritten (de Broglie formula) to obtain an expression that is the Schrödinger equation when plugged into equation 7:\n",
    "\n",
    "$\\lambda =\\frac{h}{p} = \\frac{h}{\\sqrt{2m\\left ( E-V(x) \\right )}}$ $\\mathbf{\\left ( 7 \\right )}$\n",
    "\n",
    "$\\frac{\\partial^2 \\psi }{\\partial x^2} + \\frac{2m}{\\hbar}\\left ( E-V(x) \\right )\\psi\\left ( x \\right )=0$ $\\mathbf{\\left ( 8 \\right )}$\n",
    "\n",
    "Equation 8 is rewritten in the form of equation 9 to bring up the idea of operators for the Schrödinger equation:\n",
    "\n",
    "$-\\frac{\\hbar^2}{2m}\\frac{\\partial^2 \\psi }{\\partial x^2} + V(x)\\psi\\left ( x \\right )=E\\psi (x)$ $\\mathbf{\\left ( 9 \\right )}$\n"
   ]
  },
  {
   "cell_type": "markdown",
   "metadata": {},
   "source": [
    "#### Quantum Math Background"
   ]
  },
  {
   "cell_type": "markdown",
   "metadata": {},
   "source": [
    "#### What is an operator?\n",
    "\n",
    "An operator takes a function $f\\left ( x \\right )$ and transforms that function into a new function $g\\left ( x \\right )$\n",
    "\n",
    "A general example:\n",
    "\n",
    "operator $\\hat{A}$ acts on $f\\left ( x \\right )$\n",
    "\n",
    "$\\hat{A}f\\left ( x \\right ) = g\\left ( x \\right )$\n",
    "\n",
    "A less general example:\n",
    "\n",
    "Lets say $\\hat{A}=\\frac{\\partial^2}{\\partial x^2}$ and $f\\left ( x \\right ) = x^{3}y$\n",
    "\n",
    "$\\hat{A}x^{3}y = 6xy$\n",
    "\n",
    "Therefore, $g\\left ( x \\right ) = 6xy$\n",
    "\n",
    "#### What kind of operators are used in quantum mechanics?\n",
    "\n",
    "Quantum mechanics employs linear operators only\n",
    "\n",
    "##### What is a linear operator?\n",
    "\n",
    "A linear operator is said to be linear if the operator can act on individual functions and when adding the individual results up should the operator that operates on all function at once instead of individually.\n",
    "\n",
    "For example:\n",
    "\n",
    "$\\hat{A}\\left ( c_{1}f_{1}(x) + c_{2}f_{2}(x)\\right )= c_{1}\\hat{A}f_{1}(x) + c_{2}\\hat{A}f_{2}(x)$"
   ]
  },
  {
   "cell_type": "markdown",
   "metadata": {},
   "source": [
    "### 1.2 Energy spectrum of PIB"
   ]
  },
  {
   "cell_type": "markdown",
   "metadata": {},
   "source": [
    "The energy of a particle in a 1D box is expressed as :\n",
    "$E_{n} = \\frac{n^{2}h^{2}}{2mL^{2}}$\n",
    ", where n is the quantum number with a domain of all nature numbers, h is the Plank constant, m is the mass of particle, and L is the length of the box. \n",
    "\n",
    "Here we have an idea that energy is quantized in quantum mechnics, which indicates the energy is no long continuous, and it would have a minimal \"unit energy\". \n",
    "\n",
    "In this specific case, the unit energy would be $E_1 = \\frac{h^{2}}{2mL^{2}}$, which is also called as the ground state energy, and the state with ground state energy would be the ground state. With the given ground state energy, we could express energy of allowed eigenstate in the form of $E_n = n^{2}\\times E_1$, and those state with quantum number n greater than 1 would be known as the n-1 th excited state. \n",
    "\n",
    "Due to the fact that the energy of states are propotional to $n^2$, the energy gap between two adjcent energy level can be expressed as $E_n - E_{n-1} = (2n -1)E_1$."
   ]
  },
  {
   "cell_type": "code",
   "execution_count": null,
   "metadata": {
    "scrolled": false
   },
   "outputs": [],
   "source": [
    "#Import Python modules\n",
    "import matplotlib.pyplot as plt\n",
    "import numpy as np\n",
    "import matplotlib\n",
    "\n",
    "#Add title to the graph\n",
    "fig,ax = plt.subplots(figsize=(8, 10), tight_layout=True)\n",
    "\n",
    "#define x_points\n",
    "L = 1\n",
    "n_points = 100\n",
    "x_points = np.linspace(0, L, n_points)\n",
    "gd = np.ones(n_points)\n",
    "\n",
    "#Plot energies\n",
    "for i in range(5):\n",
    "    ax.plot(x_points, (i+1)**2 * gd, label = 'n = ' + str(i+1))\n",
    "    ax.plot(x_points, (np.sin((i+1)*np.pi*x_points/L)+(i+1)**2), color = 'k')\n",
    "    \n",
    "ax.set_xticks([0, L])\n",
    "ax.set_yticks(np.arange(28))\n",
    "ax.set_ylabel('E/E\\N{SUBSCRIPT ONE}', fontsize = 16)\n",
    "ax.set_title('Energy spectrum of the infinite square well with wavefunction', fontsize=12, fontweight= 'bold')\n",
    "\n",
    "plt.legend()\n",
    "plt.show()\n",
    "\n",
    "\n"
   ]
  },
  {
   "cell_type": "markdown",
   "metadata": {},
   "source": [
    "### 1.3 'Particle in a Box' (PIB) wavefunctions"
   ]
  },
  {
   "cell_type": "markdown",
   "metadata": {},
   "source": [
    "#### 1.3.1 One-dimensional (1D) PIB"
   ]
  },
  {
   "cell_type": "markdown",
   "metadata": {},
   "source": [
    "The wavefunctions that are solutions for the 1D Particle in a Box have the form\n",
    "\n",
    "\\begin{equation}\\label{eq:pib_wfn}\n",
    "\\Psi_n (x) = B \\sin{\\frac{n \\pi x}{L}}\n",
    "\\ \\ \\ \\ \\ \\ \\ \\ \\ \\\n",
    "n = 1, 2, 3, \\cdots\n",
    "\\end{equation}\n",
    "\n",
    "in which $B$ is the \\textbf{normalization constant} that ensures the probability of finding the particle in the region $0 \\leq x \\leq L$ is equal to 1.\n",
    "\n",
    "\\begin{equation}\\label{eq:normal}\n",
    "\\int_0^L \\Psi_n^{*} (x) \\Psi_n(x) dx = 1\n",
    "\\ \\ \\ \\ \\ \\ \\\n",
    "\\end{equation}\n",
    "\n",
    "Recall that this is the boundary condition that is imposed on the potential energy operator $V(x)$ in the 1D Hamiltonian operator $\\hat{H} = \\hat{K}_x + V(x)$. \n",
    "\n",
    "\\begin{equation}\\label{eq:pib_pot}\n",
    "V(x)=\n",
    "\\begin{cases} \n",
    "0    & 0 \\leq x \\leq L \\\\\n",
    "\\infty & x < 0, x > L \n",
    "\\end{cases}\n",
    "\\end{equation}\n",
    "\n",
    "We can solve for $B$ by inserting Eq. \\ref{eq:pib_wfn} into Eq. \\ref{eq:normal}. With some calculus, we arrive at the solution $B = \\sqrt{\\frac{2}{L}}$ that allows us to write the \\textit{normalized} wavefunction\n",
    "\n",
    "\\begin{equation}\\label{eq:norm_pib_wfn}\n",
    "\\Psi_n (x) = \\sqrt{\\frac{2}{L}} \\sin{\\frac{n \\pi x}{L}}\n",
    "\\ \\ \\ \\ \\ \\ \\ \\ \\ \\\n",
    "n = 1, 2, 3, \\cdots\n",
    "\\end{equation}"
   ]
  },
  {
   "cell_type": "markdown",
   "metadata": {},
   "source": [
    "#### Example 1. Plot the PIB wavefunction for the quantum number $n$ and box dimension $L$."
   ]
  },
  {
   "cell_type": "markdown",
   "metadata": {},
   "source": [
    "First, let's define a function that calculates the wavefunction of PIB for a specified box dimension L and quantum number n:"
   ]
  },
  {
   "cell_type": "code",
   "execution_count": null,
   "metadata": {},
   "outputs": [],
   "source": [
    "# Import Python modules\n",
    "import matplotlib.pyplot as plt\n",
    "import numpy as np\n",
    "\n",
    "# Define function to calculate PIB wavefunction for a specified box dimension L, quantum number n, and position x\n",
    "def pib_wfn(n,L,x):\n",
    "    return np.sqrt(2/L)*np.sin(n*np.pi*x/L)"
   ]
  },
  {
   "cell_type": "markdown",
   "metadata": {},
   "source": [
    "We can verify that our normalization constant $B$ is correct by integrating our $\\Psi(x)$ over the space of the 1D box:"
   ]
  },
  {
   "cell_type": "code",
   "execution_count": null,
   "metadata": {},
   "outputs": [],
   "source": [
    "n = 1                                   # PIB quantum number\n",
    "L = 10                                  # PIB dimension\n",
    "n_points = 1000                         # number of points used for the plot\n",
    "x_points = np.linspace(0,10,n_points)   # create an array of 1000 values linearly spaced from 0 to L\n",
    "\n",
    "# Make sure that n is integer and n > 0\n",
    "n = int(n)\n",
    "if n < 1:\n",
    "    raise Exception (\"Quantum number n should be greater than 0\")\n",
    "\n",
    "# Calculate and print probability of a particle being anywhere in a box of length L (any 'n' quantum number)\n",
    "print(\"Probability(0 <= x <= L): \" + str(np.trapz(pib_wfn(n,L,x_points)*pib_wfn(n,L,x_points), x_points)))"
   ]
  },
  {
   "cell_type": "markdown",
   "metadata": {},
   "source": [
    "Now, that we have confirmed the validity of our wavefunction, let's define some parameters for our PIB model and plot the wavefunction:"
   ]
  },
  {
   "cell_type": "code",
   "execution_count": null,
   "metadata": {},
   "outputs": [],
   "source": [
    "n = 5             # PIB quantum number\n",
    "L = 10            # PIB dimension\n",
    "n_points = 1000   # number of points used for the plot\n",
    "\n",
    "# Make sure that n is integer and n > 0\n",
    "n = int(n)\n",
    "if n < 1:\n",
    "    raise Exception (\"Quantum number n should be greater than 0\")\n",
    "\n",
    "# Define x points\n",
    "x_points = np.linspace(0,L,n_points)\n",
    "\n",
    "# Evaluate wavefunction at each x\n",
    "wfn_values = pib_wfn(n, L, x_points)\n",
    "\n",
    "# Set up graph and plot\n",
    "plt.figure(figsize=(7,3))\n",
    "plt.plot(x_points, wfn_values)\n",
    "plt.xlabel(\"L\", fontsize=20)\n",
    "plt.ylabel(\"Ψ\", fontsize=20)\n",
    "plt.title(\"n=\"+str(n), fontsize=16)\n",
    "plt.tight_layout()\n",
    "plt.grid()\n"
   ]
  },
  {
   "cell_type": "markdown",
   "metadata": {},
   "source": [
    "#### PIB plot demo:"
   ]
  },
  {
   "cell_type": "markdown",
   "metadata": {},
   "source": [
    "Try choosing different values of $n$! What similarities and differences do they have? Notice:<br>\n",
    "(i) all of the wavefunctions are periodic <br>\n",
    "(ii) these functions resemble standing waves in vibrating string <br>\n",
    "(iii) for $n=1$, the particle is most-likely to be in the middle, contrary to classical physics <br>\n",
    "(iv) the number of nodes increases with quantum number $n$; the $n$th energy level wavefunction has $n-1$ nodes <br>\n",
    "\n",
    "Further, as $n \\rightarrow \\infty$ the \\textbf{Correspondence Principle} states that the QM results converge to those predicted by classical mechanics. See the plot below!"
   ]
  },
  {
   "cell_type": "code",
   "execution_count": null,
   "metadata": {},
   "outputs": [],
   "source": [
    "# Compute large 'n' wavefunction\n",
    "n=100\n",
    "large_nval = pib_wfn(n, L, x_points) * pib_wfn(n, L, x_points)\n",
    "\n",
    "# Set up graph and plot wavefunction approaching classical limit\n",
    "plt.figure(figsize=(7,3))\n",
    "plt.plot(x_points, large_nval)\n",
    "plt.xlabel(\"L\", fontsize=20)\n",
    "plt.ylabel(\"Ψ**2\", fontsize=20)\n",
    "plt.title(\"n=\"+str(n), fontsize=16)\n",
    "plt.tight_layout()\n",
    "plt.grid()"
   ]
  },
  {
   "cell_type": "markdown",
   "metadata": {},
   "source": [
    "#### 1.3.2 - 2D PIB"
   ]
  },
  {
   "cell_type": "markdown",
   "metadata": {},
   "source": [
    "Placeholder text"
   ]
  },
  {
   "cell_type": "markdown",
   "metadata": {},
   "source": [
    "#### 1.3.3 - 3D PIB"
   ]
  },
  {
   "cell_type": "markdown",
   "metadata": {},
   "source": [
    "Placeholder text"
   ]
  },
  {
   "cell_type": "markdown",
   "metadata": {},
   "source": [
    "### 1.4 Expectation values of the PIB model "
   ]
  },
  {
   "cell_type": "markdown",
   "metadata": {},
   "source": [
    "Remember that we can use the probability distribution $\\Psi^*_n(x) \\Psi_n(x)$ to calculate the average of physical quantities. The average quantity of any observable is known as that property's \\textbf{expectation value}. The expectation value of the observable is given by:\n",
    "\n",
    "\\begin{equation}\\label{eq:avg}\n",
    "\\langle a \\rangle = \\int_{-\\infty}^{\\infty} \\Psi^*_n(x) \\hat{A} \\Psi_n(x) dx\n",
    "\\end{equation}\n",
    "\n",
    "Recall the QM position and momentum operators that correspond to their respective classic observable counterparts:\n",
    "\n",
    "\\begin{equation*}\n",
    "\\hat{x} = x\n",
    "\\ \\ \\ \\ \\ \\ \\ \\ \\ \\ \\ \\\n",
    "\\hat{p_x} = -i \\hbar \\frac{d}{dx}\n",
    "\\end{equation*}\n",
    "\n",
    "We can apply these operators to our PIB wavefunctions"
   ]
  },
  {
   "cell_type": "markdown",
   "metadata": {},
   "source": [
    "#### 1.4.1 Average position "
   ]
  },
  {
   "cell_type": "markdown",
   "metadata": {},
   "source": [
    "For the average position, we can evaluate Eq. \\ref{eq:avg} with $\\hat{A}=\\hat{x}$:\n",
    "\n",
    "\\begin{align}\\label{eq:avg_pos}\n",
    "\\langle x \\rangle &= \\int_{-\\infty}^{\\infty} \\Psi^*_n(x) \\hat{x} \\Psi_n(x) dx \\nonumber \\\\\n",
    "                  &= \\int_{-\\infty}^{\\infty} \\Psi^*_n(x) x \\Psi_n(x) dx \n",
    "\\end{align}"
   ]
  },
  {
   "cell_type": "markdown",
   "metadata": {},
   "source": [
    "### 1.5 Particle in a finite box"
   ]
  },
  {
   "cell_type": "markdown",
   "metadata": {},
   "source": [
    "Particle in the box is a generic model in quantum mechnics, and it give a basic idea that the Hamiltonian can be expressed as $\\hat{H} = \\hat{K}_x + V(x)$, where the $\\hat{K}_x$ is the kinetic operator, and V(x) represents the potential energy in the system, and in our pervious examples, the potential within the box is zero otherwise, it would be infinite. The origin of potential is upon our choice, in order to apply symmetricity, in this case the center of the box is defined as the origin, and the potential can be expressed symbolically as:  <br />  \\begin{equation} V(x)=\n",
    "\\begin{cases} \n",
    "\\infty & x \\leq -\\frac{L}{2} \\\\\n",
    "0    & -\\frac{L}{2} < x \\leq \\frac{L}{2} \\\\\n",
    "\\infty & x > \\frac{L}{2} \n",
    "\\end{cases}\n",
    "\\end{equation}"
   ]
  },
  {
   "cell_type": "code",
   "execution_count": null,
   "metadata": {},
   "outputs": [],
   "source": [
    "#import modules\n",
    "import matplotlib.pyplot as plt\n",
    "import numpy as np\n",
    "import matplotlib"
   ]
  },
  {
   "cell_type": "markdown",
   "metadata": {},
   "source": [
    "Now specify the length of box"
   ]
  },
  {
   "cell_type": "code",
   "execution_count": null,
   "metadata": {},
   "outputs": [],
   "source": [
    "#input the length of box\n",
    "L = 10"
   ]
  },
  {
   "cell_type": "markdown",
   "metadata": {},
   "source": [
    "With the given length, the potential of infinite square well would be: "
   ]
  },
  {
   "cell_type": "code",
   "execution_count": null,
   "metadata": {},
   "outputs": [],
   "source": [
    "a = L * .5\n",
    "n_points = 100\n",
    "fig, ax = plt.subplots()\n",
    "ax.axvline(-a, 0, 10,)\n",
    "ax.axvline(a, 0, 10,)\n",
    "ax.set_xticks([-L, -L/2, 0, L/2, L])\n",
    "ax.set_yticks([])\n",
    "ax.set_ylim(0,1)\n",
    "ax.set_xlim(-L,L)\n",
    "ax.set_xlabel('distence from center of box')\n",
    "ax.set_ylabel('Energy')\n",
    "ax.set_title('The potential for the infinite square well')\n",
    "y_points_bot = np.zeros(n_points)\n",
    "y_points_top = np.ones(n_points)\n",
    "x_points_left = np.linspace(-L,-L/2,n_points)\n",
    "x_points_right = - x_points_left\n",
    "ax.fill_between(x_points_left, y_points_top, y_points_bot, facecolor = 'blue', alpha = .5)\n",
    "ax.fill_between(x_points_right, y_points_top, y_points_bot, facecolor = 'blue', alpha = .5)"
   ]
  },
  {
   "cell_type": "markdown",
   "metadata": {},
   "source": [
    "The shadow area indicates infinte potential, and they are called as forbidden region, and the white area is the allowed region, and in the case of infinite square well, the wavefunction is nonzero if and only if it is in the allowed region.\n",
    "\n",
    "The infinite square well is an easy model. However, in our daily life, an infinite potential is almost impossible. Thus, the application of our crude model onto some realistic situation is important for a chemistry student. Here, we would introduce the finite square well. Similar to our previous case, the potential in our box is zero, but when x is outside the box, there would be a finite potential. Here we can express our new potential symbolically and graphically: <br />  \\begin{equation} V(x)=\n",
    "\\begin{cases} \n",
    "V_0 & x \\leq -\\frac{L}{2} \\\\\n",
    "0    & -\\frac{L}{2} < x \\leq \\frac{L}{2} \\\\\n",
    "V_0 & x > \\frac{L}{2} \n",
    "\\end{cases}\n",
    "\\end{equation} \n",
    "\n",
    "\n"
   ]
  },
  {
   "cell_type": "markdown",
   "metadata": {},
   "source": [
    "Now specify the length of box and the finite potential"
   ]
  },
  {
   "cell_type": "code",
   "execution_count": null,
   "metadata": {},
   "outputs": [],
   "source": [
    "#input the length of box\n",
    "L = 10\n",
    "V = 10"
   ]
  },
  {
   "cell_type": "markdown",
   "metadata": {},
   "source": [
    "With the given length and potential, the finite well would look like"
   ]
  },
  {
   "cell_type": "code",
   "execution_count": null,
   "metadata": {},
   "outputs": [],
   "source": [
    "a = L * .5\n",
    "n_points = 100\n",
    "fig, ax = plt.subplots()\n",
    "\n",
    "ax.axhline(V, -2*a, -a)\n",
    "ax.axhline(V, a, 2*a)\n",
    "ax.set_xticks([-L, -L/2, 0, L/2, L])\n",
    "ax.set_yticks([0, 0.5*V, V, 1.5*V])\n",
    "ax.set_ylim(0,1.5*V)\n",
    "ax.set_xlim(-L,L)\n",
    "ax.set_xlabel('distence from center of box')\n",
    "ax.set_ylabel('Energy')\n",
    "ax.set_title('The potential for the finite square well')\n",
    "y_points_bot = np.zeros(n_points)\n",
    "y_points_top = np.ones(n_points)*V\n",
    "x_points_left = np.linspace(-L,-L/2,n_points)\n",
    "x_points_right = - x_points_left\n",
    "ax.fill_between(x_points_left, y_points_top, y_points_bot, facecolor = 'blue', alpha = .5)\n",
    "ax.fill_between(x_points_right, y_points_top, y_points_bot, facecolor = 'blue', alpha = .5)"
   ]
  },
  {
   "cell_type": "markdown",
   "metadata": {},
   "source": [
    "The potential well can be visualized as following, the wavefunction in the box was still in the form of trig function. However, there would still be wavefunction outside the box, that is <strong> even outside the box, you can still observe your particle </strong>. \n",
    "    \n",
    "In fact, for all wavefunction with finite potential, besides the continuity of itself, its first derivative would also be continuous. If we named regions in the previous graph as region 1 (x less than $-\\frac{L}{2}$), region 2 (in the box), and region 3 (x larger than $\\frac{L}{2}$), the wavefunction and its first derivative at boundary points can be obtained with both region that boundary point defines.\n",
    "    \n",
    "Based on the relative magnitude of kinetic energy(The energy in the box) and the potential energy, there would be two different behaviors of wavefunction. If the kinetic energy is larger than the potential energy, there would be no forbidden region, and the wavefunction would be trig function everwhere. On the other hand, if the kinetic energy is smaller than the potential energy, then the blue region would be the forbidden region, and in our classical model, particles can never beyond that barrier. In our quantum particle in the box model, the wavefunction in the forbidden region would decay exponentially, and if the energy barrier disappear somewhere, the wavefunction would back to trig function and oscillate between two values, and this phenomenon is known as tunneling"
   ]
  },
  {
   "cell_type": "markdown",
   "metadata": {},
   "source": [
    "## <span style=\"color:blue\">2. Exercises</span>"
   ]
  },
  {
   "cell_type": "markdown",
   "metadata": {},
   "source": [
    "### 2.1. Exercise 1. "
   ]
  }
 ],
 "metadata": {
  "kernelspec": {
   "display_name": "Python 3",
   "language": "python",
   "name": "python3"
  },
  "language_info": {
   "codemirror_mode": {
    "name": "ipython",
    "version": 3
   },
   "file_extension": ".py",
   "mimetype": "text/x-python",
   "name": "python",
   "nbconvert_exporter": "python",
   "pygments_lexer": "ipython3",
   "version": "3.6.9"
  },
  "latex_envs": {
   "LaTeX_envs_menu_present": true,
   "autoclose": false,
   "autocomplete": true,
   "bibliofile": "biblio.bib",
   "cite_by": "apalike",
   "current_citInitial": 1,
   "eqLabelWithNumbers": true,
   "eqNumInitial": 1,
   "hotkeys": {
    "equation": "Ctrl-E",
    "itemize": "Ctrl-I"
   },
   "labels_anchors": false,
   "latex_user_defs": false,
   "report_style_numbering": false,
   "user_envs_cfg": false
  }
 },
 "nbformat": 4,
 "nbformat_minor": 4
}
