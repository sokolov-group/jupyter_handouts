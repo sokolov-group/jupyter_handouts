{
 "cells": [
  {
   "cell_type": "markdown",
   "metadata": {},
   "source": [
    "# <div style=\"text-align:center\">\"Handout: Particle in a Box\"</div>"
   ]
  },
  {
   "cell_type": "markdown",
   "metadata": {},
   "source": [
    "## <span style=\"color:blue\">1. Theoretical Background</span>"
   ]
  },
  {
   "cell_type": "markdown",
   "metadata": {},
   "source": [
    "### 1.1. Particle in a box (PIB) model"
   ]
  },
  {
   "cell_type": "markdown",
   "metadata": {},
   "source": [
    "This is a body of section 1.1. You can write your text here, insert equations, figures, etc."
   ]
  },
  {
   "cell_type": "markdown",
   "metadata": {},
   "source": [
    "### 1.2. Energy spectrum of PIB"
   ]
  },
  {
   "cell_type": "markdown",
   "metadata": {},
   "source": [
    "The energy of a particle in a 1D box is expressed as :\n",
    "$E_{n} = \\frac{n^{2}h^{2}}{2mL^{2}}$\n",
    ", where n is the quantum number with a domain of all nature numbers, h is the Plank constant, m is the mass of particle, and L is the length of the box. \n",
    "\n",
    "Here we have an idea that energy is quantized in quantum mechnics, which indicates the energy is no long continuous, and it would have a minimal \"unit energy\". \n",
    "\n",
    "In this specific case, the unit energy would be $E_1 = \\frac{h^{2}}{2mL^{2}}$, which is also called as the ground state energy, and the state with ground state energy would be the ground state. With the given ground state energy, we could express energy of allowed eigenstate in the form of $E_n = n^{2}\\times E_1$, and those state with quantum number n greater than 1 would be known as the n-1 th excited state. \n",
    "\n",
    "Due to the fact that the energy of states are propotional to $n^2$, the energy gap between two adjcent energy level can be expressed as $E_n - E_{n-1} = (2n -1)E_1$."
   ]
  },
  {
   "cell_type": "code",
   "execution_count": null,
   "metadata": {
    "scrolled": false
   },
   "outputs": [],
   "source": [
    "#Import Python modules\n",
    "import matplotlib.pyplot as plt\n",
    "import numpy as np\n",
    "import matplotlib\n",
    "\n",
    "#Add title to the graph\n",
    "fig,ax = plt.subplots(figsize=(8, 10), tight_layout=True)\n",
    "\n",
    "#define x_points\n",
    "L = 1\n",
    "n_points = 100\n",
    "x_points = np.linspace(0, L, n_points)\n",
    "gd = np.ones(n_points)\n",
    "\n",
    "#Plot energies\n",
    "for i in range(5):\n",
    "    ax.plot(x_points, (i+1)**2 * gd, label = 'n = ' + str(i+1))\n",
    "    ax.plot(x_points, (np.sin((i+1)*np.pi*x_points/L)+(i+1)**2), color = 'k')\n",
    "    \n",
    "ax.set_xticks([0, L])\n",
    "ax.set_yticks(np.arange(28))\n",
    "ax.set_ylabel('E/E\\N{SUBSCRIPT ONE}', fontsize = 16)\n",
    "ax.set_title('Energy spectrum of the infinite square well with wavefunction', fontsize=12, fontweight= 'bold')\n",
    "\n",
    "plt.legend()\n",
    "plt.show()\n",
    "\n",
    "\n"
   ]
  },
  {
   "cell_type": "markdown",
   "metadata": {},
   "source": [
    "### 1.3. PIB wavefunctions"
   ]
  },
  {
   "cell_type": "markdown",
   "metadata": {},
   "source": [
    "#### Background"
   ]
  },
  {
   "cell_type": "markdown",
   "metadata": {},
   "source": [
    "The wavefunctions that are solutions for the 1D Particle in a Box have the form\n",
    "\n",
    "\\begin{equation}\\label{eq:pib_wfn}\n",
    "\\Psi_n (x) = B \\sin{\\frac{n \\pi x}{L}}\n",
    "\\ \\ \\ \\ \\ \\ \\ \\ \\ \\\n",
    "n = 1, 2, 3, \\cdots\n",
    "\\end{equation}\n",
    "\n",
    "in which B is the \\textit{normalization constant} that ensures the probability of finding the particle in the region $0 \\leq x \\leq L$ is equal to 1.\n",
    "\n",
    "\\begin{equation}\\label{eq:normal}\n",
    "\\int_0^L \\Psi_n^{*} (x) \\Psi_n(x) dx = 1\n",
    "\\ \\ \\ \\ \\ \\ \\\n",
    "\\end{equation}\n",
    "\n",
    "Recall that this is the boundary condition that is imposed on the potential energy operator $V(x)$ in the 1D Hamiltonian operator $\\hat{H} = \\hat{K}_x + V(x)$. \n",
    "\n",
    "\\[\n",
    "V(x)=\n",
    "\\begin{cases} \n",
    "0    & 0 \\leq x \\leq L \\\\\n",
    "\\infty & x < 0, x > L \n",
    "\\end{cases}\n",
    "\\]\n",
    "\n",
    "We can solve for B by inserting Eq. \\ref{eq:pib_wfn} into Eq. \\ref{eq:normal}. With some calculus, we arrive at the solution $B = \\sqrt{\\frac{2}{a}}$ that allows us to write the \\textit{normalized} wavefunction\n",
    "\n",
    "\\begin{equation}\\label{eq:norm_pib_wfn}\n",
    "\\Psi_n (x) = \\sqrt{\\frac{2}{L}} \\sin{\\frac{n \\pi x}{L}}\n",
    "\\ \\ \\ \\ \\ \\ \\ \\ \\ \\\n",
    "n = 1, 2, 3, \\cdots\n",
    "\\end{equation}"
   ]
  },
  {
   "cell_type": "markdown",
   "metadata": {},
   "source": [
    "#### Example 1. Plot the PIB wavefunction for the quantum number $n$ and box dimension $L$."
   ]
  },
  {
   "cell_type": "markdown",
   "metadata": {},
   "source": [
    "First, let's define a function that calculates the wavefunction of PIB for a specified box dimension L and quantum number n:"
   ]
  },
  {
   "cell_type": "code",
   "execution_count": null,
   "metadata": {},
   "outputs": [],
   "source": [
    "# Use comments in your code cells to make the code more readible\n",
    "# Make sure your code is clean and variables have readable names\n",
    "\n",
    "# Import Python modules\n",
    "import matplotlib.pyplot as plt\n",
    "import numpy as np\n",
    "\n",
    "# Define function to calculate PIB wavefunction for a specified box dimension L, quantum number n, and position x\n",
    "def pib_wfn(n,L,x):\n",
    "    return np.sqrt(2/L)*np.sin(n*np.pi*x/L)"
   ]
  },
  {
   "cell_type": "markdown",
   "metadata": {},
   "source": [
    "Let's define parameters of our PIB model:"
   ]
  },
  {
   "cell_type": "code",
   "execution_count": null,
   "metadata": {},
   "outputs": [],
   "source": [
    "n = 100          # PIB quantum number\n",
    "L = 10         # PIB dimension\n",
    "n_points = 100 # number of points used for the plot"
   ]
  },
  {
   "cell_type": "markdown",
   "metadata": {},
   "source": [
    "Now, let's plot the wavefunction:"
   ]
  },
  {
   "cell_type": "code",
   "execution_count": null,
   "metadata": {},
   "outputs": [],
   "source": [
    "# Make sure that n is integer and n > 0\n",
    "n = int(n)\n",
    "if n < 1:\n",
    "    raise Exception (\"Quantum number n should be greater than 0\")\n",
    "\n",
    "# Define x points\n",
    "x_points = np.linspace(0,L,n_points)\n",
    "\n",
    "# Evaluate wavefunction at each x\n",
    "wfn_values = pib_wfn(n, L, x_points)\n",
    "\n",
    "# Set up graph and plot\n",
    "plt.figure(figsize=(7,3))\n",
    "plt.plot(x_points, wfn_values)\n",
    "plt.xlabel(\"L\", fontsize=20)\n",
    "plt.ylabel(\"Ψ\", fontsize=20)\n",
    "plt.title(\"n=\"+str(n), fontsize=16)\n",
    "plt.tight_layout()\n",
    "plt.grid()\n"
   ]
  },
  {
   "cell_type": "markdown",
   "metadata": {},
   "source": [
    "Now, go back and try choosing different values of $n$! What happens to the wavefunction as $n \\rightarrow \\infty$? You should it becoming increasing more oscillatory with increasing $n$. The \\textbf{\\textit{Correspondence Principle}} states that the QM results converge to those predicted by classical mechanics as $n \\rightarrow \\infty$."
   ]
  },
  {
   "cell_type": "code",
   "execution_count": null,
   "metadata": {},
   "outputs": [],
   "source": []
  },
  {
   "cell_type": "markdown",
   "metadata": {},
   "source": [
    "### 1.4 Average position and momentum of PIB "
   ]
  },
  {
   "cell_type": "markdown",
   "metadata": {},
   "source": [
    "### 1.5 Particle in a finite box"
   ]
  },
  {
   "cell_type": "markdown",
   "metadata": {},
   "source": [
    "## <span style=\"color:blue\">2. Exercises</span>"
   ]
  },
  {
   "cell_type": "markdown",
   "metadata": {},
   "source": [
    "### 2.1. Exercise 1. "
   ]
  }
 ],
 "metadata": {
  "kernelspec": {
   "display_name": "Python 3",
   "language": "python",
   "name": "python3"
  },
  "language_info": {
   "codemirror_mode": {
    "name": "ipython",
    "version": 3
   },
   "file_extension": ".py",
   "mimetype": "text/x-python",
   "name": "python",
   "nbconvert_exporter": "python",
   "pygments_lexer": "ipython3",
   "version": "3.6.9"
  },
  "latex_envs": {
   "LaTeX_envs_menu_present": true,
   "autoclose": false,
   "autocomplete": true,
   "bibliofile": "biblio.bib",
   "cite_by": "apalike",
   "current_citInitial": 1,
   "eqLabelWithNumbers": true,
   "eqNumInitial": 1,
   "hotkeys": {
    "equation": "Ctrl-E",
    "itemize": "Ctrl-I"
   },
   "labels_anchors": false,
   "latex_user_defs": false,
   "report_style_numbering": false,
   "user_envs_cfg": false
  }
 },
 "nbformat": 4,
 "nbformat_minor": 4
}
