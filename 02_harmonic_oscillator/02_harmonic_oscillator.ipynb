{
 "cells": [
  {
   "cell_type": "markdown",
   "metadata": {},
   "source": [
    "# <div style=\"text-align:center\">Handout: \"Classical and Quantum Harmonic Oscillator\"</div>"
   ]
  },
  {
   "cell_type": "markdown",
   "metadata": {},
   "source": [
    "## <span style=\"color:blue\">1. Theoretical Background</span>"
   ]
  },
  {
   "cell_type": "markdown",
   "metadata": {},
   "source": [
    "### 1.1. Classical harmonic oscillator"
   ]
  },
  {
   "cell_type": "markdown",
   "metadata": {},
   "source": [
    "Classical Harmonic Oscillators are bodies which experience a restoring force anytime they experience a displacement away from their equilibrium position.\n",
    "\n",
    "For example, a mass connected to a wall by a spring will undergo harmonic oscillation if you perturb the body.\n",
    "\n",
    "<img src=\"spring-oscillation-thumbnail.png\" alt=\"Harmonic oscillator\" style=\"max-width: 400px;\"/>\n",
    "\n",
    "To describe vibrations or the harmonic oscillator using classical mechanics, consider a mass $m$ connected to a wall by a sping. The force acting on the mass is given by the Hooke's law $F = -kx$, where $k$ is a force constant and $x$ is a displacement of the mass from its equilibrium position (i.e., when $x = 0$ and $F = 0$). The classical equation of motion for the harmonic oscillator can be written as:\n",
    "\n",
    "\\begin{align}\n",
    "m \\frac{d^{2}x}{dt^{2}} = -kx\n",
    "\\end{align}\n",
    "\n",
    "The solution of classical equation of motion for the displacement as a function of time has the form:\n",
    "\n",
    "\\begin{align}\n",
    "x(t) = A \\cos(\\omega t)\n",
    "\\end{align}\n",
    "\n",
    "where $A = x(0)$ is the amplitude of vibration and $\\omega = \\sqrt{\\frac{k}{m}}$ is the angular frequency measured in radians per second (rad/s). The angular frequency is related to the linear frequency $\\nu = \\frac{\\omega}{2\\pi}$ that is measured in Hertz (Hz or s$^{-1}$).\n",
    "\n",
    "Using the solution of the equation of motion, we can determine kinetic and potential energy of the harmonic oscillator as functions of time:\n",
    "\n",
    "* **Kinetic energy**: \n",
    "\\begin{align}\n",
    "K(t) = \\frac{m}{2} \\omega^{2} A^{2} \\sin^{2} {\\omega t}\n",
    "\\end{align}\n",
    "\n",
    "* **Potential energy**: \n",
    "\\begin{align}\n",
    "V(t) = \\frac{k}{2} A^{2} \\cos^{2} {\\omega t}\n",
    "\\end{align}\n",
    "\n",
    "* **Total energy**: \n",
    "\\begin{align}\n",
    "E = K(t) + V(t) = \\frac{k}{2} A^{2}\n",
    "\\end{align}\n",
    "\n",
    "Note that the total energy is constant as required by the energy conservation law."
   ]
  },
  {
   "cell_type": "markdown",
   "metadata": {},
   "source": [
    "***\n",
    "####  Example 1: Demonstrate conservation of the total energy of the classical harmonic oscaillator at any given time\n",
    "\n",
    "First, we demonstrate this analytically by combining kinetic and potential energy of harmonic oscillator as a function of time:\n",
    "\n",
    "\\begin{align}\n",
    "E &= K(t) + V(t) \\\\\n",
    "&= \\frac{m}{2} \\omega^{2} A^{2} \\sin^{2} {\\omega t} + \\frac{k}{2} A^{2} \\cos^{2} {\\omega t}\n",
    "\\end{align}\n",
    "\n",
    "Using the fact that $m\\omega^2 = k$, the above equation can be simplified as:\n",
    "\\begin{align}\n",
    "E &= \\frac{k}{2} A^{2} \\sin^{2}{\\omega t} + \\frac{k}{2} A^{2} \\cos^{2}{\\omega t} \\\\\n",
    "&= \\frac{k}{2} A^{2} (\\sin^{2}{\\omega t} + \\cos^{2}{\\omega t}) \\\\\n",
    "&= \\frac{k}{2} A^{2}\n",
    "\\end{align}\n",
    "\n",
    "Thus, we obtain that the total energy is independent of time. \n",
    "\n",
    "We now demonstrate this numerically by plotting kinetic, potential, and total energy as a function of time.\n",
    "\n",
    "To do that, we define parameters of our harmonic oscillator model:"
   ]
  },
  {
   "cell_type": "code",
   "execution_count": null,
   "metadata": {},
   "outputs": [],
   "source": [
    "force_const = 0.01   # Force constant (N/m)\n",
    "mass = 2.000         # Mass (kg)\n",
    "amplitude = 1.500    # Amplitude (m)\n",
    "max_time = 100       # Time to observe (s)\n",
    "n_points = 100       # Number of points on each curve"
   ]
  },
  {
   "cell_type": "markdown",
   "metadata": {},
   "source": [
    "We then define a function that calculates kinetic, potential, and total energy for a number of points:"
   ]
  },
  {
   "cell_type": "code",
   "execution_count": null,
   "metadata": {},
   "outputs": [],
   "source": [
    "# Import Python modules\n",
    "import numpy as np\n",
    "import matplotlib.pyplot as plt\n",
    "\n",
    "def energy(k,m,A,t):\n",
    "    omega = np.sqrt(k/m)\n",
    "    kin_en = k*(A**2)*0.5*((np.sin(omega*t))**2) # Kinetic energy term\n",
    "    pot_en = k*(A**2)*0.5*((np.cos(omega*t))**2) # Potential energy term\n",
    "    tot_en =  kin_en + pot_en                    # Total energy term\n",
    "    return kin_en, pot_en, tot_en\n",
    "    "
   ]
  },
  {
   "cell_type": "markdown",
   "metadata": {},
   "source": [
    "Finally, we plot each energy contribution as a function of time:"
   ]
  },
  {
   "cell_type": "code",
   "execution_count": null,
   "metadata": {},
   "outputs": [],
   "source": [
    "## Plotting each energies.\n",
    "\n",
    "t_points = np.linspace(0,max_time,n_points)\n",
    "kin_en, pot_en, tot_en = energy(force_const, mass, amplitude, t_points)\n",
    "\n",
    "plt.figure(figsize=(10,5))\n",
    "plt.plot(t_points, kin_en, label = \"Kinetic Energy\")\n",
    "plt.plot(t_points, pot_en, label = \"Potential Energy\")\n",
    "plt.plot(t_points, tot_en, label = \"Total Energy of the system\")\n",
    "plt.xlabel(\"Time in seconds\", fontsize=15)\n",
    "plt.ylabel(\"Energy in Joules\", fontsize=15)\n",
    "plt.legend(loc = 'lower right')\n",
    "plt.title(\"Plots of Kinetic, potential and total energy\", fontsize=20)\n",
    "plt.tight_layout()\n",
    "plt.grid()"
   ]
  },
  {
   "cell_type": "markdown",
   "metadata": {},
   "source": [
    "We see that the total energy is indeed constant in time.\n",
    "***"
   ]
  },
  {
   "cell_type": "markdown",
   "metadata": {},
   "source": [
    "### 1.2. Classical harmonic oscillator of a two-body system"
   ]
  },
  {
   "cell_type": "markdown",
   "metadata": {},
   "source": [
    "Classical harmonic oscillator model can be used to describe classical vibrations of two masses connected by a spring. Such classical model can be used to describe vibrations of a diatomic molecule. \n",
    "\n",
    "<img src=\"two_body.jpeg\" alt=\"Two-body harmonic oscillator\" style=\"max-width: 200px;\"/>\n",
    "\n",
    "Similar to the one-body example in Section 1.1, we can set up equations of motion for displacement of each mass:\n",
    "\n",
    "\\begin{align}\n",
    "\\frac{d^{2} x_1}{dt^2} &= \\frac{k}{m_1} (x_{2} - x_{1} - l_{0}) \\\\\n",
    "\\frac{d^{2} x_2}{dt^2} &= - \\frac{k}{m_2}(x_{2} - x_{1} - l_{0})\n",
    "\\end{align}\n",
    "\n",
    "Here, $x_{1}$ and $x_{2}$ are displacements of masses $m_1$ and $m_2$, and $l_{0}$ is an undistorted spring length. Solution of this two-body problem reduces to the solution of the one-body problem described previously:\n",
    "\n",
    "\\begin{align}\n",
    "\\mu \\frac{d^{2}x}{dt^2} = -kx\n",
    "\\end{align}\n",
    "\n",
    "where $x = x_2 - x_1 - l_0$ is the change in the distance between two masses relative to their equilibrium position (i.e., when $x = 0$ and $x_2 - x_1 = l_0$) and $\\mu$ is the reduced mass given by:\n",
    "\n",
    "\\begin{align}\n",
    "\\mu = \\frac{m_{1} m_{2}}{m_{1} + m_{2}}\n",
    "\\end{align}\n",
    "\n",
    "For this two-body system, the angular frequency is given by \n",
    "\n",
    "\\begin{align}\n",
    "\\omega = \\sqrt{\\frac{k}{\\mu}}\n",
    "\\end{align}\n",
    "\n"
   ]
  },
  {
   "cell_type": "markdown",
   "metadata": {},
   "source": [
    "***\n",
    "####  Example 2: Using equations of motion of the classical harmonic oscillator, plot distortion of a diatomic molecule's bond length as a function of time given the experimental vibrational frequency (in cm$^{-1}$) and atomic masses (in amu).\n",
    "\n",
    "We first define parameters of the molecule:"
   ]
  },
  {
   "cell_type": "code",
   "execution_count": null,
   "metadata": {},
   "outputs": [],
   "source": [
    "## List of parameter you can play with.\n",
    "\n",
    "nu_inv_cm = 4401.0    # Fundamental vibrational frequency (in cm^-1)\n",
    "m_1 = 1.0             # Mass of atom 1 (amu)\n",
    "m_2 = 1.0             # Mass of atom 2 (amu)\n",
    "\n",
    "Amp =  (10**(-11))    # Amplitude of classical vibrations (m).\n",
    "\n",
    "time  = 0.6*10**(-13) # Time to observe vibrations (s)\n",
    "t_step = 10**(-16)    # Time step (s)\n"
   ]
  },
  {
   "cell_type": "markdown",
   "metadata": {},
   "source": [
    "Using these parameters and classical equations of motion we can plot the bond length distortion as a function of time"
   ]
  },
  {
   "cell_type": "code",
   "execution_count": null,
   "metadata": {},
   "outputs": [],
   "source": [
    "import numpy as np\n",
    "import matplotlib.pyplot as plt\n",
    "import scipy.constants\n",
    "from matplotlib import animation, rc\n",
    "from IPython.display import HTML\n",
    "\n",
    "## Introduce important constants here\n",
    "speed_of_light = scipy.constants.speed_of_light # Speed of light\n",
    "proton_m = scipy.constants.proton_mass # Proton rest mass\n",
    "planck_const = scipy.constants.Planck\n",
    "\n",
    "## Unit conversion of reduced mass, frequencies and force constants into SI units,\n",
    "nu_inv_m = nu_inv_cm * 100\n",
    "red_mass = (m_1*m_2)/(m_1 + m_2)\n",
    "red_mass_kg = red_mass * proton_m\n",
    "k = red_mass_kg * (2.0 * np.pi * speed_of_light * nu_inv_m)**2\n",
    "\n",
    "## Obtain omega and written plot details.\n",
    "omega = np.sqrt(k/red_mass_kg)\n",
    "fig = plt.figure(figsize=(10,10)) \n",
    "ax = plt.axes(xlim=(0.00, time), ylim=(-1.200 * Amp, 1.200 * Amp)) \n",
    "ax.grid()\n",
    "line, = ax.plot([], [], lw=2) \n",
    "\n",
    "# initialization function \n",
    "def init(): \n",
    "    # creating an empty plot/frame \n",
    "    line.set_data([], []) \n",
    "    return line, \n",
    "\n",
    "# lists to store x and y axis points \n",
    "xdata, ydata = [], [] \n",
    "def animate(i): \n",
    "    # t is a parameter \n",
    "    t = t_step*i \n",
    "\n",
    "# x, y values to be plotted \n",
    "    x = t\n",
    "    y = Amp * np.cos(omega * t)\n",
    "\n",
    "# appending new points to x, y axes points list \n",
    "    xdata.append(x) \n",
    "    ydata.append(y) \n",
    "    line.set_data(xdata, ydata) \n",
    "    return line, \n",
    "\n",
    "# setting a title for the plot \n",
    "plt.title('Classical Harmonic Oscillator motion of Molecules', fontsize = 20) \n",
    "plt.xlabel('Time in seconds', fontsize = 15)\n",
    "plt.ylabel(\"Displcement from the equilibrium Bond distance\", fontsize = 15)\n",
    "\n",
    "plt.close()\n",
    "\n",
    "n_frames = int(time/t_step)\n",
    "anim = animation.FuncAnimation( fig, animate, init_func = init, frames = n_frames, interval=20, blit = False)\n",
    "HTML(anim.to_html5_video())"
   ]
  },
  {
   "cell_type": "markdown",
   "metadata": {},
   "source": [
    "***"
   ]
  },
  {
   "cell_type": "markdown",
   "metadata": {},
   "source": [
    "### 1.3. Quantum harmonic oscillator"
   ]
  },
  {
   "cell_type": "markdown",
   "metadata": {},
   "source": [
    "Now, let's describe vibrations of the harmonic oscillator using quantum mechanics. In this model, a particle is vibrating in a well described by a harmonic potential. Thus, the harmonic oscillator Hamiltonian will have the form:\n",
    "\n",
    "\\begin{align}\n",
    "\\hat{H} = \\frac{\\hat{p}_x^2}{2\\mu} + V(x) = - \\frac{\\hbar^2}{2\\mu} \\frac{\\mathrm{d}^2}{\\mathrm{d}x^2} + \\frac{k}{2}x^2\n",
    "\\end{align}\n",
    "\n",
    "The Schrödinger equation for the harmonic oscillator takes the form:\n",
    "\n",
    "\\begin{align}\n",
    "\\hat{H} \\Psi_n(x) = E_n \\Psi_n(x)\n",
    "\\end{align}\n",
    "\n",
    "\\begin{align}\n",
    "- \\frac{\\hbar^2}{2\\mu} \\frac{\\mathrm{d}^2}{\\mathrm{d}x^2}\\Psi_n(x) + \\frac{k}{2}x^2\\Psi_n(x) = E_n \\Psi_n(x)\n",
    "\\end{align}\n",
    "\n",
    "This equation can be solved analytically, but the solution is more complicated than solving the Schrödinger equation for the particle in a box."
   ]
  },
  {
   "cell_type": "markdown",
   "metadata": {},
   "source": [
    "### 1.4. Energy levels of quantum harmonic oscillator"
   ]
  },
  {
   "cell_type": "markdown",
   "metadata": {},
   "source": [
    "The energy levels of quantum harmonic oscillator are given by the following equation:\n",
    "\n",
    "\\begin{align}\n",
    "E_n = \\left( n + \\frac{1}{2} \\right) \\hbar \\omega = \\left( n + \\frac{1}{2} \\right) h \\nu\n",
    "\\end{align}\n",
    "\n",
    "where $\\omega$ is the angular frequency and $\\nu = \\frac{\\omega}{2\\pi}$ is the linear frequency. The angular frequency is related to the Hooke's constand $k$ and the reduced mass $\\mu$ as follows:\n",
    "\n",
    "\\begin{align}\n",
    "\\omega = \\sqrt{\\frac{k}{\\mu}}\n",
    "\\end{align}\n",
    "\n",
    "The energy spectrum of harmonic oscillator has several important properties:\n",
    "\n",
    "* **Energies are quantized**. The quantum number $n$ appearing in the energy expression can only take integer vales $n = 0, 1, 2, 3, \\ldots$\n",
    "\n",
    "* **Energy levels are equally-spaced**. The spacing between the energy levels is equal to $\\hbar \\omega$. \n",
    "\n",
    "* **In the ground level ($n=0$), the energy is not zero**. This energy is known as *zero-point energy* (ZPE). For the quantum harmonic oscillator, ZPE is given by:\n",
    "\n",
    "\\begin{align}\n",
    "E_0 = \\frac{\\hbar\\omega}{2}\n",
    "\\end{align}"
   ]
  },
  {
   "cell_type": "markdown",
   "metadata": {},
   "source": [
    "***\n",
    "####  Example 3: Given a fundamental vibrational frequency (in cm$^{-1}$) and atomic masses (in amu) of a diatomic molecule, plot its harmonic potential and several lowest vibrational energy levels.\n",
    "\n",
    "First, let's set up parameters of our problem by specifying the fundamental vibrational frequency $\\tilde{\\nu}$ (in cm$^{-1}$), atomic masses (in amu), and the number of energy levels we will plot:"
   ]
  },
  {
   "cell_type": "code",
   "execution_count": null,
   "metadata": {},
   "outputs": [],
   "source": [
    "# Parameters for H2\n",
    "nu_inv_cm = 4401.0 # Fundamental vibrational frequency (in cm^-1)\n",
    "m_1 = 1.0 # Mass of atom 1 (amu)\n",
    "m_2 = 1.0 # Mass of atom 2 (amu)\n",
    "#nu_inv_cm = 323.0 # Fundamental vibrational frequency (in cm^-1)\n",
    "#m_1 = 79 # Mass of atom 1 (amu)\n",
    "#m_2 = 79 # Mass of atom 2 (amu)\n",
    "n_levels = 4\n",
    "n_points = 100 # Number of points used for the plot"
   ]
  },
  {
   "cell_type": "markdown",
   "metadata": {},
   "source": [
    "Now, calculate reduced mass ($\\mu$, kg) and force constant of the molecule ($k$, N m$^{-1}$):"
   ]
  },
  {
   "cell_type": "code",
   "execution_count": null,
   "metadata": {},
   "outputs": [],
   "source": [
    "# Import Python modules\n",
    "import numpy as np\n",
    "import scipy.constants\n",
    "import matplotlib.pyplot as plt\n",
    "\n",
    "if n_levels < 2:\n",
    "    raise Exception(\"Number of levels must be greater than 1\")\n",
    "\n",
    "# Physical constants\n",
    "speed_of_light = scipy.constants.speed_of_light # Speed of light\n",
    "proton_m = scipy.constants.proton_mass # Proton rest mass\n",
    "planck_const = scipy.constants.Planck\n",
    "\n",
    "# Convert vibrational frequency in SI units (m^1)\n",
    "nu_inv_m = nu_inv_cm * 100\n",
    "\n",
    "red_mass = m_1 * m_2 / (m_1 + m_2) # Reduced mass in amu\n",
    "red_mass *= proton_m # Reduced mass in kg\n",
    "\n",
    "force_const = red_mass * (2.0 * np.pi * speed_of_light * nu_inv_m)**2 # Force constant N m^-1\n",
    "\n",
    "print (\"Reduced mass: \", red_mass, \"(kg)\")\n",
    "print (\"Force constant:\", force_const, \"(N m^-1)\")"
   ]
  },
  {
   "cell_type": "markdown",
   "metadata": {},
   "source": [
    "Calculate the values of energies (in J) for each energy level:"
   ]
  },
  {
   "cell_type": "code",
   "execution_count": null,
   "metadata": {},
   "outputs": [],
   "source": [
    "nu = nu_inv_m * speed_of_light\n",
    "\n",
    "energy_levels = np.zeros(n_levels)\n",
    "\n",
    "for v in range(n_levels):\n",
    "    energy_levels[v] = planck_const * nu * (v + 0.5)"
   ]
  },
  {
   "cell_type": "markdown",
   "metadata": {},
   "source": [
    "Plot the harmonic potential and energy levels"
   ]
  },
  {
   "cell_type": "code",
   "execution_count": null,
   "metadata": {},
   "outputs": [],
   "source": [
    "# Define function to calculate harmonic potential for force constant k and position x\n",
    "def harmonic_potential(k,x):\n",
    "    return 0.5 * k * x**2\n",
    "\n",
    "# Define x points\n",
    "x_max = np.sqrt(2.0 * energy_levels / force_const)\n",
    "x_max = x_max[-1] + (x_max[-1] - x_max[-2]) / 2\n",
    "x_points = np.linspace(-x_max, x_max ,n_points)\n",
    "\n",
    "# Evaluate potential at each x\n",
    "V = harmonic_potential(force_const, x_points)\n",
    "\n",
    "# Set up graph and plot\n",
    "plt.figure(figsize=(10,10))\n",
    "for e in energy_levels:\n",
    "    e_x_max = np.sqrt(2.0 * e / force_const)\n",
    "    plt.hlines(e, -e_x_max, e_x_max, colors=\"black\")\n",
    "\n",
    "plt.plot(x_points, V)\n",
    "plt.xlabel(\"x\", fontsize=20)\n",
    "plt.ylabel(\"V(x)\", fontsize=20)\n",
    "plt.title(\"Harmonic potential V(x)\", fontsize=16)\n",
    "plt.tight_layout()\n",
    "plt.grid()"
   ]
  },
  {
   "cell_type": "markdown",
   "metadata": {},
   "source": [
    "***"
   ]
  },
  {
   "cell_type": "markdown",
   "metadata": {},
   "source": [
    "### 1.5. Quantum harmonic oscillator wavefunctions"
   ]
  },
  {
   "cell_type": "markdown",
   "metadata": {},
   "source": [
    "The quantum harmonic oscillator wavefunctions have a general form:\n",
    "\n",
    "\\begin{align}\n",
    "\\Psi_n(x) = N_n H_n (\\sqrt{\\alpha}x)e^{-\\alpha x^2 / 2}\n",
    "\\end{align}\n",
    "\n",
    "where $N_n$ is a normalization constant\n",
    "\\begin{align}\n",
    "N_n = \\frac{1}{\\sqrt{2^n \\,n!}}\\left( \\frac{\\alpha}{\\pi} \\right)^{1/4}\n",
    "\\end{align}\n",
    "\n",
    "$\\alpha$ is a constant that depends on the Hooke's constant $k$ and reduced mass $\\mu$\n",
    "\n",
    "\\begin{align}\n",
    "\\alpha = \\sqrt{\\frac{k\\mu}{\\hbar^2}}\n",
    "\\end{align}\n",
    "\n",
    "and functions $H_n (\\sqrt{\\alpha}x)$ are known as Hermite polynomials. The Hermite polynomials can be generated for different quantum numbers $n$ using a recursion relation\n",
    "\n",
    "\\begin{align}\n",
    "H_{n+1}(y) = 2y H_n(y) - 2nH_{n-1}(y)\n",
    "\\end{align}\n",
    "\n",
    "by starting with the zeroth-order and first-order Hermite polynomials: $H_0(y) = 1$ and $H_1(y) = 2y$.\n",
    "\n",
    "The harmonic oscillator wavefunctions have several notable properties:\n",
    "\n",
    "* **Wavefunction $\\Psi_n(x)$ of the $n$-th energy level has $n$ nodes**. Nodes are points when $\\Psi_n(x)=0$ and changes sign. The ground-state wavefunction $\\Psi_0(x)$ is no nodes. Each successive wavefunction has one more node, which increases its \"waviness\". These nodes are necessary to ensure that all wavefunctions are orthogonal to each other.\n",
    "\n",
    "* **Each wavefunction $\\Psi_n(x)$ is either an even or odd function**. Harmonic oscillator wavefunctions $\\Psi_n(x)$ alternate between being odd or even with increasing (or decreasing) quantum number $n$. This property is very important because it significantly simplifies calculation of averages of quantum-mechanical operators (e.g., average position or momentum).\n",
    "\n",
    "* **For each state, wavefunction and probability density are non-zero beyond the classical turning points**. This property is a manifistation of quantum-mechanical tunneling.\n",
    "\n",
    "\n",
    "\n"
   ]
  },
  {
   "cell_type": "markdown",
   "metadata": {},
   "source": [
    "***\n",
    "#### Example 4. Given a fundamental vibrational frequency (in cm$^{-1}$) and atomic masses (in amu) of a diatomic molecule, plot harmonic vibrational wavefunctions and probability densities for several lowest vibrational energy levels."
   ]
  },
  {
   "cell_type": "markdown",
   "metadata": {},
   "source": [
    "Similar to Example 3, we first set up parameters of our problem by specifying the fundamental vibrational frequency $\\tilde{\\nu}$ (in cm$^{-1}$), atomic masses (in amu), and the number of vibrational states, which wavefunctions we will plot:"
   ]
  },
  {
   "cell_type": "code",
   "execution_count": null,
   "metadata": {},
   "outputs": [],
   "source": [
    "# Parameters for H2\n",
    "nu_inv_cm = 4401.0 # Fundamental vibrational frequency (in cm^-1)\n",
    "m_1 = 1.0 # Mass of atom 1 (amu)\n",
    "m_2 = 1.0 # Mass of atom 2 (amu)\n",
    "#nu_inv_cm = 323.0 # Fundamental vibrational frequency (in cm^-1)\n",
    "#m_1 = 79 # Mass of atom 1 (amu)\n",
    "#m_2 = 79 # Mass of atom 2 (amu)\n",
    "n_levels = 5\n",
    "n_points = 100 # Number of points used for the plot"
   ]
  },
  {
   "cell_type": "markdown",
   "metadata": {},
   "source": [
    "Once parameters are set up, let us calculate harmonic potential and harmonic oscillator energy levels. This step closely follows procedure that we used in Example X:"
   ]
  },
  {
   "cell_type": "code",
   "execution_count": null,
   "metadata": {
    "scrolled": true
   },
   "outputs": [],
   "source": [
    "# Import Python modules\n",
    "import numpy as np\n",
    "import scipy.constants\n",
    "import scipy.special\n",
    "import matplotlib.pyplot as plt\n",
    "\n",
    "if n_levels < 2:\n",
    "    raise Exception(\"Number of levels must be greater than 1\")\n",
    "\n",
    "# Physical constants\n",
    "speed_of_light = scipy.constants.speed_of_light # Speed of light\n",
    "proton_m = scipy.constants.proton_mass # Proton rest mass\n",
    "planck_const = scipy.constants.Planck\n",
    "hbar = scipy.constants.hbar\n",
    "\n",
    "# Convert vibrational frequency in SI units (m^1)\n",
    "nu_inv_m = nu_inv_cm * 100\n",
    "\n",
    "red_mass = m_1 * m_2 / (m_1 + m_2) # Reduced mass in amu\n",
    "red_mass *= proton_m # Reduced mass in kg\n",
    "\n",
    "force_const = red_mass * (2.0 * np.pi * speed_of_light * nu_inv_m)**2 # Force constant N m^-1\n",
    "\n",
    "nu = nu_inv_m * speed_of_light\n",
    "\n",
    "energy_levels = np.zeros(n_levels)\n",
    "\n",
    "for v in range(n_levels):\n",
    "    energy_levels[v] = planck_const * nu * (v + 0.5)\n",
    "    \n",
    "# Define function to calculate harmonic potential for force constant k and position x\n",
    "def harmonic_potential(k,x):\n",
    "    return 0.5 * k * x**2\n",
    "\n",
    "# Define x points\n",
    "x_max = np.sqrt(2.0 * energy_levels / force_const)\n",
    "x_max = x_max[-1] + (x_max[-1] - x_max[-2]) \n",
    "x_points = np.linspace(-x_max, x_max ,n_points)\n",
    "\n",
    "# Evaluate potential at each x\n",
    "V = harmonic_potential(force_const, x_points)"
   ]
  },
  {
   "cell_type": "markdown",
   "metadata": {},
   "source": [
    "Now, we are ready to calculate harmonic oscillator wavefunctions for each electronic state:"
   ]
  },
  {
   "cell_type": "code",
   "execution_count": null,
   "metadata": {},
   "outputs": [],
   "source": [
    "# Calculate alpha constant\n",
    "alpha = np.sqrt(force_const * red_mass / (hbar)**2)\n",
    "\n",
    "# Calculate wavefunctions for each energy level\n",
    "wfns = np.zeros((n_levels, n_points))\n",
    "\n",
    "for v in range(n_levels):\n",
    "    norm_prefactor = (alpha/np.pi)**(0.25) / (np.sqrt((2.0**v) * np.math.factorial(v)))\n",
    "    x_scaled = np.sqrt(alpha) * x_points\n",
    "    wfns[v] = norm_prefactor * np.exp(-(x_scaled**2) / 2.0) * scipy.special.eval_hermite(v, x_scaled)\n",
    "    "
   ]
  },
  {
   "cell_type": "markdown",
   "metadata": {},
   "source": [
    "Finally, let's plot wavefunctions on top of potential energy curve:"
   ]
  },
  {
   "cell_type": "code",
   "execution_count": null,
   "metadata": {},
   "outputs": [],
   "source": [
    "# Determine energy spacing\n",
    "de = energy_levels[1] - energy_levels[0]\n",
    "\n",
    "# Determine max value of wavefunction in the ground state\n",
    "max_wfn = np.amax(wfns[0])\n",
    "scale = de / (2 * max_wfn)\n",
    "\n",
    "# Set up graph and plot\n",
    "plt.figure(figsize=(10,10))\n",
    "for e in energy_levels:\n",
    "    e_x_max = np.sqrt(2.0 * e / force_const)\n",
    "    plt.hlines(e, -e_x_max, e_x_max, colors=\"black\")\n",
    "\n",
    "plt.plot(x_points, V)\n",
    "plt.xlabel(\"x\", fontsize=20)\n",
    "plt.ylabel(\"V(x) and ψ(x) (scaled)\", fontsize=20)\n",
    "plt.title(\"Harmonic potential V(x) and wavefunctions ψ(x)\", fontsize=16)\n",
    "plt.tight_layout()\n",
    "plt.grid()\n",
    "    \n",
    "for v in range(n_levels):\n",
    "    wfn = scale * wfns[v] + energy_levels[v]\n",
    "    plt.plot(x_points, wfn)\n",
    "    \n",
    "# Plot probability density for each energy level\n",
    "max_p = np.amax(wfns[0] * wfns[0])\n",
    "scale_p = de / (2 * max_p)\n",
    "\n",
    "plt.figure(figsize=(10,10))\n",
    "for e in energy_levels:\n",
    "    e_x_max = np.sqrt(2.0 * e / force_const)\n",
    "    plt.hlines(e, -e_x_max, e_x_max, colors=\"black\")\n",
    "\n",
    "plt.plot(x_points, V)\n",
    "plt.xlabel(\"x\", fontsize=20)\n",
    "plt.ylabel(\"V(x) and P(x) (scaled)\", fontsize=20)\n",
    "plt.title(\"Harmonic potential V(x) and probability P(x)\", fontsize=16)\n",
    "plt.tight_layout()\n",
    "plt.grid()\n",
    "    \n",
    "for v in range(n_levels):\n",
    "    wfn = scale_p * wfns[v] * wfns[v] + energy_levels[v]\n",
    "    plt.plot(x_points, wfn)"
   ]
  },
  {
   "cell_type": "markdown",
   "metadata": {},
   "source": [
    "***"
   ]
  },
  {
   "cell_type": "markdown",
   "metadata": {},
   "source": [
    "## <span style=\"color:blue\">2. Exercises</span>"
   ]
  },
  {
   "cell_type": "markdown",
   "metadata": {},
   "source": [
    "### 2.1. Question 1.\n",
    "\n",
    "Find the Probability of finding the Hydrogen Molecule beyond its classical turning points for n = 1, 2, 3 and 4.\n",
    "This is called the tunneling probability. Show that the tunneling probability decreases as we increase n.\n",
    "\n",
    "Given:\n",
    "Mass of Hydrogen atom = 1.00 amu.\n",
    "\n",
    "$\\overline{\\nu}$ = 4401.0 $cm^{-1}$\n",
    "\n"
   ]
  },
  {
   "cell_type": "markdown",
   "metadata": {},
   "source": [
    "#### Solution:"
   ]
  },
  {
   "cell_type": "code",
   "execution_count": null,
   "metadata": {},
   "outputs": [],
   "source": [
    "# Parameters for the given molecule. (H2 here)\n",
    "nu_inv_cm = 4401.0 # Fundamental vibrational frequency (in cm^-1)\n",
    "m_1 = 1.0 # Mass of atom 1 (amu)\n",
    "m_2 = 1.0 # Mass of atom 2 (amu)\n",
    "n_level = 50\n",
    "n_points = 200"
   ]
  },
  {
   "cell_type": "code",
   "execution_count": null,
   "metadata": {},
   "outputs": [],
   "source": [
    "# Perform Initial calculations from the parameters.\n",
    "# Import Python modules\n",
    "import numpy as np\n",
    "import scipy.constants\n",
    "import scipy.special\n",
    "import scipy.integrate as integrate\n",
    "\n",
    "# Physical constants\n",
    "speed_of_light = scipy.constants.speed_of_light # Speed of light\n",
    "proton_m = scipy.constants.proton_mass # Proton rest mass\n",
    "planck_const = scipy.constants.Planck\n",
    "hbar = scipy.constants.hbar\n",
    "\n",
    "# Convert vibrational frequency in SI units (m^1)\n",
    "nu_inv_m = nu_inv_cm * 100\n",
    "\n",
    "red_mass = m_1 * m_2 / (m_1 + m_2) # Reduced mass in amu\n",
    "red_mass *= proton_m # Reduced mass in kg\n",
    "\n",
    "force_const = red_mass * (2.0 * np.pi * speed_of_light * nu_inv_m)**2 # Force constant N m^-1\n",
    "\n",
    "nu = nu_inv_m * speed_of_light\n",
    "\n",
    "# Form wavefunction\n",
    "def integrand(x, alpha, n):\n",
    "    y = (np.sqrt(alpha))*x\n",
    "    norm_prefactor = (alpha/np.pi)**(0.25) / (np.sqrt((2.0**n) * np.math.factorial(n)))\n",
    "    I = norm_prefactor * (np.exp(-(y**2) / 2.0)) * scipy.special.eval_hermite(n, y)\n",
    "    I = I * I\n",
    "    return I\n",
    "\n",
    "# Calculate alpha constant\n",
    "alpha = np.sqrt(force_const * red_mass / (hbar)**2)\n",
    "\n",
    "# Calculate wavefunctions for each energy level\n",
    "wfns = np.zeros(n_points)\n",
    "\n",
    "# Calculate Energy for that n_value\n",
    "energy = planck_const * nu * (n_level + 0.5)\n",
    "\n",
    "# Calculate turning points\n",
    "e_x_max = np.sqrt(2.0 * energy / force_const)\n",
    "\n",
    "# Calculate Tunneling Probability for given quantum number n of the \n",
    "# Quantum Harmonic Oscillator.\n",
    "\n",
    "t_prob = integrate.quad(integrand, -e_x_max, e_x_max, args = (alpha, n_level))[0]\n",
    "\n",
    "tunnelling_prob = (1 - t_prob) * 100\n",
    "\n",
    "print(\"Tunneling probability for n = \" + str(n_level) + \":\", tunnelling_prob, \"%\")"
   ]
  }
 ],
 "metadata": {
  "kernelspec": {
   "display_name": "Python 3",
   "language": "python",
   "name": "python3"
  },
  "language_info": {
   "codemirror_mode": {
    "name": "ipython",
    "version": 3
   },
   "file_extension": ".py",
   "mimetype": "text/x-python",
   "name": "python",
   "nbconvert_exporter": "python",
   "pygments_lexer": "ipython3",
   "version": "3.7.7"
  }
 },
 "nbformat": 4,
 "nbformat_minor": 4
}
