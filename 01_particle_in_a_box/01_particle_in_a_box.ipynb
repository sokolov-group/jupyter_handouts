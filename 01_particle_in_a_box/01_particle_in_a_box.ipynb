{
 "cells": [
  {
   "cell_type": "markdown",
   "metadata": {},
   "source": [
    "# <div style=\"text-align:center\">\"Handout: Particle in a Box\"</div>"
   ]
  },
  {
   "cell_type": "markdown",
   "metadata": {},
   "source": [
    "### 1.1 Introduction"
   ]
  },
  {
   "cell_type": "markdown",
   "metadata": {},
   "source": [
    "### Erwin Schrödinger (1887-1961)\n",
    "\n",
    "![alt text](https://live.staticflickr.com/7402/9272942273_7c743e465b_b.jpg \"\")\n"
   ]
  },
  {
   "cell_type": "markdown",
   "metadata": {},
   "source": [
    "Schrödinger attended graduate school at the University of Vienna, where in the year 1910 he obtained a Ph.D in theoretical physics. Later in 1927, Max Planck (the guy known for Planks Constant) specifically sought out Schrödinger to take over his position at the University of Berlin. However, 6 years later Hitler came to town and Schrödinger left Berlin to avoid Hitler and moved to Austria to work at the University of Graz. Sadly, Hitler 3 years after Berlin, decided to invaded Austria and as a result Schrödinger had to renounce his faculty position. But nonetheless, Schrödinger was a wanted man for his knowledge and moved to a University in Dublin, Ireland which became his last move for Universities.\n",
    "\n",
    "Notable Award:\n",
    "\t-Nobel laureate in physics alongside Dirac for their work in “discovery of new productive forms of Atomic Theory.”"
   ]
  },
  {
   "cell_type": "markdown",
   "metadata": {},
   "source": [
    "### 1.2 Theoretical Background\n",
    "#### 1.2.1 Deriving an underivable equation"
   ]
  },
  {
   "cell_type": "markdown",
   "metadata": {},
   "source": [
    "1-Dimensional wave equation\n",
    "\n",
    "\\begin{equation}\\\n",
    "\\frac{\\partial^2 u}{\\partial x^2} = \\frac{1}{v^2}\\frac{\\partial^2 u}{\\partial t^2}\n",
    "\\ \\ \\ \\ \\ \\ \\ \\ \\ \\\n",
    "\\mathbf{\\left ( 1 \\right )}\n",
    "\\end{equation}\n",
    "\n",
    "$u$ can be expressed as a multiple of x and a harmonic function time and set equal to parameters that exist in time\n",
    "\n",
    "\\begin{equation}\\\n",
    "u\\left (x,t  \\right )= \\psi \\left ( x \\right )\\cos \\left ( \\omega t \\right )\n",
    "\\ \\ \\ \\ \\ \\ \\ \\ \\ \\\n",
    "\\mathbf{\\left ( 2 \\right )}\n",
    "\\end{equation}\n",
    "\n",
    "$\\psi (x)$ in equation 2 represents the spatial amplitude property of the wave, and thus equation 1 can be rewritten to obtain equation 3\n",
    "\n",
    "\\begin{equation}\\\n",
    "\\frac{\\partial^2 \\psi }{\\partial x^2} + \\frac{\\omega^2 }{v^2}\\psi\\left ( x \\right )=0\n",
    "\\ \\ \\ \\ \\ \\ \\ \\ \\ \\\n",
    "\\mathbf{\\left ( 3 \\right )}\n",
    "\\end{equation}\n",
    "\n",
    "Where $\\omega$ and $\\nu$ are equal to:\n",
    "\n",
    "\\begin{equation}\\\n",
    "\\omega = 2\\pi\\nu\n",
    "\\ \\ \\ \\ \\ \\ \\ \\ \\ \\\n",
    "\\end{equation}\n",
    "\n",
    "\\begin{equation}\\\n",
    "\\nu =\\lambda v\n",
    "\\ \\ \\ \\ \\ \\ \\ \\ \\ \\\n",
    "\\end{equation}\n",
    "\n",
    "Now $\\omega$ and $\\nu$ are plugged into equation 3 to obtain equation 4:\n",
    "\n",
    "\\begin{equation}\\\n",
    "\\frac{\\partial^2 \\psi }{\\partial x^2} + \\frac{4\\pi ^2 }{\\lambda ^2}\\psi\\left ( x \\right )=0\n",
    "\\ \\ \\ \\ \\ \\ \\ \\ \\ \\\n",
    "\\mathbf{\\left ( 4 \\right )}\n",
    "\\end{equation}\n",
    "\n",
    "\n",
    "de Broglie's idea of matter waves is introduced:\n",
    "\n",
    "\\begin{equation}\\\n",
    "E = \\frac{p^2}{2m}+V\\left ( x \\right )\n",
    "\\ \\ \\ \\ \\ \\ \\ \\ \\ \\\n",
    "\\mathbf{\\left ( 5 \\right )}\n",
    "\\end{equation}\n",
    "\n",
    "p momentum can be rewritten as: \n",
    "\n",
    "\\begin{equation}\\\n",
    "p = \\sqrt{2m\\left ( E-V(x) \\right )}\n",
    "\\ \\ \\ \\ \\ \\ \\ \\ \\ \\\n",
    "\\mathbf{\\left ( 6 \\right )}\n",
    "\\end{equation}\n",
    "\n",
    "\n",
    "Now $\\lambda$ (equation 7) from equation 4 can be rewritten (de Broglie formula) to obtain an expression that is the Schrödinger equation (equation 8) when plugged back into equation 4:\n",
    "\n",
    "\n",
    "\\begin{equation}\\\n",
    "\\lambda =\\frac{h}{p} = \\frac{h}{\\sqrt{2m\\left ( E-V(x) \\right )}}\n",
    "\\ \\ \\ \\ \\ \\ \\ \\ \\ \\\n",
    "\\mathbf{\\left ( 7 \\right )}\n",
    "\\end{equation}\n",
    "\n",
    "\\begin{equation}\\\n",
    "\\frac{\\partial^2 \\psi }{\\partial x^2} + \\frac{2m}{\\hbar}\\left ( E-V(x) \\right )\\psi\\left ( x \\right )=0\n",
    "\\ \\ \\ \\ \\ \\ \\ \\ \\ \\\n",
    "\\mathbf{\\left ( 8 \\right )}\n",
    "\\end{equation}\n",
    "\n",
    "Equation 8 is rewritten in the form of equation 9 to bring up the idea of operators for the Schrödinger equation:\n",
    "\n",
    "\\begin{equation}\\\n",
    "-\\frac{\\hbar^2}{2m}\\frac{\\partial^2 \\psi }{\\partial x^2} + V(x)\\psi\\left ( x \\right )=E\\psi (x)\n",
    "\\ \\ \\ \\ \\ \\ \\ \\ \\ \\\n",
    "\\mathbf{\\left ( 9 \\right )}\n",
    "\\end{equation}"
   ]
  },
  {
   "cell_type": "markdown",
   "metadata": {},
   "source": [
    "#### Quantum Math Background"
   ]
  },
  {
   "cell_type": "markdown",
   "metadata": {},
   "source": [
    "#### What is an operator?\n",
    "\n",
    "An operator takes a function $f\\left ( x \\right )$ and transforms that function into a new function $g\\left ( x \\right )$\n",
    "\n",
    "A general example:\n",
    "\n",
    "operator $\\hat{A}$ acts on $f\\left ( x \\right )$\n",
    "\n",
    "\\begin{equation}\\\n",
    "\\hat{A}f\\left ( x \\right ) = g\\left ( x \\right )\n",
    "\\ \\ \\ \\ \\ \\ \\ \\ \\ \\\n",
    "\\end{equation}\n",
    "\n",
    "A less general example:\n",
    "\n",
    "Lets say $\\hat{A}=\\frac{\\partial^2}{\\partial x^2}$ and $f\\left ( x \\right ) = x^{3}y$\n",
    "\n",
    "\\begin{equation}\\\n",
    "\\hat{A}x^{3}y = 6xy\n",
    "\\ \\ \\ \\ \\ \\ \\ \\ \\ \\\n",
    "\\end{equation}\n",
    "\n",
    "Therefore, $g\\left ( x \\right ) = 6xy$\n",
    "\n",
    "#### What kind of operators are used in quantum mechanics?\n",
    "\n",
    "Quantum mechanics employs linear operators only\n",
    "\n",
    "##### What is a linear operator?\n",
    "\n",
    "A linear operator is said to be linear if the operator can act on individual functions and when adding the individual results up should the operator that operates on all function at once instead of individually.\n",
    "\n",
    "For example:\n",
    "\n",
    "\\begin{equation}\\\n",
    "\\hat{A}\\left ( c_{1}f_{1}(x) + c_{2}f_{2}(x)\\right )= c_{1}\\hat{A}f_{1}(x) + c_{2}\\hat{A}f_{2}(x)\n",
    "\\ \\ \\ \\ \\ \\ \\ \\ \\ \\\n",
    "\\end{equation}\n"
   ]
  },
  {
   "cell_type": "markdown",
   "metadata": {},
   "source": [
    "#### Eigenvalue problem\n",
    "\n",
    "What is an eigenvalue problem?\n",
    "\n",
    "The eigenvalue problem is simple to look at, but can be difficult to work with in practice.\n",
    "\n",
    "For example, the eigenvalue problem can understood in the context of the operator defined above:\n",
    "\n",
    "\\begin{equation}\\\n",
    "\\hat{A}\\phi \\left ( x \\right )=a\\phi \\left ( x \\right )\n",
    "\\ \\ \\ \\ \\ \\ \\ \\ \\ \\\n",
    "\\end{equation}\n",
    "\n",
    "Where operator $\\hat{A}$ acts on $\\phi \\left ( x \\right )$ and returns a constant $a$, also known as the eigenvalue back, and leaves the function $\\phi \\left ( x \\right )$ untouched.\n",
    "\n",
    "A more specific example is taking the operator of momentum $\\hat{p_{x}} = -i\\hbar\\frac{\\partial}{\\partial x}$ and operating on $e^{ikx}$:\n",
    "\n",
    "\\begin{equation}\\\n",
    "-i\\hbar\\frac{\\partial}{\\partial x}e^{ikx} = \\hbar{}ke^{ikx}\n",
    "\\ \\ \\ \\ \\ \\ \\ \\ \\ \\\n",
    "\\end{equation}\n",
    "\n",
    "Here one can see that operator $\\hat{p_{x}}$ acts on $e^{ikx}$ and produces an eigenvalue of $\\hbar{}k$, while leaving the function $e^{ikx}$ untouched.\n",
    "\n",
    "#### Expectation Value\n",
    "\n",
    "The expectation value determines the average value of the operator of interest. \n",
    "\n",
    "For example one could take the momentum operator and determine the expectation value of that operator in terms of the 1-D partical in a box:\n",
    "\n",
    "\\begin{equation}\\\n",
    "\\left \\langle p \\right \\rangle = \\int_{0}^{a}\\psi (x)^{*}\\left (\\hat{p_{x}} \\right )\\psi (x)\n",
    "\\ \\ \\ \\ \\ \\ \\ \\ \\ \\\n",
    "\\end{equation}\n",
    "\n",
    "\\begin{equation}\\\n",
    "\\left \\langle p \\right \\rangle = \\int_{0}^{a}\\sqrt{\\frac{2}{a}}\\sin \\left ( \\frac{nx\\pi}{a} \\right )\\left ( -i\\hbar\\frac{\\partial}{\\partial x} \\right )\\sqrt{\\frac{2}{a}}\\sin \\left ( \\frac{nx\\pi}{a} \\right )\n",
    "\\ \\ \\ \\ \\ \\ \\ \\ \\ \\\n",
    "\\end{equation}\n",
    "\n",
    "note the $\\sqrt{\\frac{2}{a}}$ from the above equation comes form normalization:\n",
    "\n",
    "\\begin{equation}\\\n",
    "\\int_{0}^{a}\\psi (x)^{*}\\left (\\hat{p_{x}} \\right )\\psi (x) = 1\n",
    "\\ \\ \\ \\ \\ \\ \\ \\ \\ \\\n",
    "\\end{equation}\n",
    "\n",
    "After the integration is done:\n",
    "\n",
    "\\begin{equation}\\\n",
    "\\left \\langle p \\right \\rangle = 0\n",
    "\\ \\ \\ \\ \\ \\ \\ \\ \\ \\\n",
    "\\end{equation}\n",
    "\n",
    "This result indicates that the particle could be moving in either direction.\n",
    "\n",
    "The Theoretical introduction 1.1 section is from the book Physical Chemistry A molecular Approach by D. McQuarrie and J. Simon.\n"
   ]
  },
  {
   "cell_type": "code",
   "execution_count": null,
   "metadata": {},
   "outputs": [],
   "source": [
    "#Partical in a infinite 2D well probabilities\n",
    "\n",
    "\n",
    "#Import modules\n",
    "from mpl_toolkits.mplot3d import Axes3D\n",
    "from matplotlib import cm\n",
    "import matplotlib.pyplot as plt\n",
    "import numpy as np\n",
    "from pylab import title\n",
    "from math import sin, pi\n",
    "\n",
    "#Grather the information of the quantum state of interest\n",
    "#Ask user for n quantum number\n",
    "n = input(\"Enter a integer value for n (the x level of the wavefunction): \")\n",
    "n = int(n) #change str inpute to int\n",
    "#Ask user for m quantum number\n",
    "m = input(\"Enter a integer value for m (the y level of the wavefunction): \")\n",
    "m = int(m) #change str inpute to int\n",
    "#Ask user how many points need to be used to describe the plot.\n",
    "points = input(\"Enter the number of points per axis to use to plot the function: \")\n",
    "#Ask user what kind of plot will be used to describe the conditions above\n",
    "points = int(points) #change str inpute to int\n",
    "plottype = input(\"Enter a plot type (wireframe, surface, or contour): \")\n",
    "\n",
    "#Setting plotting conditions\n",
    "fig = plt.figure()\n",
    "ax = Axes3D(fig)\n",
    "inc = 1.0/points\n",
    "\n",
    "#Creating 2D square well arrays\n",
    "x2 = y2 = np.arange(0,1 + inc, inc)\n",
    "X2, Y2 = np.meshgrid(x2,y2)\n",
    "Z2 = np.zeros((points+1,points+1))\n",
    "for j in range(points+1):\n",
    "    for i in range(points+1):\n",
    "        Z2[i][j] = sin(m * pi * X2[i][j]) * sin(n * pi * Y2[i][j])\n",
    "        \n",
    "#Taking the 2D square well arrays and putting them into the plot of choice\n",
    "if plottype==\"wireframe\":\n",
    "    ax.plot_wireframe(X2,Y2,Z2)\n",
    "elif plottype==\"surface\":\n",
    "    ax.plot_surface(X2, Y2, Z2, rstride=1, cstride=1, cmap=cm.winter)\n",
    "elif plottype==\"contour\":\n",
    "    ax.contour(X2, Y2, Z2)\n",
    "else:\n",
    "    print(\"Please enter a valid type of plot.\")\n",
    "\n",
    "ax.set_xlabel(\"x\")\n",
    "ax.set_ylabel(\"y\")\n",
    "ax.set_zlabel(\"z\")\n",
    "plt.title(\"Particle in 2-D Infinite Well\",fontsize=50)\n",
    "plt.show()\n",
    "\n",
    "# The python code was borrowed from = https://sites.williams.edu/fws1/files/2011/10/lorenzo.pdf, Author: Antonio Lorenzo\n",
    "\n"
   ]
  },
  {
   "cell_type": "markdown",
   "metadata": {},
   "source": [
    "### 1.2 Energy spectrum of PIB"
   ]
  },
  {
   "cell_type": "markdown",
   "metadata": {},
   "source": [
    "## The energy of a particle in a 1D box is expressed as :\n",
    "$E_{n} = \\frac{n^{2}h^{2}}{2mL^{2}}$\n",
    ", where n is the quantum number with a domain of all nature numbers, h is the Plank constant, m is the mass of particle, and L is the length of the box. \n",
    "\n",
    "Here we have an idea that energy is quantized in quantum mechnics, which indicates the energy is no long continuous, and it would have a minimal \"unit energy\". \n",
    "\n",
    "In this specific case, the unit energy would be $E_1 = \\frac{h^{2}}{2mL^{2}}$, which is also called as the ground state energy, and the state with ground state energy would be the ground state. With the given ground state energy, we could express energy of allowed eigenstate in the form of $E_n = n^{2}\\times E_1$, and those state with quantum number n greater than 1 would be known as the n-1 th excited state. \n",
    "\n",
    "Due to the fact that the energy of states are propotional to $n^2$, the energy gap between two adjcent energy level can be expressed as $E_n - E_{n-1} = (2n -1)E_1$."
   ]
  },
  {
   "cell_type": "code",
   "execution_count": null,
   "metadata": {
    "scrolled": false
   },
   "outputs": [],
   "source": [
    "#Import Python modules\n",
    "import matplotlib.pyplot as plt\n",
    "import numpy as np\n",
    "import matplotlib\n",
    "\n",
    "#Add title to the graph\n",
    "fig,ax = plt.subplots(figsize=(8, 10), tight_layout=True)\n",
    "\n",
    "#define x_points\n",
    "L = 1\n",
    "n_points = 100\n",
    "x_points = np.linspace(0, L, n_points)\n",
    "gd = np.ones(n_points)\n",
    "\n",
    "#Plot energies\n",
    "for i in range(5):\n",
    "    ax.plot(x_points, (i+1)**2 * gd, label = 'n = ' + str(i+1))\n",
    "    ax.plot(x_points, (np.sin((i+1)*np.pi*x_points/L)+(i+1)**2), color = 'k')\n",
    "    \n",
    "ax.set_xticks([0, L])\n",
    "ax.set_yticks(np.arange(28))\n",
    "ax.set_ylabel('E/E\\N{SUBSCRIPT ONE}', fontsize = 16)\n",
    "ax.set_title('Energy spectrum of the infinite square well with wavefunction', fontsize=12, fontweight= 'bold')\n",
    "\n",
    "plt.legend()\n",
    "plt.show()\n",
    "\n",
    "\n"
   ]
  },
  {
   "cell_type": "markdown",
   "metadata": {},
   "source": [
    "### 1.3 'Particle in a Box' (PIB) wavefunctions"
   ]
  },
  {
   "cell_type": "markdown",
   "metadata": {},
   "source": [
    "### 1.3.1 One-dimensional (1D) PIB"
   ]
  },
  {
   "cell_type": "markdown",
   "metadata": {},
   "source": [
    "The wavefunctions that are solutions for the 1D Particle in a Box have the form\n",
    "\n",
    "\\begin{equation}\\label{eq:pib_wfn}\n",
    "\\Psi_n (x) = B \\sin{\\frac{n \\pi x}{L}}\n",
    "\\ \\ \\ \\ \\ \\ \\ \\ \\ \\\n",
    "n = 1, 2, 3, \\cdots\n",
    "\\end{equation}\n",
    "\n",
    "in which $B$ is the \\textbf{normalization constant} that ensures the probability of finding the particle in the region $0 \\leq x \\leq L$ is equal to 1.\n",
    "\n",
    "\\begin{equation}\\label{eq:normal}\n",
    "\\int_0^L \\Psi_n^{*} (x) \\Psi_n(x) dx = 1\n",
    "\\end{equation}\n",
    "\n",
    "Recall that this is the boundary condition that is imposed on the potential energy operator $V(x)$ in the 1D Hamiltonian operator $\\hat{H} = \\hat{K}_x + V(x)$. \n",
    "\n",
    "\\begin{equation}\\label{eq:pib_pot}\n",
    "V(x)=\n",
    "\\begin{cases} \n",
    "0    & 0 \\leq x \\leq L \\\\\n",
    "\\infty & x < 0, x > L \n",
    "\\end{cases}\n",
    "\\end{equation}\n",
    "\n",
    "We can solve for $B$ by inserting Eq. \\ref{eq:pib_wfn} into Eq. \\ref{eq:normal}. With some calculus, we arrive at the solution $B = \\sqrt{\\frac{2}{L}}$ that allows us to write the \\textit{normalized} wavefunction\n",
    "\n",
    "\\begin{equation}\\label{eq:norm_pib_wfn}\n",
    "\\Psi_n (x) = \\sqrt{\\frac{2}{L}} \\sin{\\frac{n \\pi x}{L}}\n",
    "\\ \\ \\ \\ \\ \\ \\ \\ \\ \\\n",
    "n = 1, 2, 3, \\cdots\n",
    "\\end{equation}"
   ]
  },
  {
   "cell_type": "markdown",
   "metadata": {},
   "source": [
    "#### Example 1. Plot the PIB wavefunction for the quantum number $n$ and box dimension $L$."
   ]
  },
  {
   "cell_type": "markdown",
   "metadata": {},
   "source": [
    "First, let's define a function that calculates the wavefunction of PIB for a specified box dimension L and quantum number n:"
   ]
  },
  {
   "cell_type": "code",
   "execution_count": null,
   "metadata": {},
   "outputs": [],
   "source": [
    "# Import Python modules\n",
    "import matplotlib.pyplot as plt\n",
    "import numpy as np\n",
    "\n",
    "# Define function to calculate PIB wavefunction for a specified box dimension L, quantum number n, and position x\n",
    "def pib_wfn(n,L,x):\n",
    "    return np.sqrt(2/L)*np.sin(n*np.pi*x/L)"
   ]
  },
  {
   "cell_type": "markdown",
   "metadata": {},
   "source": [
    "We can verify that our normalization constant $B$ is correct by integrating our $\\Psi(x)$ over the space of the 1D box:"
   ]
  },
  {
   "cell_type": "code",
   "execution_count": null,
   "metadata": {},
   "outputs": [],
   "source": [
    "n = 1                                   # PIB quantum number\n",
    "L = 10                                  # PIB dimension\n",
    "n_points = 1000                         # number of points used for the plot\n",
    "x_points = np.linspace(0,L,n_points)    # create an array of 1000 values linearly spaced from 0 to L\n",
    "\n",
    "# Make sure that n is integer and n > 0\n",
    "n = int(n)\n",
    "if n < 1:\n",
    "    raise Exception (\"Quantum number n should be greater than 0\")\n",
    "\n",
    "# Calculate and print probability of a particle being anywhere in a box of length L (any 'n' quantum number)\n",
    "print(\"Probability(0 <= x <= L): \" + str(np.trapz(pib_wfn(n,L,x_points)*pib_wfn(n,L,x_points), x_points)))"
   ]
  },
  {
   "cell_type": "markdown",
   "metadata": {},
   "source": [
    "Now, that we have confirmed the validity of our wavefunction, let's define some parameters for our PIB model and plot the wavefunction:"
   ]
  },
  {
   "cell_type": "code",
   "execution_count": null,
   "metadata": {},
   "outputs": [],
   "source": [
    "n = 5                                   # PIB quantum number\n",
    "L = 10                                  # PIB dimension\n",
    "n_points = 1000                         # number of points used for the plot\n",
    "x_points = np.linspace(0,L,n_points)    # create array of x_values\n",
    "\n",
    "# Make sure that n is integer and n > 0\n",
    "n = int(n)\n",
    "if n < 1:\n",
    "    raise Exception (\"Quantum number n should be greater than 0\")\n",
    "\n",
    "# Evaluate wavefunction at each x\n",
    "wfn_values = pib_wfn(n, L, x_points)\n",
    "\n",
    "# Set up graph and plot\n",
    "plt.figure(figsize=(7,3))\n",
    "plt.plot(x_points, wfn_values)\n",
    "plt.xlabel(\"L\", fontsize=20)\n",
    "plt.ylabel(\"Ψ\", fontsize=20)\n",
    "plt.title(\"n=\"+str(n), fontsize=16)\n",
    "plt.tight_layout()\n",
    "plt.grid()"
   ]
  },
  {
   "cell_type": "markdown",
   "metadata": {},
   "source": [
    "Try choosing different values of $n$! What similarities and differences do they have? Notice:<br>\n",
    "(i) all of the wavefunctions are periodic <br>\n",
    "(ii) these functions resemble standing waves in vibrating string <br>\n",
    "(iii) for $n=1$, the particle is most-likely to be in the middle, contrary to classical physics <br>\n",
    "(iv) the number of nodes increases with quantum number $n$; the $n$th energy level wavefunction has $n-1$ nodes <br>\n",
    "\n",
    "Further, as $n \\rightarrow \\infty$ the \\textbf{Correspondence Principle} states that the QM results converge to those predicted by classical mechanics. See the plot below!"
   ]
  },
  {
   "cell_type": "code",
   "execution_count": null,
   "metadata": {},
   "outputs": [],
   "source": [
    "# Compute large 'n' wavefunction\n",
    "n=100\n",
    "large_nval = pib_wfn(n, L, x_points) * pib_wfn(n, L, x_points)\n",
    "\n",
    "# Set up graph and plot wavefunction approaching classical limit\n",
    "plt.figure(figsize=(7,3))\n",
    "plt.plot(x_points, large_nval)\n",
    "plt.xlabel(\"L\", fontsize=20)\n",
    "plt.ylabel(\"$\\Psi^2$\", fontsize=20)\n",
    "plt.title(\"n=\"+str(n), fontsize=16)\n",
    "plt.tight_layout()\n",
    "plt.grid()"
   ]
  },
  {
   "cell_type": "markdown",
   "metadata": {},
   "source": [
    "### 1.3.2 - 3D PIB"
   ]
  },
  {
   "cell_type": "markdown",
   "metadata": {},
   "source": [
    "We can extend the properties of the 1D PIB to form the simplest QM model -- a particle in a 3D box. In this model, the particle is confined to lie in a box with sides of length $a$, $b$, $c$. \n",
    "\n",
    "The expression for the Hamiltonian of a particle in 3D is\n",
    "\\begin{align}\\label{eq:3d_hamil}\n",
    "\\hat{H} &= -\\frac{\\hbar^2}{2m} \\left(\\frac{\\partial^2}{\\partial x^2} + \n",
    "                                    \\frac{\\partial^2}{\\partial y^2} +\n",
    "                                    \\frac{\\partial^2}{\\partial z^2} \\right) +\n",
    "          V(x,y,z) \\nonumber \\\\ \n",
    "        &= -\\frac{\\hbar^2}{2m} \\nabla^2 + V(x,y,z) \\ \\ \\ \\ \\ \\ \\ \\ \\nabla \\equiv nabla\n",
    "\\end{align}\n",
    "\n",
    "in which we also account for the two new dimensions in the limits of the potential energy operator\n",
    "\n",
    "\\begin{equation}\\label{eq:pib_pot_3d}\n",
    "V(x,y,z)=\n",
    "\\begin{cases} \n",
    "0    & 0 \\leq x \\leq a, \\ \n",
    "       0 \\leq y \\leq b, \\ \n",
    "       0 \\leq z \\leq c  \\\\\n",
    "\\infty & otherwise \n",
    "\\end{cases}\n",
    "\\end{equation}\n",
    "\n",
    "Within the box, the potential is zero, in which case the Hamiltonian can be separated into a sum of three terms that each depend on a different coordinate in $(x,y,z)$.\n",
    "\n",
    "\\begin{equation*}\\label{eq:hamiltonian}\n",
    "\\hat{H} = \\hat{H}_x + \\hat{H}_y + \\hat{H}_z\n",
    "\\end{equation*}\n",
    "\n",
    "For this Hamiltonian, because it is \\textit{additively} separable into three parts, the wavefunction must be a \\textit{product} of three functions, each also depending on different coordinate in $(x,y,z)$.\n",
    "\n",
    "\\begin{equation*}\\label{eq:sep_wfn}\n",
    "\\Psi(x,y,z) = \\Psi_x(x) \\Psi_y(y) \\Psi_z(z) = X(x) Y(y) Z(z)\n",
    "\\end{equation*}\n",
    "\n",
    "We use this \\textbf{method of separation of variables} to solve the Schrödinger equation. What we see in the case of the 3D PIB is that the wavefunctions are products of 1D wavefunctions and the corresponding energies are sums of 1D energies\n",
    "\n",
    "\\begin{equation}\\label{eq:3d_wfn}\n",
    "\\Psi_{n_x n_y n_z} (x,y,z) = \\sqrt{\\frac{8}{abc}} \\sin{\\frac{n_x \\pi x}{a}} \\sin{\\frac{n_y \\pi y}{b}} \\sin{\\frac{n_z \\pi z}{c}}\n",
    "\\end{equation}\n",
    "\n",
    "\\begin{equation}\\label{eq:3d_en}\n",
    "E_{n_x n_y n_z} = \\frac{h^2}{8m} \\left(\\frac{n_x^2}{a^2} + \\frac{n_y^2}{b^2} + \\frac{n_z^2}{c^2} \\right)\n",
    "\\ \\ \\ \\ \\ \\ \\ \\\n",
    "(n_x; n_y; n_z) = 1, 2, 3, \\cdots\n",
    "\\end{equation}"
   ]
  },
  {
   "cell_type": "markdown",
   "metadata": {},
   "source": [
    "#### Example 2. Explore degeneracy in the 3D PIB wavefunction for a particle in a cube ($a=b=c$)"
   ]
  },
  {
   "cell_type": "markdown",
   "metadata": {},
   "source": [
    "A 3D particle in a cube is a model in which the 3D PIB side lengths are equal, $a=b=c$. We will look at how certain combinations of quantum numbers $(n_x,n_y,n_z)$ correspond to \\textbf{degenerate} states -- states with the same energy."
   ]
  },
  {
   "cell_type": "code",
   "execution_count": null,
   "metadata": {},
   "outputs": [],
   "source": [
    "# Define function to calculate 2D square energies (Ha) for sidelengths a (Bohr), quantum numbers {n_x, n_y}\n",
    "def twod_en(nx,ny,a):\n",
    "    return (nx**2 + ny**2) / (8*a**2)\n",
    "print(twod_en(1,2,10))\n",
    "\n",
    "def twod_wfn(nx,ny,a,x,y):\n",
    "    return np.sqrt(4/a**2) * np.sin(nx*np.pi*x/a) * np.sin(ny*np.pi*y/a)\n",
    "\n",
    "nx = 1                                  # PIB quantum numbers\n",
    "ny = 1\n",
    "\n",
    "a  = 10                                 # Square sidelength dimension\n",
    "n_points = 100                          # number of points used for the plot\n",
    "x_points = np.linspace(0,a,n_points)    # create array of x_values\n",
    "y_points = np.linspace(0,a,n_points)    # create array of y_values\n",
    "X, Y = np.meshgrid(x_points, y_points)\n",
    "\n",
    "fig = plt.figure()\n",
    "ax = Axes3D(fig)\n",
    "ax.plot_surface(X, Y, twod_wfn(nx,ny,a,X,Y), rstride=1, cstride=1,cmap=cm.winter)\n",
    "ax.set_xlabel(’x’)\n",
    "ax.set_ylabel(’y’)\n",
    "ax.set_zlabel(’z’)\n",
    "plt.title(\"Particle in 2D square\",fontsize=16)\n",
    "plt.show()"
   ]
  },
  {
   "cell_type": "markdown",
   "metadata": {},
   "source": [
    "### 1.4 Expectation values of the PIB model "
   ]
  },
  {
   "cell_type": "markdown",
   "metadata": {},
   "source": [
    "Remember that we can use the probability distribution $\\Psi^*_n(x) \\Psi_n(x)$ to calculate the average of physical quantities. The average quantity of any observable is known as that property's \\textbf{expectation value}. The expectation value of the observable is given by:\n",
    "\n",
    "\\begin{equation}\\label{eq:avg}\n",
    "\\langle a \\rangle = \\int_{-\\infty}^{\\infty} \\Psi^*_n(x) \\hat{A} \\Psi_n(x) dx\n",
    "\\end{equation}\n",
    "\n",
    "Recall the QM position and momentum operators that correspond to their respective classic observable counterparts:\n",
    "\n",
    "\\begin{equation*}\n",
    "\\hat{x} = x\n",
    "\\ \\ \\ \\ \\ \\ \\ \\ \\ \\ \\ \\\n",
    "\\hat{p_x} = -i \\hbar \\frac{d}{dx}\n",
    "\\end{equation*}\n",
    "\n",
    "We can apply these operators to our PIB wavefunctions"
   ]
  },
  {
   "cell_type": "markdown",
   "metadata": {},
   "source": [
    "#### 1.4.1 Average position "
   ]
  },
  {
   "cell_type": "markdown",
   "metadata": {},
   "source": [
    "For the average position, we can evaluate Eq. \\ref{eq:avg} with $\\hat{A}=\\hat{x}$:\n",
    "\n",
    "\\begin{align}\\label{eq:avg_pos}\n",
    "\\langle x \\rangle &= \\int_{-\\infty}^{\\infty} \\Psi^*_n(x) \\hat{x} \\Psi_n(x) dx \\nonumber \\\\\n",
    "                  &= \\int_{-\\infty}^{\\infty} \\Psi^*_n(x) x \\Psi_n(x) dx \n",
    "\\end{align}"
   ]
  },
  {
   "cell_type": "markdown",
   "metadata": {},
   "source": [
    "### 1.5 Particle in a finite box"
   ]
  },
  {
   "cell_type": "markdown",
   "metadata": {},
   "source": [
    "Particle in the box is a generic model in quantum mechnics, and it give a basic idea that the Hamiltonian can be expressed as $\\hat{H} = \\hat{K}_x + V(x)$, where the $\\hat{K}_x$ is the kinetic operator, and V(x) represents the potential energy in the system, and in our pervious examples, the potential within the box is zero otherwise, it would be infinite. The origin of potential is upon our choice, in order to apply symmetricity, in this case the center of the box is defined as the origin, and the potential can be expressed symbolically as:  <br />  \\begin{equation} V(x)=\n",
    "\\begin{cases} \n",
    "\\infty & x \\leq -\\frac{L}{2} \\\\\n",
    "0    & -\\frac{L}{2} < x \\leq \\frac{L}{2} \\\\\n",
    "\\infty & x > \\frac{L}{2} \n",
    "\\end{cases}\n",
    "\\end{equation}"
   ]
  },
  {
   "cell_type": "code",
   "execution_count": null,
   "metadata": {},
   "outputs": [],
   "source": [
    "#import modules\n",
    "import matplotlib.pyplot as plt\n",
    "import numpy as np\n",
    "import matplotlib"
   ]
  },
  {
   "cell_type": "markdown",
   "metadata": {},
   "source": [
    "Now specify the length of box"
   ]
  },
  {
   "cell_type": "code",
   "execution_count": null,
   "metadata": {},
   "outputs": [],
   "source": [
    "#input the length of box\n",
    "L = 10"
   ]
  },
  {
   "cell_type": "markdown",
   "metadata": {},
   "source": [
    "With the given length, the potential of infinite square well would be: "
   ]
  },
  {
   "cell_type": "code",
   "execution_count": null,
   "metadata": {},
   "outputs": [],
   "source": [
    "a = L * .5\n",
    "n_points = 100\n",
    "fig, ax = plt.subplots()\n",
    "ax.axvline(-a, 0, 10,)\n",
    "ax.axvline(a, 0, 10,)\n",
    "ax.set_xticks([-L, -L/2, 0, L/2, L])\n",
    "ax.set_yticks([])\n",
    "ax.set_ylim(0,1)\n",
    "ax.set_xlim(-L,L)\n",
    "ax.set_xlabel('distence from center of box')\n",
    "ax.set_ylabel('Energy')\n",
    "ax.set_title('The potential for the infinite square well')\n",
    "y_points_bot = np.zeros(n_points)\n",
    "y_points_top = np.ones(n_points)\n",
    "x_points_left = np.linspace(-L,-L/2,n_points)\n",
    "x_points_right = - x_points_left\n",
    "ax.fill_between(x_points_left, y_points_top, y_points_bot, facecolor = 'blue', alpha = .5)\n",
    "ax.fill_between(x_points_right, y_points_top, y_points_bot, facecolor = 'blue', alpha = .5)"
   ]
  },
  {
   "cell_type": "markdown",
   "metadata": {},
   "source": [
    "The shadow area indicates infinte potential, and they are called as forbidden region, and the white area is the allowed region, and in the case of infinite square well, the wavefunction is nonzero if and only if it is in the allowed region.\n",
    "\n",
    "The infinite square well is an easy model. However, in our daily life, an infinite potential is almost impossible. Thus, the application of our crude model onto some realistic situation is important for a chemistry student. Here, we would introduce the finite square well. Similar to our previous case, the potential in our box is zero, but when x is outside the box, there would be a finite potential. Here we can express our new potential symbolically and graphically: <br />  \\begin{equation} V(x)=\n",
    "\\begin{cases} \n",
    "V_0 & x \\leq -\\frac{L}{2} \\\\\n",
    "0    & -\\frac{L}{2} < x \\leq \\frac{L}{2} \\\\\n",
    "V_0 & x > \\frac{L}{2} \n",
    "\\end{cases}\n",
    "\\end{equation} \n",
    "\n",
    "\n"
   ]
  },
  {
   "cell_type": "markdown",
   "metadata": {},
   "source": [
    "Now specify the length of box and the finite potential"
   ]
  },
  {
   "cell_type": "code",
   "execution_count": null,
   "metadata": {},
   "outputs": [],
   "source": [
    "#input the length of box\n",
    "L = 10\n",
    "V = 10"
   ]
  },
  {
   "cell_type": "markdown",
   "metadata": {},
   "source": [
    "With the given length and potential, the finite well would look like"
   ]
  },
  {
   "cell_type": "code",
   "execution_count": null,
   "metadata": {},
   "outputs": [],
   "source": [
    "a = L * .5\n",
    "n_points = 100\n",
    "fig, ax = plt.subplots()\n",
    "\n",
    "\n",
    "ax.set_xticks([-L, -L/2, 0, L/2, L])\n",
    "ax.set_yticks([0, 0.5*V, V, 1.5*V])\n",
    "ax.set_ylim(0,1.5*V)\n",
    "ax.set_xlim(-L,L)\n",
    "ax.set_xlabel('distence from center of box')\n",
    "ax.set_ylabel('Energy')\n",
    "ax.set_title('The potential for the finite square well')\n",
    "y_points_bot = np.zeros(n_points)\n",
    "y_points_top = np.ones(n_points)*V\n",
    "x_points_left = np.linspace(-L,-L/2,n_points)\n",
    "x_points_right = - x_points_left\n",
    "ax.fill_between(x_points_left, y_points_top, y_points_bot, facecolor = 'blue', alpha = .5)\n",
    "ax.fill_between(x_points_right, y_points_top, y_points_bot, facecolor = 'blue', alpha = .5)"
   ]
  },
  {
   "cell_type": "markdown",
   "metadata": {},
   "source": [
    "The potential well can be visualized as following, the wavefunction in the box was still in the form of trig function. However, there would still be wavefunction outside the box, that is <strong> even outside the box, you can still observe your particle </strong>. \n",
    "    \n",
    "In fact, for all wavefunction with finite potential, besides the continuity of itself, its first derivative would also be continuous. If we named regions in the previous graph as region 1 (x less than $-\\frac{L}{2}$), region 2 (in the box), and region 3 (x larger than $\\frac{L}{2}$), the wavefunction and its first derivative at boundary points can be obtained with both region that boundary point defines.\n",
    "    \n",
    "Based on the relative magnitude of kinetic energy(The energy in the box) and the potential energy, there would be two different behaviors of wavefunction. If the kinetic energy is larger than the potential energy, there would be no forbidden region, and the wavefunction would be trig function everwhere. On the other hand, if the kinetic energy is smaller than the potential energy, then the blue region would be the forbidden region, and in our classical model, particles can never beyond that barrier, and the state with kinetic energy smaller than the potential energy is known as bound state. In our quantum particle in the box model, the wavefunction in the forbidden region would decay exponentially, and if the energy barrier disappear somewhere, the wavefunction would back to trig function and oscillate between two values, and this phenomenon is known as tunneling. \n",
    "\n",
    "<strong>Example. Finite well: For a finite potential well:</strong> <br />\n",
    "<div style=\"text-align:center\"> V(x) = $V_0 > 0$, for $|x-\\frac{L}{2}| > L, V(x) = 0$ for $|x-\\frac{L}{2}| < L$ </div>\n"
   ]
  },
  {
   "cell_type": "markdown",
   "metadata": {},
   "source": [
    "Now, please specify the quantum number n, which determine the kinetic energy of state, V for the potential of finite well, and L for the length of box."
   ]
  },
  {
   "cell_type": "code",
   "execution_count": null,
   "metadata": {},
   "outputs": [],
   "source": [
    "#import moduoles\n",
    "import numpy as np\n",
    "from matplotlib import pyplot as plt\n",
    "import matplotlib\n",
    "import math"
   ]
  },
  {
   "cell_type": "code",
   "execution_count": null,
   "metadata": {},
   "outputs": [],
   "source": [
    "#Define constant for calculation\n",
    "n = 2        #which energy level\n",
    "V = 1        #depth of well\n",
    "L = 10       #length of well"
   ]
  },
  {
   "cell_type": "code",
   "execution_count": null,
   "metadata": {},
   "outputs": [],
   "source": [
    "if n - int(n) != 0:\n",
    "    print ('n should be integer!')\n",
    "    n = int(n)\n",
    "\n",
    "if n < 1: \n",
    "    raise Exception (\"Quantum number n should be greater than 0!\")\n",
    "\n",
    "\n",
    "\n",
    "#define constant used in calculation\n",
    "hbar = 1\n",
    "mu = 1   \n",
    "\n",
    "imax = 500 #number of steps \n",
    "xmin = - L \n",
    "xmax = 2 * L\n",
    "dx   = (xmax-xmin)/imax #step size\n",
    "x_points = np.linspace(xmin, xmax, imax)\n",
    "grid = hbar**2 / (2*mu*dx**2)   #By the T operator T = hbar^2/(2m)* d^2/dx^2"
   ]
  },
  {
   "cell_type": "markdown",
   "metadata": {},
   "source": [
    "Here we use zero potential in the box and constant potential outside the box. Try with different potentials by changing the V0 matrix."
   ]
  },
  {
   "cell_type": "code",
   "execution_count": null,
   "metadata": {},
   "outputs": [],
   "source": [
    "#Generate potential matrix\n",
    "V0   = np.ones(imax) * V\n",
    "nstep= int(L // dx)  #number of steps reach the well\n",
    "nleft= imax - nstep\n",
    "V0[nstep-1:nleft-1] = 0\n",
    "V0   = np.diag(V0)   #The V0 operator should be a diagonal matrix in this case\n",
    "\n",
    "\n",
    "####################################################################################################\n",
    "#Uncomment this part if you want to modify potential, here we have a linear potential as an example#\n",
    "#nstep = int(L // dx)                                                                              #\n",
    "#nleft = imax - nstep                                                                              #\n",
    "#V0 = np.linspace(0, 3, imax)                                                                      #\n",
    "#V0[nstep-1:nleft-1] = 0                                                                           #\n",
    "#V0 = np.diag(V0)                                                                                  #\n",
    "####################################################################################################\n",
    "\n"
   ]
  },
  {
   "cell_type": "code",
   "execution_count": null,
   "metadata": {},
   "outputs": [],
   "source": [
    "#Generate kinetic matrix\n",
    "T    = np.zeros((imax, imax))\n",
    "for i in range(imax):\n",
    "    for j in range(imax):\n",
    "        if i != j:\n",
    "            T[i,j] = grid*((-1)**(i-j))*2/((i-j)**2)\n",
    "        T[i,i] = grid*(np.pi**2)/3.0\n",
    "\n",
    "#Generate Hamiltonian \n",
    "H = T + V0\n",
    "\n",
    "#Solve the eigensystem\n",
    "(val, vec) = np.linalg.eig(H)   #val is the eigenenergy and vec is the eigenvector\n",
    "\n",
    "#Normalization\n",
    "N = 0\n",
    "for i in range(imax):\n",
    "    N = N + np.conj(vec[i,1])*vec[i,1]*dx   #we use the approximation that for large imax, delta x almost be dx\n",
    "    \n",
    "vec = vec*N**(-.5)                          #By the integral Integrate[N*vec*dagger(vec) = 1]"
   ]
  },
  {
   "cell_type": "code",
   "execution_count": null,
   "metadata": {},
   "outputs": [],
   "source": [
    "scale = .4  #scale of wavefunction, feel free to adjust this\n",
    "fig, ax = plt.subplots()\n",
    "ax.plot(x_points, V0, 'b')     #Plot potential\n",
    "val_ordered = np.sort(val)     #Order eigenenergies by their magnitude\n",
    "index = np.where(val == val_ordered[n-1])  #determine which wavefunction should be used\n",
    "ax.plot(x_points, val[index]*np.ones(imax), 'r') #Plot eigenenergy\n",
    "wvf = np.real(vec[:, index])\n",
    "ax.plot(x_points, (wvf[:,0,0])*scale+ val[index], 'g') #Plot wavefunction around its eigenenergy\n",
    "\n",
    "\n",
    "ax.set_xlabel('Position (Bohr)')\n",
    "ax.set_ylabel('Energy (Hartree)')\n",
    "ax.set_title('Particle in a finite box and its wavefunction')\n"
   ]
  },
  {
   "cell_type": "markdown",
   "metadata": {},
   "source": [
    "Try with different energy state and different potential, you might find some wavefunction would die out and some won't. Consider what happened when wavefunction die out. (Hint: Try to solve the Schrodinger equation and Euler formula $e^{ikx} = cos(x) + isin(x)$ might be helpful)"
   ]
  },
  {
   "cell_type": "markdown",
   "metadata": {},
   "source": [
    "## <span style=\"color:blue\">2. Exercises</span>"
   ]
  },
  {
   "cell_type": "markdown",
   "metadata": {},
   "source": [
    "### 2.1. Exercise 1. "
   ]
  }
 ],
 "metadata": {
  "kernelspec": {
   "display_name": "Python 3",
   "language": "python",
   "name": "python3"
  },
  "language_info": {
   "codemirror_mode": {
    "name": "ipython",
    "version": 3
   },
   "file_extension": ".py",
   "mimetype": "text/x-python",
   "name": "python",
   "nbconvert_exporter": "python",
   "pygments_lexer": "ipython3",
   "version": "3.6.9"
  },
  "latex_envs": {
   "LaTeX_envs_menu_present": true,
   "autoclose": false,
   "autocomplete": true,
   "bibliofile": "biblio.bib",
   "cite_by": "apalike",
   "current_citInitial": 1,
   "eqLabelWithNumbers": true,
   "eqNumInitial": 1,
   "hotkeys": {
    "equation": "Ctrl-E",
    "itemize": "Ctrl-I"
   },
   "labels_anchors": false,
   "latex_user_defs": false,
   "report_style_numbering": false,
   "user_envs_cfg": false
  }
 },
 "nbformat": 4,
 "nbformat_minor": 4
}
