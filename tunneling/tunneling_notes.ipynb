{
 "cells": [
  {
   "cell_type": "markdown",
   "id": "f1a286f4",
   "metadata": {},
   "source": [
    "## The Problem"
   ]
  },
  {
   "cell_type": "code",
   "execution_count": 3,
   "id": "c91eef30",
   "metadata": {},
   "outputs": [],
   "source": [
    "# Importing Python Modules\n",
    "\n",
    "import numpy as np\n",
    "from matplotlib import pyplot as plt\n",
    "import matplotlib\n",
    "import math"
   ]
  },
  {
   "cell_type": "code",
   "execution_count": 3,
   "id": "f9bea19d",
   "metadata": {},
   "outputs": [],
   "source": [
    "# Defining constants of the problem\n",
    "\n",
    "## Length of the Barrier\n",
    "L = 1"
   ]
  },
  {
   "cell_type": "code",
   "execution_count": 27,
   "id": "8e6be30f",
   "metadata": {},
   "outputs": [
    {
     "data": {
      "text/plain": [
       "<matplotlib.collections.PolyCollection at 0x7f8a69bfe100>"
      ]
     },
     "execution_count": 27,
     "metadata": {},
     "output_type": "execute_result"
    },
    {
     "data": {
      "image/png": "[encoded data removed]",
      "text/plain": [
       "<Figure size 432x288 with 1 Axes>"
      ]
     },
     "metadata": {
      "needs_background": "light"
     },
     "output_type": "display_data"
    }
   ],
   "source": [
    "a = L\n",
    "n_points = 100\n",
    "fig, ax = plt.subplots()\n",
    "\n",
    "ax.axvline(0, 0, 10,)\n",
    "ax.axvline(a, 0, 10,)\n",
    "ax.set_xticks([-L, -L/2, 0, L/2, L, 3*L/2])\n",
    "ax.set_yticks([])\n",
    "ax.set_ylim(0,1)\n",
    "ax.set_xlim(-L/2,3*L/2)\n",
    "ax.set_xlabel('X')\n",
    "ax.set_ylabel('Energy')\n",
    "ax.set_title('The Potential Energy Barrier')\n",
    "\n",
    "y_points_bot = np.zeros(n_points)\n",
    "y_points_top = np.ones(n_points)\n",
    "x_points = np.linspace(0,L,n_points)\n",
    "ax.fill_between(x_points, y_points_top, y_points_bot, facecolor = 'blue', alpha = .2)\n",
    "ax.fill_between(x_points, y_points_top, y_points_bot, facecolor = 'blue', alpha = .2)"
   ]
  },
  {
   "cell_type": "code",
   "execution_count": 23,
   "id": "cb646c09",
   "metadata": {},
   "outputs": [],
   "source": [
    "# Define function to calculate PIB wavefunction for a specified box dimension L, quantum number n, and position x\n",
    "\n",
    "def tunneling_wfn(E, V0, L, x):\n",
    "    m = 1\n",
    "    hbar = 1\n",
    "    \n",
    "    A = 1\n",
    "    B = 1\n",
    "    C = 1\n",
    "    F = 1\n",
    "    \n",
    "    k = np.sqrt(2 * m * E / hbar**2)\n",
    "    K = np.sqrt(2 * m * (V0 - E) / hbar**2)\n",
    "    \n",
    "    def left_wfn(x_):\n",
    "        return A * np.e**(1.0j*k*x_) + B * np.e**(-1.0j*k*x_)\n",
    "    \n",
    "    def right_wfn(x_):\n",
    "        return C * np.e**(1.0j*k*x_)\n",
    "        \n",
    "    def barrier_wfn(x_):\n",
    "        return F * np.e**(-K*x_)\n",
    "    \n",
    "    return np.piecewise(x, [x <= 0, ((x > 0) & (x < L)), x >= L], [lambda x : left_wfn(x), lambda x : barrier_wfn(x), lambda x : right_wfn(x)])\n"
   ]
  },
  {
   "cell_type": "code",
   "execution_count": 24,
   "id": "1ca49020",
   "metadata": {},
   "outputs": [
    {
     "data": {
      "text/plain": [
       "array(0.60653066)"
      ]
     },
     "execution_count": 24,
     "metadata": {},
     "output_type": "execute_result"
    }
   ],
   "source": [
    "tunneling_wfn(0.5, 1, 1, 0.5)"
   ]
  },
  {
   "cell_type": "code",
   "execution_count": 32,
   "id": "bbcc4143",
   "metadata": {},
   "outputs": [],
   "source": [
    "L = 1.0\n",
    "V0 = 1.0\n",
    "\n",
    "i_max = 500 #number of steps \n",
    "x_min = - L \n",
    "x_max = 2 * L\n",
    "dx   = (x_max-x_min)/i_max #step size\n",
    "x_points = np.linspace(x_min, x_max, i_max)"
   ]
  },
  {
   "cell_type": "code",
   "execution_count": 29,
   "id": "48717aff",
   "metadata": {},
   "outputs": [],
   "source": [
    "testing_psi = tunneling_wfn(0.5, 1.0, 1.0, x_points)"
   ]
  },
  {
   "cell_type": "code",
   "execution_count": null,
   "id": "ee92e663",
   "metadata": {},
   "outputs": [],
   "source": [
    "a = L\n",
    "n_points = 100\n",
    "fig, ax = plt.subplots()\n",
    "\n",
    "ax.axvline(0, 0, 10,)\n",
    "ax.axvline(a, 0, 10,)\n",
    "ax.set_xticks([-L, -L/2, 0, L/2, L, 3*L/2])\n",
    "ax.set_yticks([])\n",
    "ax.set_ylim(0,1)\n",
    "ax.set_xlim(-L/2,3*L/2)\n",
    "ax.set_xlabel('X')\n",
    "ax.set_ylabel('Energy')\n",
    "ax.set_title('The Potential Energy Barrier')\n",
    "\n",
    "y_points_bot = np.zeros(n_points)\n",
    "y_points_top = np.ones(n_points)\n",
    "x_points = np.linspace(0,L,n_points)\n",
    "ax.fill_between(x_points, y_points_top, y_points_bot, facecolor = 'blue', alpha = .2)\n",
    "ax.fill_between(x_points, y_points_top, y_points_bot, facecolor = 'blue', alpha = .2)"
   ]
  },
  {
   "cell_type": "code",
   "execution_count": 33,
   "id": "612b3345",
   "metadata": {},
   "outputs": [
    {
     "ename": "ValueError",
     "evalue": "x and y must have same first dimension, but have shapes (500,) and (1,)",
     "output_type": "error",
     "traceback": [
      "\u001b[0;31m---------------------------------------------------------------------------\u001b[0m",
      "\u001b[0;31mValueError\u001b[0m                                Traceback (most recent call last)",
      "\u001b[0;32m<ipython-input-33-2026dedb54e2>\u001b[0m in \u001b[0;36m<module>\u001b[0;34m\u001b[0m\n\u001b[1;32m      1\u001b[0m \u001b[0mscale\u001b[0m \u001b[0;34m=\u001b[0m \u001b[0;36m.4\u001b[0m  \u001b[0;31m#scale of wavefunction, feel free to adjust this\u001b[0m\u001b[0;34m\u001b[0m\u001b[0;34m\u001b[0m\u001b[0m\n\u001b[1;32m      2\u001b[0m \u001b[0mfig\u001b[0m\u001b[0;34m,\u001b[0m \u001b[0max\u001b[0m \u001b[0;34m=\u001b[0m \u001b[0mplt\u001b[0m\u001b[0;34m.\u001b[0m\u001b[0msubplots\u001b[0m\u001b[0;34m(\u001b[0m\u001b[0;34m)\u001b[0m\u001b[0;34m\u001b[0m\u001b[0;34m\u001b[0m\u001b[0m\n\u001b[0;32m----> 3\u001b[0;31m \u001b[0max\u001b[0m\u001b[0;34m.\u001b[0m\u001b[0mplot\u001b[0m\u001b[0;34m(\u001b[0m\u001b[0mx_points\u001b[0m\u001b[0;34m,\u001b[0m \u001b[0mV0\u001b[0m\u001b[0;34m,\u001b[0m \u001b[0;34m'b'\u001b[0m\u001b[0;34m)\u001b[0m     \u001b[0;31m#Plot potential\u001b[0m\u001b[0;34m\u001b[0m\u001b[0;34m\u001b[0m\u001b[0m\n\u001b[0m\u001b[1;32m      4\u001b[0m \u001b[0;34m\u001b[0m\u001b[0m\n\u001b[1;32m      5\u001b[0m \u001b[0mval_ordered\u001b[0m \u001b[0;34m=\u001b[0m \u001b[0mnp\u001b[0m\u001b[0;34m.\u001b[0m\u001b[0msort\u001b[0m\u001b[0;34m(\u001b[0m\u001b[0mval\u001b[0m\u001b[0;34m)\u001b[0m     \u001b[0;31m#Order eigenenergies by their magnitude\u001b[0m\u001b[0;34m\u001b[0m\u001b[0;34m\u001b[0m\u001b[0m\n",
      "\u001b[0;32m/usr/local/anaconda3/lib/python3.8/site-packages/matplotlib/axes/_axes.py\u001b[0m in \u001b[0;36mplot\u001b[0;34m(self, scalex, scaley, data, *args, **kwargs)\u001b[0m\n\u001b[1;32m   1741\u001b[0m         \"\"\"\n\u001b[1;32m   1742\u001b[0m         \u001b[0mkwargs\u001b[0m \u001b[0;34m=\u001b[0m \u001b[0mcbook\u001b[0m\u001b[0;34m.\u001b[0m\u001b[0mnormalize_kwargs\u001b[0m\u001b[0;34m(\u001b[0m\u001b[0mkwargs\u001b[0m\u001b[0;34m,\u001b[0m \u001b[0mmlines\u001b[0m\u001b[0;34m.\u001b[0m\u001b[0mLine2D\u001b[0m\u001b[0;34m)\u001b[0m\u001b[0;34m\u001b[0m\u001b[0;34m\u001b[0m\u001b[0m\n\u001b[0;32m-> 1743\u001b[0;31m         \u001b[0mlines\u001b[0m \u001b[0;34m=\u001b[0m \u001b[0;34m[\u001b[0m\u001b[0;34m*\u001b[0m\u001b[0mself\u001b[0m\u001b[0;34m.\u001b[0m\u001b[0m_get_lines\u001b[0m\u001b[0;34m(\u001b[0m\u001b[0;34m*\u001b[0m\u001b[0margs\u001b[0m\u001b[0;34m,\u001b[0m \u001b[0mdata\u001b[0m\u001b[0;34m=\u001b[0m\u001b[0mdata\u001b[0m\u001b[0;34m,\u001b[0m \u001b[0;34m**\u001b[0m\u001b[0mkwargs\u001b[0m\u001b[0;34m)\u001b[0m\u001b[0;34m]\u001b[0m\u001b[0;34m\u001b[0m\u001b[0;34m\u001b[0m\u001b[0m\n\u001b[0m\u001b[1;32m   1744\u001b[0m         \u001b[0;32mfor\u001b[0m \u001b[0mline\u001b[0m \u001b[0;32min\u001b[0m \u001b[0mlines\u001b[0m\u001b[0;34m:\u001b[0m\u001b[0;34m\u001b[0m\u001b[0;34m\u001b[0m\u001b[0m\n\u001b[1;32m   1745\u001b[0m             \u001b[0mself\u001b[0m\u001b[0;34m.\u001b[0m\u001b[0madd_line\u001b[0m\u001b[0;34m(\u001b[0m\u001b[0mline\u001b[0m\u001b[0;34m)\u001b[0m\u001b[0;34m\u001b[0m\u001b[0;34m\u001b[0m\u001b[0m\n",
      "\u001b[0;32m/usr/local/anaconda3/lib/python3.8/site-packages/matplotlib/axes/_base.py\u001b[0m in \u001b[0;36m__call__\u001b[0;34m(self, data, *args, **kwargs)\u001b[0m\n\u001b[1;32m    271\u001b[0m                 \u001b[0mthis\u001b[0m \u001b[0;34m+=\u001b[0m \u001b[0margs\u001b[0m\u001b[0;34m[\u001b[0m\u001b[0;36m0\u001b[0m\u001b[0;34m]\u001b[0m\u001b[0;34m,\u001b[0m\u001b[0;34m\u001b[0m\u001b[0;34m\u001b[0m\u001b[0m\n\u001b[1;32m    272\u001b[0m                 \u001b[0margs\u001b[0m \u001b[0;34m=\u001b[0m \u001b[0margs\u001b[0m\u001b[0;34m[\u001b[0m\u001b[0;36m1\u001b[0m\u001b[0;34m:\u001b[0m\u001b[0;34m]\u001b[0m\u001b[0;34m\u001b[0m\u001b[0;34m\u001b[0m\u001b[0m\n\u001b[0;32m--> 273\u001b[0;31m             \u001b[0;32myield\u001b[0m \u001b[0;32mfrom\u001b[0m \u001b[0mself\u001b[0m\u001b[0;34m.\u001b[0m\u001b[0m_plot_args\u001b[0m\u001b[0;34m(\u001b[0m\u001b[0mthis\u001b[0m\u001b[0;34m,\u001b[0m \u001b[0mkwargs\u001b[0m\u001b[0;34m)\u001b[0m\u001b[0;34m\u001b[0m\u001b[0;34m\u001b[0m\u001b[0m\n\u001b[0m\u001b[1;32m    274\u001b[0m \u001b[0;34m\u001b[0m\u001b[0m\n\u001b[1;32m    275\u001b[0m     \u001b[0;32mdef\u001b[0m \u001b[0mget_next_color\u001b[0m\u001b[0;34m(\u001b[0m\u001b[0mself\u001b[0m\u001b[0;34m)\u001b[0m\u001b[0;34m:\u001b[0m\u001b[0;34m\u001b[0m\u001b[0;34m\u001b[0m\u001b[0m\n",
      "\u001b[0;32m/usr/local/anaconda3/lib/python3.8/site-packages/matplotlib/axes/_base.py\u001b[0m in \u001b[0;36m_plot_args\u001b[0;34m(self, tup, kwargs)\u001b[0m\n\u001b[1;32m    397\u001b[0m \u001b[0;34m\u001b[0m\u001b[0m\n\u001b[1;32m    398\u001b[0m         \u001b[0;32mif\u001b[0m \u001b[0mx\u001b[0m\u001b[0;34m.\u001b[0m\u001b[0mshape\u001b[0m\u001b[0;34m[\u001b[0m\u001b[0;36m0\u001b[0m\u001b[0;34m]\u001b[0m \u001b[0;34m!=\u001b[0m \u001b[0my\u001b[0m\u001b[0;34m.\u001b[0m\u001b[0mshape\u001b[0m\u001b[0;34m[\u001b[0m\u001b[0;36m0\u001b[0m\u001b[0;34m]\u001b[0m\u001b[0;34m:\u001b[0m\u001b[0;34m\u001b[0m\u001b[0;34m\u001b[0m\u001b[0m\n\u001b[0;32m--> 399\u001b[0;31m             raise ValueError(f\"x and y must have same first dimension, but \"\n\u001b[0m\u001b[1;32m    400\u001b[0m                              f\"have shapes {x.shape} and {y.shape}\")\n\u001b[1;32m    401\u001b[0m         \u001b[0;32mif\u001b[0m \u001b[0mx\u001b[0m\u001b[0;34m.\u001b[0m\u001b[0mndim\u001b[0m \u001b[0;34m>\u001b[0m \u001b[0;36m2\u001b[0m \u001b[0;32mor\u001b[0m \u001b[0my\u001b[0m\u001b[0;34m.\u001b[0m\u001b[0mndim\u001b[0m \u001b[0;34m>\u001b[0m \u001b[0;36m2\u001b[0m\u001b[0;34m:\u001b[0m\u001b[0;34m\u001b[0m\u001b[0;34m\u001b[0m\u001b[0m\n",
      "\u001b[0;31mValueError\u001b[0m: x and y must have same first dimension, but have shapes (500,) and (1,)"
     ]
    },
    {
     "data": {
      "image/png": "[encoded data removed]",
      "text/plain": [
       "<Figure size 432x288 with 1 Axes>"
      ]
     },
     "metadata": {
      "needs_background": "light"
     },
     "output_type": "display_data"
    }
   ],
   "source": [
    "scale = .4  #scale of wavefunction, feel free to adjust this\n",
    "fig, ax = plt.subplots()\n",
    "ax.plot(x_points, V0, 'b')     #Plot potential\n",
    "\n",
    "val_ordered = np.sort(val)     #Order eigenenergies by their magnitude\n",
    "index = np.where(val == val_ordered[n-1])  #determine which wavefunction should be used\n",
    "\n",
    "wvf = np.real(testing_psi)\n",
    "ax.plot(x_points, (wvf[:,0,0])*scale+ val[index], 'g') #Plot wavefunction around its eigenenergy\n",
    "\n",
    "\n",
    "ax.set_xlabel('Position (Bohr)')\n",
    "ax.set_ylabel('Energy (Hartree)')\n",
    "ax.set_title('Particle in a finite box and its wavefunction')\n"
   ]
  }
 ],
 "metadata": {
  "kernelspec": {
   "display_name": "Python 3",
   "language": "python",
   "name": "python3"
  },
  "language_info": {
   "codemirror_mode": {
    "name": "ipython",
    "version": 3
   },
   "file_extension": ".py",
   "mimetype": "text/x-python",
   "name": "python",
   "nbconvert_exporter": "python",
   "pygments_lexer": "ipython3",
   "version": "3.8.8"
  }
 },
 "nbformat": 4,
 "nbformat_minor": 5
}
