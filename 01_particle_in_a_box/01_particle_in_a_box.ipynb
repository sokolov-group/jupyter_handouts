{
 "cells": [
  {
   "cell_type": "markdown",
   "metadata": {},
   "source": [
    "# <div style=\"text-align:center\">\"Handout: Particle in a Box\"</div>"
   ]
  },
  {
   "cell_type": "markdown",
   "metadata": {},
   "source": [
    "## <span style=\"color:blue\">1. Theoretical Background</span>"
   ]
  },
  {
   "cell_type": "markdown",
   "metadata": {},
   "source": [
    "### 1.1. Energy spectrum of the one-dimensional 'Particle in a Box' (1D PIB)"
   ]
  },
  {
   "cell_type": "markdown",
   "metadata": {},
   "source": [
    "The energy of a particle in a 1D box (1D PIB) is expressed as \n",
    "\n",
    "$E_{n} = \\frac{n^{2}h^{2}}{2mL^{2}}$, \n",
    "\n",
    "where n is an integer quantum number (n > 1), h is the Planck constant, m is the mass of particle, and L is the length of the box. \n",
    "\n",
    "For n = 1, the energy $E_1 = \\frac{h^{2}}{2mL^{2}}$ is called the ground-state energy (also known as unit energy) as it is the state with the lowest energy possible. Given the ground state energy, we can express energy of other eigenstates in the form of $E_n = n^{2}\\times E_1$, and the state with quantum number n > 1 is known as the (n-1)th excited state. \n",
    "\n",
    "Due to the fact that the energy of states is propotional to $n^2$, the gap between two adjcent energy levels can be expressed as $E_n - E_{n-1} = (2n -1)E_1$."
   ]
  },
  {
   "cell_type": "markdown",
   "metadata": {},
   "source": [
    "### 1.2. 1D PIB wavefunctions"
   ]
  },
  {
   "cell_type": "markdown",
   "metadata": {},
   "source": [
    "The wavefunctions of the 1D Particle in a Box have the form\n",
    "\n",
    "\\begin{equation}\\label{eq:pib_wfn}\n",
    "\\Psi_n (x) = B \\sin{\\frac{n \\pi x}{L}}\n",
    "\\ \\ \\ \\ \\ \\ \\ \\ \\ \\\n",
    "n = 1, 2, 3, \\cdots\n",
    "\\end{equation}\n",
    "\n",
    "in which $B$ is the normalization constant that ensures the probability of finding the particle in the region $0 \\leq x \\leq L$ is equal to 1.\n",
    "\n",
    "\\begin{equation}\\label{eq:normal}\n",
    "\\int_0^L \\Psi_n^{*} (x) \\Psi_n(x) dx = 1\n",
    "\\end{equation}\n",
    "\n",
    "Making sure that the $B$ constant is chosen such that the wavefunction is normalized, we arrive at the solution $B = \\sqrt{\\frac{2}{L}}$ that allows us to write the PIB wavefunction as\n",
    "\n",
    "\\begin{equation}\\label{eq:norm_pib_wfn}\n",
    "\\Psi_n (x) = \\sqrt{\\frac{2}{L}} \\sin{\\frac{n \\pi x}{L}}\n",
    "\\ \\ \\ \\ \\ \\ \\ \\ \\ \\\n",
    "n = 1, 2, 3, \\cdots\n",
    "\\end{equation}"
   ]
  },
  {
   "cell_type": "markdown",
   "metadata": {},
   "source": [
    "***\n",
    "#### Example 1. Plot the PIB wavefunction for the quantum number $n$ and box dimension $L$."
   ]
  },
  {
   "cell_type": "markdown",
   "metadata": {},
   "source": [
    "First, let's define a function that calculates the wavefunction of PIB for a specified box dimension L and quantum number n:"
   ]
  },
  {
   "cell_type": "code",
   "execution_count": null,
   "metadata": {},
   "outputs": [],
   "source": [
    "# Import Python modules\n",
    "import matplotlib.pyplot as plt\n",
    "import numpy as np\n",
    "\n",
    "# Define function to calculate PIB wavefunction for a specified box dimension L, quantum number n, and position x\n",
    "def pib_wfn(n,L,x):\n",
    "    return np.sqrt(2/L)*np.sin(n*np.pi*x/L)"
   ]
  },
  {
   "cell_type": "markdown",
   "metadata": {},
   "source": [
    "We now need to specify the quantum number n and the length of the box L"
   ]
  },
  {
   "cell_type": "code",
   "execution_count": null,
   "metadata": {},
   "outputs": [],
   "source": [
    "n = 1                                   # PIB quantum number\n",
    "L = 10                                  # PIB dimension"
   ]
  },
  {
   "cell_type": "markdown",
   "metadata": {},
   "source": [
    "We can verify that our normalization constant $B$ is correct by integrating our $\\Psi(x)$ over the space of the 1D box:"
   ]
  },
  {
   "cell_type": "code",
   "execution_count": null,
   "metadata": {},
   "outputs": [],
   "source": [
    "n_points = 1000                         # number of points used for the plot\n",
    "x_points = np.linspace(0,L,n_points)    # create an array of 1000 values linearly spaced from 0 to L\n",
    "\n",
    "# Make sure that n is integer and n > 0\n",
    "n = int(n)\n",
    "if n < 1:\n",
    "    raise Exception (\"Quantum number n should be greater than 0\")\n",
    "\n",
    "# Calculate and print probability of a particle being anywhere in a box of length L (any 'n' quantum number)\n",
    "print(\"Probability(0 <= x <= L): \" + str(np.trapz(pib_wfn(n,L,x_points)*pib_wfn(n,L,x_points), x_points)))"
   ]
  },
  {
   "cell_type": "markdown",
   "metadata": {},
   "source": [
    "Now, that we have confirmed the validity of our wavefunction, let's plot the wavefunction:"
   ]
  },
  {
   "cell_type": "code",
   "execution_count": null,
   "metadata": {},
   "outputs": [],
   "source": [
    "n_points = 1000                         # number of points used for the plot\n",
    "x_points = np.linspace(0,L,n_points)    # create array of x_values\n",
    "\n",
    "# Make sure that n is integer and n > 0\n",
    "n = int(n)\n",
    "if n < 1:\n",
    "    raise Exception (\"Quantum number n should be greater than 0\")\n",
    "\n",
    "# Evaluate wavefunction at each x\n",
    "wfn_values = pib_wfn(n, L, x_points)\n",
    "\n",
    "# Set up graph and plot\n",
    "plt.figure(figsize=(7,3))\n",
    "plt.plot(x_points, wfn_values)\n",
    "plt.xlabel(\"L\", fontsize=20)\n",
    "plt.ylabel(\"Ψ\", fontsize=20)\n",
    "plt.title(\"n=\"+str(n), fontsize=16)\n",
    "plt.tight_layout()\n",
    "plt.grid()"
   ]
  },
  {
   "cell_type": "markdown",
   "metadata": {},
   "source": [
    "Try choosing different values of $n$! What similarities and differences do they have? Notice:<br>\n",
    "(i) all of the wavefunctions are periodic <br>\n",
    "(ii) these functions resemble standing waves in vibrating string <br>\n",
    "(iii) for $n=1$, the particle is most-likely to be in the middle, contrary to classical physics <br>\n",
    "(iv) the number of nodes increases with quantum number $n$; the $n$th energy level wavefunction has $n-1$ nodes <br>\n",
    "\n",
    "Further, as $n \\rightarrow \\infty$ the Correspondence Principle states that the QM results converge to those predicted by classical mechanics. See the plot below!"
   ]
  },
  {
   "cell_type": "code",
   "execution_count": null,
   "metadata": {
    "scrolled": true
   },
   "outputs": [],
   "source": [
    "# Compute large 'n' wavefunction\n",
    "n=100\n",
    "large_nval = pib_wfn(n, L, x_points) * pib_wfn(n, L, x_points)\n",
    "\n",
    "# Set up graph and plot wavefunction approaching classical limit\n",
    "plt.figure(figsize=(7,3))\n",
    "plt.plot(x_points, large_nval)\n",
    "plt.xlabel(\"L\", fontsize=20)\n",
    "plt.ylabel(\"$\\Psi^2$\", fontsize=20)\n",
    "plt.title(\"n=\"+str(n), fontsize=16)\n",
    "plt.tight_layout()\n",
    "plt.grid()"
   ]
  },
  {
   "cell_type": "markdown",
   "metadata": {},
   "source": [
    "We can also plot 1D PIB energy diagram for several levels at the same time:"
   ]
  },
  {
   "cell_type": "code",
   "execution_count": null,
   "metadata": {
    "scrolled": false
   },
   "outputs": [],
   "source": [
    "#Import Python modules\n",
    "import matplotlib.pyplot as plt\n",
    "import numpy as np\n",
    "import matplotlib\n",
    "\n",
    "#Add title to the graph\n",
    "fig,ax = plt.subplots(figsize=(8, 10), tight_layout=True)\n",
    "\n",
    "#define x_points\n",
    "L = 1\n",
    "n_points = 100\n",
    "n_levels = 5\n",
    "x_points = np.linspace(0, L, n_points)\n",
    "gd = np.ones(n_points)\n",
    "\n",
    "#Plot energies\n",
    "for i in range(n_levels):\n",
    "    ax.plot(x_points, (i+1)**2 * gd, label = 'n = ' + str(i+1))\n",
    "    ax.plot(x_points, (np.sin((i+1)*np.pi*x_points/L)+(i+1)**2), color = 'k')\n",
    "    \n",
    "ax.set_xticks([0, L])\n",
    "ax.set_ylabel('E/E\\N{SUBSCRIPT ONE}', fontsize = 16)\n",
    "ax.set_title('Energy spectrum of the infinite square well with wavefunction', fontsize=12, fontweight= 'bold')\n",
    "\n",
    "plt.legend()\n",
    "plt.show()"
   ]
  },
  {
   "cell_type": "markdown",
   "metadata": {},
   "source": [
    "***"
   ]
  },
  {
   "cell_type": "markdown",
   "metadata": {},
   "source": [
    "### 1.3. Two-dimensional (2D) PIB"
   ]
  },
  {
   "cell_type": "markdown",
   "metadata": {},
   "source": [
    "We can extend the properties of the 1D PIB to two dimensions, i.e. particle in a 2D box. In this model, the particle is confined to lie in a box with sides of length $a$ and $b$. \n",
    "\n",
    "The expression for the Hamiltonian of a particle in 2D is\n",
    "\\begin{align}\\label{eq:2d_hamil}\n",
    "\\hat{H} &= -\\frac{\\hbar^2}{2m} \\left(\\frac{\\partial^2}{\\partial x^2} + \n",
    "                                    \\frac{\\partial^2}{\\partial y^2} \\right) +\n",
    "          V(x,y) \n",
    "\\end{align}\n",
    "\n",
    "in which we also account for the two new dimensions in the limits of the potential energy operator\n",
    "\n",
    "\\begin{equation}\\label{eq:pib_pot_3d}\n",
    "V(x,y)=\n",
    "\\begin{cases} \n",
    "0    & 0 \\leq x \\leq a, \\ \n",
    "       0 \\leq y \\leq b  \\\\\n",
    "\\infty & otherwise \n",
    "\\end{cases}\n",
    "\\end{equation}\n",
    "\n",
    "Within the box, the potential is zero, in which case the Hamiltonian can be separated into a sum of two terms that each depend on $x$ and $y$.\n",
    "\n",
    "\\begin{equation*}\\label{eq:hamiltonian}\n",
    "\\hat{H} = \\hat{H}_x + \\hat{H}_y\n",
    "\\end{equation*}\n",
    "\n",
    "For this Hamiltonian, because it is additively separable into three parts, the wavefunction must be a product of three functions, each also depending on different coordinate in $(x,y)$.\n",
    "\n",
    "\\begin{equation*}\\label{eq:sep_wfn}\n",
    "\\Psi(x,y) = \\Psi_x(x) \\Psi_y(y) = X(x) Y(y)\n",
    "\\end{equation*}\n",
    "\n",
    "We use this method of separation of variables to solve the Schrödinger equation. What we see in the case of the 2D PIB is that the wavefunctions are products of 1D wavefunctions and the corresponding energies are sums of 1D energies\n",
    "\n",
    "\\begin{equation}\\label{eq:2d_wfn}\n",
    "\\Psi_{n_x n_y} (x,y) = \\sqrt{\\frac{4}{ab}} \\sin{\\frac{n_x \\pi x}{a}} \\sin{\\frac{n_y \\pi y}{b}} \n",
    "\\end{equation}\n",
    "\n",
    "\\begin{equation}\\label{eq:2d_en}\n",
    "E_{n_x n_y} = \\frac{h^2}{8m} \\left(\\frac{n_x^2}{a^2} + \\frac{n_y^2}{b^2} \\right)\n",
    "\\ \\ \\ \\ \\ \\ \\ \\\n",
    "(n_x; n_y) = 1, 2, 3, \\cdots\n",
    "\\end{equation}"
   ]
  },
  {
   "cell_type": "markdown",
   "metadata": {},
   "source": [
    "***\n",
    "#### Example 2. Explore degeneracy in the 2D PIB wavefunction for a particle in a square ($a=b$)"
   ]
  },
  {
   "cell_type": "markdown",
   "metadata": {},
   "source": [
    "A particle in a square 2D well is a model in which the 2D PIB side lengths are equal, $a=b$. We can test how certain combinations of quantum numbers $(n_x,n_y)$ correspond to degenerate states, i.e. states with the same energy.\n",
    "\n",
    "First, we define functions for calculating the 2D PIB energies and wavefunctions."
   ]
  },
  {
   "cell_type": "code",
   "execution_count": null,
   "metadata": {},
   "outputs": [],
   "source": [
    "from mpl_toolkits.mplot3d import Axes3D\n",
    "from matplotlib import cm\n",
    "\n",
    "# Define function to calculate 2D square energies for sidelengths a, quantum numbers {n_x, n_y}\n",
    "# Note: energy is calculated in units of h^2/m, i.e. those constants are not included in the energy expression\n",
    "def twod_en(nx,ny,a):\n",
    "    return (nx**2 + ny**2) / (8*a**2)\n",
    "\n",
    "def twod_wfn(nx,ny,a,x,y):\n",
    "    return np.sqrt(4/a**2) * np.sin(nx*np.pi*x/a) * np.sin(ny*np.pi*y/a)"
   ]
  },
  {
   "cell_type": "markdown",
   "metadata": {},
   "source": [
    "Now, choose the quantum numbers $n_x$ and $n_y$, as well as the length of the square well ($a$) and the number of points used for the plot."
   ]
  },
  {
   "cell_type": "code",
   "execution_count": null,
   "metadata": {},
   "outputs": [],
   "source": [
    "# Choose 2D PIB quantum numbers\n",
    "nx = 1                                  # PIB quantum numbers\n",
    "ny = 1                                  # PIB quantum numbers\n",
    "a = 10                                  # Length of the square\n",
    "n_points = 100                          # number of points used for the plot"
   ]
  },
  {
   "cell_type": "markdown",
   "metadata": {},
   "source": [
    "We can calculate the 2D PIB energy and plot its wavefunction as a function of $x$ and $y$"
   ]
  },
  {
   "cell_type": "code",
   "execution_count": null,
   "metadata": {},
   "outputs": [],
   "source": [
    "if nx < 1 or ny < 1:\n",
    "    raise Exception (\"Quantum number nx or ny should be greater than 0\")\n",
    "\n",
    "# Calculate 2D PIB energy:\n",
    "print(\"2D PIB energy:\", twod_en(nx,ny,a))\n",
    "\n",
    "x_points = np.linspace(0,a,n_points)    # create array of x_values\n",
    "y_points = np.linspace(0,a,n_points)    # create array of y_values\n",
    "X, Y = np.meshgrid(x_points, y_points)\n",
    "\n",
    "# Calculate and plot 2D PIB wavefunction:\n",
    "print(\"\\n2D PIB wavefunction:\")\n",
    "fig = plt.figure()\n",
    "ax = Axes3D(fig)\n",
    "ax.plot_surface(X, Y, twod_wfn(nx,ny,a,X,Y), rstride=1, cstride=1,cmap=cm.winter)\n",
    "ax.set_xlabel('x')\n",
    "ax.set_ylabel('y')\n",
    "ax.set_zlabel('z')\n",
    "plt.title(\"Particle in 2D square wavefunction\",fontsize=16)\n",
    "plt.show()"
   ]
  },
  {
   "cell_type": "markdown",
   "metadata": {},
   "source": [
    "Finally, let's plot the 2D PIB probability density, which provides information about where it is likely to find a particle in the 2D square potential well:"
   ]
  },
  {
   "cell_type": "code",
   "execution_count": null,
   "metadata": {},
   "outputs": [],
   "source": [
    "x_points = np.linspace(0,a,n_points)    # create array of x_values\n",
    "y_points = np.linspace(0,a,n_points)    # create array of y_values\n",
    "X, Y = np.meshgrid(x_points, y_points)\n",
    "\n",
    "# Calculate and plot 2D PIB probability density:\n",
    "print(\"2D PIB probability density:\")\n",
    "fig = plt.figure()\n",
    "ax = Axes3D(fig)\n",
    "ax.plot_surface(X, Y, twod_wfn(nx,ny,a,X,Y)**2, rstride=1, cstride=1,cmap=cm.winter)\n",
    "ax.set_xlabel('x')\n",
    "ax.set_ylabel('y')\n",
    "ax.set_zlabel('z')\n",
    "plt.title(\"Particle in 2D square probability density\",fontsize=16)\n",
    "plt.show()"
   ]
  },
  {
   "cell_type": "markdown",
   "metadata": {},
   "source": [
    "***"
   ]
  },
  {
   "cell_type": "markdown",
   "metadata": {},
   "source": [
    "### 1.4. Particle in a finite 1D box"
   ]
  },
  {
   "cell_type": "markdown",
   "metadata": {},
   "source": [
    "Particle in a box is a generic model in quantum mechnics where the Hamiltonian can be expressed as $\\hat{H} = \\hat{K}_x + V(x)$. In our previous examples, the potential outside the box was chosen to be infinite. We can change the origin of the potential and express it as:  \n",
    "\n",
    "\\begin{equation} \n",
    "V(x)=\n",
    "\\begin{cases} \n",
    "\\infty & x \\leq -\\frac{L}{2} \\\\\n",
    "0    & -\\frac{L}{2} < x \\leq \\frac{L}{2} \\\\\n",
    "\\infty & x > \\frac{L}{2} \n",
    "\\end{cases}\n",
    "\\end{equation}\n",
    "\n",
    "The infinite square well is an easy model. However, a more realistic model is a modified particle in a box model where potential outside of the box is finite. Such potential can be defined as: \n",
    "\n",
    "\\begin{equation} \n",
    "V(x)=\n",
    "\\begin{cases} \n",
    "V_0 & x \\leq -\\frac{L}{2} \\\\\n",
    "0    & -\\frac{L}{2} < x \\leq \\frac{L}{2} \\\\\n",
    "V_0 & x > \\frac{L}{2} \n",
    "\\end{cases}\n",
    "\\end{equation} \n",
    "\n",
    "where $V_0$ is a positive constant"
   ]
  },
  {
   "cell_type": "markdown",
   "metadata": {},
   "source": [
    "***\n",
    "#### Example 3. Calculate and plot the wavefunction of the 1D PIB model with a finite potential"
   ]
  },
  {
   "cell_type": "markdown",
   "metadata": {},
   "source": [
    "First, specify the length of box ($L$), value of the finite potential outside the box ($V$), and quantum number $n$"
   ]
  },
  {
   "cell_type": "code",
   "execution_count": null,
   "metadata": {},
   "outputs": [],
   "source": [
    "# Input the length of box (L), potential (V), quantum number (n), and the number of points used for the plot\n",
    "L = 10\n",
    "V = 1\n",
    "n = 1\n",
    "n_points = 100"
   ]
  },
  {
   "cell_type": "markdown",
   "metadata": {},
   "source": [
    "With the given length and potential, the finite well would look like this:"
   ]
  },
  {
   "cell_type": "code",
   "execution_count": null,
   "metadata": {},
   "outputs": [],
   "source": [
    "#import modules\n",
    "import numpy as np\n",
    "from matplotlib import pyplot as plt\n",
    "import matplotlib\n",
    "import math\n",
    "\n",
    "a = L * .5\n",
    "fig, ax = plt.subplots()\n",
    "ax.set_xticks([-L, -L/2, 0, L/2, L])\n",
    "ax.set_yticks([0, 0.5*V, V, 1.5*V])\n",
    "ax.set_ylim(0,1.5*V)\n",
    "ax.set_xlim(-L,L)\n",
    "ax.set_xlabel('distence from center of box')\n",
    "ax.set_ylabel('Energy')\n",
    "ax.set_title('The potential for the finite square well')\n",
    "y_points_bot = np.zeros(n_points)\n",
    "y_points_top = np.ones(n_points)*V\n",
    "x_points_left = np.linspace(-L,-L/2,n_points)\n",
    "x_points_right = - x_points_left\n",
    "ax.fill_between(x_points_left, y_points_top, y_points_bot, facecolor = 'blue', alpha = .5)\n",
    "ax.fill_between(x_points_right, y_points_top, y_points_bot, facecolor = 'blue', alpha = .5)"
   ]
  },
  {
   "cell_type": "markdown",
   "metadata": {},
   "source": [
    "Now, let's numerically solve the Schrodinger equation and plot the wavefunction for the finite-well potential defined above"
   ]
  },
  {
   "cell_type": "code",
   "execution_count": null,
   "metadata": {},
   "outputs": [],
   "source": [
    "if n - int(n) != 0:\n",
    "    print ('n should be integer!')\n",
    "    n = int(n)\n",
    "\n",
    "if n < 1: \n",
    "    raise Exception (\"Quantum number n should be greater than 0!\")\n",
    "\n",
    "# Define physical constants used in the calculation. Constants can be omitted by setting variables to 1\n",
    "hbar = 1\n",
    "mu = 1   \n",
    "\n",
    "# Number of points\n",
    "imax = 500\n",
    "\n",
    "xmin = - L \n",
    "xmax = 2 * L\n",
    "\n",
    "# Determine step size\n",
    "dx   = (xmax-xmin)/imax \n",
    "x_points = np.linspace(xmin, xmax, imax)\n",
    "\n",
    "# Define the potential used in the calculation. Below is a definition of the standard finite-well potential\n",
    "# Set all points in the potential equal to V\n",
    "V0    = np.ones(imax) * V\n",
    "# Determine how many points correspond to the potential well\n",
    "nstep = int(L // dx)\n",
    "nleft = imax - nstep\n",
    "# Set potential inside the well to 0\n",
    "V0[nstep-1:nleft-1] = 0\n",
    "# The potential operator is represented as a diagonal matrix\n",
    "V0    = np.diag(V0)   \n",
    "\n",
    "#######################################################################################################\n",
    "# Other potentials can be used in this example. Try a different potential by uncommenting code below: #\n",
    "#nstep = int(L // dx)                                                                                 #\n",
    "#nleft = imax - nstep                                                                                 #\n",
    "#V0 = np.linspace(0, 3, imax)                                                                         #\n",
    "#V0[nstep-1:nleft-1] = 0                                                                              #\n",
    "#V0 = np.diag(V0)                                                                                     #\n",
    "#######################################################################################################\n",
    "\n",
    "# Define the matrix of the kinetic energy operator T = hbar^2/(2m)* d^2/dx^2\n",
    "grid = hbar**2 / (2*mu*dx**2)\n",
    "T    = np.zeros((imax, imax))\n",
    "for i in range(imax):\n",
    "    for j in range(imax):\n",
    "        if i != j:\n",
    "            T[i,j] = grid*((-1)**(i-j))*2/((i-j)**2)\n",
    "        T[i,i] = grid*(np.pi**2)/3.0\n",
    "\n",
    "# Define the Hamiltonian \n",
    "H = T + V0\n",
    "\n",
    "# Solve the Schrodinger equation by diagonalizing the Hamiltonian\n",
    "val, vec = np.linalg.eig(H)\n",
    "\n",
    "# Normalize the wavefunction\n",
    "N = 0\n",
    "for i in range(imax):\n",
    "    # Here, we use the approximation that for large imax, delta x will be equal to dx\n",
    "    N = N + np.conj(vec[i,1])*vec[i,1]*dx   \n",
    "    \n",
    "vec = vec*N**(-.5)                          \n",
    "\n",
    "# Scale the wavefunction for plotting purposes\n",
    "scale = 1.0\n",
    "\n",
    "# Plot the wavefunction and the potential\n",
    "fig, ax = plt.subplots()\n",
    "# Plot the potential\n",
    "ax.plot(x_points, V0, 'b')     \n",
    "# Order energies by their magnitude\n",
    "val_ordered = np.sort(val)\n",
    "# Determine which wavefunction should be used for the plot\n",
    "index = np.where(val == val_ordered[n-1])  \n",
    "# Plot the energy as a horizontal line\n",
    "ax.plot(x_points, val[index]*np.ones(imax), 'r')\n",
    "wvf = np.real(vec[:, index])\n",
    "# Plot the wavefunction around its energy\n",
    "ax.plot(x_points, (wvf[:,0,0])*scale+ val[index], 'g') \n",
    "\n",
    "ax.set_xlabel('Position (Bohr)')\n",
    "ax.set_ylabel('Energy (Hartree)')\n",
    "ax.set_title('Particle in a finite box and its wavefunction')"
   ]
  },
  {
   "cell_type": "markdown",
   "metadata": {},
   "source": [
    "***"
   ]
  }
 ],
 "metadata": {
  "kernelspec": {
   "display_name": "Python 3",
   "language": "python",
   "name": "python3"
  },
  "language_info": {
   "codemirror_mode": {
    "name": "ipython",
    "version": 3
   },
   "file_extension": ".py",
   "mimetype": "text/x-python",
   "name": "python",
   "nbconvert_exporter": "python",
   "pygments_lexer": "ipython3",
   "version": "3.7.7"
  },
  "latex_envs": {
   "LaTeX_envs_menu_present": true,
   "autoclose": false,
   "autocomplete": true,
   "bibliofile": "biblio.bib",
   "cite_by": "apalike",
   "current_citInitial": 1,
   "eqLabelWithNumbers": true,
   "eqNumInitial": 1,
   "hotkeys": {
    "equation": "Ctrl-E",
    "itemize": "Ctrl-I"
   },
   "labels_anchors": false,
   "latex_user_defs": false,
   "report_style_numbering": false,
   "user_envs_cfg": false
  }
 },
 "nbformat": 4,
 "nbformat_minor": 4
}
