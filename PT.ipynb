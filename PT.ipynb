{
 "cells": [
  {
   "cell_type": "markdown",
   "metadata": {},
   "source": [
    "# <div style=\"text-align:center\">Approximation Methods</div>"
   ]
  },
  {
   "cell_type": "markdown",
   "metadata": {},
   "source": [
    "## <span style=\"color:blue\">Background</span>"
   ]
  },
  {
   "cell_type": "markdown",
   "metadata": {},
   "source": [
    "\\begin{equation}\\\n",
    "\\hat{H}\\Psi = E\\Psi\n",
    "\\ \\ \\ \\ \\ \\ \\ \\ \\ \\\n",
    "\\mathbf{\\left ( 1 \\right )}\n",
    "\\end{equation}"
   ]
  },
  {
   "cell_type": "markdown",
   "metadata": {},
   "source": [
    "So far we have solved the Schrödinger equation for model systems such as the hydrogen atom, particle in a box, harmonic oscilator, and rigid rotor. The simplicity of these model systems allowed us to obtain exact $\\Psi$ and $E$  .However, going beyond these simple models may require the use of approximate methods for when exact solutions to the Schrödinger equation cannot be obtained. The two approximate methods we will discuss in this handout are the variational method and perturbation theory."
   ]
  },
  {
   "cell_type": "markdown",
   "metadata": {},
   "source": [
    "### 1 Variational Method"
   ]
  },
  {
   "cell_type": "markdown",
   "metadata": {},
   "source": [
    "\\begin{equation}\\\n",
    "\\hat{H}\\Psi_{0} = E_{0}\\Psi_{0}\n",
    "\\ \\ \\ \\ \\ \\ \\ \\ \\ \\\n",
    "\\mathbf{\\left ( 2 \\right )}\n",
    "\\end{equation}"
   ]
  },
  {
   "cell_type": "markdown",
   "metadata": {},
   "source": [
    "The above Schrödinger equation is for an arbitrary system which has a ground-state wavefunction $\\Psi_{0}$ and energy $E_{0}$. From equation 2 we can left multiply $\\Psi_{0}$,"
   ]
  },
  {
   "cell_type": "markdown",
   "metadata": {},
   "source": [
    "\\begin{equation}\\\n",
    "\\Psi_{0}^{*}\\hat{H}\\Psi_{0} = \\Psi_{0}^{*}E_{0}\\Psi_{0}\n",
    "\\ \\ \\ \\ \\ \\ \\ \\ \\ \\\n",
    "\\mathbf{\\left ( 3 \\right )}\n",
    "\\end{equation}"
   ]
  },
  {
   "cell_type": "markdown",
   "metadata": {},
   "source": [
    "Then from equation equation 3 we can solove for the energy $E_{0}$,"
   ]
  },
  {
   "cell_type": "markdown",
   "metadata": {},
   "source": [
    "\\begin{equation}\\\n",
    "\\frac{\\Psi_{0}^{*}\\hat{H}\\Psi_{0}}{\\Psi_{0}^{*}\\Psi_{0}} = E_{0}\n",
    "\\ \\ \\ \\ \\ \\ \\ \\ \\ \\\n",
    "\\mathbf{\\left ( 4 \\right )}\n",
    "\\end{equation}"
   ]
  },
  {
   "cell_type": "markdown",
   "metadata": {},
   "source": [
    "Finally from equation 4 we can integrate over all space,"
   ]
  },
  {
   "cell_type": "markdown",
   "metadata": {},
   "source": [
    "\\begin{equation}\\\n",
    "\\frac{\\int{\\Psi_{0}^{*}\\hat{H}\\Psi_{0}\\partial \\tau}}{\\int{\\Psi_{0}^{*}\\Psi_{0}}\\partial \\tau} = E_{0}\n",
    "\\ \\ \\ \\ \\ \\ \\ \\ \\ \\\n",
    "\\mathbf{\\left ( 5 \\right )}.\n",
    "\\end{equation}"
   ]
  },
  {
   "cell_type": "markdown",
   "metadata": {},
   "source": [
    "With equation 5 in hand, we can now approximate $\\Psi_{0}$ by replacing it with a trial wavefunction $\\Phi$, "
   ]
  },
  {
   "cell_type": "markdown",
   "metadata": {},
   "source": [
    "\\begin{equation}\\\n",
    "\\frac{\\int{\\Phi^{*}\\hat{H}\\Phi\\partial \\tau}}{\\int{\\Phi^{*}\\Phi}\\partial \\tau} = E_{\\Phi}\n",
    "\\ \\ \\ \\ \\ \\ \\ \\ \\ \\\n",
    "\\mathbf{\\left ( 6 \\right )}\n",
    "\\end{equation}"
   ]
  },
  {
   "cell_type": "markdown",
   "metadata": {},
   "source": [
    "that is a function of variational parameters $\\alpha,\\beta,\\gamma,\\delta,\\ldots$  (i.e. $\\Phi{(\\alpha,\\beta,\\gamma,\\delta,\\ldots)}$), in which they are varied to minimize $E_{\\Phi}$. The variational principle says that $E_{\\Phi}$ is always an upper-bound of the exact energy $E_{0}$,"
   ]
  },
  {
   "cell_type": "markdown",
   "metadata": {},
   "source": [
    "\\begin{equation}\\\n",
    "E_{\\Phi}(\\alpha,\\beta,\\gamma,\\delta,\\ldots) \\geq E_{0}\n",
    "\\ \\ \\ \\ \\ \\ \\ \\ \\ \\\n",
    "\\mathbf{\\left ( 7 \\right )}.\n",
    "\\end{equation}"
   ]
  },
  {
   "cell_type": "markdown",
   "metadata": {},
   "source": [
    "### 1.1 Variational Method - EXAMPLE 1 Harmonic Oscilator"
   ]
  },
  {
   "cell_type": "code",
   "execution_count": null,
   "metadata": {},
   "outputs": [],
   "source": []
  },
  {
   "cell_type": "markdown",
   "metadata": {},
   "source": [
    "### 1.2 Variational Method - Example 2: Variational flexibility of trial function "
   ]
  },
  {
   "cell_type": "markdown",
   "metadata": {},
   "source": [
    "One way to obtian $\\Phi$ is to assume it is a linear combination of $N$ known functions $f_i$,"
   ]
  },
  {
   "cell_type": "markdown",
   "metadata": {},
   "source": [
    "\\begin{equation}\\\n",
    "\\Phi = \\sum_i^N c_i f_i\n",
    "\\ \\ \\ \\ \\ \\ \\ \\ \\ \\\n",
    "\\mathbf{\\left ( 8 \\right )},\n",
    "\\end{equation}"
   ]
  },
  {
   "cell_type": "markdown",
   "metadata": {},
   "source": [
    "in which $c_i$ is the $i^{\\text{th}}$ linear variational parameter. Greater variational flexibity in $\\Phi$ can be achieved by having each $f_i$ depend on addtional variational parameters $\\alpha_i,\\beta_i,\\gamma_i,\\delta_i,\\ldots$, but at the cost of having to optimize $\\Phi$ non-linearly. In this example, we will investigate how we can model the 1-D particle-in-a-box wavefunction using two kinds of $f_i$'s: Gaussian and Lorenzian functions."
   ]
  },
  {
   "cell_type": "markdown",
   "metadata": {},
   "source": [
    "\\begin{equation}\\\n",
    "\\Psi_\\text{1D-PIB}(x) = \\sqrt{\\frac{2}{L}}\\sin{\\frac{n \\pi x}{L}}\n",
    "\\ \\ \\ \\ \\ \\ \\ \\ \\ \\\n",
    "\\mathbf{\\left ( 9 \\right )},\n",
    "\\end{equation}"
   ]
  },
  {
   "cell_type": "markdown",
   "metadata": {},
   "source": [
    "\\begin{equation}\\\n",
    "\\Phi_\\text{Gaussian}(x) = \\sum_i^N c_i e^{-\\alpha_i x^2}\n",
    "\\ \\ \\ \\ \\ \\ \\ \\ \\ \\\n",
    "\\Phi_\\text{Lorentzian}(x) = \\sum_i^N c_i \\frac{\\gamma_i^2}{\\gamma_i^2 + x^2}\n",
    "\\ \\ \\ \\ \\ \\ \\ \\ \\ \\\n",
    "\\mathbf{\\left ( 10 \\right )},\n",
    "\\end{equation}"
   ]
  },
  {
   "cell_type": "markdown",
   "metadata": {},
   "source": [
    "For any quantum number $n$ in equation 9, $\\Phi_\\text{Gaussian}(x)$ and $\\Phi_\\text{Gaussian}(x)$ can be used to approximate $\\Psi_\\text{1D-PIB}(x)$ by varying the number of $f_i$'s included ($N$), how much $f_i$ contributes to $\\Phi$ ($c_i$), and the shape of $f_i$ ($\\alpha_i$ and $\\gamma_i$). "
   ]
  },
  {
   "cell_type": "code",
   "execution_count": 4,
   "metadata": {},
   "outputs": [
    {
     "name": "stdout",
     "output_type": "stream",
     "text": [
      "[exp(-alpha*x**2), exp(-alpha*x**2), exp(-alpha*x**2), exp(-alpha*x**2), exp(-alpha*x**2), exp(-alpha*x**2), exp(-alpha*x**2), exp(-alpha*x**2), exp(-alpha*x**2), exp(-alpha*x**2)]\n",
      "[sqrt(5)*Integral(exp(-alpha*x**2)*sin(0.314159265358979*x), (x, 0, 10))/5, sqrt(5)*Integral(exp(-alpha*x**2)*sin(0.314159265358979*x), (x, 0, 10))/5, sqrt(5)*Integral(exp(-alpha*x**2)*sin(0.314159265358979*x), (x, 0, 10))/5, sqrt(5)*Integral(exp(-alpha*x**2)*sin(0.314159265358979*x), (x, 0, 10))/5, sqrt(5)*Integral(exp(-alpha*x**2)*sin(0.314159265358979*x), (x, 0, 10))/5, sqrt(5)*Integral(exp(-alpha*x**2)*sin(0.314159265358979*x), (x, 0, 10))/5, sqrt(5)*Integral(exp(-alpha*x**2)*sin(0.314159265358979*x), (x, 0, 10))/5, sqrt(5)*Integral(exp(-alpha*x**2)*sin(0.314159265358979*x), (x, 0, 10))/5, sqrt(5)*Integral(exp(-alpha*x**2)*sin(0.314159265358979*x), (x, 0, 10))/5, sqrt(5)*Integral(exp(-alpha*x**2)*sin(0.314159265358979*x), (x, 0, 10))/5]\n",
      "\n"
     ]
    }
   ],
   "source": [
    "import numpy as np\n",
    "import sympy as sym \n",
    "import matplotlib.pyplot as plt\n",
    "\n",
    "# Defining symbols\n",
    "x, n, L, alpha, gamma = sym.symbols('x n L alpha gamma')\n",
    "\n",
    "# Defining 1-D particle-in-a-box wavefunction\n",
    "pi = np.pi\n",
    "psi = sym.sqrt(2/L)*sym.sin(n*pi*x/L)\n",
    "\n",
    "# Defining a Gaussian trial function\n",
    "phi_g = sym.exp(-alpha*x**2)\n",
    "\n",
    "# Defining a Lorentzian trial function\n",
    "phi_l = gamma**2/(gamma**2 + x**2)\n",
    "\n",
    "# Defining range of alpha and gamma values\n",
    "N = 10          # Number of f_i's \n",
    "alpha_min = 0.1\n",
    "alpha_max = 1\n",
    "gamma_min = 0.1\n",
    "gamma_max = 1\n",
    "\n",
    "alpha = np.linspace(alpha_min, alpha_max, N)\n",
    "gamma = np.linspace(gamma_min, gamma_max, N)\n",
    "\n",
    "# Evaluating 1D-PIB expression for user-defned n and L values\n",
    "n_eval = 1\n",
    "box_length = 10\n",
    "psi_eval = psi.subs([(n, n_eval), (L, box_length)])\n",
    "\n",
    "\n",
    "# Evaluating Gaussian and Lorentzian trial function expressions at different alpha and gamma values\n",
    "phi_g_eval = []\n",
    "for alpha_i in alpha:\n",
    "    phi_g_eval.append(phi_g.subs(alpha, alpha_i))\n",
    "    \n",
    "    \n",
    "print(phi_g_eval)\n",
    "phi_l_eval = []\n",
    "for gamma_i in gamma:\n",
    "    phi_l_eval.append(phi_l.subs(alpha, alpha_i))\n",
    "\n",
    "# Calculating c_i's for phi_g and phi_l\n",
    "c_g = []\n",
    "for phi_g_i in phi_g_eval:\n",
    "    c_g.append(sym.integrate(psi_eval*phi_g_i,(x,0,box_length)))\n",
    "    \n",
    "c_l = []\n",
    "for phi_g_i in phi_g_eval:\n",
    "    c_l.append(sym.integrate(psi_eval*phi_l_i,(x,0,box_length)))\n",
    "\n",
    "\n",
    "\n",
    "\n",
    "\n",
    "\n",
    "\n",
    "\n",
    "\n"
   ]
  },
  {
   "cell_type": "code",
   "execution_count": null,
   "metadata": {},
   "outputs": [],
   "source": []
  },
  {
   "cell_type": "markdown",
   "metadata": {},
   "source": [
    "### 1.2. Perturbation Theory"
   ]
  },
  {
   "cell_type": "code",
   "execution_count": null,
   "metadata": {},
   "outputs": [],
   "source": []
  },
  {
   "cell_type": "markdown",
   "metadata": {},
   "source": [
    "The energy of a particle in a 1D box is expressed as :<br/>\n",
    "$E_{n} = \\frac{n^{2}h^{2}}{8mL^{2}}$"
   ]
  },
  {
   "cell_type": "markdown",
   "metadata": {},
   "source": [
    "### 1.3. PIB wavefunctions"
   ]
  },
  {
   "cell_type": "markdown",
   "metadata": {},
   "source": [
    "This is a third section of this chapter. It has an interactive example as shown below"
   ]
  },
  {
   "cell_type": "markdown",
   "metadata": {},
   "source": [
    "#### Example 1. Plot the PIB wavefunction for the quantum number $n$ and box dimension $L$."
   ]
  },
  {
   "cell_type": "markdown",
   "metadata": {},
   "source": [
    "First, let's define a function that calculates the wavefunction of PIB for a specified box dimension L and quantum number n:"
   ]
  },
  {
   "cell_type": "code",
   "execution_count": null,
   "metadata": {},
   "outputs": [],
   "source": [
    "# Use comments in your code cells to make the code more readible\n",
    "# Make sure your code is clean and variables have readable names\n",
    "\n",
    "# Import Python modules\n",
    "import matplotlib.pyplot as plt\n",
    "import numpy as np\n",
    "\n",
    "# Define function to calculate PIB wavefunction for a specified box dimension L, quantum number n, and position x\n",
    "def pib_wfn(n,L,x):\n",
    "    return np.sqrt(2/L)*np.sin(n*np.pi*x/L)"
   ]
  },
  {
   "cell_type": "markdown",
   "metadata": {},
   "source": [
    "Let's define parameters of our PIB model:"
   ]
  },
  {
   "cell_type": "code",
   "execution_count": null,
   "metadata": {},
   "outputs": [],
   "source": [
    "n = 3          # PIB quantum number\n",
    "L = 10         # PIB dimension\n",
    "n_points = 100 # number of points used for the plot"
   ]
  },
  {
   "cell_type": "markdown",
   "metadata": {},
   "source": [
    "Now, let's plot the wavefunction:"
   ]
  },
  {
   "cell_type": "code",
   "execution_count": null,
   "metadata": {},
   "outputs": [],
   "source": [
    "# Make sure that n is integer and n > 0\n",
    "n = int(n)\n",
    "if n < 1:\n",
    "    raise Exception (\"Quantum number n should be greater than 0\")\n",
    "\n",
    "# Define x points\n",
    "x_points = np.linspace(0,L,n_points)\n",
    "\n",
    "# Evaluate wavefunction at each x\n",
    "wfn_values = pib_wfn(n, L, x_points)\n",
    "\n",
    "# Set up graph and plot\n",
    "plt.figure(figsize=(7,3))\n",
    "plt.plot(x_points, wfn_values)\n",
    "plt.xlabel(\"L\", fontsize=20)\n",
    "plt.ylabel(\"Ψ\", fontsize=20)\n",
    "plt.title(\"n=\"+str(n), fontsize=16)\n",
    "plt.tight_layout()\n",
    "plt.grid()\n"
   ]
  },
  {
   "cell_type": "markdown",
   "metadata": {},
   "source": [
    "Now, go back and try choosing a different value of $n$!"
   ]
  },
  {
   "cell_type": "markdown",
   "metadata": {},
   "source": [
    "### 1.4 Average position and momentum of PIB "
   ]
  },
  {
   "cell_type": "markdown",
   "metadata": {},
   "source": [
    "### 1.5 Particle in a finite box"
   ]
  },
  {
   "cell_type": "markdown",
   "metadata": {},
   "source": [
    "## <span style=\"color:blue\">2. Exercises</span>"
   ]
  },
  {
   "cell_type": "markdown",
   "metadata": {},
   "source": [
    "### 2.1. Exercise 1. "
   ]
  }
 ],
 "metadata": {
  "kernelspec": {
   "display_name": "Python 3",
   "language": "python",
   "name": "python3"
  },
  "language_info": {
   "codemirror_mode": {
    "name": "ipython",
    "version": 3
   },
   "file_extension": ".py",
   "mimetype": "text/x-python",
   "name": "python",
   "nbconvert_exporter": "python",
   "pygments_lexer": "ipython3",
   "version": "3.8.8"
  }
 },
 "nbformat": 4,
 "nbformat_minor": 4
}
