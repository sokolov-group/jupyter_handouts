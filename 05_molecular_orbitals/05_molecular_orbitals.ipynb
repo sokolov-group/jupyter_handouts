{
 "cells": [
  {
   "cell_type": "code",
   "execution_count": null,
   "id": "ac88df7a",
   "metadata": {},
   "outputs": [],
   "source": [
    "# Interactive lecture on Molecular orbitals:Rajat\n",
    "\n",
    "# Plots showing the overlap of 1sA and 1sB atomic orbitals of Hydrogen atom A and B to form bonding and antibonding \n",
    "# moleucular orbitals:\n",
    "\n",
    "import math as mt\n",
    "import numpy as np\n",
    "import matplotlib.pyplot as plt\n",
    "from matplotlib import animation, rc\n",
    "from matplotlib.animation import FuncAnimation\n",
    "from IPython.display import HTML\n",
    "\n",
    "z = 1\n",
    "R = 10\n",
    "count = (R-0.4)*10\n",
    "pi = 3.14\n",
    "n = 1\n",
    "xdata = np.linspace(-R+1,R-1,10000)\n",
    "ydata = np.linspace(-0.4,0.4,10000)\n",
    "fig, ax = plt.subplots()\n",
    "line, = ax.plot(xdata, ydata)\n",
    "ax.grid(True)\n",
    "def animate_minus(i):\n",
    "    psi_1s_a = np.zeros(len(xdata))\n",
    "    psi_1s_b = np.zeros(len(xdata))\n",
    "    R_new = R - 0.1*i\n",
    "    S = mt.exp(-R_new)*(1+R_new+((R_new**2)/3))\n",
    "    psi_minus = np.zeros(len(xdata))\n",
    "    #psi_minus = np.zeros(len(r))\n",
    "    for index,value in enumerate(xdata):\n",
    "        psi_1s_a[index] = (1/pi)*(z**(3/2))*mt.exp(-(abs(xdata[index]-(R_new/2)))*z)\n",
    "        psi_1s_b[index] = (1/pi)*(z**(3/2))*mt.exp(-(abs(xdata[index]+(R_new/2)))*z)\n",
    "        psi_minus[index] = (1/np.sqrt(2*(1-S)))*(psi_1s_a[index] - psi_1s_b[index])\n",
    "    line.set_ydata(psi_minus)\n",
    "    return line,\n",
    "\n",
    "ani = FuncAnimation(fig, animate_minus, interval=1, blit=True, save_count=count)\n",
    "ani.save('psi_minus.gif')\n",
    "\n",
    "xdata = np.linspace(-R+1,R-1,10000)\n",
    "ydata = np.linspace(0.0,0.4,10000)\n",
    "fig, ax = plt.subplots()\n",
    "line, = ax.plot(xdata, ydata)\n",
    "ax.grid(True)\n",
    "def animate_plus(i):\n",
    "    psi_1s_a = np.zeros(len(xdata))\n",
    "    psi_1s_b = np.zeros(len(xdata))\n",
    "    R_new = R - 0.1*i\n",
    "    S = mt.exp(-R_new)*(1+R_new+((R_new**2)/3))\n",
    "    psi_plus = np.zeros(len(xdata))\n",
    "    #psi_minus = np.zeros(len(r))\n",
    "    for index,value in enumerate(xdata):\n",
    "        psi_1s_a[index] = (1/pi)*(z**(3/2))*mt.exp(-(abs(xdata[index]-(R_new/2)))*z)\n",
    "        psi_1s_b[index] = (1/pi)*(z**(3/2))*mt.exp(-(abs(xdata[index]+(R_new/2)))*z)\n",
    "        psi_plus[index] = (1/np.sqrt(2*(1+S)))*(psi_1s_a[index] + psi_1s_b[index])\n",
    "    line.set_ydata(psi_plus)\n",
    "    return line,\n",
    "\n",
    "ani = FuncAnimation(fig, animate_plus, interval=1, blit=True, save_count= 90)\n",
    "ani.save('psi_plus.gif')"
   ]
  },
  {
   "cell_type": "code",
   "execution_count": null,
   "id": "e72fe99a",
   "metadata": {},
   "outputs": [],
   "source": [
    "\n"
   ]
  },
  {
   "cell_type": "code",
   "execution_count": null,
   "id": "3bd0b753",
   "metadata": {},
   "outputs": [],
   "source": []
  },
  {
   "cell_type": "code",
   "execution_count": null,
   "id": "433f2688",
   "metadata": {},
   "outputs": [],
   "source": []
  }
 ],
 "metadata": {
  "kernelspec": {
   "display_name": "Python 3 (ipykernel)",
   "language": "python",
   "name": "python3"
  },
  "language_info": {
   "codemirror_mode": {
    "name": "ipython",
    "version": 3
   },
   "file_extension": ".py",
   "mimetype": "text/x-python",
   "name": "python",
   "nbconvert_exporter": "python",
   "pygments_lexer": "ipython3",
   "version": "3.10.2"
  }
 },
 "nbformat": 4,
 "nbformat_minor": 5
}
