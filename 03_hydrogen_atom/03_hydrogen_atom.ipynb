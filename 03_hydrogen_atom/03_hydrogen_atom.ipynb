{
 "cells": [
  {
   "cell_type": "markdown",
   "metadata": {},
   "source": [
    "# <div style=\"text-align:center\">Handout: \"Hydrogen Atom\"</div>"
   ]
  },
  {
   "cell_type": "markdown",
   "metadata": {},
   "source": [
    "## <span style=\"color:blue\">1. Theoretical Background</span>"
   ]
  },
  {
   "cell_type": "markdown",
   "metadata": {},
   "source": [
    "###  <span style=\"color:red\">1.1. Introduction </span>"
   ]
  },
  {
   "cell_type": "markdown",
   "metadata": {},
   "source": [
    "* Hydrogen is the **simplest** atomic system that is used as a prototype for studying other complex atoms and molecules.\n",
    "<br/>\n",
    "\n",
    "* It is the only atomic system for which $Schr\\ddot{o}dinger's \\hspace{1mm} equation$ can be solved analytically.\n",
    "<br/>"
   ]
  },
  {
   "cell_type": "markdown",
   "metadata": {},
   "source": [
    "![Hurl](https://media.giphy.com/media/VbQk7UzSrryWjuF7Yb/giphy.gif \"H atom\")"
   ]
  },
  {
   "cell_type": "markdown",
   "metadata": {},
   "source": [
    "### <span style=\"color:red\">1.2. Solving the Hydrogen Atom"
   ]
  },
  {
   "cell_type": "markdown",
   "metadata": {},
   "source": [
    "* Assuming the proton to be fixed and at rest reduces the hydrogen atom system to **one-body problem**. <br/>\n",
    "<br/>\n",
    "* The electronic Hamiltonian for the hydrogen atom is defined as follows : <br/>\n",
    "<br/>\n",
    "$$\\begin{align}\n",
    "\\hat{H} = -\\frac{\\hbar^2}{2m_e}\\nabla^2 - \\frac{e^2}{4\\pi\\epsilon_0r} \\label{eq1}\\tag{1}\n",
    "\\end{align}$$\n",
    "Here, \n",
    "\\begin{align}\n",
    "-\\frac{\\hbar^2}{2m_e}\\nabla^2 : \\text{kinetic energy of the electron} \n",
    "\\end{align}\n",
    "\\begin{align}\n",
    "&\\frac{e^2}{4\\pi\\epsilon_0r} : \\text{electron-proton Coulomb interaction}\n",
    "\\end{align}"
   ]
  },
  {
   "cell_type": "markdown",
   "metadata": {},
   "source": [
    "* Hydrogen atom is **spherically symmetric**. The spherical geometry facilitates use of **spherical coordinates** to solve the $Schr\\ddot{o}dinger's \\hspace{1mm} equation$. <br/>\n",
    "<br/>\n",
    "* Recall that in spherical coordinates : <br/>\n",
    "$$\\begin{align}\n",
    "x &= r\\sin\\theta\\cos\\phi  \\hspace{35pt}  0 \\leq r\\leq\\infty \\label{eq2}\\tag{2}\\\\\n",
    "y &= r\\sin\\theta\\sin\\phi  \\hspace{35pt}  0 \\leq \\theta \\leq \\pi \\label{eq3}\\tag{3}\\\\\n",
    "z &= r\\cos\\theta  \\hspace{52pt}  0 \\leq \\phi \\leq 2pi \\label{eq4}\\tag{4}\\\\\n",
    "\\text{where} \\hspace{20pt} r &= \\sqrt{x^{2}+y^{2}+z^{2}} \\label{eq5}\\tag{5}\n",
    "\\end{align}$$ \n",
    "<br/>\n",
    "<br/>\n",
    "<figure>\n",
    "  <img src=\"Spherical_polar_coordinates.png\" alt=\"Spherical polar coordinates\" width=400px>\n",
    "  <figcaption>Fig : Relation between spherical polar and cartesian coordinates</figcaption>\n",
    "</figure>\n"
   ]
  },
  {
   "cell_type": "markdown",
   "metadata": {},
   "source": [
    "* Using spherical coordinates, Eq. (1) can be rewriiten as : \n",
    "<br/>\n",
    "<br/>\n",
    "$$\\begin{align}\n",
    "\\hat{H} =& -\\frac{\\hbar^2}{2m_e}\\left[ \\frac{\\partial^2}{\\partial r^2} + \\frac{2}{r} \\frac{\\partial}{\\partial r} \\right] \\\\\n",
    "&- \\frac{\\hbar^2}{2m_e r^2} \\left[ \\frac{1}{\\sin \\theta} \\frac{\\partial}{\\partial \\theta} \\sin \\theta \\frac{\\partial}{\\partial \\theta} + \\frac{1}{\\sin^2\\theta}\\frac{\\partial^2}{\\partial^2\\phi}\\right] - \\frac{e^2}{4\\pi\\epsilon_0r} \\label{eq6}\\tag{6}\n",
    "\\end{align}$$\n",
    "<br/>\n",
    "<br/>\n",
    "* Using the method of separation of variables, the solution for the hydrogen atom wavefunction can be described using a radial part and an angular part : \n",
    "<br/>\n",
    "<br/>\n",
    "$$\\begin{align}\n",
    "\\Psi_{nlm} (r, \\theta, \\phi) &= R_{nl} (r) Y_{lm} (\\theta, \\phi) \\label{eq7}\\tag{7}\\\\ \n",
    "\\\\\n",
    "\\text{where} \\hspace{10pt} &R_{nl}(r) : \\text{radial part}\\\\\n",
    "&Y_{lm} (\\theta, \\phi) : \\text{angular part} \n",
    "\\end{align}$$\n"
   ]
  },
  {
   "cell_type": "markdown",
   "metadata": {},
   "source": [
    "#### <span style=\"color:red\">1.2.1 Solving the Angular Part of Hydrogen Atom Wavefunction"
   ]
  },
  {
   "cell_type": "markdown",
   "metadata": {},
   "source": [
    "* The **angular part** of the wavefunction is given by spherical harmonics: <br/>\n",
    " <br/>\n",
    "$$\\begin{align}\n",
    "Y_{lm} (\\theta, \\phi) = \\sqrt{\\frac{(2l+1)}{4\\pi}\\frac{(l-|m|)!}{(l+|m|)!}} P_l^{|m|}(\\cos\\theta) e^{im\\phi} \\label{eq8}\\tag{8}\n",
    "\\end{align}$$\n",
    "<br/>\n",
    "<br/>\n",
    "*  $P_l^{|m|}$ are associated Legendre polynomials that **define angular shape** of the hydrogen atom wavefunctions ($s, p, d, f$ and so on).\n",
    "<br/>\n",
    "<br/>\n",
    "* $l$ and $m$ are quantum numbers : $l$ = 0, 1, 2, .... $\\hspace{5pt}$and $\\hspace{5pt}-l\\leq m \\leq l $\n",
    "<br/>\n",
    "<br/>\n",
    "* Spherical harmonics are **orthonormal**."
   ]
  },
  {
   "cell_type": "markdown",
   "metadata": {},
   "source": [
    "#### <span style=\"color:red\">1.2.2 Solving the Radial Part of Hydrogen Atom Wavefunction"
   ]
  },
  {
   "cell_type": "markdown",
   "metadata": {},
   "source": [
    "* The **radial part** of the wavefunction is as follows :\n",
    "<br/>\n",
    "<br/>\n",
    "$$\\begin{align}\n",
    "R_{nl}(r) = - \\left\\{ \\frac{(n-l-1)!}{2n[(n+l)!]^3} \\right\\}^{1/2} \\left( \\frac{2}{na_0} \\right)^{l+3/2} r^l e^{-r/na_0} L^{2l+1}_{n+l} \\left( \\frac{2r}{na_0} \\right)\\label{eq9}\\tag{9}\n",
    "\\end{align}$$\n",
    "<br/>\n",
    "<br/>\n",
    "* $L^{2l+1}_{n+l}$ are the associated Laguerre polynomials that describes the **apperance of nodes**.\n",
    "<br/>\n",
    "<br/>\n",
    "* $n$ and $l$ are quantum numbers : $n$ = 0, 1, 2, .... $\\hspace{5pt}$and $\\hspace{5pt}0\\leq l \\leq n-1 $\n",
    "<br/>\n",
    "<br/>\n",
    "* Similar to spherical harmonics, radial wavefunctions are also **orthonormal**."
   ]
  },
  {
   "cell_type": "markdown",
   "metadata": {},
   "source": [
    "#### <span style=\"color:red\">1.2.3 Combining the Radial And Angular Parts of Hydrogen Atom Wavefunction"
   ]
  },
  {
   "cell_type": "markdown",
   "metadata": {},
   "source": [
    "* The **overall structure** of the hydrogen atom wavefunction is as follows :\n",
    "<br/>\n",
    "<br/>\n",
    "$$\\begin{align}\n",
    "\\Psi_{nlm} (r, \\theta, \\phi) \\propto r^l\\, e^{-\\frac{r}{na_0}}\\, L_{n+l}^{2l+1} \\left( \\frac{2r}{na_0} \\right)\\, P_{l}^{|m|} \\left( \\cos \\theta \\right) e^{im\\phi}\\label{eq10}\\tag{10}\n",
    "\\end{align}$$\n",
    "\n",
    "* Recall that the angular and radial parts are individually orthonormal. The overall hydrogen atom wavefunction formed by their combination is also orthonormal.\n",
    "<br/>\n",
    "<br/>\n",
    "$$\\begin{align}\n",
    "\\int_0^\\infty \\mathrm{d}r \\, r^2 \\int_0^\\pi \\mathrm{d} \\theta \\, \\sin \\theta \\int_0^{2\\pi} \\mathrm{d} \\phi \\,\\Psi_{nlm}^* (r, \\theta, \\phi) \\Psi_{n’l’m’} (r, \\theta, \\phi) &= \\delta_{nn’} \\delta_{ll’} \\delta_{mm’}\\label{eq11}\\tag{11}\n",
    "\\end{align}$$"
   ]
  },
  {
   "cell_type": "markdown",
   "metadata": {},
   "source": [
    "Phew! Now let us take a look at what each of these terms signify. \n",
    "<br/>\n",
    "<br/>\n",
    "* $r^{l}$: Describes the **wavefunction near $r = 0$** (short range)\n",
    "<br/> \n",
    "<br/>\n",
    "* $e^{-\\frac{r}{na_0}}$: Describes the **wavefunction as $ r  \\rightarrow \\infty $**  (long range)\n",
    "<br/>\n",
    "<br/>\n",
    "* $L^{2l+1}_{n+1}$: Polynomial of order $n - l - 1$ in $r$, describes the **wavefunction at the intermediate distances** and **appearance of nodes**\n",
    "<br/>\n",
    "<br/>\n",
    "* $P^{|m|}_l$: Polynomial of order $l$ in $\\sin \\theta$ or $\\cos \\theta$, describes **angular shape** of the wavefunciton (e.g., $s$, $p$, $d$, etc)\n",
    "<br/>\n",
    "<br/>\n",
    "* $e^{im \\phi}$: Describes **orientation of wavefunction** in space (e.g., $p_x$, $p_y$, $p_z$) "
   ]
  },
  {
   "cell_type": "markdown",
   "metadata": {},
   "source": [
    "* **Solution of the Schr$\\ddot{o}$dinger equation for hydrogen atom is** : \n",
    "<br/>\n",
    "<br/>\n",
    "$$E_{n} = -\\frac{e^{2}}{8\\pi\\epsilon_{0}a_{0}n^{2}}\\label{eq12}\\tag{12}\\\\\n",
    "$$\n",
    "* $a_{0}$ is the Bohr radius : <br/>\n",
    "\n",
    "$$a_{0} \\equiv \\frac{\\epsilon_{0}h^{2}}{\\pi m_{e} e^{2}}\\label{eq13}\\tag{13}$$"
   ]
  },
  {
   "cell_type": "markdown",
   "metadata": {},
   "source": [
    "* This solution can be generalized for all hydrogen-like (one-body) atoms with atomic number Z : <br/>\n",
    "\n",
    "$$E_{n} = -\\frac{Ze^{2}}{8\\pi\\epsilon_{0}a_{0}n^{2}}\\label{eq14}\\tag{14}\\\\\n",
    "$$\n",
    "\n",
    "* Note that the energy of the hydrogen-like atoms are **solely dependant on atomic number Z and the quantum number $n$ and not on $l$ and $m$**."
   ]
  },
  {
   "cell_type": "markdown",
   "metadata": {},
   "source": [
    "<strong style=\"color: green;\">Let us verify that ourselves ! </strong>\n",
    "<br/>\n",
    "Its convenient to use atomic units to compute electronic energy. In atomic units :  <br/>\n",
    "$$\\begin{align}\n",
    "e &= 1\\\\\n",
    "4\\pi\\epsilon_{0} &= 1\\\\\n",
    "a_{0} &= 1\n",
    "\\end{align}\n",
    "$$\n"
   ]
  },
  {
   "cell_type": "code",
   "execution_count": null,
   "metadata": {},
   "outputs": [],
   "source": [
    "# Computing electronic energy of hydrogen atom. \n",
    "\n",
    "# Import Python modules\n",
    "import numpy as np\n",
    "\n",
    "# Define function to calculate hydrogen atom energy in atomic units for quantum numbers n, l and m and atomic number Z\n",
    "def energy(Z,n,l,m): \n",
    "    return -Z/(2*n**2)"
   ]
  },
  {
   "cell_type": "markdown",
   "metadata": {},
   "source": [
    "Let's define parameters $Z, n, l$ and $m$ for hydrogen atom"
   ]
  },
  {
   "cell_type": "code",
   "execution_count": null,
   "metadata": {},
   "outputs": [],
   "source": [
    "n = 2  # principal quantum number          \n",
    "l = 0  #angular momentum quantum number\n",
    "m = 0  # magnetic quantum number\n",
    "Z = 1  # atomic number"
   ]
  },
  {
   "cell_type": "markdown",
   "metadata": {},
   "source": [
    "Now, lets compute the energy."
   ]
  },
  {
   "cell_type": "code",
   "execution_count": null,
   "metadata": {},
   "outputs": [],
   "source": [
    "#Compute energy\n",
    "Energy = energy(Z,n,l,m)\n",
    "print (\"Electronic Energy : \", Energy, \"atomic units\")"
   ]
  },
  {
   "cell_type": "markdown",
   "metadata": {},
   "source": [
    "<strong style=\"color: green;\"> Exercise (a):</strong> \n",
    "<br/>\n",
    "* Now goback and try choosing different values of l and m! Does the energy change? \n",
    "* While you are at it, try choosing different values of Z and see how the energy changes with increasing Z. \n",
    "* Which one has the higher energy for $n$ = 2, $l$ = 1, $m$ = 0 : C$^{5+}$ or O$^{7+}$ ?"
   ]
  },
  {
   "cell_type": "markdown",
   "metadata": {},
   "source": [
    "### <span style=\"color:red\">1.3. Closer Look at the Quantum Numbers"
   ]
  },
  {
   "cell_type": "markdown",
   "metadata": {},
   "source": [
    "**There are 3 quantum numbers : $n$, $l$ and $m$**"
   ]
  },
  {
   "cell_type": "markdown",
   "metadata": {},
   "source": [
    "#### <span style=\"color:red\">1.3.1 Principal quantum number : $n$"
   ]
  },
  {
   "cell_type": "markdown",
   "metadata": {},
   "source": [
    "* Possible values : $n$ = 1, 2, 3, ....\n",
    "<br/>\n",
    "* Determines **number of nodes** in the wavefunction.\n",
    "<br/>\n",
    "* Determines **the extent of the wavefunction**, i.e., how far from the nucleus once can find an atom.\n",
    "<br/>\n",
    "* We have previously seen that the **energy of the hydrogen atom depends only on $n$**. \n"
   ]
  },
  {
   "cell_type": "markdown",
   "metadata": {},
   "source": [
    "<strong style=\"color: green;\"> Now what about the degeneracy? Are hydrogen-atom energy levels degenerate? If so, how can you determine the number of states belonging to each level? Lets find out!</strong> \n"
   ]
  },
  {
   "cell_type": "markdown",
   "metadata": {},
   "source": [
    " Recall : <br/>\n",
    " $$\\begin{align}\n",
    " n &= 1, 2, 3, ....\\\\\n",
    " l &= 0, 1, 2, ...., (n-1)\\\\\n",
    " m &= -l, -l+1, ...,0, ...., (l-1), l\n",
    " \\end{align}$$"
   ]
  },
  {
   "cell_type": "markdown",
   "metadata": {},
   "source": [
    "So, for a given value of $n$, there can be $n$ different values of $l$. For each of these values of $l$, there can be $2l + 1$ values of m. So, degeneracy for each state can be calculated using :\n",
    "$$\\begin{align}\n",
    " \\sum\\limits_{l=0}^{n-1} 2l + 1 \n",
    " \\end{align}$$\n",
    "<br/> \n",
    "This is numerically equal to $n^{2}$. Let us verify this."
   ]
  },
  {
   "cell_type": "code",
   "execution_count": null,
   "metadata": {},
   "outputs": [],
   "source": [
    "# Calculating number of degenerate levels\n",
    "\n",
    "# Import Python modules\n",
    "import numpy as np\n",
    "\n",
    "# Define function to calculate degeneracy using 2l + 1\n",
    "def degeneracy_1(n):\n",
    "    degenerate_levels = 0\n",
    "    for l in range(0,n):\n",
    "        degenerate_levels += (2*l + 1)\n",
    "    return degenerate_levels\n",
    "\n",
    "# Define function to calculate degeneracy using n^{2}\n",
    "def degeneracy_2(n):\n",
    "    return n**2"
   ]
  },
  {
   "cell_type": "code",
   "execution_count": null,
   "metadata": {},
   "outputs": [],
   "source": [
    "# Insert your favorite value of n\n",
    "n = 4"
   ]
  },
  {
   "cell_type": "code",
   "execution_count": null,
   "metadata": {},
   "outputs": [],
   "source": [
    "# Check if the two above functions are equal\n",
    "level_1 = degeneracy_1(n)\n",
    "level_2 = degeneracy_2(n)\n",
    "\n",
    "if level_1 == level_2 :\n",
    "    print (\"Verified that degeneracy is n squared \")\n",
    "    print (\"Number of degenerate levels :\", level_2)\n",
    "else : \n",
    "    print (\"Error in the code\")"
   ]
  },
  {
   "cell_type": "markdown",
   "metadata": {},
   "source": [
    "The figure below should make this easier to understand."
   ]
  },
  {
   "cell_type": "markdown",
   "metadata": {},
   "source": [
    "<figure>\n",
    "  <img src=\"degeneracy.png\" alt=\"Degenerate levels for hydrogen atom\">\n",
    "  <figcaption>Fig : Degenerate levels for hydrogen atom</figcaption>\n",
    "</figure>"
   ]
  },
  {
   "cell_type": "markdown",
   "metadata": {},
   "source": [
    "#### <span style=\"color:red\">1.3.2 Angular momentum quantum number : $l$"
   ]
  },
  {
   "cell_type": "markdown",
   "metadata": {},
   "source": [
    "* Possible values : $0 \\leq l \\leq n-1$ \n",
    "<br/>\n",
    "* Determines possible values of **orbital angular momentum**.\n",
    "<br/>\n",
    "* Provides information about the **shape of the wavefunction**."
   ]
  },
  {
   "cell_type": "markdown",
   "metadata": {},
   "source": [
    "<figure>\n",
    "  <img src=\"shapes.png\" alt=\"Degenerate levels for hydrogen atom\">\n",
    "  <figcaption>Fig : Shapes of orbitals</figcaption>\n",
    "</figure>"
   ]
  },
  {
   "cell_type": "markdown",
   "metadata": {},
   "source": [
    "#### <span style=\"color:red\">1.3.3 Magnetic quantum number : $m$"
   ]
  },
  {
   "cell_type": "markdown",
   "metadata": {},
   "source": [
    "* Possible values : $-l \\leq m \\leq 1$ \n",
    "<br/>\n",
    "* Determines possible values of **angular momentum projection**.\n",
    "<br/>\n",
    "* Provides information about the **orientation of the wavefunction in space**."
   ]
  },
  {
   "cell_type": "markdown",
   "metadata": {},
   "source": [
    "### <span style=\"color:red\">1.4. Closer Look at the Orbitals"
   ]
  },
  {
   "cell_type": "markdown",
   "metadata": {},
   "source": [
    "#### <span style=\"color:red\">1.4.1 s-Orbitals"
   ]
  },
  {
   "cell_type": "markdown",
   "metadata": {},
   "source": [
    "* For any principle quantum number $n$, the s-orbital wavefunction is $\\Psi_{n00}$ where both $l$ and $m$ are zero.\n",
    "<br/>\n",
    "<br/>\n",
    "* The angular part of the wavefunctions is spherically symmetric<br/>\n",
    "$$\\begin{align}\n",
    "\\Psi_{n00}(\\theta, \\phi)= \\frac{1}{\\sqrt{4\\pi}}\\label{eq15}\\tag{15}\n",
    "\\end{align}$$\n",
    "<br/>\n",
    "<br/>\n",
    "* The radial part is described by a polynomial :\n",
    "$$\\begin{align}\n",
    "\\Psi_{n00}(r)\\propto e^{-\\frac{r}{na_0}} L^{1}_{n}(\\frac{2r}{na_0}) \\label{eq16}\\tag{16}\n",
    "\\end{align}$$"
   ]
  },
  {
   "cell_type": "markdown",
   "metadata": {},
   "source": [
    "\n",
    "<strong style=\"color: green;\"> Let us take the examples of radial wavefunctions for 1s, 2s and 3s orbitals and plot them :</strong>\n",
    "<br/>\n",
    "$$\\begin{align}\n",
    " R_{1s} &= 2 \\left(\\frac{Z}{a_0}\\right)^{3/2}e^{-\\frac{Zr}{a_0}}\\label{eq17}\\tag{17}\\\\\n",
    " R_{2s} &= \\frac{1}{\\sqrt{8}}\\left(\\frac{Z}{a_0}\\right)^{3/2} \\left(2-\\frac{Zr}{a_0}\\right)  e^{-\\frac{Zr}{2a_0}}\\label{eq18}\\tag{18}\\\\\n",
    " R_{3s} &= \\frac{2}{81\\sqrt{3}}\\left(\\frac{Z}{a_0}\\right)^{3/2} \\left(27-\\frac{18Zr}{a_0}+2\\left(\\frac{Zr}{a_0}\\right)^2\\right)  e^{-\\frac{Zr}{3a_0}}\\label{eq19}\\tag{19}\n",
    " \\end{align}$$"
   ]
  },
  {
   "cell_type": "code",
   "execution_count": null,
   "metadata": {},
   "outputs": [],
   "source": [
    "# Plotting radial wavefunction for any 1s, 2s and 3s\n",
    "\n",
    "# Import Python modules and libraries.\n",
    "import matplotlib.pyplot as plt\n",
    "import numpy as np\n",
    "from sympy.abc import n, l, r, Z\n",
    "from sympy.physics import hydrogen\n",
    "from sympy.utilities.lambdify import lambdify"
   ]
  },
  {
   "cell_type": "code",
   "execution_count": null,
   "metadata": {},
   "outputs": [],
   "source": [
    "# Define n and l of your choice. For sake of simplicity, we define : \n",
    "n = 6 #  For the 4s orbital. You can choose whichever you want to plot\n",
    "l = 0 "
   ]
  },
  {
   "cell_type": "code",
   "execution_count": null,
   "metadata": {},
   "outputs": [],
   "source": [
    "# Computing the radial parts that depends on n and r\n",
    "R_nl_1s = lambdify(r, hydrogen.R_nl(1, 0, r, 1)) #1s\n",
    "R_nl_2s = lambdify(r, hydrogen.R_nl(2, 0, r, 1)) #2s\n",
    "R_nl_3s = lambdify(r, hydrogen.R_nl(3, 0, r, 1)) #3s\n",
    "R_nl_ns = lambdify(r, hydrogen.R_nl(n, l, r, 1)) #ns"
   ]
  },
  {
   "cell_type": "code",
   "execution_count": null,
   "metadata": {},
   "outputs": [],
   "source": [
    "# Plotting the wavefunction\n",
    "ns = str(n)+'s'\n",
    "r = np.linspace(0, 30, 1000)\n",
    "#fig = plt.figure(figsize=(15,10))\n",
    "fig = plt.figure(figsize=(50,40))\n",
    "ax = fig.add_subplot(3,2,1)\n",
    "ax.plot(r, R_nl_1s(r), 'r', label='1s')\n",
    "ax.plot(r, R_nl_2s(r), 'b', label='2s')\n",
    "ax.plot(r, R_nl_3s(r), 'g', label='3s')\n",
    "ax.plot(r, R_nl_ns(r), 'y', label=ns)\n",
    "plt.xlabel(\"r/a$_{0}$\", fontsize=30)\n",
    "plt.ylabel(\"R(r)\", fontsize=30)\n",
    "plt.grid()\n",
    "ax.tick_params(axis = 'x', which = 'major', labelsize = 24)\n",
    "ax.tick_params(axis = 'y', which = 'major', labelsize = 24)\n",
    "leg = ax.legend(fontsize=30)"
   ]
  },
  {
   "cell_type": "markdown",
   "metadata": {},
   "source": [
    "<strong style=\"color: green;\">Exercise (b) :</strong> <br/>\n",
    "* Can you predict the number of nodes for each of these wavefunctions?\n",
    "<br/>\n",
    "* Verify your answer using : nodes = $n - l - $1 "
   ]
  },
  {
   "cell_type": "markdown",
   "metadata": {},
   "source": [
    "<strong style=\"color: green;\">Lets try plotting the the radial probability density for 1s, 2s and 3s orbitals!</strong> <br/>"
   ]
  },
  {
   "cell_type": "markdown",
   "metadata": {},
   "source": [
    "The **radial probability density** can be computed as : \n",
    "<br/>\n",
    "$$\\begin{align}\n",
    "|R_{nl}(r)|^{2}r^{2}\n",
    "\\end{align}\n",
    "$$"
   ]
  },
  {
   "cell_type": "code",
   "execution_count": null,
   "metadata": {},
   "outputs": [],
   "source": [
    "# Computing probability densities\n",
    "D_1s = (r**2)*np.square(R_nl_1s(r)) #1s\n",
    "D_2s = (r**2)*np.square(R_nl_2s(r)) #2s\n",
    "D_3s = (r**2)*np.square(R_nl_3s(r)) #3s\n",
    "D_ns = (r**2)*np.square(R_nl_ns(r)) #ns"
   ]
  },
  {
   "cell_type": "code",
   "execution_count": null,
   "metadata": {},
   "outputs": [],
   "source": [
    "# Plotting the densities\n",
    "r = np.linspace(0, 50, 1000)\n",
    "\n",
    "fig = plt.figure(figsize=(50,40))\n",
    "\n",
    "ax = fig.add_subplot(3,2,1)\n",
    "\n",
    "#plot 1s, 2s and 3s radial distribution\n",
    "ax.plot(r, D_1s, 'r', label='1s')\n",
    "ax.plot(r, D_2s, 'g', label='2s')\n",
    "ax.plot(r, D_3s, 'b', label='3s')\n",
    "ax.plot(r, D_ns, 'y', label=ns)\n",
    "plt.xlabel(\"r/a$_{0}$\", fontsize=30)\n",
    "plt.ylabel(\"r$^{2}$R$^{2}$(r)\", fontsize=30)\n",
    "plt.grid()\n",
    "ax.tick_params(axis = 'x', which = 'major', labelsize = 24)\n",
    "ax.tick_params(axis = 'y', which = 'major', labelsize = 24)\n",
    "leg = ax.legend(fontsize=30)"
   ]
  },
  {
   "cell_type": "markdown",
   "metadata": {},
   "source": [
    "<strong style=\"color: green;\">Exercise (c):</strong> <br/>\n",
    "* Do the number of nodes from this plot and the radial wavefunction plot match?"
   ]
  },
  {
   "cell_type": "markdown",
   "metadata": {},
   "source": [
    "<strong style=\"color: green;\">Now lets find out how the shape of the 1s orbitals are. Lets take a look at the wavefunction for 1s:</strong> <br/>\n",
    "<br/>\n",
    "$$\\begin{align}\n",
    "\\Psi_{100} (r, \\theta, \\phi) \\propto  \\frac{e^{-r}}{\\sqrt(\\pi)}\n",
    "\\end{align}$$\n",
    "\n"
   ]
  },
  {
   "cell_type": "markdown",
   "metadata": {},
   "source": [
    "<strong style=\"color: green;\">Using equation (5), we will plot 1s wavefunction in cartesian x,y coordinates. We will also do the same thing for $\\Psi_{300}$.</strong> "
   ]
  },
  {
   "cell_type": "code",
   "execution_count": null,
   "metadata": {},
   "outputs": [],
   "source": [
    "# Determining wavefunction shapes of s orbitals for different n\n",
    "from sympy.abc import n, l, r, Z\n",
    "from sympy.physics import hydrogen\n",
    "from sympy.utilities.lambdify import lambdify\n",
    "\n",
    "# Computing the radial parts that depends on n and r\n",
    "R_nl_1s = lambdify(r, hydrogen.R_nl(1, 0, r, 1)) #1s\n",
    "R_nl_2s = lambdify(r, hydrogen.R_nl(2, 0, r, 1)) #2s\n",
    "R_nl_3s = lambdify(r, hydrogen.R_nl(3, 0, r, 1)) #3s\n",
    "R_nl_4s = lambdify(r, hydrogen.R_nl(4, 0, r, 1)) #4s\n",
    "\n",
    "def prob_1s(x,y): #Probability density of 1s orbital\n",
    "    r=np.sqrt(np.square(x)+np.square(y))\n",
    "    return np.square(R_nl_1s(r))\n",
    "\n",
    "def prob_2s(x,y): #Probability density of 2s orbital\n",
    "    r=np.sqrt(np.square(x)+np.square(y))\n",
    "    return np.square(R_nl_2s(r))\n",
    "\n",
    "def prob_3s(x,y): #Probability density of 3s orbital\n",
    "    r=np.sqrt(np.square(x)+np.square(y))\n",
    "    return np.square(R_nl_3s(r))\n",
    "\n",
    "def prob_4s(x,y): #Probability density of 4s orbital\n",
    "    r=np.sqrt(np.square(x)+np.square(y))\n",
    "    return np.square(R_nl_4s(r))\n",
    "\n",
    "# Generating the contour plots\n",
    "\n",
    "# Coordinates for the plot\n",
    "x1 = np.linspace(-20, 20, 800)\n",
    "y1 = np.linspace(-20, 20, 800)\n",
    "X1, Y1 = np.meshgrid(x1, y1)\n",
    "Z1 = prob_1s(X1, Y1)\n",
    "n_levels1 = np.arange(0, 0.1, 0.001)\n",
    "\n",
    "x2 = np.linspace(-20, 20, 800)\n",
    "y2 = np.linspace(-20, 20, 800)\n",
    "X2, Y2 = np.meshgrid(x2, y2)\n",
    "Z2 = prob_2s(X2, Y2)\n",
    "n_levels2 = np.arange(0, 0.1, 0.001)\n",
    "\n",
    "x3 = np.linspace(-20, 20, 800)\n",
    "y3 = np.linspace(-20, 20, 800)\n",
    "X3, Y3 = np.meshgrid(x3, y3)\n",
    "Z3 = prob_3s(X3, Y3)\n",
    "n_levels3 = np.arange(0, 0.1, 0.001)\n",
    "\n",
    "x4 = np.linspace(-20, 20, 800)\n",
    "y4 = np.linspace(-20, 20, 800)\n",
    "X4, Y4 = np.meshgrid(x4, y4)\n",
    "Z4 = prob_4s(X4, Y4)\n",
    "n_levels4 = np.arange(0, 0.1, 0.001)\n",
    "\n",
    "fig = plt.figure(figsize=(40,30))\n",
    "\n",
    "ax1 = fig.add_subplot(2,2,1)\n",
    "cs1 = ax1.contourf(X1, Y1, Z1, n_levels1, extend='both')\n",
    "plt.xlabel(\"x\", fontsize=40)\n",
    "plt.ylabel(\"y\", fontsize=40)\n",
    "plt.title(\"1s\", fontsize=40)\n",
    "cbar1 = fig.colorbar(cs1)\n",
    "cbar1.ax.tick_params(labelsize=24)\n",
    "ax1.tick_params(axis = 'x', which = 'major', labelsize = 30)\n",
    "ax1.tick_params(axis = 'y', which = 'major', labelsize = 30)\n",
    "\n",
    "ax2 = fig.add_subplot(2,2,2)\n",
    "cs2 = ax2.contourf(X2, Y2, Z2, n_levels2, extend='both')\n",
    "plt.xlabel(\"x\", fontsize=40)\n",
    "plt.ylabel(\"y\", fontsize=40)\n",
    "plt.title(\"2s\", fontsize=40)\n",
    "cbar2 = fig.colorbar(cs2)\n",
    "cbar2.ax.tick_params(labelsize=24)\n",
    "ax2.tick_params(axis = 'x', which = 'major', labelsize = 30)\n",
    "ax2.tick_params(axis = 'y', which = 'major', labelsize = 30)\n",
    "\n",
    "ax3 = fig.add_subplot(2,2,3)\n",
    "cs3 = ax3.contourf(X3, Y3, Z3, n_levels3, extend='both')\n",
    "plt.xlabel(\"x\", fontsize=40)\n",
    "plt.ylabel(\"y\", fontsize=40)\n",
    "plt.title(\"3s\", fontsize=40)\n",
    "cbar3 = fig.colorbar(cs3)\n",
    "cbar3.ax.tick_params(labelsize=24)\n",
    "ax3.tick_params(axis = 'x', which = 'major', labelsize = 30)\n",
    "ax3.tick_params(axis = 'y', which = 'major', labelsize = 30)\n",
    "\n",
    "ax4 = fig.add_subplot(2,2,4)\n",
    "cs4 = ax4.contourf(X4, Y4, Z4, n_levels4, extend='both')\n",
    "plt.xlabel(\"x\", fontsize=40)\n",
    "plt.ylabel(\"y\", fontsize=40)\n",
    "plt.title(\"4s\", fontsize=40)\n",
    "cbar4 = fig.colorbar(cs4)\n",
    "cbar4.ax.tick_params(labelsize=24)\n",
    "ax4.tick_params(axis = 'x', which = 'major', labelsize = 30)\n",
    "ax4.tick_params(axis = 'y', which = 'major', labelsize = 30)\n",
    "\n",
    "plt.show()"
   ]
  },
  {
   "cell_type": "code",
   "execution_count": null,
   "metadata": {},
   "outputs": [],
   "source": [
    "# Determining wavefunction shapes of s orbitals for different n\n",
    "from sympy.abc import n, l, r, Z\n",
    "from sympy.physics import hydrogen\n",
    "from sympy.utilities.lambdify import lambdify\n",
    "\n",
    "# Computing the radial parts that depends on n and r\n",
    "R_nl_1s = lambdify(r, hydrogen.R_nl(1, 0, r, 1)) #1s\n",
    "R_nl_2s = lambdify(r, hydrogen.R_nl(2, 0, r, 1)) #2s\n",
    "R_nl_3s = lambdify(r, hydrogen.R_nl(3, 0, r, 1)) #3s\n",
    "R_nl_4s = lambdify(r, hydrogen.R_nl(4, 0, r, 1)) #4s\n",
    "\n",
    "def prob_1s(x,y): #Probability density of 1s orbital\n",
    "    r=np.sqrt(np.square(x)+np.square(y))\n",
    "    return np.log10(np.square(R_nl_1s(r)))\n",
    "\n",
    "def prob_2s(x,y): #Probability density of 2s orbital\n",
    "    r=np.sqrt(np.square(x)+np.square(y))\n",
    "    return np.log10(np.square(R_nl_2s(r)))\n",
    "\n",
    "def prob_3s(x,y): #Probability density of 3s orbital\n",
    "    r=np.sqrt(np.square(x)+np.square(y))\n",
    "    return np.log10(np.square(R_nl_3s(r)))\n",
    "\n",
    "def prob_4s(x,y): #Probability density of 4s orbital\n",
    "    r=np.sqrt(np.square(x)+np.square(y))\n",
    "    return np.log10(np.square(R_nl_4s(r)))\n",
    "\n",
    "# Generating the contour plots\n",
    "\n",
    "# Coordinates for the plot\n",
    "x1 = np.linspace(-40, 40, 800)\n",
    "y1 = np.linspace(-40, 40, 800)\n",
    "X1, Y1 = np.meshgrid(x1, y1)\n",
    "Z1 = prob_1s(X1, Y1)\n",
    "n_levels1 = np.arange(-10, 0, 0.05)\n",
    "\n",
    "x2 = np.linspace(-40, 40, 800)\n",
    "y2 = np.linspace(-40, 40, 800)\n",
    "X2, Y2 = np.meshgrid(x2, y2)\n",
    "Z2 = prob_2s(X2, Y2)\n",
    "n_levels2 = np.arange(-10, 0, 0.05)\n",
    "\n",
    "x3 = np.linspace(-40, 40, 800)\n",
    "y3 = np.linspace(-40, 40, 800)\n",
    "X3, Y3 = np.meshgrid(x3, y3)\n",
    "Z3 = prob_3s(X3, Y3)\n",
    "n_levels3 = np.arange(-10, 0, 0.05)\n",
    "\n",
    "x4 = np.linspace(-40, 40, 800)\n",
    "y4 = np.linspace(-40, 40, 800)\n",
    "X4, Y4 = np.meshgrid(x4, y4)\n",
    "Z4 = prob_4s(X4, Y4)\n",
    "n_levels4 = np.arange(-10, 0, 0.05)\n",
    "\n",
    "fig = plt.figure(figsize=(40,30))\n",
    "\n",
    "ax1 = fig.add_subplot(2,2,1)\n",
    "cs1 = ax1.contourf(X1, Y1, Z1, n_levels1, extend='both')\n",
    "plt.xlabel(\"x\", fontsize=40)\n",
    "plt.ylabel(\"y\", fontsize=40)\n",
    "plt.title(\"1s\", fontsize=40)\n",
    "cbar1 = fig.colorbar(cs1)\n",
    "cbar1.ax.tick_params(labelsize=24)\n",
    "ax1.tick_params(axis = 'x', which = 'major', labelsize = 30)\n",
    "ax1.tick_params(axis = 'y', which = 'major', labelsize = 30)\n",
    "\n",
    "ax2 = fig.add_subplot(2,2,2)\n",
    "cs2 = ax2.contourf(X2, Y2, Z2, n_levels2, extend='both')\n",
    "plt.xlabel(\"x\", fontsize=40)\n",
    "plt.ylabel(\"y\", fontsize=40)\n",
    "plt.title(\"2s\", fontsize=40)\n",
    "cbar2 = fig.colorbar(cs2)\n",
    "cbar2.ax.tick_params(labelsize=24)\n",
    "ax2.tick_params(axis = 'x', which = 'major', labelsize = 30)\n",
    "ax2.tick_params(axis = 'y', which = 'major', labelsize = 30)\n",
    "\n",
    "ax3 = fig.add_subplot(2,2,3)\n",
    "cs3 = ax3.contourf(X3, Y3, Z3, n_levels3, extend='both')\n",
    "plt.xlabel(\"x\", fontsize=40)\n",
    "plt.ylabel(\"y\", fontsize=40)\n",
    "plt.title(\"3s\", fontsize=40)\n",
    "cbar3 = fig.colorbar(cs3)\n",
    "cbar3.ax.tick_params(labelsize=24)\n",
    "ax3.tick_params(axis = 'x', which = 'major', labelsize = 30)\n",
    "ax3.tick_params(axis = 'y', which = 'major', labelsize = 30)\n",
    "\n",
    "ax4 = fig.add_subplot(2,2,4)\n",
    "cs4 = ax4.contourf(X4, Y4, Z4, n_levels4, extend='both')\n",
    "plt.xlabel(\"x\", fontsize=40)\n",
    "plt.ylabel(\"y\", fontsize=40)\n",
    "plt.title(\"4s\", fontsize=40)\n",
    "cbar4 = fig.colorbar(cs4)\n",
    "cbar4.ax.tick_params(labelsize=24)\n",
    "ax4.tick_params(axis = 'x', which = 'major', labelsize = 30)\n",
    "ax4.tick_params(axis = 'y', which = 'major', labelsize = 30)\n",
    "\n",
    "plt.show()"
   ]
  },
  {
   "cell_type": "markdown",
   "metadata": {},
   "source": [
    "#### <span style=\"color:red\">1.4.2 p-Orbitals"
   ]
  },
  {
   "cell_type": "markdown",
   "metadata": {},
   "source": [
    "* For $l = 1$ we  have we a have p-orbital (e.g $2p$, $3p$ etc)<br/>\n",
    "\n",
    "* Example: $2p$ ($n = 2$, $l = 1$) wavefunctions : <br/>\n",
    "$$\\begin{align}\n",
    "m = 0 &: \\ \\ \\Psi_{210}(r,\\theta, \\phi) \\propto r e^{-\\frac{r}{2a_0}} cos\\theta)\\label{eq20}\\tag{20}\\\\\n",
    "m = \\pm 1 &: \\ \\ \\Psi_{21\\pm1}(r,\\theta, \\phi) \\propto r e^{-\\frac{r}{2a_0}} sin\\theta)e^{\\pm i\\phi}\\label{eq21}\\tag{21}\n",
    "\\end{align}$$\n",
    "<br/>\n",
    "* $\\Psi_{21\\pm1}$ are **complex and degenerate** and harder to plot.\n",
    "* $2p$ wavefunctions have **angular dependence**.\n",
    "<br/>\n",
    "* To make these wavefunctions real, we can take linear combinations of $\\Psi_{21\\pm1}$.<br/>\n",
    "**Recall :** Linear combinations of degenerate eigenfunctions will also be an eigenfunction."
   ]
  },
  {
   "cell_type": "markdown",
   "metadata": {},
   "source": [
    "$$\\begin{align}\n",
    "2p_x : \\frac{1}{\\sqrt{2}}(\\Psi_{211}+\\Psi_{21-1})&\\propto r e^{-\\frac{r}{2a_0}} sin\\theta(e^{i\\phi}+e^{-i\\phi})\\\\ &\\propto r e^{-\\frac{r}{2a_0}} sin\\theta cos\\phi\\label{eq22}\\tag{22}\\\\\n",
    "2p_y : \\frac{1}{\\sqrt{2}i}(\\Psi_{211}-\\Psi_{21-1})&\\propto r e^{-\\frac{r}{2a_0}} sin\\theta(e^{i\\phi}-e^{-i\\phi})\\\\ &\\propto r e^{-\\frac{r}{2a_0}} sin\\theta sin\\phi\\label{eq23}\\tag{23}\\\\\n",
    "2p_z :\\Psi_{210}\\propto r e^{-\\frac{r}{2a_0}} cos\\theta \\label{eq24}\\tag{24}\n",
    "\\end{align}$$"
   ]
  },
  {
   "cell_type": "markdown",
   "metadata": {},
   "source": [
    "<strong style=\"color: green;\">Hurray! Now that these wavefunctions are real, we can visualize them ! Lets compare both $2p_0$ and $3p_0$ and try plotting them.</strong>"
   ]
  },
  {
   "cell_type": "markdown",
   "metadata": {},
   "source": [
    "* For both $2p_0$ and $3p_0$; <br/>\n",
    "$$\\begin{align}\n",
    "2p_0:\\ \\ \\Psi_{210}(r,\\theta,\\phi)= R_{21}(r)Y_{10}(\\theta,\\phi)\\label{eq25}\\tag{25}\\\\\n",
    "3p_0:\\ \\ \\Psi_{310}(r,\\theta,\\phi)= R_{31}(r)Y_{10}(\\theta,\\phi)\\label{eq26}\\tag{26}\n",
    "\\end{align}$$ <br/>\n",
    "\n",
    "they have same angular parts but the radial parts are different.\n",
    "$$\\begin{align}\n",
    "R_{21}(r) &\\propto r e^{-\\frac{r}{2a_0}}\\label{eq27}\\tag{27}\\\\\n",
    "R_{31}(r) &\\propto (6-\\frac{r}{a_0})re^{-\\frac{r}{3a_0}}\\label{eq28}\\tag{28}\n",
    "\\end{align}$$ <br/>"
   ]
  },
  {
   "cell_type": "code",
   "execution_count": null,
   "metadata": {},
   "outputs": [],
   "source": [
    "# import necessary libraries\n",
    "\n",
    "import matplotlib.pyplot as plt\n",
    "import numpy as np\n",
    "from sympy.abc import n, l, r, Z\n",
    "from sympy.physics import hydrogen\n",
    "from sympy.utilities.lambdify import lambdify\n",
    "\n",
    "#from sympy.physics.hydrogen import Psi_nlm\n",
    "from sympy.physics.hydrogen import R_nl, Psi_nlm"
   ]
  },
  {
   "cell_type": "code",
   "execution_count": null,
   "metadata": {},
   "outputs": [],
   "source": [
    "# Define n and l of your choice. For sake of simplicity, we define : \n",
    "n = 4 #  For the 4p orbital. You can choose whichever you want to plot\n",
    "l = 1 "
   ]
  },
  {
   "cell_type": "code",
   "execution_count": null,
   "metadata": {},
   "outputs": [],
   "source": [
    "### Computing 2p and 3p and np radial wavefunctions\n",
    "R_nl_2p = lambdify(r, R_nl(2, 1, r, 1))\n",
    "R_nl_3p = lambdify(r, R_nl(3, 1, r, 1))\n",
    "R_nl_np = lambdify(r, R_nl(n, l, r, 1))"
   ]
  },
  {
   "cell_type": "code",
   "execution_count": null,
   "metadata": {},
   "outputs": [],
   "source": [
    "r = np.linspace(0, 30, 1000)\n",
    "lp = str(n)+'p'\n",
    "\n",
    "fig = plt.figure(figsize=(50,40))\n",
    "#plot 2p and 3p radial wavefunctions\n",
    "ax1 = fig.add_subplot(3,2,3)\n",
    "ax1.plot(r, R_nl_2p(r), 'b', label='2p')\n",
    "ax1.plot(r, R_nl_3p(r), 'g', label='3p')\n",
    "ax1.plot(r, R_nl_np(r), 'y', label=lp)\n",
    "plt.xlabel(\"r/a$_{0}$\", fontsize=30)\n",
    "plt.ylabel(\"R(r)\", fontsize=30)\n",
    "plt.grid()\n",
    "ax1.tick_params(axis = 'x', which = 'major', labelsize = 24)\n",
    "ax1.tick_params(axis = 'y', which = 'major', labelsize = 24)\n",
    "leg = ax1.legend(fontsize=30)"
   ]
  },
  {
   "cell_type": "markdown",
   "metadata": {},
   "source": [
    "<strong style=\"color: green;\">What about the probability densities?</strong>"
   ]
  },
  {
   "cell_type": "markdown",
   "metadata": {},
   "source": [
    "**Recall:** <br/>\n",
    "The **radial probability density** can be computed as : \n",
    "<br/>\n",
    "$$\\begin{align}\n",
    "|R_{nl}(r)|^{2}r^{2}\n",
    "\\end{align}\n",
    "$$"
   ]
  },
  {
   "cell_type": "code",
   "execution_count": null,
   "metadata": {},
   "outputs": [],
   "source": [
    "# Computing probability densities\n",
    "D_2p = (r**2)*np.square(R_nl_2p(r)) #2p probability density\n",
    "D_3p = (r**2)*np.square(R_nl_3p(r)) #3p probability density"
   ]
  },
  {
   "cell_type": "code",
   "execution_count": null,
   "metadata": {},
   "outputs": [],
   "source": [
    "r = np.linspace(0, 30, 1000)\n",
    "\n",
    "#Plot the densities\n",
    "\n",
    "fig = plt.figure(figsize=(50,40))\n",
    "\n",
    "#plot 2p and 3p radial distribution\n",
    "ax1 = fig.add_subplot(3,2,3)\n",
    "ax1.plot(r, D_2p, 'g', label='2p')\n",
    "ax1.plot(r, D_3p, 'b', label='3p')\n",
    "plt.xlabel(\"r/a$_{0}$\", fontsize=30)\n",
    "plt.ylabel(\"r$^{2}$R$^{2}$(r)\", fontsize=30)\n",
    "plt.grid()\n",
    "ax1.tick_params(axis = 'x', which = 'major', labelsize = 24)\n",
    "ax1.tick_params(axis = 'y', which = 'major', labelsize = 24)\n",
    "leg = ax1.legend(fontsize=30)"
   ]
  },
  {
   "cell_type": "markdown",
   "metadata": {},
   "source": [
    "<strong style=\"color: green;\">Now lets find out how the shape of these  orbitals are. Lets take a look at the wavefunction for 2$p_{x}$ and 3$p_{y}$:</strong> <br/>\n",
    "<br/>"
   ]
  },
  {
   "cell_type": "code",
   "execution_count": null,
   "metadata": {},
   "outputs": [],
   "source": [
    "# Determining wavefunction shapes of s orbitals for different n\n",
    "from sympy.abc import n, l, r, Z\n",
    "from sympy.physics import hydrogen\n",
    "from sympy.utilities.lambdify import lambdify\n",
    "\n",
    "# Determining wavefunction shapes of p orbitals for different n\n",
    "\n",
    "def prob_2px(x,y):\n",
    "    r=np.sqrt(np.square(x)+np.square(y))\n",
    "    return np.log10(np.square(x*np.exp(-r/2)/(4*np.sqrt(2*np.pi))))\n",
    "\n",
    "def prob_3py(x,y):\n",
    "    r=np.sqrt(np.square(x)+np.square(y))\n",
    "    return np.log10(np.square((np.sqrt(2)*(6-r)*y*np.exp(-r/3))/(81*np.sqrt(np.pi))))\n",
    "\n",
    "# Coordinates for the plot\n",
    "x1 = np.linspace(-40, 40, 800)\n",
    "y1 = np.linspace(-40, 40, 800)\n",
    "X1, Y1 = np.meshgrid(x1, y1)\n",
    "Z1 = prob_2px(X1, Y1)\n",
    "n_levels1 = np.arange(-10, 0, 0.05)\n",
    "\n",
    "x2 = np.linspace(-40, 40, 800)\n",
    "y2 = np.linspace(-40, 40, 800)\n",
    "X2, Y2 = np.meshgrid(x2, y2)\n",
    "Z2 = prob_3py(X2, Y2)\n",
    "n_levels2 = np.arange(-10, 0, 0.05)\n",
    "\n",
    "fig = plt.figure(figsize=(40,30))\n",
    "\n",
    "ax1 = fig.add_subplot(2,2,1)\n",
    "cs1 = ax1.contourf(X1, Y1, Z1, n_levels1, extend='both')\n",
    "plt.xlabel(\"x\", fontsize=40)\n",
    "plt.ylabel(\"y\", fontsize=40)\n",
    "plt.title(\"2px\", fontsize=40)\n",
    "cbar1 = fig.colorbar(cs1)\n",
    "cbar1.ax.tick_params(labelsize=24)\n",
    "ax1.tick_params(axis = 'x', which = 'major', labelsize = 30)\n",
    "ax1.tick_params(axis = 'y', which = 'major', labelsize = 30)\n",
    "\n",
    "ax2 = fig.add_subplot(2,2,2)\n",
    "cs2 = ax2.contourf(X2, Y2, Z2, n_levels2, extend='both')\n",
    "plt.xlabel(\"x\", fontsize=40)\n",
    "plt.ylabel(\"y\", fontsize=40)\n",
    "plt.title(\"3py\", fontsize=40)\n",
    "cbar2 = fig.colorbar(cs2)\n",
    "cbar2.ax.tick_params(labelsize=24)\n",
    "ax2.tick_params(axis = 'x', which = 'major', labelsize = 30)\n",
    "ax2.tick_params(axis = 'y', which = 'major', labelsize = 30)\n",
    "\n",
    "plt.show()"
   ]
  },
  {
   "cell_type": "markdown",
   "metadata": {},
   "source": [
    "#### <span style=\"color:red\">1.4.2 d-Orbitals"
   ]
  },
  {
   "cell_type": "markdown",
   "metadata": {},
   "source": [
    "* For l = 2, we have a d-orbital "
   ]
  },
  {
   "cell_type": "markdown",
   "metadata": {},
   "source": [
    "<strong style=\"color: green;\">Now lets find out how the shape of the d orbitals are. Lets take a look at the wavefunction for 3$d_{xy}$ and 3$d_{z^{2}}$:</strong> <br/>\n",
    "<br/>"
   ]
  },
  {
   "cell_type": "code",
   "execution_count": null,
   "metadata": {
    "scrolled": true
   },
   "outputs": [],
   "source": [
    "# Define the probability densities of 3dz^2 and 3dxz orbitals\n",
    "\n",
    "def prob_3dz2(x,z):\n",
    "    r=np.sqrt(np.square(x)+np.square(z))\n",
    "    return np.log10(np.square((2*(z**2)-(x**2))*np.exp(-r/3)/(81*np.sqrt(6*np.pi))))\n",
    "\n",
    "def prob_3dxz(x,z):\n",
    "    r=np.sqrt(np.square(x)+np.square(z))\n",
    "    return np.log10(np.square((np.sqrt(2))*x*z*np.exp(-r/3)/(81*np.sqrt(np.pi))))\n",
    "\n",
    "# Coordinates for the plot\n",
    "x1 = np.linspace(-40, 40, 800)\n",
    "y1 = np.linspace(-40, 40, 800)\n",
    "X1, Y1 = np.meshgrid(x1, y1)\n",
    "Z1 = prob_3dz2(X1, Y1)\n",
    "n_levels1 = np.arange(-10, 0, 0.05)\n",
    "\n",
    "x2 = np.linspace(-40, 40, 800)\n",
    "y2 = np.linspace(-40, 40, 800)\n",
    "X2, Y2 = np.meshgrid(x2, y2)\n",
    "Z2 = prob_3dxz(X2, Y2)\n",
    "n_levels2 = np.arange(-10, 0, 0.05)\n",
    "\n",
    "fig = plt.figure(figsize=(40,30))\n",
    "\n",
    "ax1 = fig.add_subplot(2,2,1)\n",
    "cs1 = ax1.contourf(X1, Y1, Z1, n_levels1, extend='both')\n",
    "plt.xlabel(\"x\", fontsize=40)\n",
    "plt.ylabel(\"y\", fontsize=40)\n",
    "plt.title(\"3d$_{z^{2}}$\", fontsize=40)\n",
    "cbar1 = fig.colorbar(cs1)\n",
    "cbar1.ax.tick_params(labelsize=24)\n",
    "ax1.tick_params(axis = 'x', which = 'major', labelsize = 30)\n",
    "ax1.tick_params(axis = 'y', which = 'major', labelsize = 30)\n",
    "\n",
    "ax2 = fig.add_subplot(2,2,2)\n",
    "cs2 = ax2.contourf(X2, Y2, Z2, n_levels2, extend='both')\n",
    "plt.xlabel(\"x\", fontsize=40)\n",
    "plt.ylabel(\"y\", fontsize=40)\n",
    "plt.title(\"3d$_{xz}$\", fontsize=40)\n",
    "cbar2 = fig.colorbar(cs2)\n",
    "cbar2.ax.tick_params(labelsize=24)\n",
    "ax2.tick_params(axis = 'x', which = 'major', labelsize = 30)\n",
    "ax2.tick_params(axis = 'y', which = 'major', labelsize = 30)\n",
    "\n",
    "plt.show()\n",
    "\n",
    "#Random coordinates\n",
    "#x = np.linspace(-16, 16, 800)\n",
    "#z = np.linspace(-16, 16, 800)\n",
    "\n",
    "#X, Z = np.meshgrid(x, z)\n",
    "#Y = prob_3dz2(X, Z)\n",
    "\n",
    "#x = np.linspace(-12, 12, 800)\n",
    "#y = np.linspace(-12, 12, 800)\n",
    "#X, Z = np.meshgrid(x, z)\n",
    "#YY = prob_3dxz(X,Z)\n",
    "\n",
    "# Plotting the orbitals\n",
    "\n",
    "#fig = plt.figure(figsize=(30,30))\n",
    "#ax = fig.add_subplot(2,2,1)\n",
    "\n",
    "#cs = ax.contourf(X, Z, Y)\n",
    "#plt.xlabel(\"x\", fontsize=40)\n",
    "#plt.ylabel(\"z\", fontsize=40)\n",
    "#plt.title(\"3d$_{z^{2}}$\", fontsize=40)\n",
    "#cbar = fig.colorbar(cs)\n",
    "\n",
    "#cbar.ax.tick_params(labelsize=24)\n",
    "#ax.tick_params(axis = 'x', which = 'major', labelsize = 34)\n",
    "#ax.tick_params(axis = 'y', which = 'major', labelsize = 34)\n",
    "\n",
    "#ax1 = fig.add_subplot(2,2,2)\n",
    "#cs = ax1.contourf(X, Z, YY)\n",
    "#plt.xlabel(\"x\", fontsize=40)\n",
    "#plt.ylabel(\"z\", fontsize=40)\n",
    "#plt.title(\"3d$_{xz}$\", fontsize=40)\n",
    "#cbar = fig.colorbar(cs)\n",
    "\n",
    "#cbar.ax.tick_params(labelsize=24)\n",
    "#ax1.tick_params(axis = 'x', which = 'major', labelsize = 34)\n",
    "#ax1.tick_params(axis = 'y', which = 'major', labelsize = 34)\n",
    "\n",
    "#plt.show()"
   ]
  },
  {
   "cell_type": "markdown",
   "metadata": {},
   "source": [
    "<strong style=\"color: green;\">Exercise : </strong> <br/>\n",
    "*  Try plotting shapes of 3$d_{yz}$ and 4$d_{z^{2}}$. <br/>\n",
    "* What are the other types of d orbital? Try plotting them as well."
   ]
  },
  {
   "cell_type": "markdown",
   "metadata": {},
   "source": [
    "## <span style=\"color:blue\">2. Exercises</span>"
   ]
  },
  {
   "cell_type": "markdown",
   "metadata": {},
   "source": [
    "### 2.1. Exercise 1. "
   ]
  },
  {
   "cell_type": "markdown",
   "metadata": {},
   "source": [
    "**Calculate the probability of finding a hydrogen $1s$ electron within a distance of $a_0$ of the necleus.**"
   ]
  },
  {
   "cell_type": "markdown",
   "metadata": {},
   "source": [
    "*Solution:* <br/>\n",
    "<br/>\n",
    "Recall, that the radial wavefunction of $1s$ orbital of hydrogen ($Z = 1$) is calculated above in Equation (17), \n",
    "$$\\begin{align}\n",
    "R_{1s}(r) &= \\left(\\frac{2}{a_0^{3/2}}\\right)e^{-\\frac{r}{a_0}}\n",
    "\\end{align}$$\n",
    "<br/>\n",
    "**Hint : The probability of finding an electron between r and r + dr can be caomputed by integrating the radial probability density over the given limits.** <br/> \n",
    "<br/>\n",
    "Below is the analytical solution of the problem.\n",
    "<br/>\n",
    "$$\\begin{align}\n",
    "Prob\\{0\\leq r\\leq a_0\\} &= \\int^{a_0}_{0}r^2 |R_{1s}(r)|^{2} dr\\\\\n",
    "&=\\frac{4}{a_0^3}\\int^{a_0}_{0}r^2e^{-\\frac{2r}{a_0}} dr\n",
    "\\end{align}$$\n",
    "<br/>\n",
    "**For the analytical solution, its easier to convert the spherical coordinates to cartesian coordinates**<br/>\n",
    "<br/>\n",
    "Now if we use $x= \\frac{2r}{a_0}$ and $dr=\\frac{a_0}{2}dx$;\n",
    "$$\\begin{align}\n",
    "\\frac{4}{a_0^3}\\int^{a_0}_{0}r^2e^{-\\frac{2r}{a_0}} dr &= \\frac{4}{a_0^3}\\int^{2}_{0}  \\frac{a_0}{2}(\\frac{a_0}{2}x)^2 e^{-x} dx\\\\\n",
    "&=\\frac{1}{2}\\int^{2}_{0}x^2e^{-x}dx\\\\\n",
    "&= 0.32\n",
    "\\end{align}$$\n",
    "<br/>"
   ]
  },
  {
   "cell_type": "markdown",
   "metadata": {},
   "source": [
    "**Let us compare this result to the one generated using a simple python code. We will use the R_1s function already above.**<br/>"
   ]
  },
  {
   "cell_type": "code",
   "execution_count": null,
   "metadata": {},
   "outputs": [],
   "source": [
    "from scipy.integrate import quad\n",
    "from numpy import exp\n",
    "\n",
    "# Defining the upper and lower limits.\n",
    "\n",
    "upper = 1 # Upper limit\n",
    "lower = 0 # Lower limit\n",
    "\n",
    "# Performing integration over 0 and a0\n",
    "def integrand(r):\n",
    "    return (r**2)*np.square(R_nl_1s(r))\n",
    "    \n",
    "P, err = quad(integrand, lower, upper)\n",
    "print (\"Probability is\",P)"
   ]
  },
  {
   "cell_type": "markdown",
   "metadata": {},
   "source": [
    "**Now, try calculating the probability of finding a hydrogen 1s electron within the second Bohr radius. Does this result match your analytical results?**"
   ]
  },
  {
   "cell_type": "markdown",
   "metadata": {},
   "source": [
    "### 2.2. Exercise 2. "
   ]
  },
  {
   "cell_type": "markdown",
   "metadata": {},
   "source": [
    "**For an electron in a $1s$ orbital of hydrogen,**\n",
    "$$\\begin{align}\n",
    "\\Psi_{100} &= \\frac{1}{\\sqrt{\\pi}}\\frac{1}{a_0^{3/2}}e^{-\\frac{r}{a_0}}\n",
    "\\end{align}$$\n",
    "<br/>\n",
    "**calculate the expectation value $<x>$ where $x = r sin \\theta cos\\phi$ and interpret your result.**\n",
    "<br/>\n",
    "<br/>\n",
    "\n",
    "$Solution:$ <br/>\n",
    "<br/>\n",
    "The expectation value for $x$ for $x = r sin \\theta cos\\phi$ is \n",
    "$$\\begin{align}\n",
    "<x> &= \\int^{2\\pi}_{0}d\\phi\\int^{\\pi}_{0}d\\theta sin\\theta  \\int^{\\infty}_{0}dr \\ r^2 \\ r\\ sin \\theta cos\\phi \\frac{1}{\\pi} \\frac{1}{a_0^3}e^{-\\frac{2r}{a_0}}   \\\\\n",
    "&= \\frac{1}{\\pi a_0^3} \\int^{2\\pi}_{0}d\\phi \\ cos\\phi    \\int^{\\pi}_{0}d\\theta\\ sin^{2}\\theta  \\int^{\\infty}_{0}dr \\ r^2 \\ r\\ e^{-\\frac{2r}{a_0}}\n",
    "\\end{align}$$\n",
    "<br/>\n",
    "<br/>\n",
    "Now if we compute this integral $\\int^{2\\pi}_{0}d\\phi \\ cos\\phi$;"
   ]
  },
  {
   "cell_type": "code",
   "execution_count": null,
   "metadata": {},
   "outputs": [],
   "source": [
    "import scipy.integrate\n",
    "import numpy as np\n",
    "upper = 2 * np.pi # Upper limit\n",
    "lower = 0 # Lower limit\n",
    "fun= lambda phi:np.cos(phi)\n",
    "i,k = scipy.integrate.quad(fun, lower, upper)\n",
    "print (i)"
   ]
  },
  {
   "cell_type": "markdown",
   "metadata": {},
   "source": [
    "We see that $\\int^{2\\pi}_{0}d\\phi \\ cos\\phi = 0$.<br/>\n",
    "So the expectation value $<x>$ is $0$. \n",
    "This result tells us that average position of the electron in 1$s$ orbital is $0$. This matches our expectations as $s$ orbital is spherically symmetric."
   ]
  },
  {
   "cell_type": "markdown",
   "metadata": {},
   "source": [
    "**Now, try calculating the expectation value of an electron in the 2p orbital. Expression for a 2p orbital and conversion of spherical to cartesian coordinates are already mentioned above in the notebook.**"
   ]
  }
 ],
 "metadata": {
  "kernelspec": {
   "display_name": "Python 3",
   "language": "python",
   "name": "python3"
  },
  "language_info": {
   "codemirror_mode": {
    "name": "ipython",
    "version": 3
   },
   "file_extension": ".py",
   "mimetype": "text/x-python",
   "name": "python",
   "nbconvert_exporter": "python",
   "pygments_lexer": "ipython3",
   "version": "3.7.7"
  }
 },
 "nbformat": 4,
 "nbformat_minor": 4
}
