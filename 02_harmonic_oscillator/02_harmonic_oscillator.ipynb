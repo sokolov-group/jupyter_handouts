{
 "cells": [
  {
   "cell_type": "markdown",
   "metadata": {},
   "source": [
    "# <div style=\"text-align:center\">Handout: \"Harmonic Oscillator and Rigid Rotator\"</div>"
   ]
  },
  {
   "cell_type": "markdown",
   "metadata": {},
   "source": [
    "## <span style=\"color:blue\">1. Theoretical Background</span>"
   ]
  },
  {
   "cell_type": "markdown",
   "metadata": {},
   "source": [
    "### 1.1. Classical Harmonic Oscillator.\n",
    "***"
   ]
  },
  {
   "cell_type": "markdown",
   "metadata": {},
   "source": [
    "#### 1.1.2. Definition\n",
    "\n",
    "Classical Harmonic Oscillators are bodies which experience a restoring force anytime they experience a displacement away from their equilibrium position.\n",
    "\n",
    "For example, a mass connected to a wall by a spring will undergo harmonic oscillation if you perturb the body.\n",
    "\n",
    "![alt text](https://cdn.sciencebuddies.org/Files/8986/7/spring-oscillation-thumbnail.png \"logo\")\n",
    "***\n",
    "#### Solutions of the Classical Harmonic Oscillator\n",
    "The equation of motion for Classical Harmonic Oscillator:\n",
    "\\begin{align}\n",
    "m \\frac{d^{2}x}{dt^{2}} = -kx\n",
    "\\end{align}\n",
    "\n",
    " On solving the equation for Motion above, you will reach the following results:\n",
    "<div style=\"text-align:center\"> $$x(t) = A cos(\\omega t)$$</div>\n",
    "\n",
    "##### Important results that we get from the solution.\n",
    "  Amplitude:    $$A = x(0)$$\n",
    "  Angular Frequency:    $$\\omega = \\sqrt{\\frac{k}{m}}$$\n",
    "  Kinetic Energy:       $$K(t) = \\frac{m}{2} \\omega^{2} A^{2} \\sin^{2} {\\omega t}$$\n",
    "  Potential Energy:     $$V(t) = \\frac{k}{2} A^{2} \\cos^{2} {\\omega t}$$\n",
    "  Total Energy:         $$ E = K(t) + V(t) = \\frac{k}{2} A^{2}$$\n",
    "  \n",
    "***\n",
    "\n",
    "\n"
   ]
  },
  {
   "cell_type": "markdown",
   "metadata": {},
   "source": [
    "#### 1.1.3. Example:"
   ]
  },
  {
   "cell_type": "markdown",
   "metadata": {},
   "source": [
    "#### Question:\n",
    "Show that the Sum of Kinetic and Potential Energies of a classical Harmonic Oscillator is $\\frac{1}{2} kA^{2}$ at any given time.\n",
    "\n",
    "#### Solution:\n",
    "\n",
    "Total energy of any classical system is given by the sum of All kinetic and potential Energy contributions.\n",
    "\n",
    "In classical Harmonic Oscillator, \n",
    "\n",
    "$$ E = K(t) + V(t)$$\n",
    "$$ E = \\frac{m}{2} \\omega^{2} A^{2} \\sin^{2} {\\omega t} + \\frac{k}{2} A^{2} \\cos^{2} {\\omega t}$$\n",
    "\n",
    "We know that $m\\omega^2 = k$ from the angular frequency expression above:\n",
    "\n",
    "$$ E = \\frac{k}{2} A^{2} \\sin^{2} + \\frac{k}{2} A^{2} \\cos^{2}$$\n",
    "$$ E = \\frac{k}{2} A^{2} (\\sin^{2} + \\cos^{2})$$\n",
    "$$ E = \\frac{k}{2} A^{2}$$\n",
    "\n",
    "As we see, the total energy expression is in fact independent of time.\n",
    "***"
   ]
  },
  {
   "cell_type": "markdown",
   "metadata": {},
   "source": [
    "#### 1.1.4 Harmonic Oscillator for two Body system:"
   ]
  },
  {
   "cell_type": "markdown",
   "metadata": {},
   "source": [
    "Classical Harmonic Oscillations can be extended to a two body system as well. Take for example two boxes connected by a spring.\n",
    "\n",
    "\n",
    "![alt text](data:image/jpeg;base64,/9j/4AAQSkZJRgABAQAAAQABAAD/2wCEAAkGBxEQEBAQEBIQEBAWDxcVFRUVDxUWGhYXFxEWGBcVFhUYHiggGRolHRgYITEhJSk3Li4uFx8zODMtNygtLi0BCgoKBQUFDgUFDisZExkrKysrKysrKysrKysrKysrKysrKysrKysrKysrKysrKysrKysrKysrKysrKysrKysrK//AABEIAIgBcwMBIgACEQEDEQH/xAAcAAEAAgMBAQEAAAAAAAAAAAAABgcBBAUDAgj/xABIEAABAwIDAwYJCQcDBAMAAAABAAIDBBEFBiEHEjETFSJBUVUXMmFxdYGUsdMUM1KRkpWy0uE1NkJTc5OhIyR0Q2JywRYlJv/EABQBAQAAAAAAAAAAAAAAAAAAAAD/xAAUEQEAAAAAAAAAAAAAAAAAAAAA/9oADAMBAAIRAxEAPwC8UREC60TjNKDY1FODe1uXZx7OK3VU2a6SMZrwcCNlnUzy7oN6RDaixOmqC0YMQhkJEcsTyOIbI13HhwK93SAC5IA7SbKFbUcIpjhlVUENhmgiMkMzAGPZI3xQ1416Rs23/ctzZ7VSV2EUcla0SPfEd/faDvhsjg15B0O8AD5b3Qd/DsUgqQ91PNFO1ryxxjka8BwAJaS3S+o0W4q02EMDaKsaAA0YlKAB1ANYpxW4/TQlwkla0s8ewLtwdr90HcHldZB00XjS1TJWNkic2SNwu1zXBwcO0EaELSrcwUsJeJZWs3Bd/Ehg7XkAhg89kG3W10ULDJNJHEwC5c97WgecuNgvqkqo5o2SxObJG9ocxzTcOaeBB6wobtVZDPglZKBHKBAHRv6LgLvZZzHf+wtnKmLQUeC4dNUyCGIUUAL3A2BMbQL2Gmvb2oJel1qYbiUVSzfhcXsvx3HNvpfTeAuPKtbH6GSoi5Bj3RNe8Nle11nCPXeDD1Odo2/VvFBux1sTnFjZI3PHFoeCR5wNQva6qXaNs/o6OhfX4e11JV0u7I2RkryXWeA4OLibmxJvxvx0Vk5aq3z0VJNKLSyUsUjxa1nPia5wt1akoOkiIgIiICIiAiIgIiICw42F1lEHC/8AmOH8pyPyqHlr25Pe6d7X8TjwW1BmGjfIIm1EPKnhGZA15/8AFjrE+oKAVg//AGNP6MPulXU21x0/NMz5t0SsLXU7uDhLvi24RqNLoJrX18NOwyzyRwxji57w0Ds1PWtfA8agrYuXpniWLfc0PAIBLTY2v1Ln5ddM/C6d1UDy5ogZN4a73J638qjmwj9js/5E340FiIuHPmqma2SQctJFGSJJYqeSRjN2+90mtO9axvu3tbVdOgr4qiNk0D2yxPF2va64I86DZXKx7MdJQs36ueOEEXAc7pOt9Fg1d6gtaszbSxRyykyvgjJEk0cEkkbC02d02g726dDu3sQQbEKM7Y6iObAZ5Y3NkjdyLmPbYggysIIPYgn9JO2RjJGatewOae0OAIP1FeqjcWORUWH0UkwlLXQQsHJxOkO8Ym2G6y518gXboKwTM3wyWMX4SMLHefdOqDZJWjTYxTSSugjnhkmY272Mka5zRe13AHo+tbkjA4FpAIIsQRcEHiCFXGXKZkeZsSbGxrG/IYjZrQBe46ggslERAREQEREBERAREQFU+doOUzTgzC57L0r9WPLXCwnOjhw4fUrXKrvGsuYhPjFHibYqYMpmFgjNU4F4cJAXF3JkNPTOljw466B7bQckuqqZz4qiodJEOUbDNMZIZSzpbkkZ0N+F/Mt7ZXmg4nh7JnxsikY4xOawWZ0QLFo6hYjTqWzj8WJVMElPAympOUYWumdO6UsB0duRhgubX1J9S9MqZbGFULKWmHLPbdxc48nyj3cSfG3Rw01sB1oIRswrnU+D4xOwAviqquRt+F2xNcPVdSjZK1rsIppL77peUklcdS+R8juULu0309S1tnGV6qhgqqasZBJFNM+UlkhPzjQHRuYW6jTjfr4LYypl2rwpslNT8nVURkdJCJJXRvh3tTGSGOD2Xub8eOmqCM5RrJKGpzHSw35CmJnhZqQxz2OcWtB4Dhp5CpRs0hjnwan3v9Tl4nmck6yPkc4SF56yV0sAy42AVT5SJp6qV0k7tyzSCN1sbQTfca2zdTrqdL2ETwbJ2LYY+WHDqqmdQvkc9jKiN5dDvdQ3ePq48dEHtm7BIaDLtdSQOe6OOI+O7ecC6Vr90nq8YaeULlbP8ZbUPoMPrGOibHh1PJSxuIMdSRE0mVx/iLf4WHhuk8QLSnM+XaqbDZqGIxzTTg8tPI7kxvEtJeGAO06Ng2+gA1XFxTJFXPhlDAGww4hR8k2CobObAMADnX3L2IaOh22101Cy28EsuZgL6sxNFayFswaAXRSFzXm2rg0tBZ5tfOvDNTa51O5mH8k2d3R35XECMEHpNaAd53ZfQcfIg52ZKfnJ/N7T/tmSMfWO6iGkPZTNP0nENLuxvlcFKY2gAACwAsB2AdSr2goMwwRtiiGFtaL9UpJJJLnuPW4k3JPEklTPLtPPHTxtqpBLUkb0rgLN33EktYOpjb7o8jQeJKDpIiICIiAiIgIiICIiAiL5cezjbRBVWMUjJs307JBvN5svbeI1HK21BC6e0jJkPyWWvpi+GrpY3Txu5Rz2/wCk0uIMchLeAPUvaXJ9c7Fm4r8opN9sPIti5CTd3LHi7fvvXcTddPMuAVtfC6mkqYaaneLS8jA50j29bA97rNB4eKeKDx2fZikxLCW1MwAl3ZGPIFg4suN4DquLeu6hmSauSHKdXLES2RoqS0jiOla48ysmlwMUlC2joQyMNjLGb4Lhrfec7dsS4kk+UlcnIeUpcPo30M8kNTCXPNxE5pPKeM1wJII48O1Bs7NWs5ow7cHR+SMuO026V/XdV9l+WWjoc0xU5LYoJpTDbTky5jt7ctwsLfUFO8vZYqcPY+npaiN1KXOdC2aFz3wbxuWhzXjlGdgNiO0rqYPl2Gmp5KcAyiV0j53PAJmfL47n201GluAAA6kHOyNDBUYNRRhrHwPoWMc3Qg9Ddkabde9vA+UFR3afQQU2XaimphuwxOjYG7xdY8s0kEnUm5XthOzytoXvjoMUkp6Fzy4QupmyOjuRcMe42v5SPODxXVzflCWsw/m6CVkUZ3S+SRjpJHOEm+XXBALnO1JPWT6g4OR8bJr2UeINayoFFC6hs4mMwmEbxYD/ANQkOuePRIHDWzwFAsxZGnrKSjiM0EVXSvYYqlkT7tDGtHRBdxJaCRe2gUwwhlS2MNqnxSSAWL42OYHeUtcTY+tBvKu8F/efEf8AgRe8Kwn3sbWvbS/b1XUKw/K1dFic+ImelcZYmxujEEgs1trbrt/igm6LAWUBERAREQEREBERAREQEVYVG2ACWaKLDqycRTPic5liN5jiDwHr9a+fC8/unEPs/ogtFFV3hef3TiH2f0TwvP7pxD7P6ILRRVd4Xn904h9n9E8Lz+6cQ+z+iC0UVXeF5/dOIfZ/RPC8/unEPs/ogtFYVX+F5/dOIfZ/RZg2vgywRSYdVw8rOyJrpCAN57gOseW6Cz0REBERAREQEREBERAREQEsshEBERAREQEREBERAREQEKIgwiIgIiICIsoMIsogIiICIiCmNnvjYr6Wn96l91ENnvjYr6Wn96l6BdLoiBdLoiBdLoiBdQ/aEf8AUwj0tB+JTBQ7aD85hPpaD3oLoRCiAiIgIiICj+esTdS4fU1DH7j2RktO7fXQAWXfKrvbDXsEdHSvJa2WqYXkD+BnScLepBL8ryTOo6d9QQ6Z0LXPsLaltzousFFsFiNW6OtbI5sBYOSjadC22jipSgIiIMhFhEGUREBERAREQEREBERAREQEREBERAREQEREBERAREQUxs98bFfS0/vUvUQ2e+Nivpaf3qXoCIiAiIgIiICh20H5zCfS0HvUxUN2ivDX4U4mzRisJJ8gKC6boq5qtqTJXmPDqSoryDq9jbN9TjxXm3auyBwZiNJU0LiLgvbcHzWQWUUuq0i2nT1F3UGG1VTFfSTQA/5X2zavHA7cxGkqaFxFxvtBB81kFkLF1WrNp8tTc4fh1VUxg25SwDSvh+2KCAujraWopZgL7jmg+5BZrlEK7L0lRizKiYNdSR07mtB1u94AJsuFT7SquobylJhVVLEeD7tsf8r6ZtZjgeI8RpKmicRcFzQQfNZB1cm4LW0UktKS00TZC6J1+lukkhnq0U2uqzh2nTVI3qDDaupiv84LAH6yg2uxQO5PEKWpo5N24Dmg3+ooLMQqtItpdTUDlKLC6ueK+knRAPmWBtfghc6OvpqijlAvuuaDf6kFmXRVpDtJq5xylJhVXNCeD+iAR2hZZtfpYi5lbBUUkzRfcc0En6kFlKr9r+JVjKrCaejqZKXl3zNe5nXYw7pI67XP1r1i2j1kwElLhNXLAfFfoN4do1URzVmh1fimCtkpp6SSKeTebK219/k7bpHHxT9YQdTmPGO+p/7f6pzJjHfU/wDb/VS5EER5kxjvqf8At/qnMmMd9T/2/wBVLkQRHmTGO+p/7f6pzJjPfU/9v9VLkQRLKdbiMGO09FU18tXE+kfKQ4WHB4AI8hbf1q5Aqfo/3qo/RrvxTK4UBERAREQEREBYuizZAREQEREBERBTGz3xsV9LT+9S9RDZ742K+lp/epegIiICIiAiIgKF7R4w52FNOoOKRA+Ymymih+0H5zCfS0HvQW3RUMVNHuQsbGxrdA0W4BVnlXCW4xXVtbWgSxwyGCGI6htuLrdqtaRtwR2iyq3JWItwzEcQoKpwibJKZ4Xv0DrnVt0HxHTHAsVgihc75FVucOTvoxw7PrXzlLCG41U1WI1w5WJs74YIz4oa0lpNu269K2rbi+N0rYDylPSAufIPFLj1BMh4nHhtXX4bVOEP+5dLC5+gcx+uhQfFLTnAsVZDE4/IqpjyGfQkAuLf5X1s0wKHEGVWIVjGzSTTPaA4XDWAkWHqX38rGLY7GYOnS0sL96S12l7hugAps4xRmHSVeGVbhC5sznxF5sHtc48Cg8qNrsDxU0sTnGingfM1hPzbm6EDyHRfWScAbisk2J4gOXu9zIY3atY0G17epYY8Yxjj5ITv0tLTOi3xwc95ubHyaL22a41HROqsNq3iGSOZz2F/RDmE3FieKDUoCcCxOWmY4mkmhdKxh4MLdTZe2zzLMeJMlxSvHyh87nCMO1DIxoAB2r5pCMYxieaMXpYIHRNk6nOOht9S9tlmOR0cc+G1j2wS08ztwPNt6I8CCg18JlfguI1NG1xdSvp3zRt+i4C9h5F7bPMqxV8DsRrmiolqd4gOF9xpJsAvPCm874tWVUYJpY6Z0Ebupzy21wevVbOy3McVNTPw+se2Cale5lnm28wHRwQaGEVkmCVWIUIeZKdlGamEE+JxG6PJwW5kbJkNZTvra9oqJ6m5u7XdaeAatTCYDjNfilU0f7f5GaWN1tHk72o7epdTZrmaGGldR1cjYJ6dxDg82u0HQi/Ug88gPloMRqcIc8vgazlKe/EMJ4LW2tD/AO0y/wD1pvfAvfIL3V+K1+JgEU/zUJP8QabEjyFeO1v9qZf/AK8/vgQd5ERAREQEREEWo/3qo/RrvxTK4VT1H+9VH6Nd+KZXCgIiICIiAiIgIiICIiAiIgIiIKY2e+Nivpaf3qXqIbPfGxX0tP71L0BERAREQEREBQ7aD85hPpaD3qYqHbQfnMJ9LQe9BdC42YMr0leGiojDy3g7gR612kQcrAcv01Czk6aNsbeu3E+crwzBlSjrrfKIg9w4O4H613EQczBMCp6KPk6aMRt67cT5ytPMGUaOu3TURBzm8HDQj1rvog52C4JBRxiKnjbGy99BxPaT1rQzBk6jrnNfURBzxwcNDbsuFIEQc/CMHgpIxFTxtjYBwA965uPZLoq14kniDpB/ENCR2GykKINPCsLhpYxFAxsbBwAC5GO5Ioa1/KTxAv63DQnz24qRog1MMw2KmjbFAxscbeAAXHxvJFBWScrNCDJ1kaX89uKkayg1MPw+KnjbFCxscbRYNAVabW/2pl/+vP74Fayqra5+1Mv/ANef3wIO6iIgIiICIiCLUf71Ufo134plcKp6j/eqj9Gu/FMrhQEREBERAREQEREBERARa+IOkEUpha18wjcY2uduhzw07rXO6gTYXVd87Zp6sOovaY/iILMRVnztmnu6i9pZ8RZGL5p7uovaWfEQcPZ742K+lp/epeqoqNnGPOlmlbTujMsz5HBmIRtG89xJ0DvLb1L48G+YP5Uv3mz86C2kVS+DfMH8qX7zZ+dPBvmD+VL95s/OgtpFUvg3zB/Kl+82fnTwb5g/lS/ebPzoLaRVL4N8wfypfvNn518nZtmH6Ev3kz86C3FDtoPzmEeloPxKKeDXMP0JfvFn519U+zfH2ywyugMhimZI0Pro3DeY4EaF/ksg/SSKs+ds093UXtLPiJztmnu6i9pZ8RBZiKs+ds093UXtLPiJztmnu6i9pZ8RBZiKs+ds093UXtLPiJztmnu6i9pZ8RBZiKs+ds093UXtLPiJztmnu6i9pZ8RBZiKs+ds093UXtLPiJztmnu6i9pZ8RBZiKs+ds093UXtLPiJztmnu6i9pZ8RBZiKs+ds093UXtLPiJztmnu6i9pZ8RBZiqra5+1Mv/15/fAtnnbNPd1F7Sz4ii2dcu5ixV1O6ajhidBv7hiq42np7lzcv6twf5QT1FUfg1zD9CX7xZ+dPBrmH6Ev3iz86C3EVR+DXMP0JfvFn508GuYfoS/eLPzoLcRVH4Ncw/Ql+8WfnWPBrmH6Ev3iz86CaUf71Ufo134plcK/PmWslZhoatlY2lbNK1jmDla2Jws4W+nfrKm/O2ae7qL2hnxEFmIqz52zT3dRe0s+InO2ae7qL2lnxEFmIqz52zT3dRe0s+InO2ae7qL2lnxEFmIqz52zT3dRe0s+InO2ae7qL2lnxEFmLF1WnO+ae7qL2lnxFYeHukMURma1kxjaZGtdvNa/dG8A7rAN9UGyiwsoCxZEQZREQEREBERAREQEREBYREBERAREQEREBERAREQZWERAREQEREGUREBERAREQEREBERAREQEREGEREBERB//2Q==)\n",
    "\n",
    "#### Equation of Motion:\n",
    "\n",
    "For each mass, you'll have an equation of motion which can be written as:\n",
    "\n",
    "\n",
    "$$ \\frac{d^{2}x_1}{dt^2} = \\frac{k}{m_1} (x_{2} - x_{1} - l_{0})$$\n",
    "$$ \\frac{d^{2} x_2}{dt^2} = \\frac{-k}{m_2}(x_{2} - x_{1} - l_{0})$$\n",
    "\n",
    "On solving the coupled equation, you'll find that the two body problem reduces into a one body problem that we have solutions to. The reduced equation of motion looks like this:\n",
    "\n",
    "$$ \\mu \\frac{d^{2}x}{dt^2} = -kx $$\n",
    "where $\\mu$ is the reduced mass which is:\n",
    "\n",
    "$$\\frac{m_{2} m_{1}}{m_{2} + m_{1}}$$\n",
    "\n",
    "Therefore, for such systems:\n",
    "\n",
    "$$\\omega = \\sqrt{\\frac{k}{\\mu}}$$"
   ]
  },
  {
   "cell_type": "markdown",
   "metadata": {},
   "source": [
    "### 1.2. Quantum harmonic oscillator."
   ]
  },
  {
   "cell_type": "markdown",
   "metadata": {},
   "source": [
    "Now, let's consider the one-dimensional quantum harmonic oscillator. In this model, a particle is vibrating in a well described by a harmonic potential. Thus, the harmonic oscillator Hamiltonian will have the form:\n",
    "\n",
    "\\begin{align}\n",
    "\\hat{H} = \\frac{\\hat{p}_x^2}{2\\mu} + V(x) = - \\frac{\\hbar^2}{2\\mu} \\frac{\\mathrm{d}^2}{\\mathrm{d}x^2} + \\frac{k}{2}x^2\n",
    "\\end{align}\n",
    "\n",
    "The Schrödinger equation for the harmonic oscillator takes the form:\n",
    "\n",
    "\\begin{align}\n",
    "\\hat{H} \\Psi_n(x) = E_n \\Psi_n(x)\n",
    "\\end{align}\n",
    "\n",
    "\\begin{align}\n",
    "- \\frac{\\hbar^2}{2\\mu} \\frac{\\mathrm{d}^2}{\\mathrm{d}x^2}\\Psi_n(x) + \\frac{k}{2}x^2\\Psi_n(x) = E_n \\Psi_n(x)\n",
    "\\end{align}\n",
    "\n",
    "This equation can be solved analytically, but the solution is more complicated than solving the Schrödinger equation for the particle in a box."
   ]
  },
  {
   "cell_type": "markdown",
   "metadata": {},
   "source": [
    "### 1.3. Energy levels of quantum harmonic oscillator"
   ]
  },
  {
   "cell_type": "markdown",
   "metadata": {},
   "source": [
    "The energy levels of quantum harmonic oscillator are given by the following equation:\n",
    "\n",
    "\\begin{align}\n",
    "E_n = \\left( n + \\frac{1}{2} \\right) \\hbar \\omega = \\left( n + \\frac{1}{2} \\right) h \\nu\n",
    "\\end{align}\n",
    "\n",
    "where $\\omega$ is the angular frequency and $\\nu = \\frac{\\omega}{2\\pi}$ is the linear frequency. The angular frequency is related to the Hooke's constand $k$ and the reduced mass $\\mu$ as follows:\n",
    "\n",
    "\\begin{align}\n",
    "\\omega = \\sqrt{\\frac{k}{\\mu}}\n",
    "\\end{align}\n",
    "\n",
    "The energy spectrum of harmonic oscillator has several important properties:\n",
    "\n",
    "* **Energies are quantized**. The quantum number $n$ appearing in the energy expression can only take integer vales $n = 0, 1, 2, 3, \\ldots$\n",
    "\n",
    "* **Energy levels are equally-spaced**. The spacing between the energy levels is equal to $\\hbar \\omega$. \n",
    "\n",
    "* **In the ground level ($n=0$), the energy is not zero**. This energy is known as *zero-point energy* (ZPE). For the quantum harmonic oscillator, ZPE is given by:\n",
    "\n",
    "\\begin{align}\n",
    "E_0 = \\frac{\\hbar\\omega}{2}\n",
    "\\end{align}\n",
    "\n",
    "\n"
   ]
  },
  {
   "cell_type": "markdown",
   "metadata": {},
   "source": [
    "### 1.4. Quantum harmonic oscillator wavefunctions"
   ]
  },
  {
   "cell_type": "markdown",
   "metadata": {},
   "source": [
    "The quantum harmonic oscillator wavefunctions have a general form:\n",
    "\n",
    "\\begin{align}\n",
    "\\Psi_n(x) = N_n H_n (\\sqrt{\\alpha}x)e^{-\\alpha x^2 / 2}\n",
    "\\end{align}\n",
    "\n",
    "where $N_n$ is a normalization constant\n",
    "\\begin{align}\n",
    "N_n = \\frac{1}{\\sqrt{2^n \\,n!}}\\left( \\frac{\\alpha}{\\pi} \\right)^{1/4}\n",
    "\\end{align}\n",
    "\n",
    "$\\alpha$ is a constant that depends on the Hooke's constant $k$ and reduced mass $\\mu$\n",
    "\n",
    "\\begin{align}\n",
    "\\alpha = \\sqrt{\\frac{k\\mu}{\\hbar^2}}\n",
    "\\end{align}\n",
    "\n",
    "and functions $H_n (\\sqrt{\\alpha}x)$ are known as Hermite polynomials. The Hermite polynomials can be generated for different quantum numbers $n$ using a recursion relation\n",
    "\n",
    "\\begin{align}\n",
    "H_{n+1}(y) = 2y H_n(y) - 2nH_{n-1}(y)\n",
    "\\end{align}\n",
    "\n",
    "by starting with the zeroth-order and first-order Hermite polynomials: $H_0(y) = 1$ and $H_1(y) = 2y$.\n",
    "\n",
    "The harmonic oscillator wavefunctions have several notable properties:\n",
    "\n",
    "* **Wavefunction $\\Psi_n(x)$ of the $n$-th energy level has $n$ nodes**. Nodes are points when $\\Psi_n(x)=0$ and changes sign. The ground-state wavefunction $\\Psi_0(x)$ is no nodes. Each successive wavefunction has one more node, which increases its \"waviness\". These nodes are necessary to ensure that all wavefunctions are orthogonal to each other.\n",
    "\n",
    "* **Each wavefunction $\\Psi_n(x)$ is either an even or odd function**. Harmonic oscillator wavefunctions $\\Psi_n(x)$ alternate between being odd or even with increasing (or decreasing) quantum number $n$. This property is very important because it significantly simplifies calculation of averages of quantum-mechanical operators (e.g., average position or momentum).\n",
    "\n",
    "* **For each state, wavefunction and probability density are non-zero beyond the classical turning points**. This property is a manifistation of quantum-mechanical tunneling.\n",
    "\n",
    "\n",
    "\n"
   ]
  },
  {
   "cell_type": "markdown",
   "metadata": {},
   "source": [
    "#### Example 1. Plot the PIB wavefunction for the quantum number $n$ and box dimension $L$."
   ]
  },
  {
   "cell_type": "markdown",
   "metadata": {},
   "source": [
    "First, let's define a function that calculates the wavefunction of PIB for a specified box dimension L and quantum number n:"
   ]
  },
  {
   "cell_type": "code",
   "execution_count": 5,
   "metadata": {},
   "outputs": [],
   "source": [
    "# Use comments in your code cells to make the code more readible\n",
    "# Make sure your code is clean and variables have readable names\n",
    "\n",
    "# Import Python modules\n",
    "import matplotlib.pyplot as plt\n",
    "import numpy as np\n",
    "\n",
    "# Define function to calculate PIB wavefunction for a specified box dimension L, quantum number n, and position x\n",
    "def pib_wfn(n,L,x):\n",
    "    return np.sqrt(2/L)*np.sin(n*np.pi*x/L)"
   ]
  },
  {
   "cell_type": "markdown",
   "metadata": {},
   "source": [
    "Let's define parameters of our PIB model:"
   ]
  },
  {
   "cell_type": "code",
   "execution_count": 8,
   "metadata": {},
   "outputs": [],
   "source": [
    "n = 3          # PIB quantum number\n",
    "L = 10         # PIB dimension\n",
    "n_points = 100 # number of points used for the plot"
   ]
  },
  {
   "cell_type": "markdown",
   "metadata": {},
   "source": [
    "Now, let's plot the wavefunction:"
   ]
  },
  {
   "cell_type": "code",
   "execution_count": 9,
   "metadata": {},
   "outputs": [
    {
     "data": {
      "image/png": "[encoded data removed]",
      "text/plain": [
       "<Figure size 504x216 with 1 Axes>"
      ]
     },
     "metadata": {
      "needs_background": "light"
     },
     "output_type": "display_data"
    }
   ],
   "source": [
    "# Make sure that n is integer and n > 0\n",
    "n = int(n)\n",
    "if n < 1:\n",
    "    raise Exception (\"Quantum number n should be greater than 0\")\n",
    "\n",
    "# Define x points\n",
    "x_points = np.linspace(0,L,n_points)\n",
    "\n",
    "# Evaluate wavefunction at each x\n",
    "wfn_values = pib_wfn(n, L, x_points)\n",
    "\n",
    "# Set up graph and plot\n",
    "plt.figure(figsize=(7,3))\n",
    "plt.plot(x_points, wfn_values)\n",
    "plt.xlabel(\"L\", fontsize=20)\n",
    "plt.ylabel(\"Ψ\", fontsize=20)\n",
    "plt.title(\"n=\"+str(n), fontsize=16)\n",
    "plt.tight_layout()\n",
    "plt.grid()\n"
   ]
  },
  {
   "cell_type": "markdown",
   "metadata": {},
   "source": [
    "Now, go back and try choosing a different value of $n$!"
   ]
  },
  {
   "cell_type": "markdown",
   "metadata": {},
   "source": [
    "## <span style=\"color:blue\">2. Exercises</span>"
   ]
  },
  {
   "cell_type": "markdown",
   "metadata": {},
   "source": [
    "### 2.1. Exercise 1. "
   ]
  }
 ],
 "metadata": {
  "kernelspec": {
   "display_name": "Python 3",
   "language": "python",
   "name": "python3"
  },
  "language_info": {
   "codemirror_mode": {
    "name": "ipython",
    "version": 3
   },
   "file_extension": ".py",
   "mimetype": "text/x-python",
   "name": "python",
   "nbconvert_exporter": "python",
   "pygments_lexer": "ipython3",
   "version": "3.6.5"
  }
 },
 "nbformat": 4,
 "nbformat_minor": 4
}
