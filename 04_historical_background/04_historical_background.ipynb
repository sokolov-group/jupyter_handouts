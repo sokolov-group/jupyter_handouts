{
 "cells": [
  {
   "cell_type": "markdown",
   "metadata": {},
   "source": [
    "# <div style=\"text-align:center\">Handout: \"Historical Background\"</div>"
   ]
  },
  {
   "cell_type": "markdown",
   "metadata": {},
   "source": [
    "## <span style=\"color:blue\">1. Background</span>"
   ]
  },
  {
   "cell_type": "markdown",
   "metadata": {},
   "source": [
    "### 1.1. Classical vs Quantum Physics"
   ]
  },
  {
   "cell_type": "markdown",
   "metadata": {},
   "source": [
    "<ul>\n",
    "<li>Newton’s mechanics and Maxwell’s theory of electromagnetism are referred to as **classical physics**</li>\n",
    "<li>Despite success of classical physics, it could not explain several experimental observations that appeared at the end of XIX and the beginning of XX centuries\n",
    "</li>\n",
    "<li>Problems of classical physics:\n",
    "<ul>\n",
    "<li>Blackbody radiation</li>\n",
    "<li>Photoelectric effect</li>\n",
    "<li>Spectral lines</li>\n",
    "</ul>\n",
    "</li>\n",
    "<li>These observations can be correctly described using quantum mechanics: provides correct description of molecules, atoms, and subatomic particles</li>\n",
    "</ul>"
   ]
  },
  {
   "cell_type": "markdown",
   "metadata": {},
   "source": [
    "### 1.2. Electromagnetic radiation"
   ]
  },
  {
   "cell_type": "markdown",
   "metadata": {},
   "source": [
    "Heated objects emit radiation (glow)!  \n",
    "\n",
    "As the temperature increases, radiation changes from <span style=\"color:red\">red</span> to <span style=\"color:blue\">blue</span>.  \n",
    "\n",
    "Increasing temperature increases frequency $\\nu$"
   ]
  },
  {
   "cell_type": "markdown",
   "metadata": {},
   "source": [
    "<img src=\"../image/em_spectrum.png\" width=\"700\">  \n",
    "\n",
    "Source: Brown, T. L. Chemistry : The Central Science, 14th ed.; Pearson: New York, 2018.\n"
   ]
  },
  {
   "cell_type": "markdown",
   "metadata": {},
   "source": [
    "Frequency $\\nu$ and wavelength $\\lambda$ are inveresely related:\n",
    "\\begin{align}\n",
    "\\nu = \\frac{c}{\\lambda}\n",
    "\\end{align}\n",
    "where $c$ is the speed of light, $2.998*10^{-8} m/s$.  \n",
    "\n",
    "Increasing temperature $T$ increases frequency ($\\nu$) of the radiation"
   ]
  },
  {
   "cell_type": "markdown",
   "metadata": {},
   "source": [
    "## <span style=\"color:blue\">2. Failures of classical physics</span>"
   ]
  },
  {
   "cell_type": "markdown",
   "metadata": {},
   "source": [
    "### 2.1. Blackbody Radiation"
   ]
  },
  {
   "cell_type": "markdown",
   "metadata": {},
   "source": [
    "Most *real* objects absorb and emit light at **certain** frequencies  \n",
    "\n",
    "A blackbody is an *ideal/unphysical* object which absorbs and emits at **all** frequencies  "
   ]
  },
  {
   "cell_type": "markdown",
   "metadata": {},
   "source": [
    "### 2.2. Rayleigh-Jeans Law"
   ]
  },
  {
   "cell_type": "markdown",
   "metadata": {},
   "source": [
    "Classically, the energy density of a blackbody came from the work done by Lord Rayleigh and J.H. Jeans and is appropriately-named the **Rayleigh-Jean's law**.\n",
    "\n",
    "\\begin{align}\n",
    "\\rho_\\nu (T) d\\nu = \\frac{8 \\pi k_B T}{c^3} \\nu^2 d\\nu\n",
    "\\end{align}\n",
    "\n",
    "\n",
    "The Rayleigh-Jeans theory assumes that radiation is emitted by *oscillating* electrons with energies that have **any** values\n",
    "\n",
    "In the next few sections of this notebook, we will explore the failure of Rayleigh-Jean's law at modeling high frequency radiation!"
   ]
  },
  {
   "cell_type": "markdown",
   "metadata": {},
   "source": [
    "#### Example: Rayleigh-Jeans Law"
   ]
  },
  {
   "cell_type": "markdown",
   "metadata": {},
   "source": [
    "First, let's define some constants:"
   ]
  },
  {
   "cell_type": "code",
   "execution_count": null,
   "metadata": {},
   "outputs": [],
   "source": [
    "# Use comments in your code cells to make the code more readible\n",
    "# Make sure your code is clean and variables have readable names\n",
    "\n",
    "# Import Python modules\n",
    "import matplotlib.pyplot as plt\n",
    "import numpy as np\n",
    "\n",
    "# Define constants\n",
    "h = 6.634*10**(-34) # (J/s)  Planck's constant\n",
    "c = 2.998*10**(17)  # (nm/s) Speed of light\n",
    "k = 1.381*10**(-23) # (J/K)  Boltzmann constant"
   ]
  },
  {
   "cell_type": "markdown",
   "metadata": {},
   "source": [
    "Now, we define a function for Rayleigh-Jean's law that takes a temperature $T$ $(K)$ and a range of wavelengths $\\lambda$ $(nm)$ as parameters:"
   ]
  },
  {
   "cell_type": "code",
   "execution_count": null,
   "metadata": {},
   "outputs": [],
   "source": [
    "# Define function to calculate blackbody energy density using Rayleigh-Jean's Law\n",
    "def rj_law(la,temp):\n",
    "    return (8.0*np.pi*k*temp)/(la**4)"
   ]
  },
  {
   "cell_type": "markdown",
   "metadata": {},
   "source": [
    "Next, we can define parameters of our plot (feel free to experiment with these values to see how the plot changes!)"
   ]
  },
  {
   "cell_type": "code",
   "execution_count": null,
   "metadata": {},
   "outputs": [],
   "source": [
    "la = np.arange(100,6100,50)    # range of wavelengths from 500 to 6000, increments of 100 (units: nm)\n",
    "T  = 5500                      # temperature (units: Kelvin)"
   ]
  },
  {
   "cell_type": "markdown",
   "metadata": {},
   "source": [
    "Now, let's plot the energy density of the blackbody radiation that Rayleigh-Jean's Law predicts for this range of wavelengths"
   ]
  },
  {
   "cell_type": "code",
   "execution_count": null,
   "metadata": {},
   "outputs": [],
   "source": [
    "# Evaluate wavefunction at each x\n",
    "rj_energy_values = rj_law(la,T)\n",
    "\n",
    "# Set up graph and plot\n",
    "plt.figure(figsize=(10,5))\n",
    "plt.plot(la, rj_energy_values)\n",
    "plt.xlabel('λ (nm)', fontsize=20)\n",
    "plt.ylabel('ρ (T)', fontsize=20)\n",
    "plt.title('Rayleigh-Jean\\'s Law', fontsize=16)\n",
    "plt.tight_layout()\n",
    "plt.grid()"
   ]
  },
  {
   "cell_type": "markdown",
   "metadata": {},
   "source": [
    "**Question: What do you notice as wavelength decreases/frequency increases?**\n",
    "\n",
    "**<span style=\"color:red\">Problem: Classical theory and experiment diverge as frequency of radiation approaches ultraviolet region!</span>**"
   ]
  },
  {
   "cell_type": "markdown",
   "metadata": {},
   "source": [
    "### 2.3. Planck's Distribution Law"
   ]
  },
  {
   "cell_type": "markdown",
   "metadata": {},
   "source": [
    "In 1900, Max Planck provided the first successful explanation of blackbody radiation. Planck assumed that energies of electrons are discrete -- proportional to an integral multiple of the frequency:\n",
    "\\begin{align*}\n",
    "E = nh\\nu \\ \\ \\ \\ \\ \\ \\ \\ \\ \\ \\ \\ n &= 0,1,2,3\\cdots \\\\\n",
    "                                  h &= 6.626 * 10^{-34} J \\cdot s \\ \\ \\ \\ \\ \\ \\ \\ \\ \\text{Planck's constant}\n",
    "\\end{align*}\n",
    "\n",
    "Using this quantization of energy, Planck then derived his own equation for energy density:\n",
    "\n",
    "\\begin{align}\n",
    "\\rho_\\nu (T) d\\nu = \\frac{8 \\pi h}{c^3} \\frac{\\nu^3 d\\nu}{e^{h\\nu/k_B T}-1}\n",
    "\\end{align}\n",
    "\n",
    "Notice that Planck's distribution law reduces to Rayleigh-Jeans law at small $\\nu$!"
   ]
  },
  {
   "cell_type": "markdown",
   "metadata": {},
   "source": [
    "#### Example: Planck's Distribution Law"
   ]
  },
  {
   "cell_type": "markdown",
   "metadata": {},
   "source": [
    "Let's define another function, this time for Planck's distribution law:"
   ]
  },
  {
   "cell_type": "code",
   "execution_count": null,
   "metadata": {},
   "outputs": [],
   "source": [
    "# Define function to calculate blackbody energy density using Planck's Distribution Law\n",
    "def plancks_law(la,temp):\n",
    "    return ((8.0*np.pi*h*c)/(la**5) * np.e**(-h*c/(la*k*temp)))/(1-np.e**(-h*c/(la*k*temp)))"
   ]
  },
  {
   "cell_type": "markdown",
   "metadata": {},
   "source": [
    "Now we can plot the blackbody energy density spectrum at the same wavelengths $\\lambda$ and the same temperature $T$."
   ]
  },
  {
   "cell_type": "code",
   "execution_count": null,
   "metadata": {},
   "outputs": [],
   "source": [
    "# Evaluate energy density at each wavelength @ temp T\n",
    "p_energy_values = plancks_law(la,T)\n",
    "\n",
    "# Set up graph and plot\n",
    "plt.figure(figsize=(10,5))\n",
    "plt.plot(la, p_energy_values)\n",
    "plt.xlabel('λ (nm)', fontsize=20)\n",
    "plt.ylabel('ρ (T)', fontsize=20)\n",
    "plt.title('Planck\\'s Distribution Law', fontsize=16)\n",
    "plt.tight_layout()\n",
    "plt.grid()"
   ]
  },
  {
   "cell_type": "markdown",
   "metadata": {},
   "source": [
    "### 2.4. Application: Surface temperature of star from spectral data"
   ]
  },
  {
   "cell_type": "code",
   "execution_count": null,
   "metadata": {},
   "outputs": [],
   "source": [
    "# Create variable for the name of the file\n",
    "### All y-axis units are in W/cm^2/micron and x-axis units are in microns ###\n",
    "\n",
    "#filename = 'star_data/hd114710um.txt'\n",
    "#starname = 'HD114710'\n",
    "filename = 'star_data/hd206860um.txt'\n",
    "starname = 'HD206860'\n",
    "#filename = 'star_data/hd128167um.txt'\n",
    "#starname = 'HD128167'\n",
    "\n",
    "# Make empty lists to append values from star data file\n",
    "x_values = []\n",
    "y_values = []\n",
    "\n",
    "# Open and read data from file\n",
    "infile = open(filename, 'r')\n",
    "\n",
    "lines = infile.readlines()\n",
    "\n",
    "for line in lines:\n",
    "    sline = line.split()\n",
    "    if float(sline[0])*1000 <= 6000 and float(sline[1]) > 0:\n",
    "        x_values.append(float(sline[0])*1000.)               # Division by  1000 for unit conversion from data \n",
    "        y_values.append(float(sline[1])/100000000000000000.) # Division by 10^17 for unit conversion from data\n",
    "        \n",
    "# Close the file\n",
    "infile.close()\n",
    "\n",
    "# Set up graph and plot\n",
    "plt.figure(figsize=(10,5))\n",
    "plt.plot(x_values, y_values)\n",
    "plt.xlabel('λ (nm)', fontsize=20)\n",
    "plt.ylabel('ρ', fontsize=20)\n",
    "plt.title('Spectral distribution of %s' % starname, fontsize=16)\n",
    "plt.tight_layout()\n",
    "plt.grid()"
   ]
  },
  {
   "cell_type": "markdown",
   "metadata": {},
   "source": [
    "Stellar spectra obtained by:  \n",
    "Antígona Segura, Kara Krelove, James F. Kasting, Darrell Sommerlatt, Victoria Meadows, David Crisp, Martin Cohen, and Eli Mlawer.Astrobiology.Dec 2003.689-708. http://doi.org/10.1089/153110703322736024"
   ]
  },
  {
   "cell_type": "markdown",
   "metadata": {},
   "source": [
    "What we will do next is run a non-linear least-squares fitting function on this spectral data with the Planck's Distribution Law equation to determine the \"predicted\" temperature of the star HD114710:"
   ]
  },
  {
   "cell_type": "code",
   "execution_count": null,
   "metadata": {},
   "outputs": [],
   "source": [
    "from scipy.optimize import curve_fit\n",
    "\n",
    "pred_T, covariance = curve_fit(plancks_law, x_values, y_values, p0=4000)\n",
    "\n",
    "print ('Predicted temperature: %f K' % pred_T)"
   ]
  },
  {
   "cell_type": "markdown",
   "metadata": {},
   "source": [
    "Now, let's plot the spectral data and Planck's distribution law with our predicted temperature!"
   ]
  },
  {
   "cell_type": "code",
   "execution_count": null,
   "metadata": {},
   "outputs": [],
   "source": [
    "# Calculate new y-values with fitted temperature\n",
    "fit_p_energy_values = plancks_law(la,pred_T)\n",
    "\n",
    "# Set up graph and plot\n",
    "plt.figure(figsize=(10,5))\n",
    "plt.plot(x_values, y_values)\n",
    "plt.plot(la, fit_p_energy_values)\n",
    "plt.xlabel('λ (nm)', fontsize=20)\n",
    "plt.ylabel('ρ (T)', fontsize=20)\n",
    "plt.title('Planck\\'s Distribution Law fit to spectral distribution of %s' % starname, fontsize=16)\n",
    "plt.tight_layout()\n",
    "plt.grid()"
   ]
  }
 ],
 "metadata": {
  "kernelspec": {
   "display_name": "Python 3",
   "language": "python",
   "name": "python3"
  },
  "language_info": {
   "codemirror_mode": {
    "name": "ipython",
    "version": 3
   },
   "file_extension": ".py",
   "mimetype": "text/x-python",
   "name": "python",
   "nbconvert_exporter": "python",
   "pygments_lexer": "ipython3",
   "version": "3.6.12"
  },
  "latex_envs": {
   "LaTeX_envs_menu_present": true,
   "autoclose": false,
   "autocomplete": true,
   "bibliofile": "biblio.bib",
   "cite_by": "apalike",
   "current_citInitial": 1,
   "eqLabelWithNumbers": true,
   "eqNumInitial": 1,
   "hotkeys": {
    "equation": "Ctrl-E",
    "itemize": "Ctrl-I"
   },
   "labels_anchors": false,
   "latex_user_defs": false,
   "report_style_numbering": false,
   "user_envs_cfg": false
  }
 },
 "nbformat": 4,
 "nbformat_minor": 4
}
