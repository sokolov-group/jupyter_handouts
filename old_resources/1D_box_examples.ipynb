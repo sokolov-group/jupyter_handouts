{
 "cells": [
  {
   "cell_type": "markdown",
   "metadata": {},
   "source": [
    "# PChem 4300 Examples"
   ]
  },
  {
   "cell_type": "markdown",
   "metadata": {},
   "source": [
    "# Particle in a 1D box"
   ]
  },
  {
   "cell_type": "markdown",
   "metadata": {},
   "source": [
    "The wavefunction and energy of a particle in a 1D box is expressed as :<br/>\n",
    "$\\psi_{n} = \\sqrt{\\frac{2}{L}}\\sin{\\frac{n\\pi x}{L}}$<br/>\n",
    "$E_{n} = \\frac{n^{2}h^{2}}{8mL^{2}}$"
   ]
  },
  {
   "cell_type": "markdown",
   "metadata": {},
   "source": [
    "## 1. Plot the 1D box wavefunction for $n = 1$, $L=1$. "
   ]
  },
  {
   "cell_type": "code",
   "execution_count": null,
   "metadata": {},
   "outputs": [],
   "source": [
    "import matplotlib.pyplot as plt\n",
    "import numpy as np\n",
    "#Values for L and x\n",
    "n = 1\n",
    "L = 1\n",
    "x_list = np.linspace(0,L,100)\n",
    "def psi(n,L,x):\n",
    "    return np.sqrt(2/L)*np.sin(n*np.pi*x/L)\n",
    "psi_list = []\n",
    "for x in x_list:\n",
    "        psi_list.append(psi(n,L,x))\n",
    "plt.plot(x_list, psi_list)\n",
    "plt.xlabel(\"L\", fontsize=13)\n",
    "plt.ylabel(\"Ψ\", fontsize=13)\n",
    "plt.xticks(np.arange(0, 1, step=0.5))\n",
    "plt.title(\"n=\"+str(n), fontsize=16)\n",
    "plt.grid()"
   ]
  },
  {
   "cell_type": "markdown",
   "metadata": {},
   "source": [
    "##  2. Using the above function, plot the first three 1D box wavefunctions ($n=1$ to $n=3$)."
   ]
  },
  {
   "cell_type": "code",
   "execution_count": null,
   "metadata": {},
   "outputs": [],
   "source": [
    "plt.figure(figsize=(15,10))\n",
    "for n in range(1,4):\n",
    "    #Empty lists for energy and psi wave\n",
    "    psi_list = []\n",
    "    for x in x_list:\n",
    "        psi_list.append(psi(n,L,x))\n",
    "    plt.subplot(3,2,2*n-1)\n",
    "    plt.plot(x_list, psi_list)\n",
    "    plt.xlabel(\"L\", fontsize=13)\n",
    "    plt.ylabel(\"Ψ\", fontsize=13)\n",
    "    plt.xticks(np.arange(0, 1, step=0.5))\n",
    "    plt.title(\"n=\"+str(n), fontsize=16)\n",
    "    plt.grid()\n",
    "plt.tight_layout(rect=[0, 0.03, 1, 0.95])"
   ]
  },
  {
   "cell_type": "markdown",
   "metadata": {},
   "source": [
    "## 3. Using a similar function as psi, plot the probability distributions of a particle in a box at $n=1$ to $n=3$ levels"
   ]
  },
  {
   "cell_type": "code",
   "execution_count": null,
   "metadata": {},
   "outputs": [],
   "source": [
    "def psi_2(n,L,x):\n",
    "    return np.square(psi(n,L,x))\n",
    "plt.figure(figsize=(15,10))\n",
    "for n in range(1,4):\n",
    "    #Empty lists for energy and psi wave\n",
    "    psi_2_list = []\n",
    "    for x in x_list:\n",
    "        psi_2_list.append(psi_2(n,L,x))\n",
    "    plt.subplot(3,2,2*n)\n",
    "    plt.plot(x_list, psi_2_list)\n",
    "    plt.xlabel(\"L\", fontsize=13)\n",
    "    plt.ylabel(\"Ψ*Ψ\", fontsize=13)\n",
    "    plt.xticks(np.arange(0, 1, step=0.5))\n",
    "    plt.title(\"n=\"+str(n), fontsize=16)\n",
    "    plt.grid()\n",
    "plt.tight_layout(rect=[0, 0.03, 1, 0.95])"
   ]
  },
  {
   "cell_type": "markdown",
   "metadata": {},
   "source": [
    "## 4. Find the first 10 energy levels of a particle in a 1D box. Show that $E_{n}$ is proportional to $n^{2}$.\n"
   ]
  },
  {
   "cell_type": "code",
   "execution_count": null,
   "metadata": {},
   "outputs": [],
   "source": [
    "L = 1.0\n",
    "def energy(n,L):\n",
    "    return ((n**2)*(np.pi)*(np.pi)/(2*(L**2)))\n",
    "energy_list = []\n",
    "print (\"Energies in atomic units:\")\n",
    "for n in range(1,10):\n",
    "    energy_list.append(energy(n,L))\n",
    "    print (\"E\",n ,\"=\", energy_list[n-1],\"=\",(energy_list[n-1]/energy_list[0]),\"* E 1\")"
   ]
  },
  {
   "cell_type": "markdown",
   "metadata": {},
   "source": [
    "## 5. Using the psi_2 function defined above, find the probability of finding the particle between $x = \\frac{L}{4}$ and $x = \\frac{L}{2}$. Consider $L=1$ and $n=1$. "
   ]
  },
  {
   "cell_type": "code",
   "execution_count": null,
   "metadata": {},
   "outputs": [],
   "source": [
    "from scipy.integrate import quad\n",
    "n = 1\n",
    "L = 1\n",
    "def integrand(x):\n",
    "    return psi_2(n,L,x)\n",
    "I, err = quad(integrand, L/4, L/2)\n",
    "print (\"The probability is \",I)"
   ]
  },
  {
   "cell_type": "markdown",
   "metadata": {},
   "source": [
    "## 6. Using the psi_2 function defined above, find the average position of the particle inside the box. How does the average position change with $n$ and $L$?"
   ]
  },
  {
   "cell_type": "code",
   "execution_count": null,
   "metadata": {},
   "outputs": [],
   "source": [
    "L = 20\n",
    "n = 10\n",
    "x_list = np.linspace(0,L,100)\n",
    "def integrand(x):\n",
    "        return x * psi_2(n,L,x)\n",
    "I, err = quad(integrand, 0, L)\n",
    "p = round(L/I)\n",
    "print (\"The average position is at 1 /\",p,\" of the box\")"
   ]
  },
  {
   "cell_type": "markdown",
   "metadata": {},
   "source": [
    "## 7. Run the provided notebook Infinite_potential to obtain the first 5 wavefunctions and energies of a particle in 1D box with infinite potential. See if these energies match the ones you obtained in Problem 4. "
   ]
  },
  {
   "cell_type": "code",
   "execution_count": null,
   "metadata": {},
   "outputs": [],
   "source": [
    "%run ./Infinite_potential.ipynb"
   ]
  },
  {
   "cell_type": "markdown",
   "metadata": {},
   "source": [
    "## 8. Run the provided notebook Finite_potential to obtain the first 5 wavefunctions and energies of a particle in 1D box with finite potential. How are the energies and wavefunctions different from those obtained in Problem 7?"
   ]
  },
  {
   "cell_type": "code",
   "execution_count": null,
   "metadata": {},
   "outputs": [],
   "source": [
    "%run ./Finite_potential.ipynb"
   ]
  },
  {
   "cell_type": "code",
   "execution_count": null,
   "metadata": {},
   "outputs": [],
   "source": []
  }
 ],
 "metadata": {
  "kernelspec": {
   "display_name": "Python 2",
   "language": "python",
   "name": "python2"
  },
  "language_info": {
   "codemirror_mode": {
    "name": "ipython",
    "version": 2
   },
   "file_extension": ".py",
   "mimetype": "text/x-python",
   "name": "python",
   "nbconvert_exporter": "python",
   "pygments_lexer": "ipython2",
   "version": "2.7.14"
  }
 },
 "nbformat": 4,
 "nbformat_minor": 4
}
