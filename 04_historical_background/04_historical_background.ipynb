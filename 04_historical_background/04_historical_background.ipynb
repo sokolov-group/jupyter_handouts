{
 "cells": [
  {
   "cell_type": "markdown",
   "metadata": {},
   "source": [
    "# <div style=\"text-align:center\">Handout: \"Historical Background\"</div>"
   ]
  },
  {
   "cell_type": "markdown",
   "metadata": {},
   "source": [
    "## <span style=\"color:blue\">1. Background</span>"
   ]
  },
  {
   "cell_type": "markdown",
   "metadata": {},
   "source": [
    "### 1.1. Classical vs Quantum Physics"
   ]
  },
  {
   "cell_type": "markdown",
   "metadata": {},
   "source": [
    "<ul>\n",
    "<li>Newton’s mechanics and Maxwell’s theory of electromagnetism are referred to as **classical physics**</li>\n",
    "<li>Despite success of classical physics, it could not explain several experimental observations that appeared at the end of XIX and the beginning of XX centuries\n",
    "</li>\n",
    "<li>Problems of classical physics:\n",
    "<ul>\n",
    "<li>Blackbody radiation</li>\n",
    "<li>Photoelectric effect</li>\n",
    "<li>Spectral lines</li>\n",
    "</ul>\n",
    "</li>\n",
    "<li>These observations can be correctly described using quantum mechanics: provides correct description of molecules, atoms, and subatomic particles</li>\n",
    "</ul>"
   ]
  },
  {
   "cell_type": "markdown",
   "metadata": {},
   "source": [
    "### 1.2. Electromagnetic radiation"
   ]
  },
  {
   "cell_type": "markdown",
   "metadata": {},
   "source": [
    "Heated objects emit radiation (glow)!  \n",
    "\n",
    "As the temperature increases, radiation changes from <span style=\"color:red\">red</span> to <span style=\"color:blue\">blue</span>.  \n",
    "\n",
    "Increasing temperature increases frequency $\\nu$"
   ]
  },
  {
   "cell_type": "markdown",
   "metadata": {},
   "source": [
    "<img src=\"../image/em_spectrum.png\" width=\"700\">  \n",
    "\n",
    "Source: Brown, T. L. Chemistry : The Central Science, 14th ed.; Pearson: New York, 2018.\n"
   ]
  },
  {
   "cell_type": "markdown",
   "metadata": {},
   "source": [
    "Frequency $\\nu$ and wavelength $\\lambda$ are inveresely related:\n",
    "\\begin{align}\n",
    "\\nu = \\frac{c}{\\lambda}\n",
    "\\end{align}\n",
    "where $c$ is the speed of light, $2.998*10^{-8} m/s$.  \n",
    "\n",
    "Increasing temperature $T$ increases frequency ($\\nu$) of the radiation"
   ]
  },
  {
   "cell_type": "markdown",
   "metadata": {},
   "source": [
    "## <span style=\"color:blue\">2. Blackbody Radiation</span>"
   ]
  },
  {
   "cell_type": "markdown",
   "metadata": {},
   "source": [
    "Most *real* objects absorb and emit light at **certain** frequencies  \n",
    "\n",
    "A blackbody is an *ideal/unphysical* object which absorbs and emits at **all** frequencies  "
   ]
  },
  {
   "cell_type": "markdown",
   "metadata": {},
   "source": [
    "### 2.1. Rayleigh-Jeans Law"
   ]
  },
  {
   "cell_type": "markdown",
   "metadata": {},
   "source": [
    "Classically, the energy density of a blackbody came from the work done by Lord Rayleigh and J.H. Jeans and is appropriately-named the **Rayleigh-Jean's law**.\n",
    "\n",
    "\\begin{align}\n",
    "\\rho_\\nu (T) d\\nu = \\frac{8 \\pi k_B T}{c^3} \\nu^2 d\\nu\n",
    "\\end{align}\n",
    "\n",
    "\n",
    "The Rayleigh-Jeans theory assumes that radiation is emitted by *oscillating* electrons with energies that have **any** values\n",
    "\n",
    "In the next few sections of this notebook, we will explore the failure of Rayleigh-Jean's law at modeling high frequency radiation!"
   ]
  },
  {
   "cell_type": "markdown",
   "metadata": {},
   "source": [
    "#### Example: Rayleigh-Jeans Law"
   ]
  },
  {
   "cell_type": "markdown",
   "metadata": {},
   "source": [
    "First, let's define some constants:"
   ]
  },
  {
   "cell_type": "code",
   "execution_count": 1,
   "metadata": {},
   "outputs": [],
   "source": [
    "# Use comments in your code cells to make the code more readible\n",
    "# Make sure your code is clean and variables have readable names\n",
    "\n",
    "# Import Python modules\n",
    "import matplotlib.pyplot as plt\n",
    "import numpy as np\n",
    "\n",
    "# Define constants\n",
    "h = 6.634*10**(-34) # (J/s)  Planck's constant\n",
    "c = 2.998*10**(17)  # (nm/s) Speed of light\n",
    "k = 1.381*10**(-23) # (J/K)  Boltzmann constant"
   ]
  },
  {
   "cell_type": "markdown",
   "metadata": {},
   "source": [
    "Now, we define a function for Rayleigh-Jean's law that takes a temperature $T$ $(K)$ and a range of wavelengths $\\lambda$ $(nm)$ as parameters:"
   ]
  },
  {
   "cell_type": "code",
   "execution_count": 2,
   "metadata": {},
   "outputs": [],
   "source": [
    "# Define function to calculate blackbody energy density using Rayleigh-Jean's Law\n",
    "def rj_law(la,temp):\n",
    "    return (8.0*np.pi*k*temp)/(la**4)"
   ]
  },
  {
   "cell_type": "markdown",
   "metadata": {},
   "source": [
    "Next, we can define parameters of our plot (feel free to experiment with these values to see how the plot changes!)"
   ]
  },
  {
   "cell_type": "code",
   "execution_count": 3,
   "metadata": {},
   "outputs": [],
   "source": [
    "la = np.arange(100,6100,50)    # range of wavelengths from 500 to 6000, increments of 100 (units: nm)\n",
    "T  = 5500                      # temperature (units: Kelvin)"
   ]
  },
  {
   "cell_type": "markdown",
   "metadata": {},
   "source": [
    "Now, let's plot the energy density of the blackbody radiation that Rayleigh-Jean's Law predicts for this range of wavelengths"
   ]
  },
  {
   "cell_type": "code",
   "execution_count": 4,
   "metadata": {},
   "outputs": [
    {
     "data": {
      "image/png": "[encoded data removed]",
      "text/plain": [
       "<Figure size 720x360 with 1 Axes>"
      ]
     },
     "metadata": {
      "needs_background": "light"
     },
     "output_type": "display_data"
    }
   ],
   "source": [
    "# Evaluate wavefunction at each x\n",
    "rj_energy_values = rj_law(la,T)\n",
    "\n",
    "# Set up graph and plot\n",
    "plt.figure(figsize=(10,5))\n",
    "plt.plot(la, rj_energy_values)\n",
    "plt.xlabel('λ (nm)', fontsize=20)\n",
    "plt.ylabel('ρ (T)', fontsize=20)\n",
    "plt.title('Rayleigh-Jean\\'s Law', fontsize=16)\n",
    "plt.tight_layout()\n",
    "plt.grid()"
   ]
  },
  {
   "cell_type": "markdown",
   "metadata": {},
   "source": [
    "**Question: What do you notice as wavelength decreases/frequency increases?**\n",
    "\n",
    "**<span style=\"color:red\">Problem: Classical theory and experiment diverge as frequency of radiation approaches ultraviolet region!</span>**"
   ]
  },
  {
   "cell_type": "markdown",
   "metadata": {},
   "source": [
    "### 2.2. Planck's Distribution Law"
   ]
  },
  {
   "cell_type": "markdown",
   "metadata": {},
   "source": [
    "In 1900, Max Planck provided the first successful explanation of blackbody radiation. Planck assumed that energies of electrons are discrete -- proportional to an integral multiple of the frequency:\n",
    "\\begin{align*}\n",
    "E = nh\\nu \\ \\ \\ \\ \\ \\ \\ \\ \\ \\ \\ \\ n &= 0,1,2,3\\cdots \\\\\n",
    "                                  h &= 6.626 * 10^{-34} J \\cdot s \\ \\ \\ \\ \\ \\ \\ \\ \\ \\text{Planck's constant}\n",
    "\\end{align*}\n",
    "\n",
    "Using this quantization of energy, Planck then derived his own equation for energy density:\n",
    "\n",
    "\\begin{align}\n",
    "\\rho_\\nu (T) d\\nu = \\frac{8 \\pi h}{c^3} \\frac{\\nu^3 d\\nu}{e^{h\\nu/k_B T}-1}\n",
    "\\end{align}\n",
    "\n",
    "Notice that Planck's distribution law reduces to Rayleigh-Jeans law at small $\\nu$!"
   ]
  },
  {
   "cell_type": "markdown",
   "metadata": {},
   "source": [
    "#### Example: Planck's Distribution Law"
   ]
  },
  {
   "cell_type": "markdown",
   "metadata": {},
   "source": [
    "Let's define another function, this time for Planck's distribution law:"
   ]
  },
  {
   "cell_type": "code",
   "execution_count": 5,
   "metadata": {},
   "outputs": [],
   "source": [
    "# Define function to calculate blackbody energy density using Planck's Distribution Law\n",
    "def plancks_law(la,temp):\n",
    "    return ((8.0*np.pi*h*c)/(la**5) * np.e**(-h*c/(la*k*temp)))/(1-np.e**(-h*c/(la*k*temp)))"
   ]
  },
  {
   "cell_type": "markdown",
   "metadata": {},
   "source": [
    "Now we can plot the blackbody energy density spectrum at the same wavelengths $\\lambda$ and the same temperature $T$."
   ]
  },
  {
   "cell_type": "code",
   "execution_count": 6,
   "metadata": {},
   "outputs": [
    {
     "data": {
      "image/png": "[encoded data removed]",
      "text/plain": [
       "<Figure size 720x360 with 1 Axes>"
      ]
     },
     "metadata": {
      "needs_background": "light"
     },
     "output_type": "display_data"
    }
   ],
   "source": [
    "# Evaluate energy density at each wavelength @ temp T\n",
    "p_energy_values = plancks_law(la,T)\n",
    "\n",
    "# Set up graph and plot\n",
    "plt.figure(figsize=(10,5))\n",
    "plt.plot(la, p_energy_values)\n",
    "plt.xlabel('λ (nm)', fontsize=20)\n",
    "plt.ylabel('ρ (T)', fontsize=20)\n",
    "plt.title('Planck\\'s Distribution Law', fontsize=16)\n",
    "plt.tight_layout()\n",
    "plt.grid()"
   ]
  },
  {
   "cell_type": "markdown",
   "metadata": {},
   "source": [
    "### 2.3. Application: Surface temperature of star from spectral data"
   ]
  },
  {
   "cell_type": "code",
   "execution_count": 7,
   "metadata": {},
   "outputs": [
    {
     "data": {
      "image/png": "[encoded data removed]",
      "text/plain": [
       "<Figure size 720x360 with 1 Axes>"
      ]
     },
     "metadata": {
      "needs_background": "light"
     },
     "output_type": "display_data"
    }
   ],
   "source": [
    "# Create variable for the name of the file\n",
    "### All y-axis units are in W/cm^2/micron and x-axis units are in microns ###\n",
    "\n",
    "filename = 'star_data/hd114710um.txt'\n",
    "starname = 'HD114710'\n",
    "#filename = 'star_data/hd206860um.txt'\n",
    "#starname = 'HD206860'\n",
    "#filename = 'star_data/hd128167um.txt'\n",
    "#starname = 'HD128167'\n",
    "\n",
    "# Make empty lists to append values from star data file\n",
    "x_values = []\n",
    "y_values = []\n",
    "\n",
    "# Open and read data from file\n",
    "infile = open(filename, 'r')\n",
    "\n",
    "lines = infile.readlines()\n",
    "\n",
    "for line in lines:\n",
    "    sline = line.split()\n",
    "    if float(sline[0])*1000 <= 6000 and float(sline[1]) > 0:\n",
    "        x_values.append(float(sline[0])*1000.)               # Division by  1000 for unit conversion from data \n",
    "        y_values.append(float(sline[1])/100000000000000000.) # Division by 10^17 for unit conversion from data\n",
    "        \n",
    "# Close the file\n",
    "infile.close()\n",
    "\n",
    "# Set up graph and plot\n",
    "plt.figure(figsize=(10,5))\n",
    "plt.plot(x_values, y_values)\n",
    "plt.xlabel('λ (nm)', fontsize=20)\n",
    "plt.ylabel('ρ', fontsize=20)\n",
    "plt.title('Spectral distribution of %s' % starname, fontsize=16)\n",
    "plt.tight_layout()\n",
    "plt.grid()"
   ]
  },
  {
   "cell_type": "markdown",
   "metadata": {},
   "source": [
    "Stellar spectra obtained by:  \n",
    "Antígona Segura, Kara Krelove, James F. Kasting, Darrell Sommerlatt, Victoria Meadows, David Crisp, Martin Cohen, and Eli Mlawer.Astrobiology.Dec 2003.689-708. http://doi.org/10.1089/153110703322736024"
   ]
  },
  {
   "cell_type": "markdown",
   "metadata": {},
   "source": [
    "What we will do next is run a non-linear least-squares fitting function on this spectral data with the Planck's Distribution Law equation to determine the \"predicted\" temperature of the star HD114710:"
   ]
  },
  {
   "cell_type": "code",
   "execution_count": 8,
   "metadata": {},
   "outputs": [
    {
     "name": "stdout",
     "output_type": "stream",
     "text": [
      "Predicted temperature: 5275.553485 K\n"
     ]
    }
   ],
   "source": [
    "from scipy.optimize import curve_fit\n",
    "\n",
    "pred_T, covariance = curve_fit(plancks_law, x_values, y_values, p0=2000)\n",
    "\n",
    "print ('Predicted temperature: %f K' % pred_T)"
   ]
  },
  {
   "cell_type": "markdown",
   "metadata": {},
   "source": [
    "Now, let's plot the spectral data and Planck's distribution law with our predicted temperature!"
   ]
  },
  {
   "cell_type": "code",
   "execution_count": 9,
   "metadata": {},
   "outputs": [
    {
     "data": {
      "image/png": "[encoded data removed]",
      "text/plain": [
       "<Figure size 720x360 with 1 Axes>"
      ]
     },
     "metadata": {
      "needs_background": "light"
     },
     "output_type": "display_data"
    }
   ],
   "source": [
    "# Calculate new y-values with fitted temperature\n",
    "fit_p_energy_values = plancks_law(la,pred_T)\n",
    "\n",
    "# Set up graph and plot\n",
    "plt.figure(figsize=(10,5))\n",
    "plt.plot(x_values, y_values)\n",
    "plt.plot(la, fit_p_energy_values)\n",
    "plt.xlabel('λ (nm)', fontsize=20)\n",
    "plt.ylabel('ρ (T)', fontsize=20)\n",
    "plt.title('Planck\\'s Distribution Law fit to spectral distribution of %s' % starname, fontsize=16)\n",
    "plt.tight_layout()\n",
    "plt.grid()"
   ]
  },
  {
   "cell_type": "markdown",
   "metadata": {},
   "source": [
    "## <span style=\"color:blue\">2. Photoelectric Effect</span>"
   ]
  },
  {
   "cell_type": "markdown",
   "metadata": {},
   "source": [
    "Ultraviolet light causes electrons to be emitted from a metallic surface. The ejection of electrons from the surface of a metal by radiation is called photoelectric effect. The classical explanation was that the surface electrons oscillated along the field of the incoming electromagnetic radiation and broke away with a kinetic energy that depended on the intensity of the radiation. Now let's use classical theory to predict the kinetic energy of the emitted electrons."
   ]
  },
  {
   "cell_type": "code",
   "execution_count": 10,
   "metadata": {},
   "outputs": [],
   "source": [
    "# Use comments in your code cells to make the code more readible\n",
    "# Make sure your code is clean and variables have readable names\n",
    "\n",
    "# Import Python modules\n",
    "import matplotlib.pyplot as plt\n",
    "import numpy as np\n",
    "\n",
    "# Define function to calculate kinetic energy of the emitted electrons \n",
    "#for any given intensity of incoming radiation\n",
    "def calc_ke(i):\n",
    "    return np.square(i)"
   ]
  },
  {
   "cell_type": "markdown",
   "metadata": {},
   "source": [
    "Enter a intensity between 1 and 10:"
   ]
  },
  {
   "cell_type": "code",
   "execution_count": 11,
   "metadata": {},
   "outputs": [],
   "source": [
    "i = 4        # Intensity"
   ]
  },
  {
   "cell_type": "markdown",
   "metadata": {},
   "source": [
    "Now, let's calculate the KE as a function of intensity. "
   ]
  },
  {
   "cell_type": "code",
   "execution_count": 12,
   "metadata": {},
   "outputs": [
    {
     "data": {
      "text/plain": [
       "16"
      ]
     },
     "execution_count": 12,
     "metadata": {},
     "output_type": "execute_result"
    }
   ],
   "source": [
    "# Make sure that n is integer and n > 0\n",
    "i = int(i)\n",
    "\n",
    "# Evaluate KE at each i\n",
    "calc_ke(i)"
   ]
  },
  {
   "cell_type": "markdown",
   "metadata": {},
   "source": [
    "#### <span style=\"color:red\">Now enter a higher intensity and check what happens to the KE. "
   ]
  },
  {
   "cell_type": "markdown",
   "metadata": {},
   "source": [
    "Now lets add a range of intensities to observe what happens."
   ]
  },
  {
   "cell_type": "code",
   "execution_count": 13,
   "metadata": {},
   "outputs": [],
   "source": [
    "n = 100"
   ]
  },
  {
   "cell_type": "code",
   "execution_count": 14,
   "metadata": {},
   "outputs": [],
   "source": [
    "# Make sure that n is integer and n > 0\n",
    "t = np.arange(0.,n,1.)\n",
    "\n",
    "# Evaluate KE at each intensity\n",
    "KE = []\n",
    "for i in t:\n",
    "    KE.append(calc_ke(i))"
   ]
  },
  {
   "cell_type": "code",
   "execution_count": 15,
   "metadata": {},
   "outputs": [
    {
     "data": {
      "image/png": "[encoded data removed]",
      "text/plain": [
       "<Figure size 360x360 with 1 Axes>"
      ]
     },
     "metadata": {
      "needs_background": "light"
     },
     "output_type": "display_data"
    }
   ],
   "source": [
    "# Set up graph and plot\n",
    "plt.figure(figsize=(5,5))\n",
    "plt.plot(t, KE)\n",
    "plt.xlabel(\"Intensity\", fontsize=20)\n",
    "plt.ylabel(\"KE\", fontsize=20)\n",
    "plt.title(\"Classical theory\", fontsize=20)\n",
    "plt.tight_layout()\n",
    "plt.grid()"
   ]
  },
  {
   "cell_type": "markdown",
   "metadata": {},
   "source": [
    "If we make the same analysis for frequency, we observe that classical theory predicts the KE to be independent of the frequency."
   ]
  },
  {
   "cell_type": "code",
   "execution_count": 16,
   "metadata": {},
   "outputs": [
    {
     "data": {
      "image/png": "[encoded data removed]",
      "text/plain": [
       "<Figure size 360x360 with 1 Axes>"
      ]
     },
     "metadata": {
      "needs_background": "light"
     },
     "output_type": "display_data"
    }
   ],
   "source": [
    "t = np.arange(0.,n,1.)\n",
    "constant = 100\n",
    "\n",
    "# Evaluate KE at each intensity\n",
    "KE = []\n",
    "for i in t:\n",
    "    KE.append(constant)\n",
    "    \n",
    "# Set up graph and plot\n",
    "plt.figure(figsize=(5,5))\n",
    "plt.plot(t, KE)\n",
    "plt.xlabel(\"Frequency\", fontsize=20)\n",
    "plt.ylabel(\"KE\", fontsize=20)\n",
    "plt.title(\"Classical theory\", fontsize=20)\n",
    "plt.tight_layout()\n",
    "plt.grid()"
   ]
  },
  {
   "cell_type": "markdown",
   "metadata": {},
   "source": [
    "#### However, experimentally we observe something different.\n",
    "<figure>\n",
    "  <img src=\"../image/photoelectric_effect_zinc.svg\" alt=\"\" width=400px>\n",
    "  <figcaption>Fig : Experimental relation between kinetic energy of emitted electrons and frequency of incoming radiation</figcaption>\n",
    "</figure>\n"
   ]
  },
  {
   "cell_type": "markdown",
   "metadata": {},
   "source": [
    "In order to explain the discrepancies between classical and experimental findings, Einstein proposed that radiation existed in small packets, known as **photons**, with energy  \n",
    "\\begin{align}\n",
    "E=h\\nu\n",
    "\\end{align}"
   ]
  },
  {
   "cell_type": "markdown",
   "metadata": {},
   "source": [
    "The main observations were:\n",
    "    "
   ]
  },
  {
   "cell_type": "markdown",
   "metadata": {},
   "source": [
    "* Electrons are only ejected when the incoming radiation has a higher frequency than the threshold frequency of the metal.\n",
    "<br/>\n",
    "* Kinetic energy of the emitted electrons are independent of the intensity of the incoming radiation   \n",
    "    "
   ]
  },
  {
   "cell_type": "markdown",
   "metadata": {},
   "source": [
    "\\begin{align}\n",
    "KE=h\\nu - \\phi\n",
    "\\end{align}\n",
    "Here, $\\phi$ is the work function of the metal and can be expressed as $\\phi = h\\nu_{0}$, $\\nu_{0}$ being the threshold frequency of the metal."
   ]
  },
  {
   "cell_type": "markdown",
   "metadata": {},
   "source": [
    "#### Problem 1. When light with frequency 6.20 * 1e14 Hz is shone on a metal, electrons are emitted with a energy of 3.28 * 1e-20 J. What is the workfunction of the metal? "
   ]
  },
  {
   "cell_type": "code",
   "execution_count": 17,
   "metadata": {},
   "outputs": [],
   "source": [
    "# Import Python modules\n",
    "import numpy as np\n",
    "\n",
    "# Define function to calculate workfunction of the metal\n",
    "def calc_workfunction(f,k):\n",
    "    h = 6.626 * 1e-34\n",
    "    return h*f - k"
   ]
  },
  {
   "cell_type": "code",
   "execution_count": 18,
   "metadata": {},
   "outputs": [],
   "source": [
    "#Enter f and k\n",
    "freq = 6.2 * 1e14\n",
    "ke = 3.28 * 1e-20"
   ]
  },
  {
   "cell_type": "code",
   "execution_count": 19,
   "metadata": {},
   "outputs": [
    {
     "data": {
      "text/plain": [
       "3.78012e-19"
      ]
     },
     "execution_count": 19,
     "metadata": {},
     "output_type": "execute_result"
    }
   ],
   "source": [
    "calc_workfunction(freq,ke)"
   ]
  },
  {
   "cell_type": "markdown",
   "metadata": {},
   "source": [
    "#### <span style=\"color:red\">Can you guess the metal? How would the KE change if Tin was used instead?"
   ]
  },
  {
   "cell_type": "markdown",
   "metadata": {},
   "source": [
    "## <span style=\"color:blue\">3. De Broglie Wave-Particle Duality</span>\n"
   ]
  },
  {
   "cell_type": "markdown",
   "metadata": {},
   "source": [
    "#### <span style=\"color:red\">Use this [double-slit simulation](https://ophysics.com/l5.html) to obtain the interference pattern of light waves."
   ]
  },
  {
   "cell_type": "markdown",
   "metadata": {},
   "source": [
    "When the same experiment was carried out with a beam of electrons, a similar interference pattern was observed."
   ]
  },
  {
   "cell_type": "markdown",
   "metadata": {},
   "source": [
    "![Purl](https://upload.wikimedia.org/wikipedia/commons/7/7d/Wave-particle_duality.gif \"p\")"
   ]
  },
  {
   "cell_type": "markdown",
   "metadata": {},
   "source": [
    "This proves the dual nature of light as particles and waves."
   ]
  },
  {
   "cell_type": "markdown",
   "metadata": {},
   "source": [
    "## <span style=\"color:blue\">4. Energy Uncertainty of Quantum States</span>"
   ]
  },
  {
   "cell_type": "markdown",
   "metadata": {},
   "source": [
    "Imagine a system that is described by three simple states with energies: $E_{1}$, $E_{2}$, and $E_{3}$. The energies of these states are related by:\n",
    "\n",
    "\\begin{align*}\n",
    "E_{2} &= 2 \\cdot E_{1} \\\\\n",
    "E_{3} &= 3 \\cdot E_{1}\n",
    "\\end{align*}"
   ]
  },
  {
   "cell_type": "markdown",
   "metadata": {},
   "source": [
    "The probability of observing one of these three states is given by:\n",
    "\n",
    "\\begin{align*}\n",
    "p_{i} = \\frac{a_{i}}{a_{1} + a_{2} + a_{3}}\n",
    "\\end{align*}\n",
    "\n",
    "where the values $a_{i}$ are \\textit{weighing coefficients} that modulate how dominant that state is in describing this imaginary system."
   ]
  },
  {
   "cell_type": "markdown",
   "metadata": {},
   "source": [
    "Example: Create a superposition of these three fictitious states by assigning different values to $a_{1}$, $a_{2}$, and $a_{3}$ such that $a_{1}+a_{2}+a_{3}=1$."
   ]
  },
  {
   "cell_type": "code",
   "execution_count": 32,
   "metadata": {},
   "outputs": [],
   "source": [
    "# Assign values to a_1, a_2, a_3\n",
    "a1 = 4/7\n",
    "a2 = 2/7\n",
    "a3 = 1/7"
   ]
  },
  {
   "cell_type": "code",
   "execution_count": 33,
   "metadata": {},
   "outputs": [
    {
     "name": "stdout",
     "output_type": "stream",
     "text": [
      "[0.5714285714285714, 0.2857142857142857, 0.14285714285714285]\n"
     ]
    }
   ],
   "source": [
    "# Make a list out of the three weights created above\n",
    "a    = [a1, a2, a3]\n",
    "\n",
    "# Make an empty list into which we will append probability values\n",
    "prob = []\n",
    "\n",
    "# Loop through the weights of each state and calculate the corresponding probability\n",
    "for k in a:\n",
    "    p = k/(a1+a2+a3)\n",
    "    prob.append(p)\n",
    "    \n",
    "print (prob)"
   ]
  },
  {
   "cell_type": "code",
   "execution_count": 24,
   "metadata": {},
   "outputs": [],
   "source": [
    "# This function calculates the average energy according to the formula <E> = p_1*E_1 + p_2*E_2 + p_3*E_3\n",
    "def calc_avg_e(p,E):\n",
    "\n",
    "    # Create variable for the average energy\n",
    "    avg_en = 0.0\n",
    "\n",
    "    # Loop through states i, adding p_i*E_i to the average energy\n",
    "    for i in range(3):\n",
    "        avg_en += p[i]*(i+1)*E\n",
    "\n",
    "    return avg_en"
   ]
  },
  {
   "cell_type": "markdown",
   "metadata": {},
   "source": [
    "**1. Calculate an average energy in terms of $E_{1}$.**"
   ]
  },
  {
   "cell_type": "code",
   "execution_count": 36,
   "metadata": {},
   "outputs": [
    {
     "data": {
      "text/plain": [
       "1.5714285714285714"
      ]
     },
     "execution_count": 36,
     "metadata": {},
     "output_type": "execute_result"
    }
   ],
   "source": [
    "# Define a starting value for E_1\n",
    "e_1 = 1\n",
    "\n",
    "# Calculate the average energy using the probabilities created above and starting energy\n",
    "calc_avg_e(prob,e_1)"
   ]
  },
  {
   "cell_type": "code",
   "execution_count": 43,
   "metadata": {},
   "outputs": [],
   "source": [
    "#Calculate average energy square according to the formula <E^2> = p1E1^2 + p2E2^2 +p3E3^2\n",
    "def calc_avg_e2(p,E):\n",
    "    av_energy = 0.0\n",
    "    for i in range(3):\n",
    "        av_energy += p[i]*np.square((i+1)*E)  \n",
    "    return av_energy"
   ]
  },
  {
   "cell_type": "code",
   "execution_count": 44,
   "metadata": {},
   "outputs": [
    {
     "data": {
      "text/plain": [
       "3.0"
      ]
     },
     "execution_count": 44,
     "metadata": {},
     "output_type": "execute_result"
    }
   ],
   "source": [
    "calc_avg_e2(prob,e_1)"
   ]
  },
  {
   "cell_type": "code",
   "execution_count": 45,
   "metadata": {},
   "outputs": [],
   "source": [
    "#Calculate energy uncertainity\n",
    "def calc_energy_uncertainity(E,E2):  \n",
    "    return np.sqrt(E2-np.square(E))"
   ]
  },
  {
   "cell_type": "code",
   "execution_count": 51,
   "metadata": {},
   "outputs": [
    {
     "data": {
      "image/png": "[encoded data removed]",
      "text/plain": [
       "<Figure size 432x288 with 1 Axes>"
      ]
     },
     "metadata": {
      "needs_background": "light"
     },
     "output_type": "display_data"
    }
   ],
   "source": [
    "import matplotlib.pyplot as plt\n",
    "import scipy.stats\n",
    "import numpy as np\n",
    "\n",
    "ENERGY = calc_avg_e(prob,energy)\n",
    "E2 = calc_avg_e2(prob,energy)\n",
    "mean = ENERGY\n",
    "std = calc_energy_uncertainity(ENERGY,E2)\n",
    "\n",
    "x_min = 0\n",
    "x_max = 6.0\n",
    "\n",
    "x = np.linspace(x_min, x_max, 1000)\n",
    "y = scipy.stats.norm.pdf(x,mean,std)\n",
    "\n",
    "plt.plot(x,y, color='black')\n",
    "\n",
    "# x coordinates for the lines\n",
    "xcoords = [1, 2, 3]\n",
    "# colors for the lines\n",
    "colors = ['r','g','y']\n",
    "\n",
    "for xc,c in zip(xcoords,colors):\n",
    "    plt.axvline(x=xc, label='E{}'.format(xc), c=c)\n",
    "\n",
    "plt.legend()\n",
    "\n",
    "pt1 = mean + std\n",
    "plt.plot([pt1 ,pt1 ],[0.0,scipy.stats.norm.pdf(pt1 ,mean, std)], color='black')\n",
    "\n",
    "pt2 = mean - std\n",
    "plt.plot([pt2 ,pt2 ],[0.0,scipy.stats.norm.pdf(pt2 ,mean, std)], color='black')\n",
    "\n",
    "ptx = np.linspace(pt1, pt2, 10)\n",
    "pty = scipy.stats.norm.pdf(ptx,mean,std)\n",
    "\n",
    "plt.fill_between(ptx, pty, color='#0b559f', alpha=None)\n",
    "plt.show()"
   ]
  },
  {
   "cell_type": "markdown",
   "metadata": {},
   "source": [
    "**Interactive Examples**\n",
    "* *What sort of superposition of these three states would create a system with an energy uncertainty  of 0?*\n",
    "<br/>\n",
    "* *What sort of superposition of these three states would maximize the energy uncertainty?*\n",
    "<br/>\n",
    "* *What is the energy uncertainty of a system with probabilities for each of the three states: $p_{1}=0.43$, $p_{2}=0.35$, $p_{3}=0.22$*"
   ]
  },
  {
   "cell_type": "code",
   "execution_count": null,
   "metadata": {},
   "outputs": [],
   "source": []
  }
 ],
 "metadata": {
  "kernelspec": {
   "display_name": "Python 3",
   "language": "python",
   "name": "python3"
  },
  "language_info": {
   "codemirror_mode": {
    "name": "ipython",
    "version": 3
   },
   "file_extension": ".py",
   "mimetype": "text/x-python",
   "name": "python",
   "nbconvert_exporter": "python",
   "pygments_lexer": "ipython3",
   "version": "3.6.12"
  },
  "latex_envs": {
   "LaTeX_envs_menu_present": true,
   "autoclose": false,
   "autocomplete": true,
   "bibliofile": "biblio.bib",
   "cite_by": "apalike",
   "current_citInitial": 1,
   "eqLabelWithNumbers": true,
   "eqNumInitial": 1,
   "hotkeys": {
    "equation": "Ctrl-E",
    "itemize": "Ctrl-I"
   },
   "labels_anchors": false,
   "latex_user_defs": false,
   "report_style_numbering": false,
   "user_envs_cfg": false
  }
 },
 "nbformat": 4,
 "nbformat_minor": 4
}
