{
 "cells": [
  {
   "cell_type": "markdown",
   "metadata": {},
   "source": [
    "# <div style=\"text-align:center\">\"Handout: Particle in a Box\"</div>"
   ]
  },
  {
   "cell_type": "markdown",
   "metadata": {},
   "source": [
    "### 1.1 Introduction"
   ]
  },
  {
   "cell_type": "markdown",
   "metadata": {},
   "source": [
    "### Erwin Schrödinger (1887-1961)\n",
    "\n",
    "![alt text](https://live.staticflickr.com/7402/9272942273_7c743e465b_b.jpg \"\")\n"
   ]
  },
  {
   "cell_type": "markdown",
   "metadata": {},
   "source": [
    "Schrödinger attended graduate school at the University of Vienna, where in the year 1910 he obtained a Ph.D in theoretical physics. Later in 1927, Max Planck (the guy known for Planks Constant) specifically sought out Schrödinger to take over his position at the University of Berlin. However, 6 years later Hitler came to town and Schrödinger left Berlin to avoid Hitler and moved to Austria to work at the University of Graz. Sadly, Hitler 3 years after Berlin, decided to invaded Austria and as a result Schrödinger had to renounce his faculty position. But nonetheless, Schrödinger was a wanted man for his knowledge and moved to a University in Dublin, Ireland which became his last move for Universities.\n",
    "\n",
    "Notable Award:\n",
    "\t-Nobel laureate in physics alongside Dirac for their work in “discovery of new productive forms of Atomic Theory.”"
   ]
  },
  {
   "cell_type": "markdown",
   "metadata": {},
   "source": [
    "### 1.2 Theoretical Background\n",
    "#### 1.2.1 Deriving an underivable equation"
   ]
  },
  {
   "cell_type": "markdown",
   "metadata": {},
   "source": [
    "1-Dimensional wave equation\n",
    "\n",
    "\\begin{equation}\\\n",
    "\\frac{\\partial^2 u}{\\partial x^2} = \\frac{1}{v^2}\\frac{\\partial^2 u}{\\partial t^2}\n",
    "\\ \\ \\ \\ \\ \\ \\ \\ \\ \\\n",
    "\\mathbf{\\left ( 1 \\right )}\n",
    "\\end{equation}\n",
    "\n",
    "$u$ can be expressed as a multiple of x and a harmonic function time and set equal to parameters that exist in time\n",
    "\n",
    "\\begin{equation}\\\n",
    "u\\left (x,t  \\right )= \\psi \\left ( x \\right )\\cos \\left ( \\omega t \\right )\n",
    "\\ \\ \\ \\ \\ \\ \\ \\ \\ \\\n",
    "\\mathbf{\\left ( 2 \\right )}\n",
    "\\end{equation}\n",
    "\n",
    "$\\psi (x)$ in equation 2 represents the spatial amplitude property of the wave, and thus equation 1 can be rewritten to obtain equation 3\n",
    "\n",
    "\\begin{equation}\\\n",
    "\\frac{\\partial^2 \\psi }{\\partial x^2} + \\frac{\\omega^2 }{v^2}\\psi\\left ( x \\right )=0\n",
    "\\ \\ \\ \\ \\ \\ \\ \\ \\ \\\n",
    "\\mathbf{\\left ( 3 \\right )}\n",
    "\\end{equation}\n",
    "\n",
    "Where $\\omega$ and $\\nu$ are equal to:\n",
    "\n",
    "\\begin{equation}\\\n",
    "\\omega = 2\\pi\\nu\n",
    "\\ \\ \\ \\ \\ \\ \\ \\ \\ \\\n",
    "\\end{equation}\n",
    "\n",
    "\\begin{equation}\\\n",
    "\\nu =\\lambda v\n",
    "\\ \\ \\ \\ \\ \\ \\ \\ \\ \\\n",
    "\\end{equation}\n",
    "\n",
    "Now $\\omega$ and $\\nu$ are plugged into equation 3 to obtain equation 4:\n",
    "\n",
    "\\begin{equation}\\\n",
    "\\frac{\\partial^2 \\psi }{\\partial x^2} + \\frac{4\\pi ^2 }{\\lambda ^2}\\psi\\left ( x \\right )=0\n",
    "\\ \\ \\ \\ \\ \\ \\ \\ \\ \\\n",
    "\\mathbf{\\left ( 4 \\right )}\n",
    "\\end{equation}\n",
    "\n",
    "\n",
    "de Broglie's idea of matter waves is introduced:\n",
    "\n",
    "\\begin{equation}\\\n",
    "E = \\frac{p^2}{2m}+V\\left ( x \\right )\n",
    "\\ \\ \\ \\ \\ \\ \\ \\ \\ \\\n",
    "\\mathbf{\\left ( 5 \\right )}\n",
    "\\end{equation}\n",
    "\n",
    "p momentum can be rewritten as: \n",
    "\n",
    "\\begin{equation}\\\n",
    "p = \\sqrt{2m\\left ( E-V(x) \\right )}\n",
    "\\ \\ \\ \\ \\ \\ \\ \\ \\ \\\n",
    "\\mathbf{\\left ( 6 \\right )}\n",
    "\\end{equation}\n",
    "\n",
    "\n",
    "Now $\\lambda$ (equation 7) from equation 4 can be rewritten (de Broglie formula) to obtain an expression that is the Schrödinger equation (equation 8) when plugged back into equation 4:\n",
    "\n",
    "\n",
    "\\begin{equation}\\\n",
    "\\lambda =\\frac{h}{p} = \\frac{h}{\\sqrt{2m\\left ( E-V(x) \\right )}}\n",
    "\\ \\ \\ \\ \\ \\ \\ \\ \\ \\\n",
    "\\mathbf{\\left ( 7 \\right )}\n",
    "\\end{equation}\n",
    "\n",
    "\\begin{equation}\\\n",
    "\\frac{\\partial^2 \\psi }{\\partial x^2} + \\frac{2m}{\\hbar}\\left ( E-V(x) \\right )\\psi\\left ( x \\right )=0\n",
    "\\ \\ \\ \\ \\ \\ \\ \\ \\ \\\n",
    "\\mathbf{\\left ( 8 \\right )}\n",
    "\\end{equation}\n",
    "\n",
    "Equation 8 is rewritten in the form of equation 9 to bring up the idea of operators for the Schrödinger equation:\n",
    "\n",
    "\\begin{equation}\\\n",
    "-\\frac{\\hbar^2}{2m}\\frac{\\partial^2 \\psi }{\\partial x^2} + V(x)\\psi\\left ( x \\right )=E\\psi (x)\n",
    "\\ \\ \\ \\ \\ \\ \\ \\ \\ \\\n",
    "\\mathbf{\\left ( 9 \\right )}\n",
    "\\end{equation}"
   ]
  },
  {
   "cell_type": "markdown",
   "metadata": {},
   "source": [
    "#### Quantum Math Background"
   ]
  },
  {
   "cell_type": "markdown",
   "metadata": {},
   "source": [
    "#### What is an operator?\n",
    "\n",
    "An operator takes a function $f\\left ( x \\right )$ and transforms that function into a new function $g\\left ( x \\right )$\n",
    "\n",
    "A general example:\n",
    "\n",
    "operator $\\hat{A}$ acts on $f\\left ( x \\right )$\n",
    "\n",
    "\\begin{equation}\\\n",
    "\\hat{A}f\\left ( x \\right ) = g\\left ( x \\right )\n",
    "\\ \\ \\ \\ \\ \\ \\ \\ \\ \\\n",
    "\\end{equation}\n",
    "\n",
    "A less general example:\n",
    "\n",
    "Lets say $\\hat{A}=\\frac{\\partial^2}{\\partial x^2}$ and $f\\left ( x \\right ) = x^{3}y$\n",
    "\n",
    "\\begin{equation}\\\n",
    "\\hat{A}x^{3}y = 6xy\n",
    "\\ \\ \\ \\ \\ \\ \\ \\ \\ \\\n",
    "\\end{equation}\n",
    "\n",
    "Therefore, $g\\left ( x \\right ) = 6xy$\n",
    "\n",
    "#### What kind of operators are used in quantum mechanics?\n",
    "\n",
    "Quantum mechanics employs linear operators only\n",
    "\n",
    "##### What is a linear operator?\n",
    "\n",
    "A linear operator is said to be linear if the operator can act on individual functions and when adding the individual results up should the operator that operates on all function at once instead of individually.\n",
    "\n",
    "For example:\n",
    "\n",
    "\\begin{equation}\\\n",
    "\\hat{A}\\left ( c_{1}f_{1}(x) + c_{2}f_{2}(x)\\right )= c_{1}\\hat{A}f_{1}(x) + c_{2}\\hat{A}f_{2}(x)\n",
    "\\ \\ \\ \\ \\ \\ \\ \\ \\ \\\n",
    "\\end{equation}\n"
   ]
  },
  {
   "cell_type": "markdown",
   "metadata": {},
   "source": [
    "#### Eigenvalue problem\n",
    "\n",
    "What is an eigenvalue problem?\n",
    "\n",
    "The eigenvalue problem is simple to look at, but can be difficult to work with in practice.\n",
    "\n",
    "For example, the eigenvalue problem can understood in the context of the operator defined above:\n",
    "\n",
    "\\begin{equation}\\\n",
    "\\hat{A}\\phi \\left ( x \\right )=a\\phi \\left ( x \\right )\n",
    "\\ \\ \\ \\ \\ \\ \\ \\ \\ \\\n",
    "\\end{equation}\n",
    "\n",
    "Where operator $\\hat{A}$ acts on $\\phi \\left ( x \\right )$ and returns a constant $a$, also known as the eigenvalue back, and leaves the function $\\phi \\left ( x \\right )$ untouched.\n",
    "\n",
    "A more specific example is taking the operator of momentum $\\hat{p_{x}} = -i\\hbar\\frac{\\partial}{\\partial x}$ and operating on $e^{ikx}$:\n",
    "\n",
    "\\begin{equation}\\\n",
    "-i\\hbar\\frac{\\partial}{\\partial x}e^{ikx} = \\hbar{}ke^{ikx}\n",
    "\\ \\ \\ \\ \\ \\ \\ \\ \\ \\\n",
    "\\end{equation}\n",
    "\n",
    "Here one can see that operator $\\hat{p_{x}}$ acts on $e^{ikx}$ and produces an eigenvalue of $\\hbar{}k$, while leaving the function $e^{ikx}$ untouched.\n",
    "\n",
    "#### Expectation Value\n",
    "\n",
    "The expectation value determines the average value of the operator of interest. \n",
    "\n",
    "For example one could take the momentum operator and determine the expectation value of that operator in terms of the 1-D partical in a box:\n",
    "\n",
    "\\begin{equation}\\\n",
    "\\left \\langle p \\right \\rangle = \\int_{0}^{a}\\psi (x)^{*}\\left (\\hat{p_{x}} \\right )\\psi (x)\n",
    "\\ \\ \\ \\ \\ \\ \\ \\ \\ \\\n",
    "\\end{equation}\n",
    "\n",
    "\\begin{equation}\\\n",
    "\\left \\langle p \\right \\rangle = \\int_{0}^{a}\\sqrt{\\frac{2}{a}}\\sin \\left ( \\frac{nx\\pi}{a} \\right )\\left ( -i\\hbar\\frac{\\partial}{\\partial x} \\right )\\sqrt{\\frac{2}{a}}\\sin \\left ( \\frac{nx\\pi}{a} \\right )\n",
    "\\ \\ \\ \\ \\ \\ \\ \\ \\ \\\n",
    "\\end{equation}\n",
    "\n",
    "note the $\\sqrt{\\frac{2}{a}}$ from the above equation comes form normalization:\n",
    "\n",
    "\\begin{equation}\\\n",
    "\\int_{0}^{a}\\psi (x)^{*}\\left (\\hat{p_{x}} \\right )\\psi (x) = 1\n",
    "\\ \\ \\ \\ \\ \\ \\ \\ \\ \\\n",
    "\\end{equation}\n",
    "\n",
    "After the integration is done:\n",
    "\n",
    "\\begin{equation}\\\n",
    "\\left \\langle p \\right \\rangle = 0\n",
    "\\ \\ \\ \\ \\ \\ \\ \\ \\ \\\n",
    "\\end{equation}\n",
    "\n",
    "This result indicates that the particle could be moving in either direction.\n",
    "\n",
    "The Theoretical introduction 1.1 section is from the book Physical Chemistry A molecular Approach by D. McQuarrie and J. Simon.\n"
   ]
  },
  {
   "cell_type": "code",
   "execution_count": 5,
   "metadata": {},
   "outputs": [
    {
     "name": "stdout",
     "output_type": "stream",
     "text": [
      "Enter a integer value for n (the x level of the wavefunction): 10\n",
      "Enter a integer value for m (the y level of the wavefunction): 10\n",
      "Enter the number of points per axis to use to plot the function: 100\n",
      "Enter a plot type (wireframe, surface, or contour): surface\n"
     ]
    },
    {
     "data": {
      "image/png": "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\n",
      "text/plain": [
       "<Figure size 432x288 with 1 Axes>"
      ]
     },
     "metadata": {
      "needs_background": "light"
     },
     "output_type": "display_data"
    }
   ],
=======
   "execution_count": null,
   "metadata": {},
   "outputs": [],
>>>>>>> 8eb9ef6fc672aa3d566911133562559159743e40
   "source": [
    "#Partical in a infinite 2D well probabilities\n",
    "\n",
    "\n",
    "#Import modules\n",
    "from mpl_toolkits.mplot3d import Axes3D\n",
    "from matplotlib import cm\n",
    "import matplotlib.pyplot as plt\n",
    "import numpy as np\n",
    "from pylab import title\n",
    "from math import sin, pi\n",
    "\n",
    "#Grather the information of the quantum state of interest\n",
    "#Ask user for n quantum number\n",
    "n = input(\"Enter a integer value for n (the x level of the wavefunction): \")\n",
    "n = int(n) #change str inpute to int\n",
    "#Ask user for m quantum number\n",
    "m = input(\"Enter a integer value for m (the y level of the wavefunction): \")\n",
    "m = int(m) #change str inpute to int\n",
    "#Ask user how many points need to be used to describe the plot.\n",
    "points = input(\"Enter the number of points per axis to use to plot the function: \")\n",
    "#Ask user what kind of plot will be used to describe the conditions above\n",
    "points = int(points) #change str inpute to int\n",
    "plottype = input(\"Enter a plot type (wireframe, surface, or contour): \")\n",
    "\n",
    "#Setting plotting conditions\n",
    "fig = plt.figure()\n",
    "ax = Axes3D(fig)\n",
    "inc = 1.0/points\n",
    "\n",
    "#Creating 2D square well arrays\n",
    "x2 = y2 = np.arange(0,1 + inc, inc)\n",
    "X2, Y2 = np.meshgrid(x2,y2)\n",
    "Z2 = np.zeros((points+1,points+1))\n",
    "for j in range(points+1):\n",
    "    for i in range(points+1):\n",
    "        Z2[i][j] = sin(m * pi * X2[i][j]) * sin(n * pi * Y2[i][j])\n",
    "        \n",
    "#Taking the 2D square well arrays and putting them into the plot of choice\n",
    "if plottype==\"wireframe\":\n",
    "    ax.plot_wireframe(X2,Y2,Z2)\n",
    "elif plottype==\"surface\":\n",
    "    ax.plot_surface(X2, Y2, Z2, rstride=1, cstride=1, cmap=cm.winter)\n",
    "elif plottype==\"contour\":\n",
    "    ax.contour(X2, Y2, Z2)\n",
    "else:\n",
    "    print(\"Please enter a valid type of plot.\")\n",
    "\n",
    "ax.set_xlabel(\"x\")\n",
    "ax.set_ylabel(\"y\")\n",
    "ax.set_zlabel(\"z\")\n",
    "plt.title(\"Particle in 2-D Infinite Well\",fontsize=50)\n",
    "plt.show()\n",
    "\n",
    "# The python code was borrowed from = https://sites.williams.edu/fws1/files/2011/10/lorenzo.pdf, Author: Antonio Lorenzo\n",
    "\n"
   ]
  },
  {
   "cell_type": "markdown",
   "metadata": {},
   "source": [
    "### 1.2 Energy spectrum of PIB"
   ]
  },
  {
   "cell_type": "markdown",
   "metadata": {},
   "source": [
    "## The energy of a particle in a 1D box is expressed as :\n",
    "$E_{n} = \\frac{n^{2}h^{2}}{2mL^{2}}$\n",
    ", where n is the quantum number with a domain of all nature numbers, h is the Plank constant, m is the mass of particle, and L is the length of the box. \n",
    "\n",
    "Here we have an idea that energy is quantized in quantum mechnics, which indicates the energy is no long continuous, and it would have a minimal \"unit energy\". \n",
    "\n",
    "In this specific case, the unit energy would be $E_1 = \\frac{h^{2}}{2mL^{2}}$, which is also called as the ground state energy, and the state with ground state energy would be the ground state. With the given ground state energy, we could express energy of allowed eigenstate in the form of $E_n = n^{2}\\times E_1$, and those state with quantum number n greater than 1 would be known as the n-1 th excited state. \n",
    "\n",
    "Due to the fact that the energy of states are propotional to $n^2$, the energy gap between two adjcent energy level can be expressed as $E_n - E_{n-1} = (2n -1)E_1$."
   ]
  },
  {
   "cell_type": "code",
   "execution_count": null,
   "metadata": {
    "scrolled": false
   },
   "outputs": [],
   "source": [
    "#Import Python modules\n",
    "import matplotlib.pyplot as plt\n",
    "import numpy as np\n",
    "import matplotlib\n",
    "\n",
    "#Add title to the graph\n",
    "fig,ax = plt.subplots(figsize=(8, 10), tight_layout=True)\n",
    "\n",
    "#define x_points\n",
    "L = 1\n",
    "n_points = 100\n",
    "x_points = np.linspace(0, L, n_points)\n",
    "gd = np.ones(n_points)\n",
    "\n",
    "#Plot energies\n",
    "for i in range(5):\n",
    "    ax.plot(x_points, (i+1)**2 * gd, label = 'n = ' + str(i+1))\n",
    "    ax.plot(x_points, (np.sin((i+1)*np.pi*x_points/L)+(i+1)**2), color = 'k')\n",
    "    \n",
    "ax.set_xticks([0, L])\n",
    "ax.set_yticks(np.arange(28))\n",
    "ax.set_ylabel('E/E\\N{SUBSCRIPT ONE}', fontsize = 16)\n",
    "ax.set_title('Energy spectrum of the infinite square well with wavefunction', fontsize=12, fontweight= 'bold')\n",
    "\n",
    "plt.legend()\n",
    "plt.show()\n",
    "\n",
    "\n"
   ]
  },
  {
   "cell_type": "markdown",
   "metadata": {},
   "source": [
    "### 1.3 'Particle in a Box' (PIB) wavefunctions"
   ]
  },
  {
   "cell_type": "markdown",
   "metadata": {},
   "source": [
    "#### 1.3.1 One-dimensional (1D) PIB"
   ]
  },
  {
   "cell_type": "markdown",
   "metadata": {},
   "source": [
    "The wavefunctions that are solutions for the 1D Particle in a Box have the form\n",
    "\n",
    "\\begin{equation}\\label{eq:pib_wfn}\n",
    "\\Psi_n (x) = B \\sin{\\frac{n \\pi x}{L}}\n",
    "\\ \\ \\ \\ \\ \\ \\ \\ \\ \\\n",
    "n = 1, 2, 3, \\cdots\n",
    "\\end{equation}\n",
    "\n",
    "in which $B$ is the \\textbf{normalization constant} that ensures the probability of finding the particle in the region $0 \\leq x \\leq L$ is equal to 1.\n",
    "\n",
    "\\begin{equation}\\label{eq:normal}\n",
    "\\int_0^L \\Psi_n^{*} (x) \\Psi_n(x) dx = 1\n",
    "\\ \\ \\ \\ \\ \\ \\\n",
    "\\end{equation}\n",
    "\n",
    "Recall that this is the boundary condition that is imposed on the potential energy operator $V(x)$ in the 1D Hamiltonian operator $\\hat{H} = \\hat{K}_x + V(x)$. \n",
    "\n",
    "\\begin{equation}\\label{eq:pib_pot}\n",
    "V(x)=\n",
    "\\begin{cases} \n",
    "0    & 0 \\leq x \\leq L \\\\\n",
    "\\infty & x < 0, x > L \n",
    "\\end{cases}\n",
    "\\end{equation}\n",
    "\n",
    "We can solve for $B$ by inserting Eq. \\ref{eq:pib_wfn} into Eq. \\ref{eq:normal}. With some calculus, we arrive at the solution $B = \\sqrt{\\frac{2}{L}}$ that allows us to write the \\textit{normalized} wavefunction\n",
    "\n",
    "\\begin{equation}\\label{eq:norm_pib_wfn}\n",
    "\\Psi_n (x) = \\sqrt{\\frac{2}{L}} \\sin{\\frac{n \\pi x}{L}}\n",
    "\\ \\ \\ \\ \\ \\ \\ \\ \\ \\\n",
    "n = 1, 2, 3, \\cdots\n",
    "\\end{equation}"
   ]
  },
  {
   "cell_type": "markdown",
   "metadata": {},
   "source": [
    "#### Example 1. Plot the PIB wavefunction for the quantum number $n$ and box dimension $L$."
   ]
  },
  {
   "cell_type": "markdown",
   "metadata": {},
   "source": [
    "First, let's define a function that calculates the wavefunction of PIB for a specified box dimension L and quantum number n:"
   ]
  },
  {
   "cell_type": "code",
   "execution_count": null,
   "metadata": {},
   "outputs": [],
   "source": [
    "# Import Python modules\n",
    "import matplotlib.pyplot as plt\n",
    "import numpy as np\n",
    "\n",
    "# Define function to calculate PIB wavefunction for a specified box dimension L, quantum number n, and position x\n",
    "def pib_wfn(n,L,x):\n",
    "    return np.sqrt(2/L)*np.sin(n*np.pi*x/L)"
   ]
  },
  {
   "cell_type": "markdown",
   "metadata": {},
   "source": [
    "We can verify that our normalization constant $B$ is correct by integrating our $\\Psi(x)$ over the space of the 1D box:"
   ]
  },
  {
   "cell_type": "code",
   "execution_count": null,
   "metadata": {},
   "outputs": [],
   "source": [
    "n = 1                                   # PIB quantum number\n",
    "L = 10                                  # PIB dimension\n",
    "n_points = 1000                         # number of points used for the plot\n",
    "x_points = np.linspace(0,10,n_points)   # create an array of 1000 values linearly spaced from 0 to L\n",
    "\n",
    "# Make sure that n is integer and n > 0\n",
    "n = int(n)\n",
    "if n < 1:\n",
    "    raise Exception (\"Quantum number n should be greater than 0\")\n",
    "\n",
    "# Calculate and print probability of a particle being anywhere in a box of length L (any 'n' quantum number)\n",
    "print(\"Probability(0 <= x <= L): \" + str(np.trapz(pib_wfn(n,L,x_points)*pib_wfn(n,L,x_points), x_points)))"
   ]
  },
  {
   "cell_type": "markdown",
   "metadata": {},
   "source": [
    "Now, that we have confirmed the validity of our wavefunction, let's define some parameters for our PIB model and plot the wavefunction:"
   ]
  },
  {
   "cell_type": "code",
   "execution_count": null,
   "metadata": {},
   "outputs": [],
   "source": [
    "n = 5             # PIB quantum number\n",
    "L = 10            # PIB dimension\n",
    "n_points = 1000   # number of points used for the plot\n",
    "\n",
    "# Make sure that n is integer and n > 0\n",
    "n = int(n)\n",
    "if n < 1:\n",
    "    raise Exception (\"Quantum number n should be greater than 0\")\n",
    "\n",
    "# Define x points\n",
    "x_points = np.linspace(0,L,n_points)\n",
    "\n",
    "# Evaluate wavefunction at each x\n",
    "wfn_values = pib_wfn(n, L, x_points)\n",
    "\n",
    "# Set up graph and plot\n",
    "plt.figure(figsize=(7,3))\n",
    "plt.plot(x_points, wfn_values)\n",
    "plt.xlabel(\"L\", fontsize=20)\n",
    "plt.ylabel(\"Ψ\", fontsize=20)\n",
    "plt.title(\"n=\"+str(n), fontsize=16)\n",
    "plt.tight_layout()\n",
    "plt.grid()\n"
   ]
  },
  {
   "cell_type": "markdown",
   "metadata": {},
   "source": [
    "#### PIB plot demo:"
   ]
  },
  {
   "cell_type": "markdown",
   "metadata": {},
   "source": [
    "Try choosing different values of $n$! What similarities and differences do they have? Notice:<br>\n",
    "(i) all of the wavefunctions are periodic <br>\n",
    "(ii) these functions resemble standing waves in vibrating string <br>\n",
    "(iii) for $n=1$, the particle is most-likely to be in the middle, contrary to classical physics <br>\n",
    "(iv) the number of nodes increases with quantum number $n$; the $n$th energy level wavefunction has $n-1$ nodes <br>\n",
    "\n",
    "Further, as $n \\rightarrow \\infty$ the \\textbf{Correspondence Principle} states that the QM results converge to those predicted by classical mechanics. See the plot below!"
   ]
  },
  {
   "cell_type": "code",
   "execution_count": null,
   "metadata": {},
   "outputs": [],
   "source": [
    "# Compute large 'n' wavefunction\n",
    "n=100\n",
    "large_nval = pib_wfn(n, L, x_points) * pib_wfn(n, L, x_points)\n",
    "\n",
    "# Set up graph and plot wavefunction approaching classical limit\n",
    "plt.figure(figsize=(7,3))\n",
    "plt.plot(x_points, large_nval)\n",
    "plt.xlabel(\"L\", fontsize=20)\n",
    "plt.ylabel(\"Ψ**2\", fontsize=20)\n",
    "plt.title(\"n=\"+str(n), fontsize=16)\n",
    "plt.tight_layout()\n",
    "plt.grid()"
   ]
  },
  {
   "cell_type": "markdown",
   "metadata": {},
   "source": [
    "#### 1.3.2 - 2D PIB"
   ]
  },
  {
   "cell_type": "markdown",
   "metadata": {},
   "source": [
    "Placeholder text"
   ]
  },
  {
   "cell_type": "markdown",
   "metadata": {},
   "source": [
    "#### 1.3.3 - 3D PIB"
   ]
  },
  {
   "cell_type": "markdown",
   "metadata": {},
   "source": [
    "Placeholder text"
   ]
  },
  {
   "cell_type": "markdown",
   "metadata": {},
   "source": [
    "### 1.4 Expectation values of the PIB model "
   ]
  },
  {
   "cell_type": "markdown",
   "metadata": {},
   "source": [
    "Remember that we can use the probability distribution $\\Psi^*_n(x) \\Psi_n(x)$ to calculate the average of physical quantities. The average quantity of any observable is known as that property's \\textbf{expectation value}. The expectation value of the observable is given by:\n",
    "\n",
    "\\begin{equation}\\label{eq:avg}\n",
    "\\langle a \\rangle = \\int_{-\\infty}^{\\infty} \\Psi^*_n(x) \\hat{A} \\Psi_n(x) dx\n",
    "\\end{equation}\n",
    "\n",
    "Recall the QM position and momentum operators that correspond to their respective classic observable counterparts:\n",
    "\n",
    "\\begin{equation*}\n",
    "\\hat{x} = x\n",
    "\\ \\ \\ \\ \\ \\ \\ \\ \\ \\ \\ \\\n",
    "\\hat{p_x} = -i \\hbar \\frac{d}{dx}\n",
    "\\end{equation*}\n",
    "\n",
    "We can apply these operators to our PIB wavefunctions"
   ]
  },
  {
   "cell_type": "markdown",
   "metadata": {},
   "source": [
    "#### 1.4.1 Average position "
   ]
  },
  {
   "cell_type": "markdown",
   "metadata": {},
   "source": [
    "For the average position, we can evaluate Eq. \\ref{eq:avg} with $\\hat{A}=\\hat{x}$:\n",
    "\n",
    "\\begin{align}\\label{eq:avg_pos}\n",
    "\\langle x \\rangle &= \\int_{-\\infty}^{\\infty} \\Psi^*_n(x) \\hat{x} \\Psi_n(x) dx \\nonumber \\\\\n",
    "                  &= \\int_{-\\infty}^{\\infty} \\Psi^*_n(x) x \\Psi_n(x) dx \n",
    "\\end{align}"
   ]
  },
  {
   "cell_type": "markdown",
   "metadata": {},
   "source": [
    "### 1.5 Particle in a finite box"
   ]
  },
  {
   "cell_type": "markdown",
   "metadata": {},
   "source": [
    "Particle in the box is a generic model in quantum mechnics, and it give a basic idea that the Hamiltonian can be expressed as $\\hat{H} = \\hat{K}_x + V(x)$, where the $\\hat{K}_x$ is the kinetic operator, and V(x) represents the potential energy in the system, and in our pervious examples, the potential within the box is zero otherwise, it would be infinite. The origin of potential is upon our choice, in order to apply symmetricity, in this case the center of the box is defined as the origin, and the potential can be expressed symbolically as:  <br />  \\begin{equation} V(x)=\n",
    "\\begin{cases} \n",
    "\\infty & x \\leq -\\frac{L}{2} \\\\\n",
    "0    & -\\frac{L}{2} < x \\leq \\frac{L}{2} \\\\\n",
    "\\infty & x > \\frac{L}{2} \n",
    "\\end{cases}\n",
    "\\end{equation}"
   ]
  },
  {
   "cell_type": "code",
   "execution_count": null,
   "metadata": {},
   "outputs": [],
   "source": [
    "#import modules\n",
    "import matplotlib.pyplot as plt\n",
    "import numpy as np\n",
    "import matplotlib"
   ]
  },
  {
   "cell_type": "markdown",
   "metadata": {},
   "source": [
    "Now specify the length of box"
   ]
  },
  {
   "cell_type": "code",
   "execution_count": null,
   "metadata": {},
   "outputs": [],
   "source": [
    "#input the length of box\n",
    "L = 10"
   ]
  },
  {
   "cell_type": "markdown",
   "metadata": {},
   "source": [
    "With the given length, the potential of infinite square well would be: "
   ]
  },
  {
   "cell_type": "code",
   "execution_count": null,
   "metadata": {},
   "outputs": [],
   "source": [
    "a = L * .5\n",
    "n_points = 100\n",
    "fig, ax = plt.subplots()\n",
    "ax.axvline(-a, 0, 10,)\n",
    "ax.axvline(a, 0, 10,)\n",
    "ax.set_xticks([-L, -L/2, 0, L/2, L])\n",
    "ax.set_yticks([])\n",
    "ax.set_ylim(0,1)\n",
    "ax.set_xlim(-L,L)\n",
    "ax.set_xlabel('distence from center of box')\n",
    "ax.set_ylabel('Energy')\n",
    "ax.set_title('The potential for the infinite square well')\n",
    "y_points_bot = np.zeros(n_points)\n",
    "y_points_top = np.ones(n_points)\n",
    "x_points_left = np.linspace(-L,-L/2,n_points)\n",
    "x_points_right = - x_points_left\n",
    "ax.fill_between(x_points_left, y_points_top, y_points_bot, facecolor = 'blue', alpha = .5)\n",
    "ax.fill_between(x_points_right, y_points_top, y_points_bot, facecolor = 'blue', alpha = .5)"
   ]
  },
  {
   "cell_type": "markdown",
   "metadata": {},
   "source": [
    "The shadow area indicates infinte potential, and they are called as forbidden region, and the white area is the allowed region, and in the case of infinite square well, the wavefunction is nonzero if and only if it is in the allowed region.\n",
    "\n",
    "The infinite square well is an easy model. However, in our daily life, an infinite potential is almost impossible. Thus, the application of our crude model onto some realistic situation is important for a chemistry student. Here, we would introduce the finite square well. Similar to our previous case, the potential in our box is zero, but when x is outside the box, there would be a finite potential. Here we can express our new potential symbolically and graphically: <br />  \\begin{equation} V(x)=\n",
    "\\begin{cases} \n",
    "V_0 & x \\leq -\\frac{L}{2} \\\\\n",
    "0    & -\\frac{L}{2} < x \\leq \\frac{L}{2} \\\\\n",
    "V_0 & x > \\frac{L}{2} \n",
    "\\end{cases}\n",
    "\\end{equation} \n",
    "\n",
    "\n"
   ]
  },
  {
   "cell_type": "markdown",
   "metadata": {},
   "source": [
    "Now specify the length of box and the finite potential"
   ]
  },
  {
   "cell_type": "code",
   "execution_count": null,
   "metadata": {},
   "outputs": [],
   "source": [
    "#input the length of box\n",
    "L = 10\n",
    "V = 10"
   ]
  },
  {
   "cell_type": "markdown",
   "metadata": {},
   "source": [
    "With the given length and potential, the finite well would look like"
   ]
  },
  {
   "cell_type": "code",
   "execution_count": null,
   "metadata": {},
   "outputs": [],
   "source": [
    "a = L * .5\n",
    "n_points = 100\n",
    "fig, ax = plt.subplots()\n",
    "\n",
    "\n",
    "ax.set_xticks([-L, -L/2, 0, L/2, L])\n",
    "ax.set_yticks([0, 0.5*V, V, 1.5*V])\n",
    "ax.set_ylim(0,1.5*V)\n",
    "ax.set_xlim(-L,L)\n",
    "ax.set_xlabel('distence from center of box')\n",
    "ax.set_ylabel('Energy')\n",
    "ax.set_title('The potential for the finite square well')\n",
    "y_points_bot = np.zeros(n_points)\n",
    "y_points_top = np.ones(n_points)*V\n",
    "x_points_left = np.linspace(-L,-L/2,n_points)\n",
    "x_points_right = - x_points_left\n",
    "ax.fill_between(x_points_left, y_points_top, y_points_bot, facecolor = 'blue', alpha = .5)\n",
    "ax.fill_between(x_points_right, y_points_top, y_points_bot, facecolor = 'blue', alpha = .5)"
   ]
  },
  {
   "cell_type": "markdown",
   "metadata": {},
   "source": [
    "The potential well can be visualized as following, the wavefunction in the box was still in the form of trig function. However, there would still be wavefunction outside the box, that is <strong> even outside the box, you can still observe your particle </strong>. \n",
    "    \n",
    "In fact, for all wavefunction with finite potential, besides the continuity of itself, its first derivative would also be continuous. If we named regions in the previous graph as region 1 (x less than $-\\frac{L}{2}$), region 2 (in the box), and region 3 (x larger than $\\frac{L}{2}$), the wavefunction and its first derivative at boundary points can be obtained with both region that boundary point defines.\n",
    "    \n",
    "Based on the relative magnitude of kinetic energy(The energy in the box) and the potential energy, there would be two different behaviors of wavefunction. If the kinetic energy is larger than the potential energy, there would be no forbidden region, and the wavefunction would be trig function everwhere. On the other hand, if the kinetic energy is smaller than the potential energy, then the blue region would be the forbidden region, and in our classical model, particles can never beyond that barrier, and the state with kinetic energy smaller than the potential energy is known as bound state. In our quantum particle in the box model, the wavefunction in the forbidden region would decay exponentially, and if the energy barrier disappear somewhere, the wavefunction would back to trig function and oscillate between two values, and this phenomenon is known as tunneling. \n",
    "\n",
    "<strong>Example. Finite well: For a finite potential well:</strong> <br />\n",
    "<div style=\"text-align:center\"> V(x) = $V_0 > 0$, for $|x-\\frac{L}{2}| > L, V(x) = 0$ for $|x-\\frac{L}{2}| < L$ </div>\n"
   ]
  },
  {
   "cell_type": "markdown",
   "metadata": {},
   "source": [
    "Now, please specify the quantum number n, which determine the kinetic energy of state, V for the potential of finite well, and L for the length of box."
   ]
  },
  {
   "cell_type": "code",
   "execution_count": null,
   "metadata": {},
   "outputs": [],
   "source": [
    "#import moduoles\n",
    "import numpy as np\n",
    "from matplotlib import pyplot as plt\n",
    "import matplotlib\n",
    "import math"
   ]
  },
  {
   "cell_type": "code",
   "execution_count": null,
   "metadata": {},
   "outputs": [],
   "source": [
    "#Define constant for calculation\n",
    "n = 2        #which energy level\n",
    "V = 1        #depth of well\n",
    "L = 10       #length of well"
   ]
  },
  {
   "cell_type": "code",
   "execution_count": null,
   "metadata": {},
   "outputs": [],
   "source": [
    "if n - int(n) != 0:\n",
    "    print ('n should be integer!')\n",
    "    n = int(n)\n",
    "\n",
    "if n < 1: \n",
    "    raise Exception (\"Quantum number n should be greater than 0!\")\n",
    "\n",
    "\n",
    "\n",
    "#define constant used in calculation\n",
    "hbar = 1\n",
    "mu = 1   \n",
    "\n",
    "imax = 500 #number of steps \n",
    "xmin = - L \n",
    "xmax = 2 * L\n",
    "dx   = (xmax-xmin)/imax #step size\n",
    "x_points = np.linspace(xmin, xmax, imax)\n",
    "grid = hbar**2 / (2*mu*dx**2)   #By the T operator T = hbar^2/(2m)* d^2/dx^2"
   ]
  },
  {
   "cell_type": "markdown",
   "metadata": {},
   "source": [
    "Here we use zero potential in the box and constant potential outside the box. Try with different potentials by changing the V0 matrix."
   ]
  },
  {
   "cell_type": "code",
   "execution_count": null,
   "metadata": {},
   "outputs": [],
   "source": [
    "#Generate potential matrix\n",
    "V0   = np.ones(imax) * V\n",
    "nstep= int(L // dx)  #number of steps reach the well\n",
    "nleft= imax - nstep\n",
    "V0[nstep-1:nleft-1] = 0\n",
    "V0   = np.diag(V0)   #The V0 operator should be a diagonal matrix in this case\n",
    "\n",
    "\n",
    "####################################################################################################\n",
    "#Uncomment this part if you want to modify potential, here we have a linear potential as an example#\n",
    "#nstep = int(L // dx)                                                                              #\n",
    "#nleft = imax - nstep                                                                              #\n",
    "#V0 = np.linspace(0, 3, imax)                                                                      #\n",
    "#V0[nstep-1:nleft-1] = 0                                                                           #\n",
    "#V0 = np.diag(V0)                                                                                  #\n",
    "####################################################################################################\n",
    "\n"
   ]
  },
  {
   "cell_type": "code",
   "execution_count": null,
   "metadata": {},
   "outputs": [],
   "source": [
    "#Generate kinetic matrix\n",
    "T    = np.zeros((imax, imax))\n",
    "for i in range(imax):\n",
    "    for j in range(imax):\n",
    "        if i != j:\n",
    "            T[i,j] = grid*((-1)**(i-j))*2/((i-j)**2)\n",
    "        T[i,i] = grid*(np.pi**2)/3.0\n",
    "\n",
    "#Generate Hamiltonian \n",
    "H = T + V0\n",
    "\n",
    "#Solve the eigensystem\n",
    "(val, vec) = np.linalg.eig(H)   #val is the eigenenergy and vec is the eigenvector\n",
    "\n",
    "#Normalization\n",
    "N = 0\n",
    "for i in range(imax):\n",
    "    N = N + np.conj(vec[i,1])*vec[i,1]*dx   #we use the approximation that for large imax, delta x almost be dx\n",
    "    \n",
    "vec = vec*N**(-.5)                          #By the integral Integrate[N*vec*dagger(vec) = 1]"
   ]
  },
  {
   "cell_type": "code",
   "execution_count": null,
   "metadata": {},
   "outputs": [],
   "source": [
    "scale = .4  #scale of wavefunction, feel free to adjust this\n",
    "fig, ax = plt.subplots()\n",
    "ax.plot(x_points, V0, 'b')     #Plot potential\n",
    "val_ordered = np.sort(val)     #Order eigenenergies by their magnitude\n",
    "index = np.where(val == val_ordered[n-1])  #determine which wavefunction should be used\n",
    "ax.plot(x_points, val[index]*np.ones(imax), 'r') #Plot eigenenergy\n",
    "wvf = np.real(vec[:, index])\n",
    "ax.plot(x_points, (wvf[:,0,0])*scale+ val[index], 'g') #Plot wavefunction around its eigenenergy\n",
    "\n",
    "\n",
    "ax.set_xlabel('Position (Bohr)')\n",
    "ax.set_ylabel('Energy (Hartree)')\n",
    "ax.set_title('Particle in a finite box and its wavefunction')\n"
   ]
  },
  {
   "cell_type": "markdown",
   "metadata": {},
   "source": [
    "Try with different energy state and different potential, you might find some wavefunction would die out and some won't. Consider what happened when wavefunction die out. (Hint: Try to solve the Schrodinger equation and Euler formula $e^{ikx} = cos(x) + isin(x)$ might be helpful)"
   ]
  },
  {
   "cell_type": "markdown",
   "metadata": {},
   "source": [
    "## <span style=\"color:blue\">2. Exercises</span>"
   ]
  },
  {
   "cell_type": "markdown",
   "metadata": {},
   "source": [
    "### 2.1. Exercise 1. "
   ]
  }
 ],
 "metadata": {
  "kernelspec": {
   "display_name": "Python 3",
   "language": "python",
   "name": "python3"
  },
  "language_info": {
   "codemirror_mode": {
    "name": "ipython",
    "version": 3
   },
   "file_extension": ".py",
   "mimetype": "text/x-python",
   "name": "python",
   "nbconvert_exporter": "python",
   "pygments_lexer": "ipython3",
   "version": "3.8.1"
  },
  "latex_envs": {
   "LaTeX_envs_menu_present": true,
   "autoclose": false,
   "autocomplete": true,
   "bibliofile": "biblio.bib",
   "cite_by": "apalike",
   "current_citInitial": 1,
   "eqLabelWithNumbers": true,
   "eqNumInitial": 1,
   "hotkeys": {
    "equation": "Ctrl-E",
    "itemize": "Ctrl-I"
   },
   "labels_anchors": false,
   "latex_user_defs": false,
   "report_style_numbering": false,
   "user_envs_cfg": false
  }
 },
 "nbformat": 4,
 "nbformat_minor": 4
}
