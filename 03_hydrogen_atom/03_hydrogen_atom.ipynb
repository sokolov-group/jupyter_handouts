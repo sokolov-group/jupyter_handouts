{
 "cells": [
  {
   "cell_type": "markdown",
   "metadata": {},
   "source": [
    "# <div style=\"text-align:center\">Handout: \"Hydrogen Atom\"</div>"
   ]
  },
  {
   "cell_type": "markdown",
   "metadata": {},
   "source": [
    "## <span style=\"color:blue\">1. Theoretical Background</span>"
   ]
  },
  {
   "cell_type": "markdown",
   "metadata": {},
   "source": [
    "###  <span style=\"color:red\">1.1. Introduction </span>"
   ]
  },
  {
   "cell_type": "markdown",
   "metadata": {},
   "source": [
    "* Hydrogen is the simplest atomic system that is used as a prototype for studying other complex atoms and molecules.\n",
    "<br/>\n",
    "\n",
    "* It is the only atomic system for which Schrodinger equation can be solved analytically.\n",
    "\n",
    "TODO : Add picture "
   ]
  },
  {
   "cell_type": "markdown",
   "metadata": {},
   "source": [
    "### <span style=\"color:red\">1.2. Solving the Hydrogen Atom"
   ]
  },
  {
   "cell_type": "markdown",
   "metadata": {},
   "source": [
    "* Assuming the proton to be fixed and at rest reduces the hydrogen atom system to one-body problem. <br/>\n",
    "<br/>\n",
    "* The electronic Hamiltonian for the hydrogen atom is defined as follows : <br/>\n",
    "<br/>\n",
    "$$\\begin{align}\n",
    "\\hat{H} = -\\frac{\\hbar^2}{2m_e}\\nabla^2 - \\frac{e^2}{4\\pi\\epsilon_0r} \\label{eq1}\\tag{1}\n",
    "\\end{align}$$\n",
    "Here, \n",
    "\\begin{align}\n",
    "-\\frac{\\hbar^2}{2m_e}\\nabla^2 : \\text{kinetic energy of the electron} \n",
    "\\end{align}\n",
    "\\begin{align}\n",
    "&\\frac{e^2}{4\\pi\\epsilon_0r} : \\text{electron-proton Coulomb interaction}\n",
    "\\end{align}"
   ]
  },
  {
   "cell_type": "markdown",
   "metadata": {},
   "source": [
    "* Hydrogen atom is spherically symmetric. The spherical geometry facilitates use of spherical coordinates to solve the Schrodinger equation. <br/>\n",
    "<br/>\n",
    "* Recall that in spherical coordinates : <br/>\n",
    "$$\\begin{align}\n",
    "x &= r\\sin\\theta\\cos\\phi  \\hspace{35pt}  0 \\leq r\\leq\\infty \\label{eq2}\\tag{2}\\\\\n",
    "y &= r\\sin\\theta\\sin\\phi  \\hspace{35pt}  0 \\leq \\theta \\leq \\pi \\label{eq3}\\tag{3}\\\\\n",
    "z &= r\\cos\\theta  \\hspace{52pt}  0 \\leq \\phi \\leq 2pi \\label{eq4}\\tag{4}\\\\\n",
    "\\text{where} \\hspace{20pt} r &= \\sqrt{x^{2}+y^{2}+z^{2}} \\label{eq5}\\tag{5}\n",
    "\\end{align}$$ \n",
    "<br/>\n",
    "<br/>\n",
    "TODO : Add picture\n"
   ]
  },
  {
   "cell_type": "markdown",
   "metadata": {},
   "source": [
    "* Using spherical coordinates, Eq. (1) can be rewriiten as : \n",
    "<br/>\n",
    "<br/>\n",
    "$$\\begin{align}\n",
    "\\hat{H} =& -\\frac{\\hbar^2}{2m_e}\\left[ \\frac{\\partial^2}{\\partial r^2} + \\frac{2}{r} \\frac{\\partial}{\\partial r} \\right] \\\\\n",
    "&- \\frac{\\hbar^2}{2m_e r^2} \\left[ \\frac{1}{\\sin \\theta} \\frac{\\partial}{\\partial \\theta} \\sin \\theta \\frac{\\partial}{\\partial \\theta} + \\frac{1}{\\sin^2\\theta}\\frac{\\partial^2}{\\partial^2\\phi}\\right] - \\frac{e^2}{4\\pi\\epsilon_0r} \\label{eq6}\\tag{6}\n",
    "\\end{align}$$\n",
    "<br/>\n",
    "<br/>\n",
    "* Using the method of separation of variables, the solution for the hydrogen atom wavefunction can be described using a radial part and an angular part : \n",
    "<br/>\n",
    "<br/>\n",
    "$$\\begin{align}\n",
    "\\Psi_{nlm} (r, \\theta, \\phi) &= R_{nl} (r) Y_{lm} (\\theta, \\phi) \\label{eq7}\\tag{7}\\\\ \n",
    "\\\\\n",
    "\\text{where} \\hspace{10pt} &R_{nl}(r) : \\text{radial part}\\\\\n",
    "&Y_{lm} (\\theta, \\phi) : \\text{angular part} \n",
    "\\end{align}$$\n"
   ]
  },
  {
   "cell_type": "markdown",
   "metadata": {},
   "source": [
    "#### <span style=\"color:red\">1.2.1 Solving the Angular Part of Hydrogen Atom Wavefunction"
   ]
  },
  {
   "cell_type": "markdown",
   "metadata": {},
   "source": [
    "* The angular part of the wavefunction is given by spherical harmonics: <br/>\n",
    " <br/>\n",
    "$$\\begin{align}\n",
    "Y_{lm} (\\theta, \\phi) = \\sqrt{\\frac{(2l+1)}{4\\pi}\\frac{(l-|m|)!}{(l+|m|)!}} P_l^{|m|}(\\cos\\theta) e^{im\\phi} \\label{eq8}\\tag{8}\n",
    "\\end{align}$$\n",
    "<br/>\n",
    "<br/>\n",
    "*  $P_l^{|m|}$ are associated Legendre polynomials that define angular shape of the hydrogen atom wavefunctions ($s, p, d, f$ and so on).\n",
    "<br/>\n",
    "<br/>\n",
    "* $l$ and $m$ are quantum numbers : $l$ = 0, 1, 2, .... $\\hspace{5pt}$and $\\hspace{5pt}-l\\leq m \\leq l $\n",
    "<br/>\n",
    "<br/>\n",
    "* Spherical harmonics are orthonormal."
   ]
  },
  {
   "cell_type": "markdown",
   "metadata": {},
   "source": [
    "#### <span style=\"color:red\">1.2.2 Solving the Radial Part of Hydrogen Atom Wavefunction"
   ]
  },
  {
   "cell_type": "markdown",
   "metadata": {},
   "source": [
    "* The radial part of the wavefunction is as follows :\n",
    "<br/>\n",
    "<br/>\n",
    "$$\\begin{align}\n",
    "R_{nl}(r) = - \\left\\{ \\frac{(n-l-1)!}{2n[(n+l)!]^3} \\right\\}^{1/2} \\left( \\frac{2}{na_0} \\right)^{l+3/2} r^l e^{-r/na_0} L^{2l+1}_{n+l} \\left( \\frac{2r}{na_0} \\right)\\label{eq9}\\tag{9}\n",
    "\\end{align}$$\n",
    "<br/>\n",
    "<br/>\n",
    "* $L^{2l+1}_{n+l}$ are the associated Laguerre polynomials that describes the apperance of nodes.\n",
    "<br/>\n",
    "<br/>\n",
    "* $n$ and $l$ are quantum numbers : $n$ = 0, 1, 2, .... $\\hspace{5pt}$and $\\hspace{5pt}0\\leq l \\leq n-1 $\n",
    "<br/>\n",
    "<br/>\n",
    "* Similar to spherical harmonics, radial wavefunctions are also orthonormal."
   ]
  },
  {
   "cell_type": "markdown",
   "metadata": {},
   "source": [
    "#### <span style=\"color:red\">1.2.3 Combining the Radial And Angular Parts of Hydrogen Atom Wavefunction"
   ]
  },
  {
   "cell_type": "markdown",
   "metadata": {},
   "source": [
    "* The overall structure of the hydrogen atom wavefunction is as follows :\n",
    "<br/>\n",
    "<br/>\n",
    "$$\\begin{align}\n",
    "\\Psi_{nlm} (r, \\theta, \\phi) \\propto r^l\\, e^{-\\frac{r}{na_0}}\\, L_{n+l}^{2l+1} \\left( \\frac{2r}{na_0} \\right)\\, P_{l}^{|m|} \\left( \\cos \\theta \\right) e^{im\\phi}\\label{eq10}\\tag{10}\n",
    "\\end{align}$$\n",
    "\n",
    "* Recall that the angular and radial parts are individually orthonormal. The overall hydrogen atom wavefunction formed by their combination is also orthonormal.\n",
    "<br/>\n",
    "<br/>\n",
    "$$\\begin{align}\n",
    "\\int_0^\\infty \\mathrm{d}r \\, r^2 \\int_0^\\pi \\mathrm{d} \\theta \\, \\sin \\theta \\int_0^{2\\pi} \\mathrm{d} \\phi \\,\\Psi_{nlm}^* (r, \\theta, \\phi) \\Psi_{n’l’m’} (r, \\theta, \\phi) &= \\delta_{nn’} \\delta_{ll’} \\delta_{mm’}\\label{eq11}\\tag{11}\n",
    "\\end{align}$$"
   ]
  },
  {
   "cell_type": "markdown",
   "metadata": {},
   "source": [
    "TODO : Phew! Now let us take a look at what each of these terms signify. "
   ]
  },
  {
   "cell_type": "markdown",
   "metadata": {},
   "source": [
    "* Solution of the Schrodinger equation for hydrogen atom is : \n",
    "<br/>\n",
    "<br/>\n",
    "$$E_{n} = -\\frac{e^{2}}{8\\pi\\epsilon_{0}a_{0}n^{2}}\\label{eq12}\\tag{12}\\\\\n",
    "$$\n",
    "* $a_{0}$ is the Bohr radius : <br/>\n",
    "\n",
    "$$a_{0} \\equiv \\frac{\\epsilon_{0}h^{2}}{\\pi m_{e} e^{2}}\\label{eq13}\\tag{13}$$"
   ]
  },
  {
   "cell_type": "markdown",
   "metadata": {},
   "source": [
    "* This solution can be generalized for all hydrogen-like (one-body) atoms with atomic number Z : <br/>\n",
    "\n",
    "$$E_{n} = -\\frac{Ze^{2}}{8\\pi\\epsilon_{0}a_{0}n^{2}}\\label{eq14}\\tag{14}\\\\\n",
    "$$\n",
    "\n",
    "* Note that the energy of the hydrogen-like atoms are solely dependant on atomic number Z and the quantum number $n$ and not on $l$ and $m$."
   ]
  },
  {
   "cell_type": "markdown",
   "metadata": {},
   "source": [
    "Let us verify that ourselves ! <br/>\n",
    "Its convenient to use atomic units to compute electronic energy. In atomic units :  <br/>\n",
    "$$\\begin{align}\n",
    "e &= 1\\\\\n",
    "4\\pi\\epsilon_{0} &= 1\\\\\n",
    "a_{0} &= 1\n",
    "\\end{align}\n",
    "$$\n"
   ]
  },
  {
   "cell_type": "code",
   "execution_count": 1,
   "metadata": {},
   "outputs": [],
   "source": [
    "# Computing electronic energy of hydrogen atom. \n",
    "\n",
    "# Import Python modules\n",
    "import numpy as np\n",
    "\n",
    "# Define function to calculate hydrogen atom energy in atomic units for quantum numbers n, l and m and atomic number Z\n",
    "def energy(Z,n,l,m): \n",
    "    return -Z/(2*n**2)"
   ]
  },
  {
   "cell_type": "markdown",
   "metadata": {},
   "source": [
    "Let's define parameters $Z, n, l$ and $m$ for hydrogen atom"
   ]
  },
  {
   "cell_type": "code",
   "execution_count": 2,
   "metadata": {},
   "outputs": [],
   "source": [
    "n = 1  # principal quantum number          \n",
    "l = 0  #angular momentum quantum number\n",
    "m = 0  # magnetic quantum number\n",
    "Z = 1  # atomic number"
   ]
  },
  {
   "cell_type": "markdown",
   "metadata": {},
   "source": [
    "Now, lets compute the energy."
   ]
  },
  {
   "cell_type": "code",
   "execution_count": 3,
   "metadata": {},
   "outputs": [
    {
     "name": "stdout",
     "output_type": "stream",
     "text": [
      "Electronic Energy :  -0.5 atomic units\n"
     ]
    }
   ],
   "source": [
    "#Compute energy\n",
    "Energy = energy(Z,n,l,m)\n",
    "print (\"Electronic Energy : \", Energy, \"atomic units\")"
   ]
  },
  {
   "cell_type": "markdown",
   "metadata": {},
   "source": [
    "Exercise : \n",
    "<br/>\n",
    "* Now go back and try choosing different values of l and m! Does the energy change? \n",
    "* While you are at it, try choosing different values of Z and see how the energy changes with increasing Z. \n",
    "* Which one has the higher energy for $n$ = 2, $l$ = 1, $m$ = 0 : C$^{5+}$ or O$^{7+}$ ?"
   ]
  },
  {
   "cell_type": "markdown",
   "metadata": {},
   "source": [
    "### <span style=\"color:red\">1.3. Closer Look at the Quantum Numbers"
   ]
  },
  {
   "cell_type": "markdown",
   "metadata": {},
   "source": [
    "There are 3 quantum numbers : $n$, $l$ and $m$"
   ]
  },
  {
   "cell_type": "markdown",
   "metadata": {},
   "source": [
    "#### <span style=\"color:red\">1.3.1 Principal quantum number : $n$"
   ]
  },
  {
   "cell_type": "markdown",
   "metadata": {},
   "source": [
    "* Possible values : $n$ = 1, 2, 3, ....\n",
    "<br/>\n",
    "* Determines number of nodes in the wavefunction.\n",
    "<br/>\n",
    "* Determines the extent of the wavefunction, i.e., how far from the nucleus once can find an atom.\n",
    "<br/>\n",
    "* We have previously seen that the energy of the hydrogen atom depends only on $n$. \n"
   ]
  },
  {
   "cell_type": "markdown",
   "metadata": {},
   "source": [
    "Now what about the degeneracy? Are hydrogen-atom energy levels degenerate? If so, how can you determine the number of states belonging to each level? Lets find out!"
   ]
  },
  {
   "cell_type": "markdown",
   "metadata": {},
   "source": [
    " Recall : <br/>\n",
    " $$\\begin{align}\n",
    " n &= 1, 2, 3, ....\\\\\n",
    " l &= 0, 1, 2, ...., (n-1)\\\\\n",
    " m &= -l, -l+1, ...,0, ...., (l-1), l\n",
    " \\end{align}$$"
   ]
  },
  {
   "cell_type": "markdown",
   "metadata": {},
   "source": [
    "So, for a given value of $n$, there can be $n$ different values of $l$. For each of these values of $l$, there can be $2l + 1$ values of m. So, degeneracy for each state can be calculated using :\n",
    "$$\\begin{align}\n",
    " \\sum\\limits_{l=0}^{n-1} 2l + 1 \n",
    " \\end{align}$$\n",
    "<br/> \n",
    "This is numerically equal to $n^{2}$. Let us verify this."
   ]
  },
  {
   "cell_type": "code",
   "execution_count": 4,
   "metadata": {},
   "outputs": [],
   "source": [
    "# Calculating number of degenerate levels\n",
    "\n",
    "# Import Python modules\n",
    "import numpy as np\n",
    "\n",
    "# Define function to calculate degeneracy using 2l + 1\n",
    "def degeneracy_1(n):\n",
    "    degenerate_levels = 0\n",
    "    for l in range(0,n):\n",
    "        degenerate_levels += (2*l + 1)\n",
    "    return degenerate_levels\n",
    "\n",
    "# Define function to calculate degeneracy using n^{2}\n",
    "def degeneracy_2(n):\n",
    "    return n**2"
   ]
  },
  {
   "cell_type": "code",
   "execution_count": 5,
   "metadata": {},
   "outputs": [],
   "source": [
    "# Insert your favorite value of n\n",
    "n = 4"
   ]
  },
  {
   "cell_type": "code",
   "execution_count": 6,
   "metadata": {},
   "outputs": [
    {
     "name": "stdout",
     "output_type": "stream",
     "text": [
      "Verified that degeneracy is n squared \n",
      "Number of degenerate levels : 16\n"
     ]
    }
   ],
   "source": [
    "# Check if the two above functions are equal\n",
    "level_1 = degeneracy_1(n)\n",
    "level_2 = degeneracy_2(n)\n",
    "\n",
    "if level_1 == level_2 :\n",
    "    print (\"Verified that degeneracy is n squared \")\n",
    "    print (\"Number of degenerate levels :\", level_2)\n",
    "else : \n",
    "    print (\"Error in the code\")"
   ]
  },
  {
   "cell_type": "markdown",
   "metadata": {},
   "source": [
    "The figure below should make this easier to understand."
   ]
  },
  {
   "cell_type": "markdown",
   "metadata": {},
   "source": [
    "<figure>\n",
    "  <img src=\"degeneracy.png\" alt=\"Degenerate levels for hydrogen atom\">\n",
    "  <figcaption>Fig : Degenerate levels for hydrogen atom</figcaption>\n",
    "</figure>"
   ]
  },
  {
   "cell_type": "markdown",
   "metadata": {},
   "source": [
    "#### <span style=\"color:red\">1.3.2 Angular momentum quantum number : $l$"
   ]
  },
  {
   "cell_type": "markdown",
   "metadata": {},
   "source": [
    "* Possible values : $0 \\leq l \\leq n-1$ \n",
    "<br/>\n",
    "* Determines possible values of orbital angular momentum\n",
    "<br/>\n",
    "* Provides information about the shape of the wavefunction"
   ]
  },
  {
   "cell_type": "markdown",
   "metadata": {},
   "source": [
    "<figure>\n",
    "  <img src=\"shapes.png\" alt=\"Degenerate levels for hydrogen atom\">\n",
    "  <figcaption>Fig : Shapes of orbitals</figcaption>\n",
    "</figure>"
   ]
  },
  {
   "cell_type": "markdown",
   "metadata": {},
   "source": [
    "#### <span style=\"color:red\">1.3.3 Magnetic quantum number : $m$"
   ]
  },
  {
   "cell_type": "markdown",
   "metadata": {},
   "source": [
    "* Possible values : $-l \\leq m \\leq 1$ \n",
    "<br/>\n",
    "* Determines possible values of angular momentum projection\n",
    "<br/>\n",
    "* Provides information about the orientation of the wavefunction in space"
   ]
  },
  {
   "cell_type": "markdown",
   "metadata": {},
   "source": [
    "### <span style=\"color:red\">1.4. Closer Look at the Orbitals"
   ]
  },
  {
   "cell_type": "markdown",
   "metadata": {},
   "source": [
    "#### <span style=\"color:red\">1.4.1 s-Orbitals"
   ]
  },
  {
   "cell_type": "markdown",
   "metadata": {},
   "source": [
    "* For any principle quantum number $n$, the s-orbital wavefunction is $\\Psi_{n00}$ where both $l$ and $m$ are zero.\n",
    "<br/>\n",
    "<br/>\n",
    "* The angular part of the wavefunctions is spherically symmetric<br/>\n",
    "$$\\begin{align}\n",
    "\\Psi_{n00}(\\theta, \\phi)= \\frac{1}{\\sqrt{4\\pi}}\n",
    "\\end{align}$$\n",
    "<br/>\n",
    "<br/>\n",
    "* The radial part is described by a polynomial :\n",
    "$$\\begin{align}\n",
    "\\Psi_{n00}(r)\\propto e^{-\\frac{r}{na_0}} L^{1}_{n}(\\frac{2r}{na_0})\n",
    "\\end{align}$$"
   ]
  },
  {
   "cell_type": "markdown",
   "metadata": {},
   "source": [
    "Lets try plotting the the radial wavefunction for any 1s, 2s and 3s orbitals!"
   ]
  },
  {
   "cell_type": "markdown",
   "metadata": {},
   "source": [
    "Let us take the examples of radial wavefunctions for 1s, 2s and 3s orbitals:\n",
    "<br/>\n",
    "$$\\begin{align}\n",
    " R_{1s} &= 2 \\left(\\frac{Z}{a_0}\\right)^{3/2}e^{-\\frac{Zr}{a_0}}\\\\\n",
    " R_{2s} &= \\frac{1}{\\sqrt{8}}\\left(\\frac{Z}{a_0}\\right)^{3/2} \\left(2-\\frac{Zr}{a_0}\\right)  e^{-\\frac{Zr}{2a_0}}\\\\\n",
    " R_{2s} &= \\frac{2}{81\\sqrt{3}}\\left(\\frac{Z}{a_0}\\right)^{3/2} \\left(27-\\frac{18Zr}{a_0}+2\\left(\\frac{Zr}{a_0}\\right)^2\\right)  e^{-\\frac{Zr}{3a_0}}\n",
    " \\end{align}$$"
   ]
  },
  {
   "cell_type": "code",
   "execution_count": 2,
   "metadata": {},
   "outputs": [],
   "source": [
    "# Plotting radial wavefunction for any 1s, 2s and 3s\n",
    "\n",
    "# Import Python modules and libraries.\n",
    "import matplotlib.pyplot as plt\n",
    "import numpy as np\n",
    "from sympy.abc import n, l, r, Z\n",
    "from sympy.physics import hydrogen\n",
    "from sympy.utilities.lambdify import lambdify\n",
    "\n",
    "# Computing the radial parts that depends on n and r\n",
    "R_nl_1s = lambdify(r, hydrogen.R_nl(1, 0, r, 1)) #1s\n",
    "R_nl_2s = lambdify(r, hydrogen.R_nl(2, 0, r, 1)) #2s\n",
    "R_nl_3s = lambdify(r, hydrogen.R_nl(3, 0, r, 1)) #3s"
   ]
  },
  {
   "cell_type": "code",
   "execution_count": 3,
   "metadata": {},
   "outputs": [
    {
     "data": {
      "image/png": "[encoded data removed]",
      "text/plain": [
       "<Figure size 1080x720 with 1 Axes>"
      ]
     },
     "metadata": {
      "needs_background": "light"
     },
     "output_type": "display_data"
    }
   ],
   "source": [
    "# Plotting the wavefunction\n",
    "r = np.linspace(0, 30, 1000)\n",
    "fig = plt.figure(figsize=(15,10))\n",
    "ax = fig.add_subplot(3,2,1)\n",
    "ax.plot(r, R_nl_1s(r), 'r', label='1s')\n",
    "ax.plot(r, R_nl_2s(r), 'b', label='2s')\n",
    "ax.plot(r, R_nl_3s(r), 'g', label='3s')\n",
    "plt.xlabel(\"r/a$_{0}$\", fontsize=18)\n",
    "plt.ylabel(\"R(r)\", fontsize=18)\n",
    "plt.grid()\n",
    "leg = ax.legend(fontsize=14)"
   ]
  },
  {
   "cell_type": "markdown",
   "metadata": {},
   "source": [
    "Exercise : <br/>\n",
    "* Can you predict the number of nodes for each of these wavefunctions?\n",
    "<br/>\n",
    "* Verify your answer using : nodes = $n - l - $1 "
   ]
  },
  {
   "cell_type": "markdown",
   "metadata": {},
   "source": [
    "Lets try plotting the the radial probability density for 1s, 2s and 3s orbitals!"
   ]
  },
  {
   "cell_type": "markdown",
   "metadata": {},
   "source": [
    "The radial probability density can be computed as : \n",
    "<br/>\n",
    "$$\\begin{align}\n",
    "|R_{nl}(r)|^{2}r^{2}\n",
    "\\end{align}\n",
    "$$"
   ]
  },
  {
   "cell_type": "markdown",
   "metadata": {},
   "source": [
    "How about plotting the radial probability densities as well?"
   ]
  },
  {
   "cell_type": "code",
   "execution_count": 4,
   "metadata": {},
   "outputs": [],
   "source": [
    "# Computing probability densities\n",
    "D_1s = (r**2)*np.square(R_nl_1s(r)) #1s\n",
    "D_2s = (r**2)*np.square(R_nl_2s(r)) #2s\n",
    "D_3s = (r**2)*np.square(R_nl_3s(r)) #3s"
   ]
  },
  {
   "cell_type": "code",
   "execution_count": 5,
   "metadata": {},
   "outputs": [
    {
     "data": {
      "image/png": "[encoded data removed]",
      "text/plain": [
       "<Figure size 1080x720 with 1 Axes>"
      ]
     },
     "metadata": {
      "needs_background": "light"
     },
     "output_type": "display_data"
    }
   ],
   "source": [
    "# Plotting the densities\n",
    "r = np.linspace(0, 50, 1000)\n",
    "\n",
    "fig = plt.figure(figsize=(15,10))\n",
    "\n",
    "ax = fig.add_subplot(3,2,1)\n",
    "\n",
    "#plot 1s, 2s and 3s radial distribution\n",
    "ax.plot(r, D_1s, 'r', label='1s')\n",
    "ax.plot(r, D_2s, 'g', label='2s')\n",
    "ax.plot(r, D_3s, 'b', label='3s')\n",
    "plt.xlabel(\"r/a$_{0}$\", fontsize=18)\n",
    "plt.ylabel(\"r$^{2}$R$^{2}$(r)\", fontsize=18)\n",
    "plt.grid()\n",
    "leg = ax.legend(fontsize=14)"
   ]
  },
  {
   "cell_type": "markdown",
   "metadata": {},
   "source": [
    "Exercise : <br/>\n",
    "* Do the number of nodes from this plot and the radial wavefunction plot match?"
   ]
  },
  {
   "cell_type": "markdown",
   "metadata": {},
   "source": [
    "TODO : Add figures "
   ]
  },
  {
   "cell_type": "markdown",
   "metadata": {},
   "source": [
    "Now lets find out how the shape of the 1s orbitals are. Lets take a look at the wavefunction for 1s: \n",
    "<br/>\n",
    "$$\\begin{align}\n",
    "\\Psi_{100} (r, \\theta, \\phi) \\propto  \\frac{e^{-r}}{\\sqrt(\\pi)}\n",
    "\\end{align}$$\n",
    "\n",
    "TODO : Add 3s wavefunction"
   ]
  },
  {
   "cell_type": "markdown",
   "metadata": {},
   "source": [
    "Using equation (5), we will plot 1s wavefunction in cartesian x,y coordinates. We will also do the same thing for $\\Psi_{300}$. "
   ]
  },
  {
   "cell_type": "code",
   "execution_count": 6,
   "metadata": {},
   "outputs": [
    {
     "data": {
      "image/png": "[encoded data removed]",
      "text/plain": [
       "<Figure size 864x720 with 4 Axes>"
      ]
     },
     "metadata": {
      "needs_background": "light"
     },
     "output_type": "display_data"
    }
   ],
   "source": [
    "# Determining wavefunction shapes of s orbitals for different n\n",
    "\n",
    "def prob_1s(x,y): #Probability density of 1s orbital\n",
    "    r=np.sqrt(np.square(x)+np.square(y))\n",
    "    return np.square(np.exp(-r)/np.sqrt(np.pi))\n",
    "\n",
    "def prob_3s(x,y): #Probability density of 3s orbital\n",
    "    r=np.sqrt(np.square(x)+np.square(y))\n",
    "    return np.square((27-(18*r)+(2*r**2)*np.exp(-r/3))/(81*np.sqrt(3*np.pi)))\n",
    "\n",
    "# Generating the contour plots\n",
    "\n",
    "#Random coordinates\n",
    "x = np.linspace(-1.2, 1.2, 800)\n",
    "y = np.linspace(-1.2, 1.2, 800)\n",
    "\n",
    "X, Y = np.meshgrid(x, y)\n",
    "Z = prob_1s(X, Y)\n",
    "Z1 = prob_3s(X, Y)\n",
    "\n",
    "fig = plt.figure(figsize=(12,10))\n",
    "ax = fig.add_subplot(2,2,1)\n",
    "\n",
    "#fig, ax = plt.subplots()\n",
    "cs = ax.contourf(X, Y, Z)\n",
    "plt.xlabel(\"x\", fontsize=16)\n",
    "plt.ylabel(\"y\", fontsize=16)\n",
    "plt.title(\"1s\", fontsize=20)\n",
    "cbar = fig.colorbar(cs)\n",
    "\n",
    "ax1 = fig.add_subplot(2,2,2)\n",
    "cs = ax1.contourf(X, Y, Z1)\n",
    "plt.xlabel(\"x\", fontsize=16)\n",
    "plt.ylabel(\"y\", fontsize=16)\n",
    "plt.title(\"3s\", fontsize=20)\n",
    "cbar = fig.colorbar(cs)\n",
    "\n",
    "plt.show()"
   ]
  },
  {
   "cell_type": "markdown",
   "metadata": {},
   "source": [
    "#### <span style=\"color:red\">1.4.2 p-Orbitals"
   ]
  },
  {
   "cell_type": "markdown",
   "metadata": {},
   "source": [
    "### 1.7. Quantum numbers : Closer look (Based on Dr. Sokolov's handout)"
   ]
  },
  {
   "cell_type": "markdown",
   "metadata": {},
   "source": [
    "This part should contain a brief intro followed by pictures.\n",
    "Then should focus on the radial probabilities and probability distributions followed by angular contour plots with relevant theory."
   ]
  },
  {
   "cell_type": "markdown",
   "metadata": {},
   "source": [
    "## 1.7.1 s-Orbital of Hydrogen."
   ]
  },
  {
   "cell_type": "markdown",
   "metadata": {},
   "source": [
    "* For each principle quantum number ($n$), possible angular momentum quantum numbers ($l$) are\n",
    "$0\\leq l \\leq(n-1)$. \n",
    "* Similarly for each angular momentum quantum numbers ($l$), magnetic quantum numbers ($m$) are $-l\\leq m \\leq l$. <br/>\n",
    "* For any principle quantum number $n$, the s-orbital wavefunction is $\\Psi_{n00}$ where both angular and magnetic quantum numbers are zero.<br/>\n",
    "* The angular part of the wavefunctions is spheriacally symmetric;<br/>\n",
    "$$\\begin{align}\n",
    "\\Psi_{n00}(\\theta, \\phi)= \\frac{1}{\\sqrt{4\\pi}}\n",
    "\\end{align}$$\n",
    "<br/>\n",
    "* But the radial part described by a polynomial in $r$ times $e^{-\\frac{r}{na_0}}$; <br/>\n",
    "$$\\begin{align}\n",
    "\\Psi_{n00}(r, \\theta, \\phi)\\propto e^{-\\frac{r}{na_0}} L^{1}_{n}(\\frac{2r}{na_0})\n",
    "\\end{align}$$\n",
    "<br/>\n",
    "<br/>\n",
    "\n",
    "* Exaple of radial wavefunctions for 1s, 2s, 3s orbitals;\n",
    "$$\\begin{align}\n",
    "R_{1s} &= 2(\\frac{Z}{a_0})^{3/2}e^{-\\frac{Zr}{a_0}}\\\\\n",
    "R_{2s} &= \\frac{1}{\\sqrt{8}}(\\frac{Z}{a_0})^{3/2} (2-\\frac{Zr}{a_0})  e^{-\\frac{Zr}{2a_0}}\\\\\n",
    "R_{2s} &= \\frac{2}{81\\sqrt{3}}(\\frac{Z}{a_0})^{3/2} (27-\\frac{18Zr}{a_0}+2(\\frac{Zr}{a_0})^2)  e^{-\\frac{Zr}{3a_0}}\n",
    "\\end{align}$$\n",
    "<br/>\n",
    "\n",
    "* Plots of radial wavefunctions for 1s, 2s, 3s orbitals;"
   ]
  },
  {
   "cell_type": "code",
   "execution_count": 7,
   "metadata": {},
   "outputs": [
    {
     "data": {
      "image/png": "[encoded data removed]",
      "text/plain": [
       "<Figure size 1080x720 with 1 Axes>"
      ]
     },
     "metadata": {
      "needs_background": "light"
     },
     "output_type": "display_data"
    }
   ],
   "source": [
    "import matplotlib.pyplot as plt\n",
    "import numpy as np\n",
    "from sympy.abc import n, l, r, Z\n",
    "#from sympy.physics import hydrogen\n",
    "from sympy.utilities.lambdify import lambdify\n",
    "\n",
    "###\n",
    "#from sympy.physics.hydrogen import Psi_nlm\n",
    "from sympy.physics.hydrogen import R_nl, Psi_nlm\n",
    "from sympy import Symbol\n",
    "\n",
    "phi=Symbol(\"phi\", real=True)\n",
    "theta=Symbol(\"theta\", real=True)\n",
    "\n",
    "###\n",
    "# Principle quantum number (n)\n",
    "n = 1\n",
    "# Angular momentum quantum number (l)\n",
    "l = 0\n",
    "\n",
    "R_nl_1s = lambdify(r, R_nl(n, l, r, 1))\n",
    "R_nl_2s = lambdify(r, R_nl(2, 0, r, 1))\n",
    "R_nl_3s = lambdify(r, R_nl(3, 0, r, 1))\n",
    "R_nl_2p = lambdify(r, R_nl(2, 1, r, 1))\n",
    "R_nl_3p = lambdify(r, R_nl(3, 1, r, 1))\n",
    "R_nl_3d = lambdify(r, R_nl(3, 2, r, 1))\n",
    "\n",
    "Psi_nl_1s = lambdify(r, Psi_nlm(1, 0, 0, r, phi, theta,1))\n",
    "\n",
    "r = np.linspace(0, 30, 1000)\n",
    "\n",
    "fig = plt.figure(figsize=(15,10))\n",
    "\n",
    "ax = fig.add_subplot(3,2,1)\n",
    "\n",
    "ns = str(n)+'s'\n",
    "#plot 1s, 2s and 3s radial wavefunctions\n",
    "ax.plot(r, R_nl_1s(r), 'r', label='ns')\n",
    "#ax.plot(r, Psi_nl_1s(r), 'r', label='1s')\n",
    "ax.plot(r, R_nl_2s(r), 'b', label='2s')\n",
    "ax.plot(r, R_nl_3s(r), 'g', label='3s')\n",
    "plt.xlabel(\"r/a$_{0}$\", fontsize=18)\n",
    "plt.ylabel(\"R(r)\", fontsize=18)\n",
    "plt.grid()\n",
    "leg = ax.legend(fontsize=14)\n",
    "\n",
    "plt.tight_layout(rect=[0, 0.03, 1, 0.95])"
   ]
  },
  {
   "cell_type": "markdown",
   "metadata": {},
   "source": [
    "* Radial probability densitities are computed by  <br/>\n",
    "$|R_{nl}(r)|^{2}r^2$. <br/>\n",
    "* In the neclues the probability is zero."
   ]
  },
  {
   "cell_type": "code",
   "execution_count": 8,
   "metadata": {
    "scrolled": true
   },
   "outputs": [
    {
     "data": {
      "image/png": "[encoded data removed]",
      "text/plain": [
       "<Figure size 1080x720 with 1 Axes>"
      ]
     },
     "metadata": {
      "needs_background": "light"
     },
     "output_type": "display_data"
    }
   ],
   "source": [
    "#Compute radial distribution \n",
    "D_1s = 4*np.pi*(r**2)*np.square(R_nl_1s(r))\n",
    "D_2s = 4*np.pi*(r**2)*np.square(R_nl_2s(r))\n",
    "D_3s = 4*np.pi*(r**2)*np.square(R_nl_3s(r))\n",
    "D_2p = 4*np.pi*(r**2)*np.square(R_nl_2p(r))\n",
    "D_3p = 4*np.pi*(r**2)*np.square(R_nl_3p(r))\n",
    "r = np.linspace(0, 50, 1000)\n",
    "\n",
    "fig = plt.figure(figsize=(15,10))\n",
    "\n",
    "ax = fig.add_subplot(3,2,1)\n",
    "\n",
    "#plot 1s, 2s and 3s radial distribution\n",
    "ax.plot(r, D_1s, 'r', label='1s')\n",
    "ax.plot(r, D_2s, 'g', label='2s')\n",
    "ax.plot(r, D_3s, 'b', label='3s')\n",
    "plt.xlabel(\"r/a$_{0}$\", fontsize=18)\n",
    "plt.ylabel(\"4$\\pi$r$^{2}$R$^{2}$(r)\", fontsize=18)\n",
    "plt.grid()\n",
    "leg = ax.legend(fontsize=14)"
   ]
  },
  {
   "cell_type": "markdown",
   "metadata": {},
   "source": [
    "## P-orbitals of Hydrogen"
   ]
  },
  {
   "cell_type": "code",
   "execution_count": null,
   "metadata": {},
   "outputs": [],
   "source": []
  },
  {
   "cell_type": "markdown",
   "metadata": {},
   "source": [
    "* For $l = 1$ we  have we have p-orbital (e.g $2p$, $3p$ etc)\n",
    "* Example: For $2p$ ($n = 2$, $l = 1$) we have three wavefunctions for each $m$;<br/>\n",
    "$$\\begin{align}\n",
    "m = 0 &: \\ \\ \\Psi_{210}(r,\\theta, \\phi) \\propto r e^{-\\frac{r}{2a_0}} cos\\theta)\\\\\n",
    "m = \\pm 1 &: \\ \\ \\Psi_{21\\pm1}(r,\\theta, \\phi) \\propto r e^{-\\frac{r}{2a_0}} sin\\theta)e^{\\pm i\\phi}\n",
    "\\end{align}$$\n",
    "<br/>\n",
    "* $\\Psi_{21\\pm1}$ are complex and degenerate.\n",
    "* $2p$ wavefunctions have angular dependence.\n",
    "<br/>\n",
    "<br/>\n",
    "* Linear combinaion of $\\Psi_{21\\pm1}$ wavefunctions are also a eigenfunction and real.<br/>\n",
    "* $2p$ wavefunctins are;\n",
    "\n",
    "$$\\begin{align}\n",
    "2p_x : \\frac{1}{\\sqrt{2}}(\\Psi_{211}+\\Psi_{21-1})&\\propto r e^{-\\frac{r}{2a_0}} sin\\theta(e^{i\\phi}+e^{-i\\phi})\\\\ &\\propto r e^{-\\frac{r}{2a_0}} sin\\theta cos\\phi\\\\\n",
    "2p_y : \\frac{1}{\\sqrt{2}i}(\\Psi_{211}-\\Psi_{21-1})&\\propto r e^{-\\frac{r}{2a_0}} sin\\theta(e^{i\\phi}-e^{-i\\phi})\\\\ &\\propto r e^{-\\frac{r}{2a_0}} sin\\theta sin\\phi\\\\\n",
    "2p_z :\\Psi_{210}\\propto r e^{-\\frac{r}{2a_0}} cos\\theta\n",
    "\\end{align}$$\n",
    "\n",
    "<br/>\n",
    "\n",
    "* For both $2p_0$ and $3p_0$; <br/>\n",
    "$$\\begin{align}\n",
    "2p_0:\\ \\ \\Psi_{210}(r,\\theta,\\phi)= R_{21}(r)Y_{10}(\\theta,\\phi)\\\\\n",
    "3p_0:\\ \\ \\Psi_{310}(r,\\theta,\\phi)= R_{31}(r)Y_{10}(\\theta,\\phi)\n",
    "\\end{align}$$ <br/>\n",
    "\n",
    "they have same angular parts but the radial parts are different.\n",
    "$$\\begin{align}\n",
    "R_{21}(r) &\\propto r e^{-\\frac{r}{2a_0}}\\\\\n",
    "R_{31}(r) &\\propto (6-\\frac{r}{a_0})re^{-\\frac{r}{3a_0}}\n",
    "\\end{align}$$ <br/>\n",
    "\n",
    "* Radial wavefunctions of $2p_0$ and $3p_0$ are shown below;\n"
   ]
  },
  {
   "cell_type": "code",
   "execution_count": 9,
   "metadata": {},
   "outputs": [
    {
     "data": {
      "image/png": "[encoded data removed]",
      "text/plain": [
       "<Figure size 1080x720 with 1 Axes>"
      ]
     },
     "metadata": {
      "needs_background": "light"
     },
     "output_type": "display_data"
    }
   ],
   "source": [
    "import matplotlib.pyplot as plt\n",
    "import numpy as np\n",
    "from sympy.abc import n, l, r, Z\n",
    "#from sympy.physics import hydrogen\n",
    "from sympy.utilities.lambdify import lambdify\n",
    "\n",
    "###\n",
    "#from sympy.physics.hydrogen import Psi_nlm\n",
    "from sympy.physics.hydrogen import R_nl, Psi_nlm\n",
    "from sympy import Symbol\n",
    "\n",
    "phi=Symbol(\"phi\", real=True)\n",
    "theta=Symbol(\"theta\", real=True)\n",
    "\n",
    "# Principle quantum number (n)\n",
    "n = 2\n",
    "#angular momentum quantum numbers (l)\n",
    "l = 1\n",
    "\n",
    "###\n",
    "R_nl_2p = lambdify(r, R_nl(n, l, r, 1))\n",
    "R_nl_3p = lambdify(r, R_nl(3, 1, r, 1))\n",
    "\n",
    "#Psi_nl_1s = lambdify(r, Psi_nlm(1, 0, 0, r, phi, theta,1))\n",
    "\n",
    "r = np.linspace(0, 30, 1000)\n",
    "\n",
    "fig = plt.figure(figsize=(15,10))\n",
    "\n",
    "#ax = fig.add_subplot(3,2,1)\n",
    "\n",
    "np = str(n)+'p'\n",
    "#plot 2p and 3p radial wavefunctions\n",
    "ax1 = fig.add_subplot(3,2,3)\n",
    "ax1.plot(r, R_nl_2p(r), 'b', label='2p')\n",
    "ax1.plot(r, R_nl_3p(r), 'g', label='3p')\n",
    "plt.xlabel(\"r/a$_{0}$\", fontsize=18)\n",
    "plt.ylabel(\"R(r)\", fontsize=18)\n",
    "plt.grid()\n",
    "leg = ax1.legend(fontsize=14)\n",
    "\n",
    "\n",
    "\n",
    "\n"
   ]
  },
  {
   "cell_type": "markdown",
   "metadata": {},
   "source": [
    "* Radial probability densities of $2p$ and $3p$ are shown below,"
   ]
  },
  {
   "cell_type": "code",
   "execution_count": 10,
   "metadata": {},
   "outputs": [
    {
     "data": {
      "image/png": "[encoded data removed]",
      "text/plain": [
       "<Figure size 1080x720 with 1 Axes>"
      ]
     },
     "metadata": {
      "needs_background": "light"
     },
     "output_type": "display_data"
    }
   ],
   "source": [
    "#Compute radial distribution \n",
    "fig = plt.figure(figsize=(15,10))\n",
    "\n",
    "\n",
    "#plot 2p and 3p radial distribution\n",
    "#r = np.linspace(0, 30, 1000)\n",
    "ax1 = fig.add_subplot(3,2,3)\n",
    "ax1.plot(r, D_2p, 'g', label='2p')\n",
    "ax1.plot(r, D_3p, 'b', label='3p')\n",
    "plt.xlabel(\"r/a$_{0}$\", fontsize=18)\n",
    "plt.ylabel(\"4$\\pi$r$^{2}$R$^{2}$(r)\", fontsize=18)\n",
    "plt.grid()\n",
    "leg = ax1.legend(fontsize=14)\n",
    "\n"
   ]
  },
  {
   "cell_type": "markdown",
   "metadata": {},
   "source": [
    "## d-orbitals of Hydrogen"
   ]
  },
  {
   "cell_type": "code",
   "execution_count": 11,
   "metadata": {},
   "outputs": [
    {
     "data": {
      "image/png": "[encoded data removed]",
      "text/plain": [
       "<Figure size 1080x720 with 1 Axes>"
      ]
     },
     "metadata": {
      "needs_background": "light"
     },
     "output_type": "display_data"
    }
   ],
   "source": [
    "import matplotlib.pyplot as plt\n",
    "import numpy as np\n",
    "from sympy.abc import n, l, r, Z\n",
    "#from sympy.physics import hydrogen\n",
    "from sympy.utilities.lambdify import lambdify\n",
    "\n",
    "###\n",
    "#from sympy.physics.hydrogen import Psi_nlm\n",
    "from sympy.physics.hydrogen import R_nl, Psi_nlm\n",
    "from sympy import Symbol\n",
    "\n",
    "phi=Symbol(\"phi\", real=True)\n",
    "theta=Symbol(\"theta\", real=True)\n",
    "\n",
    "###\n",
    "# Principle quantum number (n)\n",
    "n = 3\n",
    "#angular momentum quantum numbers (l)\n",
    "l = 2\n",
    "\n",
    "#R_nl_1s = lambdify(r, R_nl(1, 0, r, 1))\n",
    "#R_nl_2s = lambdify(r, R_nl(2, 0, r, 1))\n",
    "#R_nl_3s = lambdify(r, R_nl(3, 0, r, 1))\n",
    "#R_nl_2p = lambdify(r, R_nl(2, 1, r, 1))\n",
    "#R_nl_3p = lambdify(r, R_nl(3, 1, r, 1))\n",
    "R_nl_3d = lambdify(r, R_nl(n, l, r, 1))\n",
    "\n",
    "Psi_nl_1s = lambdify(r, Psi_nlm(1, 0, 0, r, phi, theta,1))\n",
    "\n",
    "r = np.linspace(0, 30, 1000)\n",
    "\n",
    "fig = plt.figure(figsize=(15,10))\n",
    "\n",
    "#ax = fig.add_subplot(3,2,1)\n",
    "\n",
    "nd = str(n)+'d'\n",
    "#plot 3d radial wavefunctions\n",
    "ax2 = fig.add_subplot(3,2,5)\n",
    "ax2.plot(r, R_nl_3d(r), 'g', label=nd)\n",
    "plt.xlabel(\"r/a$_{0}$\", fontsize=18)\n",
    "plt.ylabel(\"R(r)\", fontsize=18)\n",
    "plt.grid()\n",
    "leg = ax2.legend(fontsize=14)\n"
   ]
  },
  {
   "cell_type": "markdown",
   "metadata": {},
   "source": [
    "## 1.7.4 Show contour plots of probability densities of 1s and 3s orbitals."
   ]
  },
  {
   "cell_type": "code",
   "execution_count": 12,
   "metadata": {},
   "outputs": [
    {
     "data": {
      "image/png": "[encoded data removed]",
      "text/plain": [
       "<Figure size 864x720 with 4 Axes>"
      ]
     },
     "metadata": {
      "needs_background": "light"
     },
     "output_type": "display_data"
    }
   ],
   "source": [
    "def prob_1s(x,y):\n",
    "    r=np.sqrt(np.square(x)+np.square(y))\n",
    "    return np.square(np.exp(-r)/np.sqrt(np.pi))\n",
    "\n",
    "def prob_3s(x,y):\n",
    "    r=np.sqrt(np.square(x)+np.square(y))\n",
    "    return np.square((27-(18*r)+(2*r**2)*np.exp(-r/3))/(81*np.sqrt(3*np.pi)))\n",
    "\n",
    "\n",
    "#Random coordinates\n",
    "x = np.linspace(-1.2, 1.2, 800)\n",
    "y = np.linspace(-1.2, 1.2, 800)\n",
    "\n",
    "X, Y = np.meshgrid(x, y)\n",
    "Z = prob_1s(X, Y)\n",
    "Z1 = prob_3s(X, Y)\n",
    "\n",
    "fig = plt.figure(figsize=(12,10))\n",
    "ax = fig.add_subplot(2,2,1)\n",
    "\n",
    "#fig, ax = plt.subplots()\n",
    "cs = ax.contourf(X, Y, Z)\n",
    "plt.xlabel(\"x\", fontsize=16)\n",
    "plt.ylabel(\"y\", fontsize=16)\n",
    "plt.title(\"1s\", fontsize=20)\n",
    "cbar = fig.colorbar(cs)\n",
    "\n",
    "ax1 = fig.add_subplot(2,2,2)\n",
    "cs = ax1.contourf(X, Y, Z1)\n",
    "plt.xlabel(\"x\", fontsize=16)\n",
    "plt.ylabel(\"y\", fontsize=16)\n",
    "plt.title(\"3s\", fontsize=20)\n",
    "cbar = fig.colorbar(cs)\n",
    "\n",
    "plt.show()"
   ]
  },
  {
   "cell_type": "markdown",
   "metadata": {},
   "source": [
    "## 1.7.5 Show contour plots of probability densities of 2p$_x$ and 3p$_y$ orbitals."
   ]
  },
  {
   "cell_type": "code",
   "execution_count": 13,
   "metadata": {},
   "outputs": [
    {
     "data": {
      "image/png": "[encoded data removed]",
      "text/plain": [
       "<Figure size 1152x720 with 4 Axes>"
      ]
     },
     "metadata": {
      "needs_background": "light"
     },
     "output_type": "display_data"
    }
   ],
   "source": [
    "def prob_2px(x,y):\n",
    "    r=np.sqrt(np.square(x)+np.square(y))\n",
    "    return np.square(x*np.exp(-r/2)/(4*np.sqrt(2*np.pi)))\n",
    "\n",
    "def prob_3py(x,y):\n",
    "    r=np.sqrt(np.square(x)+np.square(y))\n",
    "    return np.square((np.sqrt(2)*(6-r)*y*np.exp(-r/3))/(81*np.sqrt(np.pi)))\n",
    "\n",
    "\n",
    "#Random coordinates\n",
    "x = np.linspace(-8, 8, 800)\n",
    "y = np.linspace(-6, 6, 800)\n",
    "\n",
    "X, Y = np.meshgrid(x, y)\n",
    "Z = prob_2px(X, Y)\n",
    "\n",
    "x = np.linspace(-6, 6, 800)\n",
    "y = np.linspace(-6, 6, 800)\n",
    "X, Y = np.meshgrid(x, y)\n",
    "Z1 = prob_3py(X, Y)\n",
    "\n",
    "fig = plt.figure(figsize=(16,10))\n",
    "ax = fig.add_subplot(2,2,1)\n",
    "\n",
    "#fig, ax = plt.subplots()\n",
    "cs = ax.contourf(X, Y, Z)\n",
    "plt.xlabel(\"x\", fontsize=16)\n",
    "plt.ylabel(\"y\", fontsize=16)\n",
    "plt.title(\"2p$_x$\", fontsize=20)\n",
    "cbar = fig.colorbar(cs)\n",
    "\n",
    "ax1 = fig.add_subplot(2,2,2)\n",
    "cs = ax1.contourf(X, Y, Z1)\n",
    "plt.xlabel(\"x\", fontsize=16)\n",
    "plt.ylabel(\"y\", fontsize=16)\n",
    "plt.title(\"3p$_y$\", fontsize=20)\n",
    "cbar = fig.colorbar(cs)\n",
    "\n",
    "plt.show()"
   ]
  },
  {
   "cell_type": "markdown",
   "metadata": {},
   "source": [
    "## 6. Show contour plots of probability densities of 3d$_{z^{2}}$ and 3d$_{xy}$ orbitals."
   ]
  },
  {
   "cell_type": "code",
   "execution_count": 14,
   "metadata": {
    "scrolled": true
   },
   "outputs": [
    {
     "data": {
      "image/png": "[encoded data removed]",
      "text/plain": [
       "<Figure size 1152x720 with 4 Axes>"
      ]
     },
     "metadata": {
      "needs_background": "light"
     },
     "output_type": "display_data"
    }
   ],
   "source": [
    "def prob_3dz2(x,z):\n",
    "    r=np.sqrt(np.square(x)+np.square(z))\n",
    "    return np.square((2*(z**2)-(x**2))*np.exp(-r/3)/(81*np.sqrt(6*np.pi)))\n",
    "\n",
    "def prob_3dxz(x,z):\n",
    "    r=np.sqrt(np.square(x)+np.square(z))\n",
    "    return np.square((np.sqrt(2))*x*z*np.exp(-r/3)/(81*np.sqrt(np.pi)))\n",
    "\n",
    "\n",
    "\n",
    "#Random coordinates\n",
    "x = np.linspace(-16, 16, 800)\n",
    "z = np.linspace(-16, 16, 800)\n",
    "\n",
    "X, Z = np.meshgrid(x, z)\n",
    "Y = prob_3dz2(X, Z)\n",
    "\n",
    "\n",
    "x = np.linspace(-12, 12, 800)\n",
    "y = np.linspace(-12, 12, 800)\n",
    "X, Z = np.meshgrid(x, z)\n",
    "YY = prob_3dxz(X,Z)\n",
    "\n",
    "\n",
    "fig = plt.figure(figsize=(16,10))\n",
    "ax = fig.add_subplot(2,2,1)\n",
    "\n",
    "cs = ax.contourf(X, Z, Y)\n",
    "plt.xlabel(\"x\", fontsize=16)\n",
    "plt.ylabel(\"z\", fontsize=16)\n",
    "plt.title(\"3d$_{z^{2}}$\", fontsize=20)\n",
    "cbar = fig.colorbar(cs)\n",
    "\n",
    "ax1 = fig.add_subplot(2,2,2)\n",
    "cs = ax1.contourf(X, Z, YY)\n",
    "plt.xlabel(\"x\", fontsize=16)\n",
    "plt.ylabel(\"z\", fontsize=16)\n",
    "plt.title(\"3d$_{xz}$\", fontsize=20)\n",
    "cbar = fig.colorbar(cs)\n",
    "\n",
    "plt.show()"
   ]
  },
  {
   "cell_type": "markdown",
   "metadata": {},
   "source": [
    "#### Example 1. Plot the PIB wavefunction for the quantum number $n$ and box dimension $L$."
   ]
  },
  {
   "cell_type": "markdown",
   "metadata": {},
   "source": [
    "First, let's define a function that calculates the wavefunction of PIB for a specified box dimension L and quantum number n:"
   ]
  },
  {
   "cell_type": "code",
   "execution_count": 15,
   "metadata": {},
   "outputs": [],
   "source": [
    "# Use comments in your code cells to make the code more readible\n",
    "# Make sure your code is clean and variables have readable names\n",
    "\n",
    "# Import Python modules\n",
    "import matplotlib.pyplot as plt\n",
    "import numpy as np\n",
    "\n",
    "# Define function to calculate PIB wavefunction for a specified box dimension L, quantum number n, and position x\n",
    "def pib_wfn(n,L,x):\n",
    "    return np.sqrt(2/L)*np.sin(n*np.pi*x/L)"
   ]
  },
  {
   "cell_type": "markdown",
   "metadata": {},
   "source": [
    "Let's define parameters of our PIB model:"
   ]
  },
  {
   "cell_type": "code",
   "execution_count": 16,
   "metadata": {},
   "outputs": [],
   "source": [
    "n = 3          # PIB quantum number\n",
    "L = 10         # PIB dimension\n",
    "n_points = 100 # number of points used for the plot"
   ]
  },
  {
   "cell_type": "markdown",
   "metadata": {},
   "source": [
    "Now, let's plot the wavefunction:"
   ]
  },
  {
   "cell_type": "code",
   "execution_count": 17,
   "metadata": {},
   "outputs": [
    {
     "data": {
      "image/png": "[encoded data removed]",
      "text/plain": [
       "<Figure size 504x216 with 1 Axes>"
      ]
     },
     "metadata": {
      "needs_background": "light"
     },
     "output_type": "display_data"
    }
   ],
   "source": [
    "# Make sure that n is integer and n > 0\n",
    "n = int(n)\n",
    "if n < 1:\n",
    "    raise Exception (\"Quantum number n should be greater than 0\")\n",
    "\n",
    "# Define x points\n",
    "x_points = np.linspace(0,L,n_points)\n",
    "\n",
    "# Evaluate wavefunction at each x\n",
    "wfn_values = pib_wfn(n, L, x_points)\n",
    "\n",
    "# Set up graph and plot\n",
    "plt.figure(figsize=(7,3))\n",
    "plt.plot(x_points, wfn_values)\n",
    "plt.xlabel(\"L\", fontsize=20)\n",
    "plt.ylabel(\"Ψ\", fontsize=20)\n",
    "plt.title(\"n=\"+str(n), fontsize=16)\n",
    "plt.tight_layout()\n",
    "plt.grid()\n"
   ]
  },
  {
   "cell_type": "markdown",
   "metadata": {},
   "source": [
    "Now, go back and try choosing a different value of $n$!"
   ]
  },
  {
   "cell_type": "markdown",
   "metadata": {},
   "source": [
    "### 1.4 Average position and momentum of PIB "
   ]
  },
  {
   "cell_type": "markdown",
   "metadata": {},
   "source": [
    "### 1.5 Particle in a finite box"
   ]
  },
  {
   "cell_type": "markdown",
   "metadata": {},
   "source": [
    "## <span style=\"color:blue\">2. Exercises</span>"
   ]
  },
  {
   "cell_type": "markdown",
   "metadata": {},
   "source": [
    "### 2.1. Exercise 1. "
   ]
  }
 ],
 "metadata": {
  "kernelspec": {
   "display_name": "Python 3",
   "language": "python",
   "name": "python3"
  },
  "language_info": {
   "codemirror_mode": {
    "name": "ipython",
    "version": 3
   },
   "file_extension": ".py",
   "mimetype": "text/x-python",
   "name": "python",
   "nbconvert_exporter": "python",
   "pygments_lexer": "ipython3",
   "version": "3.7.6"
  }
 },
 "nbformat": 4,
 "nbformat_minor": 4
}
