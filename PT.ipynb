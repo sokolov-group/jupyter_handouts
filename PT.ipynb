{
 "cells": [
  {
   "cell_type": "markdown",
   "metadata": {},
   "source": [
    "# <div style=\"text-align:center\">Approximation Methods</div>"
   ]
  },
  {
   "cell_type": "markdown",
   "metadata": {},
   "source": [
    "## <span style=\"color:blue\">Background</span>"
   ]
  },
  {
   "cell_type": "markdown",
   "metadata": {},
   "source": [
    "\\begin{equation}\\\n",
    "\\hat{H}\\Psi = E\\Psi\n",
    "\\ \\ \\ \\ \\ \\ \\ \\ \\ \\\n",
    "\\mathbf{\\left ( 1 \\right )}\n",
    "\\end{equation}"
   ]
  },
  {
   "cell_type": "markdown",
   "metadata": {},
   "source": [
    "So far we have solved the Schrödinger equation for model systems such as the hydrogen atom, particle in a box, harmonic oscilator, and rigid rotor. The simplicity of these model systems allowed us to obtain exact $\\Psi$ and $E$  .However, going beyond these simple models may require the use of approximate methods for when exact solutions to the Schrödinger equation cannot be obtained. The two approximate methods we will discuss in this handout are the variational method and perturbation theory."
   ]
  },
  {
   "cell_type": "markdown",
   "metadata": {},
   "source": [
    "### 1 Variational Method"
   ]
  },
  {
   "cell_type": "markdown",
   "metadata": {},
   "source": [
    "\\begin{equation}\\\n",
    "\\hat{H}\\Psi_{0} = E_{0}\\Psi_{0}\n",
    "\\ \\ \\ \\ \\ \\ \\ \\ \\ \\\n",
    "\\mathbf{\\left ( 2 \\right )}\n",
    "\\end{equation}"
   ]
  },
  {
   "cell_type": "markdown",
   "metadata": {},
   "source": [
    "The above Schrödinger equation is for an arbitrary system which has a ground-state wavefunction $\\Psi_{0}$ and energy $E_{0}$. From equation 2 we can left multiply $\\Psi_{0}$,"
   ]
  },
  {
   "cell_type": "markdown",
   "metadata": {},
   "source": [
    "\\begin{equation}\\\n",
    "\\Psi_{0}^{*}\\hat{H}\\Psi_{0} = \\Psi_{0}^{*}E_{0}\\Psi_{0}\n",
    "\\ \\ \\ \\ \\ \\ \\ \\ \\ \\\n",
    "\\mathbf{\\left ( 3 \\right )}\n",
    "\\end{equation}"
   ]
  },
  {
   "cell_type": "markdown",
   "metadata": {},
   "source": [
    "Then from equation equation 3 we can solove for the energy $E_{0}$,"
   ]
  },
  {
   "cell_type": "markdown",
   "metadata": {},
   "source": [
    "\\begin{equation}\\\n",
    "\\frac{\\Psi_{0}^{*}\\hat{H}\\Psi_{0}}{\\Psi_{0}^{*}\\Psi_{0}} = E_{0}\n",
    "\\ \\ \\ \\ \\ \\ \\ \\ \\ \\\n",
    "\\mathbf{\\left ( 4 \\right )}\n",
    "\\end{equation}"
   ]
  },
  {
   "cell_type": "markdown",
   "metadata": {},
   "source": [
    "Finally from equation 4 we can integrate over all space,"
   ]
  },
  {
   "cell_type": "markdown",
   "metadata": {},
   "source": [
    "\\begin{equation}\\\n",
    "\\frac{\\int{\\Psi_{0}^{*}\\hat{H}\\Psi_{0}\\partial \\tau}}{\\int{\\Psi_{0}^{*}\\Psi_{0}}\\partial \\tau} = E_{0}\n",
    "\\ \\ \\ \\ \\ \\ \\ \\ \\ \\\n",
    "\\mathbf{\\left ( 5 \\right )}.\n",
    "\\end{equation}"
   ]
  },
  {
   "cell_type": "markdown",
   "metadata": {},
   "source": [
    "With equation 5 in hand, we can now approximate $\\Psi_{0}$ by replacing it with a trial wavefunction $\\Phi$, "
   ]
  },
  {
   "cell_type": "markdown",
   "metadata": {},
   "source": [
    "\\begin{equation}\\\n",
    "\\frac{\\int{\\Phi^{*}\\hat{H}\\Phi\\partial \\tau}}{\\int{\\Phi^{*}\\Phi}\\partial \\tau} = E_{\\Phi}\n",
    "\\ \\ \\ \\ \\ \\ \\ \\ \\ \\\n",
    "\\mathbf{\\left ( 6 \\right )}\n",
    "\\end{equation}"
   ]
  },
  {
   "cell_type": "markdown",
   "metadata": {},
   "source": [
    "that is a function of variational parameters $\\alpha,\\beta,\\gamma,\\delta,\\ldots$  (i.e. $\\Phi{(\\alpha,\\beta,\\gamma,\\delta,\\ldots)}$), in which they are varied to minimize $E_{\\Phi}$. The variational principle says that $E_{\\Phi}$ is always an upper-bound of the exact energy $E_{0}$,"
   ]
  },
  {
   "cell_type": "markdown",
   "metadata": {},
   "source": [
    "\\begin{equation}\\\n",
    "E_{\\Phi}(\\alpha,\\beta,\\gamma,\\delta,\\ldots) \\geq E_{0}\n",
    "\\ \\ \\ \\ \\ \\ \\ \\ \\ \\\n",
    "\\mathbf{\\left ( 7 \\right )}.\n",
    "\\end{equation}"
   ]
  },
  {
   "cell_type": "markdown",
   "metadata": {},
   "source": [
    "### 1.1 Variational Method - EXAMPLE 1 Harmonic Oscilator"
   ]
  },
  {
   "cell_type": "markdown",
   "metadata": {},
   "source": [
    "Lets consider the Harmonic Hamiltonian operator,"
   ]
  },
  {
   "cell_type": "markdown",
   "metadata": {},
   "source": [
    "\\begin{equation}\\\n",
    "\\hat{H} = -\\frac{\\hbar \\partial^{2}}{2\\mu \\partial x^{2}} + \\frac{1}{2}kx^{2}\n",
    "\\ \\ \\ \\ \\ \\ \\ \\ \\ \\\n",
    "\\mathbf{\\left ( 8 \\right )}\n",
    "\\end{equation}"
   ]
  },
  {
   "cell_type": "markdown",
   "metadata": {},
   "source": [
    "and a trial wavefunction $\\Phi$,"
   ]
  },
  {
   "cell_type": "markdown",
   "metadata": {},
   "source": [
    "\\begin{equation}\\\n",
    "\\Phi(x)=e^{(-\\alpha x^{2})}\n",
    "\\ \\ \\ \\ \\ \\ \\ \\ \\ \\\n",
    "\\mathbf{\\left ( 9 \\right )}\n",
    "\\end{equation}"
   ]
  },
  {
   "cell_type": "markdown",
   "metadata": {},
   "source": [
    "where $\\Phi$ only depends on one variational parameter $\\alpha$ and the first and second terms in equation 8 are the kinetic and potiential energy operators respectively. We can now subsitute these expressions into equation 6 to obtain a variational energy $E_{\\Phi}$, however, the Hamiltonian operator $\\hat{H} = -\\frac{\\hbar \\partial^{2}}{2\\mu \\partial x^{2}} + \\frac{1}{2}kx^{2}$ will be in terms of natural units $\\hat{H} = -\\frac{\\partial^{2}}{2\\partial x^{2}} + \\frac{1}{2}x^{2}$,"
   ]
  },
  {
   "cell_type": "markdown",
   "metadata": {},
   "source": [
    "\\begin{equation}\\\n",
    "\\frac{\\int{e^{(-\\alpha x^{2})}(-\\frac{\\partial^{2}}{2\\partial x^{2}} + \\frac{1}{2}x^{2})e^{(-\\alpha x^{2})}\\partial x}}{\\int{e^{(-\\alpha x^{2})}e^{(-\\alpha x^{2})}}\\partial x} = E_{\\Phi(x)}\n",
    "\\ \\ \\ \\ \\ \\ \\ \\ \\ \\\n",
    "\\mathbf{\\left ( 10 \\right )}.\n",
    "\\end{equation}"
   ]
  },
  {
   "cell_type": "markdown",
   "metadata": {},
   "source": [
    "Equation 10 can be rewritten into two separate contributions the kinetic and potiential energy operator parts respectively,"
   ]
  },
  {
   "cell_type": "markdown",
   "metadata": {},
   "source": [
    "\\begin{equation}\\\n",
    "\\frac{1}{2}\\left (-\\frac{\\int{e^{(-\\alpha x^{2})}(\\frac{\\partial^{2}}{\\partial x^{2}})e^{(-\\alpha x^{2})}\\partial x}}{\\int{e^{(-\\alpha x^{2})}e^{(-\\alpha x^{2})}}\\partial x} + \\frac{\\int{e^{(-\\alpha x^{2})}(x^{2})e^{(-\\alpha x^{2})}\\partial x}}{\\int{e^{(-\\alpha x^{2})}e^{(-\\alpha x^{2})}}\\partial x}\\right )= E_{\\Phi(x)} \n",
    "\\ \\ \\ \\ \\ \\ \\ \\ \\ \\\n",
    "\\mathbf{\\left ( 11 \\right )}.\n",
    "\\end{equation}"
   ]
  },
  {
   "cell_type": "markdown",
   "metadata": {},
   "source": [
    "The goal now is to find the minimal $\\alpha$ variational parameter that will minimize the harmonic oscilator energy."
   ]
  },
  {
   "cell_type": "code",
   "execution_count": 2,
   "metadata": {},
   "outputs": [
    {
     "data": {
      "image/png": "[encoded data removed]",
      "text/plain": [
       "<Figure size 432x288 with 1 Axes>"
      ]
     },
     "metadata": {
      "needs_background": "light"
     },
     "output_type": "display_data"
    },
    {
     "name": "stdout",
     "output_type": "stream",
     "text": [
      "Min Gradient 0.024683640051230096\n",
      "Alpha that minimizes Evals is 0.5\n",
      "Minimum Eval is 0.5\n",
      "True Ground state Energy is 0.5\n"
     ]
    }
   ],
   "source": [
    "import numpy as np\n",
    "from matplotlib import pyplot as plt\n",
    "\n",
    "### Define constants in natural units\n",
    "hbar = 1\n",
    "k = 1\n",
    "mu = 1\n",
    "\n",
    "alpha0 = np.sqrt(k*mu/(hbar*hbar))\n",
    "\n",
    "### fundamental frequency omega\n",
    "omega = np.sqrt(k/mu)\n",
    "\n",
    "### Energy eigenfunctions are localized no need\n",
    "### to go to -infinity to infinity\n",
    "x = np.linspace(-20,20,500)\n",
    "\n",
    "def Trial_Wave(alpha,xt):\n",
    "    return np.exp(-alpha*xt*xt)\n",
    "\n",
    "def dfdx(ft,xt):\n",
    "    dx = x[1]-x[0]\n",
    "    ftp = np.zeros_like(ft)\n",
    "    for i in range(0,len(ft)):\n",
    "        if (i<(len(ft)-1)):\n",
    "            rise = ft[i+1] - ft[i]\n",
    "            ftp[i] = rise/dx\n",
    "        else:\n",
    "            rise = ft[i]-ft[i-1]\n",
    "            ftp[i]= rise/dx\n",
    "    return ftp\n",
    "            \n",
    "### given an array of function values ft\n",
    "### evaluated at values of array xt, find\n",
    "### the zero in the derivative and return\n",
    "### the x-value that minimizes ft, the minimum\n",
    "### in ft, the gradient at min(ft), and the index\n",
    "### corresponding to the minimum value of the array ft\n",
    "def FindMin(ft,xt):\n",
    "    minresults = np.zeros(4)\n",
    "    ftp = dfdx(ft,xt)\n",
    "    mingrad = 1000\n",
    "    minpos = 0\n",
    "    minidx = 0\n",
    "    minval = 0\n",
    "    \n",
    "    for i in range(0,len(ftp)):\n",
    "        if (abs(ftp[i])<mingrad):\n",
    "            mingrad = abs(ftp[i])\n",
    "            minpos= xt[i]\n",
    "            minval= ft[i]\n",
    "            minidx = i\n",
    "            \n",
    "    minresults[0] = mingrad\n",
    "    minresults[1] = minpos\n",
    "    minresults[2] = minval\n",
    "    minresults[3] = minidx\n",
    "    return minresults\n",
    "\n",
    "### returns T-hat operator acting upon a trial wavefuntion \n",
    "###(called ft)within the funtion\n",
    "def TPhi(ft,xt):\n",
    "    ftp = dfdx(ft,xt)\n",
    "    ftpp = dfdx(ftp,xt)\n",
    "    return -0.5*ftpp\n",
    "\n",
    "### returns the kinetic energy functional of a trial wavefunction\n",
    "### (called ft within the function)\n",
    "def T_Functional(ft,xt):\n",
    "    tphi = TPhi(ft,xt)\n",
    "    dx = x[1] - x[0]\n",
    "    num=0\n",
    "    denom=0\n",
    "    for i in range(0,len(ft)):\n",
    "        num = num + ft[i]*tphi[i]*dx\n",
    "        denom = denom + ft[i]*ft[i]*dx\n",
    "        \n",
    "    return num/denom\n",
    "\n",
    "### returns V-hat operator acting upon a trial wavefunction\n",
    "### (called ft within the function)\n",
    "def VPhi(ft,xt):\n",
    "    return 0.5*xt*xt*ft\n",
    "\n",
    "\n",
    "### returns the potential energy functional of a trial wavefunction\n",
    "### (called ft within the function)\n",
    "def V_Functional(ft,xt):\n",
    "    vphi = VPhi(ft,xt)\n",
    "    dx = x[1]-x[0]\n",
    "    num=0\n",
    "    denom=0\n",
    "    for i in range(0,len(ft)):\n",
    "        num= num + ft[i]*vphi[i]*dx\n",
    "        denom = denom + ft[i]*ft[i]*dx\n",
    "        \n",
    "    return num/denom\n",
    "\n",
    "### Create arrays for alpha values\n",
    "### T_functional values, V_funtional values\n",
    "### and E_Funtional values along with true Eg\n",
    "\n",
    "alpha = np.zeros(20)\n",
    "Evals = np.zeros(20)\n",
    "Tvals = np.zeros(20)\n",
    "Vvals = np.zeros(20)\n",
    "Eg    = np.zeros(20)\n",
    "### loop over various alphas\n",
    "for da in range(0,20):\n",
    "    \n",
    "    alpha[da] = 0.05*(da+3)\n",
    "    \n",
    "    ### evaluate trial wavefunction\n",
    "    Phi_Trial = Trial_Wave(alpha[da],x)\n",
    "    ### evaluate T_functional\n",
    "    Tvals[da] = T_Functional(Phi_Trial,x)\n",
    "    ### evaluate V_functional \n",
    "    Vvals[da] = V_Functional(Phi_Trial,x)\n",
    "    ### compute E_Functional\n",
    "    Evals[da] = Tvals[da] + Vvals[da]\n",
    "    ### store true ground state energy for validation\n",
    "    Eg[da] = np.sqrt(k/mu)*0.5\n",
    "    \n",
    "### plot T, V, E, Eg vs alpha\n",
    "#plt.plot(alpha,Evals,'red',alpha, Tvals,'blue',alpha, Vvals,'purple',alpha, Eg, 'black')\n",
    "plt.plot(alpha,Evals,'red',label='Evalvs')\n",
    "plt.plot(alpha, Tvals,'blue',label='Tvalvs')\n",
    "plt.plot(alpha, Vvals,'purple',label='Vvalvs')\n",
    "plt.plot(alpha, Eg, 'black',label='Eg')\n",
    "plt.legend()\n",
    "plt.title('Harmonic Oscilator expectation values using variational method')\n",
    "plt.xlabel('alpha values')\n",
    "plt.ylabel('Energies in natural units')\n",
    "plt.show()\n",
    "\n",
    "\n",
    "### find minimum in E\n",
    "minimum_array = FindMin(Evals, alpha)\n",
    "print(\"Min Gradient\", minimum_array[0])\n",
    "print(\"Alpha that minimizes Evals is\", minimum_array[1])\n",
    "print(\"Minimum Eval is\", minimum_array[1])\n",
    "print(\"True Ground state Energy is\", Eg[0])\n",
    "    \n",
    "#Phi_Trial = Trial_Wave(0.5,x)\n",
    "#Phi_Prime = dfdx(Phi_Trial,x)\n",
    "#Phi_Trial_LA = Trial_Wave(3,x)\n",
    "#Phi_Trial_SA = Trial_Wave(0.1,x)\n",
    "\n",
    "#plt.plot(x,Phi_Trial_LA, 'red', x, Phi_Trial_SA, 'blue')\n",
    "#plt.show()\n",
    "\n",
    "# The python code was borrowed from = https://www.youtube.com/watch?v=gZb1_VnMAtQ&t=0s"
   ]
  },
  {
   "cell_type": "markdown",
   "metadata": {},
   "source": [
    "### 1.2 Variational Method - EXAMPLE 2 "
   ]
  },
  {
   "cell_type": "code",
   "execution_count": null,
   "metadata": {},
   "outputs": [],
   "source": []
  },
  {
   "cell_type": "markdown",
   "metadata": {},
   "source": [
    "### 1.2. Perturbation Theory"
   ]
  },
  {
   "cell_type": "code",
   "execution_count": null,
   "metadata": {},
   "outputs": [],
   "source": []
  },
  {
   "cell_type": "markdown",
   "metadata": {},
   "source": [
    "The energy of a particle in a 1D box is expressed as :<br/>\n",
    "$E_{n} = \\frac{n^{2}h^{2}}{8mL^{2}}$"
   ]
  },
  {
   "cell_type": "markdown",
   "metadata": {},
   "source": [
    "### 1.3. PIB wavefunctions"
   ]
  },
  {
   "cell_type": "markdown",
   "metadata": {},
   "source": [
    "This is a third section of this chapter. It has an interactive example as shown below"
   ]
  },
  {
   "cell_type": "markdown",
   "metadata": {},
   "source": [
    "#### Example 1. Plot the PIB wavefunction for the quantum number $n$ and box dimension $L$."
   ]
  },
  {
   "cell_type": "markdown",
   "metadata": {},
   "source": [
    "First, let's define a function that calculates the wavefunction of PIB for a specified box dimension L and quantum number n:"
   ]
  },
  {
   "cell_type": "code",
   "execution_count": 5,
   "metadata": {},
   "outputs": [],
   "source": [
    "# Use comments in your code cells to make the code more readible\n",
    "# Make sure your code is clean and variables have readable names\n",
    "\n",
    "# Import Python modules\n",
    "import matplotlib.pyplot as plt\n",
    "import numpy as np\n",
    "\n",
    "# Define function to calculate PIB wavefunction for a specified box dimension L, quantum number n, and position x\n",
    "def pib_wfn(n,L,x):\n",
    "    return np.sqrt(2/L)*np.sin(n*np.pi*x/L)"
   ]
  },
  {
   "cell_type": "markdown",
   "metadata": {},
   "source": [
    "Let's define parameters of our PIB model:"
   ]
  },
  {
   "cell_type": "code",
   "execution_count": 8,
   "metadata": {},
   "outputs": [],
   "source": [
    "n = 3          # PIB quantum number\n",
    "L = 10         # PIB dimension\n",
    "n_points = 100 # number of points used for the plot"
   ]
  },
  {
   "cell_type": "markdown",
   "metadata": {},
   "source": [
    "Now, let's plot the wavefunction:"
   ]
  },
  {
   "cell_type": "code",
   "execution_count": 9,
   "metadata": {},
   "outputs": [
    {
     "data": {
      "image/png": "[encoded data removed]",
      "text/plain": [
       "<Figure size 504x216 with 1 Axes>"
      ]
     },
     "metadata": {
      "needs_background": "light"
     },
     "output_type": "display_data"
    }
   ],
   "source": [
    "# Make sure that n is integer and n > 0\n",
    "n = int(n)\n",
    "if n < 1:\n",
    "    raise Exception (\"Quantum number n should be greater than 0\")\n",
    "\n",
    "# Define x points\n",
    "x_points = np.linspace(0,L,n_points)\n",
    "\n",
    "# Evaluate wavefunction at each x\n",
    "wfn_values = pib_wfn(n, L, x_points)\n",
    "\n",
    "# Set up graph and plot\n",
    "plt.figure(figsize=(7,3))\n",
    "plt.plot(x_points, wfn_values)\n",
    "plt.xlabel(\"L\", fontsize=20)\n",
    "plt.ylabel(\"Ψ\", fontsize=20)\n",
    "plt.title(\"n=\"+str(n), fontsize=16)\n",
    "plt.tight_layout()\n",
    "plt.grid()\n"
   ]
  },
  {
   "cell_type": "markdown",
   "metadata": {},
   "source": [
    "Now, go back and try choosing a different value of $n$!"
   ]
  },
  {
   "cell_type": "markdown",
   "metadata": {},
   "source": [
    "### 1.4 Average position and momentum of PIB "
   ]
  },
  {
   "cell_type": "markdown",
   "metadata": {},
   "source": [
    "### 1.5 Particle in a finite box"
   ]
  },
  {
   "cell_type": "markdown",
   "metadata": {},
   "source": [
    "## <span style=\"color:blue\">2. Exercises</span>"
   ]
  },
  {
   "cell_type": "markdown",
   "metadata": {},
   "source": [
    "### 2.1. Exercise 1. "
   ]
  }
 ],
 "metadata": {
  "kernelspec": {
   "display_name": "Python 3",
   "language": "python",
   "name": "python3"
  },
  "language_info": {
   "codemirror_mode": {
    "name": "ipython",
    "version": 3
   },
   "file_extension": ".py",
   "mimetype": "text/x-python",
   "name": "python",
   "nbconvert_exporter": "python",
   "pygments_lexer": "ipython3",
   "version": "3.7.6"
  }
 },
 "nbformat": 4,
 "nbformat_minor": 4
}
