{
 "cells": [
  {
   "cell_type": "markdown",
   "metadata": {},
   "source": [
    "# Hydrogen atom"
   ]
  },
  {
   "cell_type": "markdown",
   "metadata": {},
   "source": [
    "## 1. Plot the radial wavefunction for 1s, 2s, 2p, 3s, 3p and 3d hydrogen atomic orbitals."
   ]
  },
  {
   "cell_type": "code",
   "execution_count": null,
   "metadata": {},
   "outputs": [],
   "source": [
    "import matplotlib.pyplot as plt\n",
    "import numpy as np\n",
    "from sympy.abc import n, l, r, Z\n",
    "from sympy.physics import hydrogen\n",
    "from sympy.utilities.lambdify import lambdify\n",
    "\n",
    "R_nl_1s = lambdify(r, hydrogen.R_nl(1, 0, r, 1))\n",
    "R_nl_2s = lambdify(r, hydrogen.R_nl(2, 0, r, 1))\n",
    "R_nl_3s = lambdify(r, hydrogen.R_nl(3, 0, r, 1))\n",
    "R_nl_2p = lambdify(r, hydrogen.R_nl(2, 1, r, 1))\n",
    "R_nl_3p = lambdify(r, hydrogen.R_nl(3, 1, r, 1))\n",
    "R_nl_3d = lambdify(r, hydrogen.R_nl(3, 2, r, 1))\n",
    "r = np.linspace(0, 30, 1000)\n",
    "\n",
    "fig = plt.figure(figsize=(15,10))\n",
    "\n",
    "ax = fig.add_subplot(3,2,1)\n",
    "\n",
    "#plot 1s, 2s and 3s radial wavefunctions\n",
    "ax.plot(r, R_nl_1s(r), 'r', label='1s')\n",
    "ax.plot(r, R_nl_2s(r), 'b', label='2s')\n",
    "ax.plot(r, R_nl_3s(r), 'g', label='3s')\n",
    "plt.xlabel(\"r/a$_{0}$\", fontsize=18)\n",
    "plt.ylabel(\"R(r)\", fontsize=18)\n",
    "plt.grid()\n",
    "leg = ax.legend(fontsize=14)\n",
    "\n",
    "#plot 2p and 3p radial wavefunctions\n",
    "ax1 = fig.add_subplot(3,2,3)\n",
    "ax1.plot(r, R_nl_2p(r), 'b', label='2p')\n",
    "ax1.plot(r, R_nl_3p(r), 'g', label='3p')\n",
    "plt.xlabel(\"r/a$_{0}$\", fontsize=18)\n",
    "plt.ylabel(\"R(r)\", fontsize=18)\n",
    "plt.grid()\n",
    "leg = ax1.legend(fontsize=14)\n",
    "\n",
    "#plot 3d radial wavefunctions\n",
    "ax2 = fig.add_subplot(3,2,5)\n",
    "ax2.plot(r, R_nl_3d(r), 'g', label='3d')\n",
    "plt.xlabel(\"r/a$_{0}$\", fontsize=18)\n",
    "plt.ylabel(\"R(r)\", fontsize=18)\n",
    "plt.grid()\n",
    "leg = ax2.legend(fontsize=14)\n",
    "\n",
    "plt.tight_layout(rect=[0, 0.03, 1, 0.95])"
   ]
  },
  {
   "cell_type": "markdown",
   "metadata": {},
   "source": [
    "## 2. Plot the probability density for 1s, 2s, 3s hydrogen atomic orbitals."
   ]
  },
  {
   "cell_type": "code",
   "execution_count": null,
   "metadata": {},
   "outputs": [],
   "source": [
    "fig = plt.figure(figsize=(15,10))\n",
    "\n",
    "ax = fig.add_subplot(3,2,1)\n",
    "r = np.linspace(0, 2, 1000)\n",
    "#plot 1s, 2s and 3s radial wavefunctions\n",
    "ax.plot(r, np.square(R_nl_1s(r)), 'r', label='1s')\n",
    "ax.plot(r, np.square(R_nl_2s(r)), 'b', label='2s')\n",
    "ax.plot(r, np.square(R_nl_3s(r)), 'g', label='3s')\n",
    "plt.xlabel(\"r/a$_{0}$\", fontsize=18)\n",
    "plt.ylabel(\"$R^{2}(r)$\", fontsize=18)\n",
    "plt.grid()\n",
    "leg = ax.legend(fontsize=14)\n",
    "plt.tight_layout(rect=[0, 0.03, 1, 0.95])"
   ]
  },
  {
   "cell_type": "markdown",
   "metadata": {},
   "source": [
    "## 3. Plot the radial distribution function for 1s, 2s, 3s, 2p and 3p hydrogen atomic orbitals. Find out the position where there is maximum probability of finding an electron in each of these orbitals. Also denote the number of nodes for each of the orbitals."
   ]
  },
  {
   "cell_type": "code",
   "execution_count": null,
   "metadata": {},
   "outputs": [],
   "source": [
    "#Compute radial distribution \n",
    "D_1s = 4*np.pi*(r**2)*np.square(R_nl_1s(r))\n",
    "D_2s = 4*np.pi*(r**2)*np.square(R_nl_2s(r))\n",
    "D_3s = 4*np.pi*(r**2)*np.square(R_nl_3s(r))\n",
    "D_2p = 4*np.pi*(r**2)*np.square(R_nl_2p(r))\n",
    "D_3p = 4*np.pi*(r**2)*np.square(R_nl_3p(r))\n",
    "r = np.linspace(0, 50, 1000)\n",
    "\n",
    "fig = plt.figure(figsize=(15,10))\n",
    "\n",
    "ax = fig.add_subplot(3,2,1)\n",
    "\n",
    "#plot 1s, 2s and 3s radial distribution\n",
    "ax.plot(r, D_1s, 'r', label='1s')\n",
    "ax.plot(r, D_2s, 'g', label='2s')\n",
    "ax.plot(r, D_3s, 'b', label='3s')\n",
    "plt.xlabel(\"r/a$_{0}$\", fontsize=18)\n",
    "plt.ylabel(\"4$\\pi$r$^{2}$R$^{2}$(r)\", fontsize=18)\n",
    "plt.grid()\n",
    "leg = ax.legend(fontsize=14)\n",
    "\n",
    "#plot 2p and 3p radial distribution\n",
    "#r = np.linspace(0, 30, 1000)\n",
    "ax1 = fig.add_subplot(3,2,3)\n",
    "ax1.plot(r, D_2p, 'g', label='2p')\n",
    "ax1.plot(r, D_3p, 'b', label='3p')\n",
    "plt.xlabel(\"r/a$_{0}$\", fontsize=18)\n",
    "plt.ylabel(\"4$\\pi$r$^{2}$R$^{2}$(r)\", fontsize=18)\n",
    "plt.grid()\n",
    "leg = ax1.legend(fontsize=14)\n",
    "plt.tight_layout(rect=[0, 0.03, 1, 0.95])"
   ]
  },
  {
   "cell_type": "markdown",
   "metadata": {},
   "source": [
    "## 4. Show contour plots of probability densities of 1s and 3s orbitals."
   ]
  },
  {
   "cell_type": "code",
   "execution_count": null,
   "metadata": {},
   "outputs": [],
   "source": [
    "def prob_1s(x,y):\n",
    "    r=np.sqrt(np.square(x)+np.square(y))\n",
    "    return np.square(np.exp(-r)/np.sqrt(np.pi))\n",
    "\n",
    "def prob_3s(x,y):\n",
    "    r=np.sqrt(np.square(x)+np.square(y))\n",
    "    return np.square((27-(18*r)+(2*r**2)*np.exp(-r/3))/(81*np.sqrt(3*np.pi)))\n",
    "\n",
    "\n",
    "#Random coordinates\n",
    "x = np.linspace(-1.2, 1.2, 800)\n",
    "y = np.linspace(-1.2, 1.2, 800)\n",
    "\n",
    "X, Y = np.meshgrid(x, y)\n",
    "Z = prob_1s(X, Y)\n",
    "Z1 = prob_3s(X, Y)\n",
    "\n",
    "fig = plt.figure(figsize=(12,10))\n",
    "ax = fig.add_subplot(2,2,1)\n",
    "\n",
    "#fig, ax = plt.subplots()\n",
    "cs = ax.contourf(X, Y, Z)\n",
    "plt.xlabel(\"x\", fontsize=16)\n",
    "plt.ylabel(\"y\", fontsize=16)\n",
    "plt.title(\"1s\", fontsize=20)\n",
    "cbar = fig.colorbar(cs)\n",
    "\n",
    "ax1 = fig.add_subplot(2,2,2)\n",
    "cs = ax1.contourf(X, Y, Z1)\n",
    "plt.xlabel(\"x\", fontsize=16)\n",
    "plt.ylabel(\"y\", fontsize=16)\n",
    "plt.title(\"3s\", fontsize=20)\n",
    "cbar = fig.colorbar(cs)\n",
    "\n",
    "plt.show()"
   ]
  },
  {
   "cell_type": "markdown",
   "metadata": {},
   "source": [
    "## 5. Show contour plots of probability densities of 2p$_x$ and 3p$_y$ orbitals."
   ]
  },
  {
   "cell_type": "code",
   "execution_count": null,
   "metadata": {},
   "outputs": [],
   "source": [
    "def prob_2px(x,y):\n",
    "    r=np.sqrt(np.square(x)+np.square(y))\n",
    "    return np.square(x*np.exp(-r/2)/(4*np.sqrt(2*np.pi)))\n",
    "\n",
    "def prob_3py(x,y):\n",
    "    r=np.sqrt(np.square(x)+np.square(y))\n",
    "    return np.square((np.sqrt(2)*(6-r)*y*np.exp(-r/3))/(81*np.sqrt(np.pi)))\n",
    "\n",
    "\n",
    "#Random coordinates\n",
    "x = np.linspace(-8, 8, 800)\n",
    "y = np.linspace(-6, 6, 800)\n",
    "\n",
    "X, Y = np.meshgrid(x, y)\n",
    "Z = prob_2px(X, Y)\n",
    "\n",
    "x = np.linspace(-6, 6, 800)\n",
    "y = np.linspace(-6, 6, 800)\n",
    "X, Y = np.meshgrid(x, y)\n",
    "Z1 = prob_3py(X, Y)\n",
    "\n",
    "fig = plt.figure(figsize=(16,10))\n",
    "ax = fig.add_subplot(2,2,1)\n",
    "\n",
    "#fig, ax = plt.subplots()\n",
    "cs = ax.contourf(X, Y, Z)\n",
    "plt.xlabel(\"x\", fontsize=16)\n",
    "plt.ylabel(\"y\", fontsize=16)\n",
    "plt.title(\"2p$_x$\", fontsize=20)\n",
    "cbar = fig.colorbar(cs)\n",
    "\n",
    "ax1 = fig.add_subplot(2,2,2)\n",
    "cs = ax1.contourf(X, Y, Z1)\n",
    "plt.xlabel(\"x\", fontsize=16)\n",
    "plt.ylabel(\"y\", fontsize=16)\n",
    "plt.title(\"3p$_y$\", fontsize=20)\n",
    "cbar = fig.colorbar(cs)\n",
    "\n",
    "plt.show()"
   ]
  },
  {
   "cell_type": "markdown",
   "metadata": {},
   "source": [
    "## 6. Show contour plots of probability densities of 3d$_{z^{2}}$ and 3d$_{xy}$ orbitals."
   ]
  },
  {
   "cell_type": "code",
   "execution_count": null,
   "metadata": {},
   "outputs": [],
   "source": [
    "def prob_3dz2(x,z):\n",
    "    r=np.sqrt(np.square(x)+np.square(z))\n",
    "    return np.square((2*(z**2)-(x**2))*np.exp(-r/3)/(81*np.sqrt(6*np.pi)))\n",
    "\n",
    "def prob_3dxz(x,z):\n",
    "    r=np.sqrt(np.square(x)+np.square(z))\n",
    "    return np.square((np.sqrt(2))*x*z*np.exp(-r/3)/(81*np.sqrt(np.pi)))\n",
    "\n",
    "\n",
    "\n",
    "#Random coordinates\n",
    "x = np.linspace(-16, 16, 800)\n",
    "z = np.linspace(-16, 16, 800)\n",
    "\n",
    "X, Z = np.meshgrid(x, z)\n",
    "Y = prob_3dz2(X, Z)\n",
    "\n",
    "\n",
    "x = np.linspace(-12, 12, 800)\n",
    "y = np.linspace(-12, 12, 800)\n",
    "X, Z = np.meshgrid(x, z)\n",
    "YY = prob_3dxz(X,Z)\n",
    "\n",
    "\n",
    "fig = plt.figure(figsize=(16,10))\n",
    "ax = fig.add_subplot(2,2,1)\n",
    "\n",
    "cs = ax.contourf(X, Z, Y)\n",
    "plt.xlabel(\"x\", fontsize=16)\n",
    "plt.ylabel(\"z\", fontsize=16)\n",
    "plt.title(\"3d$_{z^{2}}$\", fontsize=20)\n",
    "cbar = fig.colorbar(cs)\n",
    "\n",
    "ax1 = fig.add_subplot(2,2,2)\n",
    "cs = ax1.contourf(X, Z, YY)\n",
    "plt.xlabel(\"x\", fontsize=16)\n",
    "plt.ylabel(\"z\", fontsize=16)\n",
    "plt.title(\"3d$_{xz}$\", fontsize=20)\n",
    "cbar = fig.colorbar(cs)\n",
    "\n",
    "plt.show()"
   ]
  },
  {
   "cell_type": "code",
   "execution_count": null,
   "metadata": {},
   "outputs": [],
   "source": []
  }
 ],
 "metadata": {
  "kernelspec": {
   "display_name": "Python 2",
   "language": "python",
   "name": "python2"
  },
  "language_info": {
   "codemirror_mode": {
    "name": "ipython",
    "version": 2
   },
   "file_extension": ".py",
   "mimetype": "text/x-python",
   "name": "python",
   "nbconvert_exporter": "python",
   "pygments_lexer": "ipython2",
   "version": "2.7.14"
  }
 },
 "nbformat": 4,
 "nbformat_minor": 4
}
